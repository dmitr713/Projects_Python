{
 "cells": [
  {
   "cell_type": "markdown",
   "id": "5202c800",
   "metadata": {},
   "source": [
    "# Выгрузка и проверка данных из БД по Яндекс Дзен"
   ]
  },
  {
   "cell_type": "markdown",
   "id": "6327a12b",
   "metadata": {},
   "source": [
    "---\n",
    "<a id='contens'></a> \n",
    "# Оглавление\n",
    "1. [Коннекция к БД](#connection)\n",
    "2. [Описание данных](#data_name)\n",
    "3. [Изучение и проверка данных](#check)\n",
    "4. [Экспорт данных в csv](#export)\n",
    "5. [Дашборд](#dashboard)\n",
    "6. [Презентация](#presentation)"
   ]
  },
  {
   "cell_type": "markdown",
   "id": "dbda2265",
   "metadata": {},
   "source": [
    "---\n",
    "<a id='connection'></a> \n",
    "## Коннекция к БД\n",
    "[Назад к оглавлению](#contens)"
   ]
  },
  {
   "cell_type": "code",
   "execution_count": 1,
   "id": "3eb090b0",
   "metadata": {},
   "outputs": [],
   "source": [
    "# импортируем библиотеки\n",
    "import pandas as pd\n",
    "from sqlalchemy import create_engine\n",
    "import matplotlib.pyplot as plt\n",
    "import seaborn as sns\n",
    "\n",
    "# задаём параметры подключения к БД\n",
    "db_config = {'user': 'praktikum_student', # имя пользователя\n",
    "            'pwd': 'Sdf4$2;d-d30pp', # пароль\n",
    "            'host': 'rc1b-wcoijxj3yxfsf3fs.mdb.yandexcloud.net',\n",
    "            'port': 6432, # порт подключения\n",
    "            'db': 'data-analyst-zen-project-db'} # название базы данных\n",
    "\n",
    "\n",
    "# формируем строку соединения с БД\n",
    "connection_string = 'postgresql://{}:{}@{}:{}/{}'.format(db_config['user'],\n",
    "                                                db_config['pwd'],\n",
    "                                                db_config['host'],\n",
    "                                                db_config['port'],\n",
    "                                                db_config['db'])\n",
    "# подключаемся к БД\n",
    "engine = create_engine(connection_string)\n",
    "\n",
    "# формируем sql-запрос.\n",
    "query = ''' SELECT *\n",
    "            FROM dash_visits\n",
    "        ''' \n",
    "# выполняем запрос и сохраняем результат\n",
    "df_raw = pd.io.sql.read_sql(query, con = engine)"
   ]
  },
  {
   "cell_type": "markdown",
   "id": "0ff5a0ec",
   "metadata": {},
   "source": [
    "---\n",
    "<a id='data_name'></a> \n",
    "## Описание данных\n",
    "[Назад к оглавлению](#contens)"
   ]
  },
  {
   "cell_type": "markdown",
   "id": "db6786e7",
   "metadata": {},
   "source": [
    "- record_id — первичный ключ,\n",
    "- item_topic — тема карточки,\n",
    "- source_topic — тема источника,\n",
    "- age_segment — возрастной сегмент,\n",
    "- dt — дата и время,\n",
    "- visits — количество событий."
   ]
  },
  {
   "cell_type": "markdown",
   "id": "83f901fe",
   "metadata": {},
   "source": [
    "---\n",
    "<a id='check'></a> \n",
    "## Изучение и проверка данных\n",
    "[Назад к оглавлению](#contens)"
   ]
  },
  {
   "cell_type": "code",
   "execution_count": 2,
   "id": "a0295eb9",
   "metadata": {},
   "outputs": [],
   "source": [
    "# напишем функцию для изучения основных характеристик датафрейма\n",
    "def df_study(df):\n",
    "      \n",
    "    # изучим начало и конец выборки\n",
    "    display(df.head(10), df.tail(10))\n",
    "\n",
    "    # изучим информацию о датафрейме\n",
    "    display(df.info())\n",
    "    \n",
    "    # изучим статистические показатели\n",
    "    display(df.describe())\n",
    "    \n",
    "    print('-'*50)\n",
    "    # изучим количество строк и столбцов\n",
    "    print('Количество строк и столбцов:', df.shape)   \n",
    "\n",
    "    print('-'*50)\n",
    "    # посчитаем количество явных дубликатов\n",
    "    dubl = df.duplicated().sum()\n",
    "    print('Количество явных дубликатов:' , dubl)\n",
    "    \n",
    "    # посчитаем долю дубликатов\n",
    "    dubl_share = dubl/len(df)\n",
    "    print(f'Доля явных дубликатов: {dubl_share:.2%}')\n",
    "    \n",
    "    print('-'*50)\n",
    "    # посчитаем количество пропусков\n",
    "    gap = df.isna().sum()\n",
    "    print('Количество пропусков:', gap)\n",
    "    \n",
    "    # посчитаем долю пропусков\n",
    "    gap_share = ((df.isnull().sum().sort_values(ascending=False)/df.shape[0])*100).round(2)\n",
    "    print()\n",
    "    print('Доля пропусков:')\n",
    "    display(gap_share)\n",
    "    \n",
    "    # зададим масимальную ширину столбца\n",
    "    pd.set_option('max_colwidth', 100) "
   ]
  },
  {
   "cell_type": "code",
   "execution_count": 3,
   "id": "27c6cd30",
   "metadata": {},
   "outputs": [
    {
     "data": {
      "text/html": [
       "<div>\n",
       "<style scoped>\n",
       "    .dataframe tbody tr th:only-of-type {\n",
       "        vertical-align: middle;\n",
       "    }\n",
       "\n",
       "    .dataframe tbody tr th {\n",
       "        vertical-align: top;\n",
       "    }\n",
       "\n",
       "    .dataframe thead th {\n",
       "        text-align: right;\n",
       "    }\n",
       "</style>\n",
       "<table border=\"1\" class=\"dataframe\">\n",
       "  <thead>\n",
       "    <tr style=\"text-align: right;\">\n",
       "      <th></th>\n",
       "      <th>record_id</th>\n",
       "      <th>item_topic</th>\n",
       "      <th>source_topic</th>\n",
       "      <th>age_segment</th>\n",
       "      <th>dt</th>\n",
       "      <th>visits</th>\n",
       "    </tr>\n",
       "  </thead>\n",
       "  <tbody>\n",
       "    <tr>\n",
       "      <th>0</th>\n",
       "      <td>1040597</td>\n",
       "      <td>Деньги</td>\n",
       "      <td>Авто</td>\n",
       "      <td>18-25</td>\n",
       "      <td>2019-09-24 18:32:00</td>\n",
       "      <td>3</td>\n",
       "    </tr>\n",
       "    <tr>\n",
       "      <th>1</th>\n",
       "      <td>1040598</td>\n",
       "      <td>Деньги</td>\n",
       "      <td>Авто</td>\n",
       "      <td>18-25</td>\n",
       "      <td>2019-09-24 18:35:00</td>\n",
       "      <td>1</td>\n",
       "    </tr>\n",
       "    <tr>\n",
       "      <th>2</th>\n",
       "      <td>1040599</td>\n",
       "      <td>Деньги</td>\n",
       "      <td>Авто</td>\n",
       "      <td>18-25</td>\n",
       "      <td>2019-09-24 18:54:00</td>\n",
       "      <td>4</td>\n",
       "    </tr>\n",
       "    <tr>\n",
       "      <th>3</th>\n",
       "      <td>1040600</td>\n",
       "      <td>Деньги</td>\n",
       "      <td>Авто</td>\n",
       "      <td>18-25</td>\n",
       "      <td>2019-09-24 18:55:00</td>\n",
       "      <td>17</td>\n",
       "    </tr>\n",
       "    <tr>\n",
       "      <th>4</th>\n",
       "      <td>1040601</td>\n",
       "      <td>Деньги</td>\n",
       "      <td>Авто</td>\n",
       "      <td>18-25</td>\n",
       "      <td>2019-09-24 18:56:00</td>\n",
       "      <td>27</td>\n",
       "    </tr>\n",
       "    <tr>\n",
       "      <th>5</th>\n",
       "      <td>1040602</td>\n",
       "      <td>Деньги</td>\n",
       "      <td>Авто</td>\n",
       "      <td>18-25</td>\n",
       "      <td>2019-09-24 18:57:00</td>\n",
       "      <td>22</td>\n",
       "    </tr>\n",
       "    <tr>\n",
       "      <th>6</th>\n",
       "      <td>1040603</td>\n",
       "      <td>Деньги</td>\n",
       "      <td>Авто</td>\n",
       "      <td>18-25</td>\n",
       "      <td>2019-09-24 18:58:00</td>\n",
       "      <td>24</td>\n",
       "    </tr>\n",
       "    <tr>\n",
       "      <th>7</th>\n",
       "      <td>1040604</td>\n",
       "      <td>Деньги</td>\n",
       "      <td>Авто</td>\n",
       "      <td>18-25</td>\n",
       "      <td>2019-09-24 18:59:00</td>\n",
       "      <td>20</td>\n",
       "    </tr>\n",
       "    <tr>\n",
       "      <th>8</th>\n",
       "      <td>1040605</td>\n",
       "      <td>Деньги</td>\n",
       "      <td>Авто</td>\n",
       "      <td>18-25</td>\n",
       "      <td>2019-09-24 19:00:00</td>\n",
       "      <td>5</td>\n",
       "    </tr>\n",
       "    <tr>\n",
       "      <th>9</th>\n",
       "      <td>1040606</td>\n",
       "      <td>Деньги</td>\n",
       "      <td>Авто</td>\n",
       "      <td>26-30</td>\n",
       "      <td>2019-09-24 18:29:00</td>\n",
       "      <td>1</td>\n",
       "    </tr>\n",
       "  </tbody>\n",
       "</table>\n",
       "</div>"
      ],
      "text/plain": [
       "   record_id item_topic source_topic age_segment                  dt  visits\n",
       "0    1040597     Деньги         Авто       18-25 2019-09-24 18:32:00       3\n",
       "1    1040598     Деньги         Авто       18-25 2019-09-24 18:35:00       1\n",
       "2    1040599     Деньги         Авто       18-25 2019-09-24 18:54:00       4\n",
       "3    1040600     Деньги         Авто       18-25 2019-09-24 18:55:00      17\n",
       "4    1040601     Деньги         Авто       18-25 2019-09-24 18:56:00      27\n",
       "5    1040602     Деньги         Авто       18-25 2019-09-24 18:57:00      22\n",
       "6    1040603     Деньги         Авто       18-25 2019-09-24 18:58:00      24\n",
       "7    1040604     Деньги         Авто       18-25 2019-09-24 18:59:00      20\n",
       "8    1040605     Деньги         Авто       18-25 2019-09-24 19:00:00       5\n",
       "9    1040606     Деньги         Авто       26-30 2019-09-24 18:29:00       1"
      ]
     },
     "metadata": {},
     "output_type": "display_data"
    },
    {
     "data": {
      "text/html": [
       "<div>\n",
       "<style scoped>\n",
       "    .dataframe tbody tr th:only-of-type {\n",
       "        vertical-align: middle;\n",
       "    }\n",
       "\n",
       "    .dataframe tbody tr th {\n",
       "        vertical-align: top;\n",
       "    }\n",
       "\n",
       "    .dataframe thead th {\n",
       "        text-align: right;\n",
       "    }\n",
       "</style>\n",
       "<table border=\"1\" class=\"dataframe\">\n",
       "  <thead>\n",
       "    <tr style=\"text-align: right;\">\n",
       "      <th></th>\n",
       "      <th>record_id</th>\n",
       "      <th>item_topic</th>\n",
       "      <th>source_topic</th>\n",
       "      <th>age_segment</th>\n",
       "      <th>dt</th>\n",
       "      <th>visits</th>\n",
       "    </tr>\n",
       "  </thead>\n",
       "  <tbody>\n",
       "    <tr>\n",
       "      <th>30735</th>\n",
       "      <td>1071332</td>\n",
       "      <td>Юмор</td>\n",
       "      <td>Финансы</td>\n",
       "      <td>31-35</td>\n",
       "      <td>2019-09-24 18:57:00</td>\n",
       "      <td>4</td>\n",
       "    </tr>\n",
       "    <tr>\n",
       "      <th>30736</th>\n",
       "      <td>1071333</td>\n",
       "      <td>Юмор</td>\n",
       "      <td>Финансы</td>\n",
       "      <td>31-35</td>\n",
       "      <td>2019-09-24 18:58:00</td>\n",
       "      <td>2</td>\n",
       "    </tr>\n",
       "    <tr>\n",
       "      <th>30737</th>\n",
       "      <td>1071334</td>\n",
       "      <td>Юмор</td>\n",
       "      <td>Финансы</td>\n",
       "      <td>31-35</td>\n",
       "      <td>2019-09-24 18:59:00</td>\n",
       "      <td>1</td>\n",
       "    </tr>\n",
       "    <tr>\n",
       "      <th>30738</th>\n",
       "      <td>1071335</td>\n",
       "      <td>Юмор</td>\n",
       "      <td>Финансы</td>\n",
       "      <td>36-40</td>\n",
       "      <td>2019-09-24 18:55:00</td>\n",
       "      <td>1</td>\n",
       "    </tr>\n",
       "    <tr>\n",
       "      <th>30739</th>\n",
       "      <td>1071336</td>\n",
       "      <td>Юмор</td>\n",
       "      <td>Финансы</td>\n",
       "      <td>36-40</td>\n",
       "      <td>2019-09-24 18:56:00</td>\n",
       "      <td>2</td>\n",
       "    </tr>\n",
       "    <tr>\n",
       "      <th>30740</th>\n",
       "      <td>1071337</td>\n",
       "      <td>Юмор</td>\n",
       "      <td>Финансы</td>\n",
       "      <td>36-40</td>\n",
       "      <td>2019-09-24 18:57:00</td>\n",
       "      <td>2</td>\n",
       "    </tr>\n",
       "    <tr>\n",
       "      <th>30741</th>\n",
       "      <td>1071338</td>\n",
       "      <td>Юмор</td>\n",
       "      <td>Финансы</td>\n",
       "      <td>36-40</td>\n",
       "      <td>2019-09-24 19:00:00</td>\n",
       "      <td>1</td>\n",
       "    </tr>\n",
       "    <tr>\n",
       "      <th>30742</th>\n",
       "      <td>1071339</td>\n",
       "      <td>Юмор</td>\n",
       "      <td>Финансы</td>\n",
       "      <td>41-45</td>\n",
       "      <td>2019-09-24 18:54:00</td>\n",
       "      <td>1</td>\n",
       "    </tr>\n",
       "    <tr>\n",
       "      <th>30743</th>\n",
       "      <td>1071340</td>\n",
       "      <td>Юмор</td>\n",
       "      <td>Финансы</td>\n",
       "      <td>41-45</td>\n",
       "      <td>2019-09-24 18:56:00</td>\n",
       "      <td>1</td>\n",
       "    </tr>\n",
       "    <tr>\n",
       "      <th>30744</th>\n",
       "      <td>1071341</td>\n",
       "      <td>Юмор</td>\n",
       "      <td>Финансы</td>\n",
       "      <td>41-45</td>\n",
       "      <td>2019-09-24 19:00:00</td>\n",
       "      <td>1</td>\n",
       "    </tr>\n",
       "  </tbody>\n",
       "</table>\n",
       "</div>"
      ],
      "text/plain": [
       "       record_id item_topic source_topic age_segment                  dt  \\\n",
       "30735    1071332       Юмор      Финансы       31-35 2019-09-24 18:57:00   \n",
       "30736    1071333       Юмор      Финансы       31-35 2019-09-24 18:58:00   \n",
       "30737    1071334       Юмор      Финансы       31-35 2019-09-24 18:59:00   \n",
       "30738    1071335       Юмор      Финансы       36-40 2019-09-24 18:55:00   \n",
       "30739    1071336       Юмор      Финансы       36-40 2019-09-24 18:56:00   \n",
       "30740    1071337       Юмор      Финансы       36-40 2019-09-24 18:57:00   \n",
       "30741    1071338       Юмор      Финансы       36-40 2019-09-24 19:00:00   \n",
       "30742    1071339       Юмор      Финансы       41-45 2019-09-24 18:54:00   \n",
       "30743    1071340       Юмор      Финансы       41-45 2019-09-24 18:56:00   \n",
       "30744    1071341       Юмор      Финансы       41-45 2019-09-24 19:00:00   \n",
       "\n",
       "       visits  \n",
       "30735       4  \n",
       "30736       2  \n",
       "30737       1  \n",
       "30738       1  \n",
       "30739       2  \n",
       "30740       2  \n",
       "30741       1  \n",
       "30742       1  \n",
       "30743       1  \n",
       "30744       1  "
      ]
     },
     "metadata": {},
     "output_type": "display_data"
    },
    {
     "name": "stdout",
     "output_type": "stream",
     "text": [
      "<class 'pandas.core.frame.DataFrame'>\n",
      "RangeIndex: 30745 entries, 0 to 30744\n",
      "Data columns (total 6 columns):\n",
      " #   Column        Non-Null Count  Dtype         \n",
      "---  ------        --------------  -----         \n",
      " 0   record_id     30745 non-null  int64         \n",
      " 1   item_topic    30745 non-null  object        \n",
      " 2   source_topic  30745 non-null  object        \n",
      " 3   age_segment   30745 non-null  object        \n",
      " 4   dt            30745 non-null  datetime64[ns]\n",
      " 5   visits        30745 non-null  int64         \n",
      "dtypes: datetime64[ns](1), int64(2), object(3)\n",
      "memory usage: 1.4+ MB\n"
     ]
    },
    {
     "data": {
      "text/plain": [
       "None"
      ]
     },
     "metadata": {},
     "output_type": "display_data"
    },
    {
     "data": {
      "text/html": [
       "<div>\n",
       "<style scoped>\n",
       "    .dataframe tbody tr th:only-of-type {\n",
       "        vertical-align: middle;\n",
       "    }\n",
       "\n",
       "    .dataframe tbody tr th {\n",
       "        vertical-align: top;\n",
       "    }\n",
       "\n",
       "    .dataframe thead th {\n",
       "        text-align: right;\n",
       "    }\n",
       "</style>\n",
       "<table border=\"1\" class=\"dataframe\">\n",
       "  <thead>\n",
       "    <tr style=\"text-align: right;\">\n",
       "      <th></th>\n",
       "      <th>record_id</th>\n",
       "      <th>visits</th>\n",
       "    </tr>\n",
       "  </thead>\n",
       "  <tbody>\n",
       "    <tr>\n",
       "      <th>count</th>\n",
       "      <td>3.074500e+04</td>\n",
       "      <td>30745.000000</td>\n",
       "    </tr>\n",
       "    <tr>\n",
       "      <th>mean</th>\n",
       "      <td>1.055969e+06</td>\n",
       "      <td>10.089673</td>\n",
       "    </tr>\n",
       "    <tr>\n",
       "      <th>std</th>\n",
       "      <td>8.875461e+03</td>\n",
       "      <td>19.727601</td>\n",
       "    </tr>\n",
       "    <tr>\n",
       "      <th>min</th>\n",
       "      <td>1.040597e+06</td>\n",
       "      <td>1.000000</td>\n",
       "    </tr>\n",
       "    <tr>\n",
       "      <th>25%</th>\n",
       "      <td>1.048283e+06</td>\n",
       "      <td>1.000000</td>\n",
       "    </tr>\n",
       "    <tr>\n",
       "      <th>50%</th>\n",
       "      <td>1.055969e+06</td>\n",
       "      <td>3.000000</td>\n",
       "    </tr>\n",
       "    <tr>\n",
       "      <th>75%</th>\n",
       "      <td>1.063655e+06</td>\n",
       "      <td>10.000000</td>\n",
       "    </tr>\n",
       "    <tr>\n",
       "      <th>max</th>\n",
       "      <td>1.071341e+06</td>\n",
       "      <td>371.000000</td>\n",
       "    </tr>\n",
       "  </tbody>\n",
       "</table>\n",
       "</div>"
      ],
      "text/plain": [
       "          record_id        visits\n",
       "count  3.074500e+04  30745.000000\n",
       "mean   1.055969e+06     10.089673\n",
       "std    8.875461e+03     19.727601\n",
       "min    1.040597e+06      1.000000\n",
       "25%    1.048283e+06      1.000000\n",
       "50%    1.055969e+06      3.000000\n",
       "75%    1.063655e+06     10.000000\n",
       "max    1.071341e+06    371.000000"
      ]
     },
     "metadata": {},
     "output_type": "display_data"
    },
    {
     "name": "stdout",
     "output_type": "stream",
     "text": [
      "--------------------------------------------------\n",
      "Количество строк и столбцов: (30745, 6)\n",
      "--------------------------------------------------\n",
      "Количество явных дубликатов: 0\n",
      "Доля явных дубликатов: 0.00%\n",
      "--------------------------------------------------\n",
      "Количество пропусков: record_id       0\n",
      "item_topic      0\n",
      "source_topic    0\n",
      "age_segment     0\n",
      "dt              0\n",
      "visits          0\n",
      "dtype: int64\n",
      "\n",
      "Доля пропусков:\n"
     ]
    },
    {
     "data": {
      "text/plain": [
       "record_id       0.0\n",
       "item_topic      0.0\n",
       "source_topic    0.0\n",
       "age_segment     0.0\n",
       "dt              0.0\n",
       "visits          0.0\n",
       "dtype: float64"
      ]
     },
     "metadata": {},
     "output_type": "display_data"
    }
   ],
   "source": [
    "# изучим основную информацию\n",
    "df_study(df_raw)"
   ]
  },
  {
   "cell_type": "markdown",
   "id": "91db8227",
   "metadata": {},
   "source": [
    "С данными все в порядке: типы данных корректны, пропуски и дубликаты отсутствуют. Привлекает внимание максимальное значение в столбце visits (371)."
   ]
  },
  {
   "cell_type": "code",
   "execution_count": 4,
   "id": "9a883bd6",
   "metadata": {},
   "outputs": [
    {
     "data": {
      "text/plain": [
       "30745"
      ]
     },
     "execution_count": 4,
     "metadata": {},
     "output_type": "execute_result"
    }
   ],
   "source": [
    "# посмотрим на количество уникальных id\n",
    "df_raw['record_id'].nunique()\n"
   ]
  },
  {
   "cell_type": "markdown",
   "id": "70edaf69",
   "metadata": {},
   "source": [
    "Количество уникальных id соответствуют количеству строк в датафрейме."
   ]
  },
  {
   "cell_type": "code",
   "execution_count": 5,
   "id": "a4e94058",
   "metadata": {},
   "outputs": [
    {
     "name": "stdout",
     "output_type": "stream",
     "text": [
      "Минимальная дата: 2019-09-24 18:28:00\n",
      "Максимальная дата: 2019-09-24 19:00:00\n"
     ]
    }
   ],
   "source": [
    "# изучим временной интервал\n",
    "print('Минимальная дата:', df_raw['dt'].min())\n",
    "print('Максимальная дата:', df_raw['dt'].max())"
   ]
  },
  {
   "cell_type": "markdown",
   "id": "128d41ff",
   "metadata": {},
   "source": [
    "Интервал исследования: 24 сентября 2019 г. с 18:28 до 19:00."
   ]
  },
  {
   "cell_type": "code",
   "execution_count": 6,
   "id": "b4842a2d",
   "metadata": {},
   "outputs": [
    {
     "name": "stdout",
     "output_type": "stream",
     "text": [
      "Количество тем карточек: 25\n"
     ]
    },
    {
     "data": {
      "text/plain": [
       "array(['Деньги', 'Дети', 'Женская психология', 'Женщины', 'Здоровье',\n",
       "       'Знаменитости', 'Интересные факты', 'Искусство', 'История',\n",
       "       'Красота', 'Культура', 'Наука', 'Общество', 'Отношения',\n",
       "       'Подборки', 'Полезные советы', 'Психология', 'Путешествия',\n",
       "       'Рассказы', 'Россия', 'Семья', 'Скандалы', 'Туризм', 'Шоу', 'Юмор'],\n",
       "      dtype=object)"
      ]
     },
     "execution_count": 6,
     "metadata": {},
     "output_type": "execute_result"
    }
   ],
   "source": [
    "# посмотрим на темы карточек\n",
    "print('Количество тем карточек:', df_raw['item_topic'].nunique())\n",
    "df_raw['item_topic'].unique()"
   ]
  },
  {
   "cell_type": "code",
   "execution_count": 7,
   "id": "d4a8617f",
   "metadata": {},
   "outputs": [
    {
     "name": "stdout",
     "output_type": "stream",
     "text": [
      "Количество тем источников: 26\n"
     ]
    },
    {
     "data": {
      "text/plain": [
       "array(['Авто', 'Деньги', 'Дети', 'Еда', 'Здоровье', 'Знаменитости',\n",
       "       'Интерьеры', 'Искусство', 'История', 'Кино', 'Музыка', 'Одежда',\n",
       "       'Полезные советы', 'Политика', 'Психология', 'Путешествия',\n",
       "       'Ремонт', 'Россия', 'Сад и дача', 'Сделай сам',\n",
       "       'Семейные отношения', 'Семья', 'Спорт', 'Строительство',\n",
       "       'Технологии', 'Финансы'], dtype=object)"
      ]
     },
     "execution_count": 7,
     "metadata": {},
     "output_type": "execute_result"
    }
   ],
   "source": [
    "# посмотрим на темы источников\n",
    "print('Количество тем источников:', df_raw['source_topic'].nunique())\n",
    "df_raw['source_topic'].unique()"
   ]
  },
  {
   "cell_type": "markdown",
   "id": "7b534481",
   "metadata": {},
   "source": [
    "Темы карточек и источников частично пересекаются. "
   ]
  },
  {
   "cell_type": "code",
   "execution_count": 8,
   "id": "6b2fc219",
   "metadata": {},
   "outputs": [
    {
     "data": {
      "image/png": "[encoded data removed]",
      "text/plain": [
       "<Figure size 600x600 with 1 Axes>"
      ]
     },
     "metadata": {},
     "output_type": "display_data"
    }
   ],
   "source": [
    "# ищучим возрастные диапазоны\n",
    "temp = (df_raw.groupby('age_segment', as_index=False)['record_id'].agg('count')\n",
    "              .sort_values(by='record_id', ascending=False)\n",
    "              .rename(columns={'record_id' : 'count'}))\n",
    "\n",
    "# отобразим распределение по долям на круговой диаграмме\n",
    "sns.set_style('dark')\n",
    "custom_palette = ['#16537e', '#cfe2f3', '#9fc5e8', '#6fa8dc', '#3d85c6', '#0b5394', '#073763', '#62a7d7',\n",
    "                 '#9dbbd5', '#7b95ac', '#697c8c', '#b1d5f5', '#246cac', '#204e77', '#76a5af']\n",
    "sns.set_palette(custom_palette)\n",
    "temp.plot(y='count',\n",
    "            kind='pie',\n",
    "            labels=temp['age_segment'],\n",
    "            autopct='%.0f%%',\n",
    "            title='Возрастные интервалы',\n",
    "            figsize=(6, 6),\n",
    "            legend=False)\n",
    "plt.show()"
   ]
  },
  {
   "cell_type": "markdown",
   "id": "0d9f0002",
   "metadata": {},
   "source": [
    "Большая часть пользователей в датафрейме находится в возрастном интервале 18-25 лет (23%). Меньше всего пользователей в вощрасте от 45 лет (11%)."
   ]
  },
  {
   "cell_type": "code",
   "execution_count": 9,
   "id": "1899a10d",
   "metadata": {},
   "outputs": [
    {
     "data": {
      "image/png": "[encoded data removed]",
      "text/plain": [
       "<Figure size 1200x400 with 1 Axes>"
      ]
     },
     "metadata": {},
     "output_type": "display_data"
    }
   ],
   "source": [
    "# изучим данные в столбце о количестве событий по гистограмме\n",
    "plt.figure(figsize=(12, 4)) \n",
    "ax = sns.histplot(df_raw['visits'], bins=50)\n",
    "ax.set_title('Распределение показателя \"количество событий\"', size=16, weight= 900)\n",
    "ax.set_ylabel('Количество пользователей')\n",
    "ax.set_xlabel('Значение показателя')\n",
    "plt.show()"
   ]
  },
  {
   "cell_type": "markdown",
   "id": "74eb7834",
   "metadata": {},
   "source": [
    "По графику можно сделать вывод, что макимальное значение скорее всего выброс. Так как основная доля событий находится в диапазоне от 1 до 50, то не будем удалять данное значение.\n",
    "\\\n",
    "\\\n",
    "В целом, датасет готов к анализу и построению дашборда."
   ]
  },
  {
   "cell_type": "markdown",
   "id": "b5a4df9a",
   "metadata": {},
   "source": [
    "---\n",
    "<a id='export'></a> \n",
    "## Экспорт данных в csv \n",
    "[Назад к оглавлению](#contens)"
   ]
  },
  {
   "cell_type": "code",
   "execution_count": 10,
   "id": "e07c5ece",
   "metadata": {},
   "outputs": [],
   "source": [
    "# выгрузим данные из таблицы df_raw в файл dash_visits.csv\n",
    "df_raw.to_csv('dash_visits.csv', index=False)"
   ]
  },
  {
   "cell_type": "markdown",
   "id": "42eeac0a",
   "metadata": {},
   "source": [
    "---\n",
    "<a id='dashboard'></a> \n",
    "## Дашборд\n",
    "[Назад к оглавлению](#contens)"
   ]
  },
  {
   "cell_type": "markdown",
   "id": "91aa1000",
   "metadata": {},
   "source": [
    "Ссылка для просмотра дашборда: https://public.tableau.com/views/__16876349266850/Dashboard1?:language=en-US&publish=yes&:display_count=n&:origin=viz_share_link"
   ]
  },
  {
   "cell_type": "markdown",
   "id": "06f56f3f",
   "metadata": {},
   "source": [
    "---\n",
    "<a id='presentation'></a> \n",
    "## Презентация \n",
    "[Назад к оглавлению](#contens)\n"
   ]
  },
  {
   "cell_type": "markdown",
   "id": "9b04d75e",
   "metadata": {},
   "source": [
    "Ссылка для просмотра презентации: https://drive.google.com/file/d/1SW5qx3YUhXm2Ejg37wQzHVnkmpVVfumT/view?usp=drive_link"
   ]
  }
 ],
 "metadata": {
  "kernelspec": {
   "display_name": "Python 3 (ipykernel)",
   "language": "python",
   "name": "python3"
  },
  "language_info": {
   "codemirror_mode": {
    "name": "ipython",
    "version": 3
   },
   "file_extension": ".py",
   "mimetype": "text/x-python",
   "name": "python",
   "nbconvert_exporter": "python",
   "pygments_lexer": "ipython3",
   "version": "3.10.9"
  }
 },
 "nbformat": 4,
 "nbformat_minor": 5
}
