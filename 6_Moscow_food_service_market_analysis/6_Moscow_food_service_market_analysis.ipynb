{
 "cells": [
  {
   "cell_type": "markdown",
   "metadata": {},
   "source": [
    "# Рынок заведений общественного питания Москвы"
   ]
  },
  {
   "cell_type": "markdown",
   "metadata": {},
   "source": [
    "---\n",
    "<a id='contens'></a> \n",
    "# Оглавление\n",
    "1. [Цель проекта](#goal)\n",
    "2. [Задачи проекта](#task)\n",
    "3. [Описание данных](#data_name)\n",
    "4. [Загрузка данных и изучение общей информации](#import)\n",
    "5. [Предобработка данных](#preprocessing)\\\n",
    "    5.1 [Работа с пропусками](#pass)\\\n",
    "    5.2 [Изменение типа данных](#type_change)\\\n",
    "    5.3 [Проверка на наличие дубликатов](#check_dubl)\\\n",
    "    5.4 [Изменение данных в столбце chain](#change_chain)\\\n",
    "    5.5 [Добавление дополнительных столбцов](#add_columns)\n",
    "6. [Анализ данных](#analysis)\\\n",
    "    6.1 [Распределение заведений по категориям](#category)\\\n",
    "    6.2 [Количество посадочных мест в заведениях по категориям](#category_seats)\\\n",
    "    6.3 [Соотношение сетевых и несетевых заведений](#chain)\\\n",
    "    6.4 [Распределение сетевых и чатсных заведений по категориям](#category_chain)\\\n",
    "    6.5 [Топ-15 популярных сетей в Москве](#top_chain)\\\n",
    "    6.6 [Распределение заведений общественного питания по районам Москвы](#distict)\\\n",
    "    6.7 [Распределение средних рейтингов по категорям заведений](#score_category)\\\n",
    "    6.8 [Фоновая картограмма (хороплет) со средним рейтингом заведений каждого района](#choropleth)\\\n",
    "    6.9 [Карта Москвы с заведениями общественного питания](#map)\\\n",
    "    6.10 [Топ-15 улиц Москвы по количеству заведений](#top_street)\\\n",
    "    6.11 [Улицы Москвы только с одним заведением общественного питания](#one_srteet)\\\n",
    "    6.12 [Разница в сумме среднего чека по районам Москвы](#middle_bill_district)\\\n",
    "    6.12 [Вывод](#conclusion)\n",
    "7. [Исследование: открытие кофейни](#coffee)\\\n",
    "    7.1 [Общее количество кофеен в Москве](#coffee1)\\\n",
    "    7.2 [Распределение кофеен по городу](#coffee2)\\\n",
    "    7.3 [Рейтинг кофеен](#coffee3)\\\n",
    "    7.4 [Режим работы кофеен](#coffee4)\\\n",
    "    7.5 [Количество посадочных мест](#coffee5)\\\n",
    "    7.6 [Средняя стоимость чашки капучино в кофейнях](#coffee6)\\\n",
    "    7.7 [Средний чек в кофейнях](#coffee7)\\\n",
    "    7.8 [Вывод и рекомендации](#coffee8)\n",
    "8. [Презентация](#presentation)"
   ]
  },
  {
   "cell_type": "markdown",
   "metadata": {},
   "source": [
    "---\n",
    "<a id='goal'></a> \n",
    "## Цель проекта\n",
    "[Назад к оглавлению](#contens)"
   ]
  },
  {
   "cell_type": "markdown",
   "metadata": {},
   "source": [
    "Провести исследование рынка заведений общественного питания г. Москвы с целью выявления особенностей данного рынка, которые помогут в выборе типа заведения, расположения, меню и цен для организации бизнеса в этой области."
   ]
  },
  {
   "cell_type": "markdown",
   "metadata": {},
   "source": [
    "---\n",
    "<a id='task'></a> \n",
    "## Задачи проекта\n",
    "[Назад к оглавлению](#contens)"
   ]
  },
  {
   "cell_type": "markdown",
   "metadata": {},
   "source": [
    "1. Проанализировать категорий заведений общественного питания в г. Москве и их количество;\n",
    "2. Исследовать средний рейтинг заведений по округам города;\n",
    "3. Изучить средний чек по городу и стоимость чашки капучино;\n",
    "4. Выявить топ-15 сетей и улиц города по количеству заведений;\n",
    "5. Рассмотреть возможность открытия кофений в городе."
   ]
  },
  {
   "cell_type": "markdown",
   "metadata": {},
   "source": [
    "---\n",
    "<a id='data_name'></a> \n",
    "## Описание данных\n",
    "[Назад к оглавлению](#contens)"
   ]
  },
  {
   "cell_type": "markdown",
   "metadata": {},
   "source": [
    "- name — название заведения;\n",
    "- address — адрес заведения;\n",
    "- category — категория заведения, например «кафе», «пиццерия» или «кофейня»;\n",
    "- hours — информация о днях и часах работы;\n",
    "- lat — широта географической точки, в которой находится заведение;\n",
    "- lng — долгота географической точки, в которой находится заведение;\n",
    "- rating — рейтинг заведения по оценкам пользователей в Яндекс Картах (высшая оценка — 5.0);\n",
    "- price — категория цен в заведении, например «средние», «ниже среднего», «выше среднего» и так далее;\n",
    "- avg_bill — строка, которая хранит среднюю стоимость заказа в виде диапазона, например: \n",
    " - «Средний счёт: 1000–1500 ₽»;\n",
    " - «Цена чашки капучино: 130–220 ₽»;\n",
    " - «Цена бокала пива: 400–600 ₽». и так далее;\n",
    "- middle_avg_bill — число с оценкой среднего чека, которое указано только для значений из столбца avg_bill, начинающихся с подстроки «Средний счёт»: \n",
    " - Если в строке указан ценовой диапазон из двух значений, в столбец войдёт медиана этих двух значений.\n",
    " - Если в строке указано одно число — цена без диапазона, то в столбец войдёт это число.\n",
    " - Если значения нет или оно не начинается с подстроки «Средний счёт», то в столбец ничего не войдёт.\n",
    "- middle_coffee_cup — число с оценкой одной чашки капучино, которое указано только для значений из столбца avg_bill, начинающихся с подстроки «Цена одной чашки капучино»: \n",
    " - Если в строке указан ценовой диапазон из двух значений, в столбец войдёт медиана этих двух значений.\n",
    " - Если в строке указано одно число — цена без диапазона, то в столбец войдёт это число.\n",
    " - Если значения нет или оно не начинается с подстроки «Цена одной чашки капучино», то в столбец ничего не войдёт.\n",
    "- chain — число, выраженное 0 или 1, которое показывает, является ли заведение сетевым (для маленьких сетей могут встречаться ошибки);\n",
    "- district — административный район, в котором находится заведение, например Центральный административный округ;\n",
    "- seats — количество посадочных мест."
   ]
  },
  {
   "cell_type": "markdown",
   "metadata": {},
   "source": [
    "---\n",
    "<a id='import'></a> \n",
    "## Загрузка данных и изучение общей информации\n",
    "[Назад к оглавлению](#contens)"
   ]
  },
  {
   "cell_type": "code",
   "execution_count": 4,
   "metadata": {},
   "outputs": [
    {
     "name": "stdout",
     "output_type": "stream",
     "text": [
      "Requirement already satisfied: folium in c:\\anaconda\\lib\\site-packages (0.19.7)\n",
      "Requirement already satisfied: requests in c:\\anaconda\\lib\\site-packages (from folium) (2.28.1)\n",
      "Requirement already satisfied: xyzservices in c:\\anaconda\\lib\\site-packages (from folium) (2025.4.0)\n",
      "Requirement already satisfied: branca>=0.6.0 in c:\\anaconda\\lib\\site-packages (from folium) (0.8.1)\n",
      "Requirement already satisfied: jinja2>=2.9 in c:\\anaconda\\lib\\site-packages (from folium) (3.1.2)\n",
      "Requirement already satisfied: numpy in c:\\anaconda\\lib\\site-packages (from folium) (1.23.5)\n",
      "Requirement already satisfied: MarkupSafe>=2.0 in c:\\anaconda\\lib\\site-packages (from jinja2>=2.9->folium) (2.1.1)\n",
      "Requirement already satisfied: charset-normalizer<3,>=2 in c:\\anaconda\\lib\\site-packages (from requests->folium) (2.0.4)\n",
      "Requirement already satisfied: certifi>=2017.4.17 in c:\\anaconda\\lib\\site-packages (from requests->folium) (2023.5.7)\n",
      "Requirement already satisfied: idna<4,>=2.5 in c:\\anaconda\\lib\\site-packages (from requests->folium) (3.4)\n",
      "Requirement already satisfied: urllib3<1.27,>=1.21.1 in c:\\anaconda\\lib\\site-packages (from requests->folium) (1.26.14)\n"
     ]
    }
   ],
   "source": [
    "# импортируем необходимые библиотеки\n",
    "import pandas as pd\n",
    "import seaborn as sns\n",
    "import re\n",
    "import matplotlib.pyplot as plt\n",
    "import json\n",
    "!pip install folium\n",
    "from folium import Map, Choropleth\n",
    "from folium import Marker, Map\n",
    "from folium.plugins import MarkerCluster\n",
    "from folium.features import CustomIcon\n",
    "import plotly.express as px\n",
    "\n",
    "# добавим опции для отображения таблиц\n",
    "pd.set_option('display.max_rows', None)\n",
    "pd.set_option('display.max_columns', None)"
   ]
  },
  {
   "cell_type": "code",
   "execution_count": 5,
   "metadata": {},
   "outputs": [
    {
     "ename": "FileNotFoundError",
     "evalue": "[Errno 2] No such file or directory: '/datasets/moscow_places.csv'",
     "output_type": "error",
     "traceback": [
      "\u001b[1;31m---------------------------------------------------------------------------\u001b[0m",
      "\u001b[1;31mFileNotFoundError\u001b[0m                         Traceback (most recent call last)",
      "Cell \u001b[1;32mIn[5], line 2\u001b[0m\n\u001b[0;32m      1\u001b[0m \u001b[38;5;66;03m# загружаем файл\u001b[39;00m\n\u001b[1;32m----> 2\u001b[0m df \u001b[38;5;241m=\u001b[39m \u001b[43mpd\u001b[49m\u001b[38;5;241;43m.\u001b[39;49m\u001b[43mread_csv\u001b[49m\u001b[43m(\u001b[49m\u001b[38;5;124;43m'\u001b[39;49m\u001b[38;5;124;43m/datasets/moscow_places.csv\u001b[39;49m\u001b[38;5;124;43m'\u001b[39;49m\u001b[43m)\u001b[49m\n",
      "File \u001b[1;32mC:\\anaconda\\lib\\site-packages\\pandas\\util\\_decorators.py:211\u001b[0m, in \u001b[0;36mdeprecate_kwarg.<locals>._deprecate_kwarg.<locals>.wrapper\u001b[1;34m(*args, **kwargs)\u001b[0m\n\u001b[0;32m    209\u001b[0m     \u001b[38;5;28;01melse\u001b[39;00m:\n\u001b[0;32m    210\u001b[0m         kwargs[new_arg_name] \u001b[38;5;241m=\u001b[39m new_arg_value\n\u001b[1;32m--> 211\u001b[0m \u001b[38;5;28;01mreturn\u001b[39;00m func(\u001b[38;5;241m*\u001b[39margs, \u001b[38;5;241m*\u001b[39m\u001b[38;5;241m*\u001b[39mkwargs)\n",
      "File \u001b[1;32mC:\\anaconda\\lib\\site-packages\\pandas\\util\\_decorators.py:331\u001b[0m, in \u001b[0;36mdeprecate_nonkeyword_arguments.<locals>.decorate.<locals>.wrapper\u001b[1;34m(*args, **kwargs)\u001b[0m\n\u001b[0;32m    325\u001b[0m \u001b[38;5;28;01mif\u001b[39;00m \u001b[38;5;28mlen\u001b[39m(args) \u001b[38;5;241m>\u001b[39m num_allow_args:\n\u001b[0;32m    326\u001b[0m     warnings\u001b[38;5;241m.\u001b[39mwarn(\n\u001b[0;32m    327\u001b[0m         msg\u001b[38;5;241m.\u001b[39mformat(arguments\u001b[38;5;241m=\u001b[39m_format_argument_list(allow_args)),\n\u001b[0;32m    328\u001b[0m         \u001b[38;5;167;01mFutureWarning\u001b[39;00m,\n\u001b[0;32m    329\u001b[0m         stacklevel\u001b[38;5;241m=\u001b[39mfind_stack_level(),\n\u001b[0;32m    330\u001b[0m     )\n\u001b[1;32m--> 331\u001b[0m \u001b[38;5;28;01mreturn\u001b[39;00m func(\u001b[38;5;241m*\u001b[39margs, \u001b[38;5;241m*\u001b[39m\u001b[38;5;241m*\u001b[39mkwargs)\n",
      "File \u001b[1;32mC:\\anaconda\\lib\\site-packages\\pandas\\io\\parsers\\readers.py:950\u001b[0m, in \u001b[0;36mread_csv\u001b[1;34m(filepath_or_buffer, sep, delimiter, header, names, index_col, usecols, squeeze, prefix, mangle_dupe_cols, dtype, engine, converters, true_values, false_values, skipinitialspace, skiprows, skipfooter, nrows, na_values, keep_default_na, na_filter, verbose, skip_blank_lines, parse_dates, infer_datetime_format, keep_date_col, date_parser, dayfirst, cache_dates, iterator, chunksize, compression, thousands, decimal, lineterminator, quotechar, quoting, doublequote, escapechar, comment, encoding, encoding_errors, dialect, error_bad_lines, warn_bad_lines, on_bad_lines, delim_whitespace, low_memory, memory_map, float_precision, storage_options)\u001b[0m\n\u001b[0;32m    935\u001b[0m kwds_defaults \u001b[38;5;241m=\u001b[39m _refine_defaults_read(\n\u001b[0;32m    936\u001b[0m     dialect,\n\u001b[0;32m    937\u001b[0m     delimiter,\n\u001b[1;32m   (...)\u001b[0m\n\u001b[0;32m    946\u001b[0m     defaults\u001b[38;5;241m=\u001b[39m{\u001b[38;5;124m\"\u001b[39m\u001b[38;5;124mdelimiter\u001b[39m\u001b[38;5;124m\"\u001b[39m: \u001b[38;5;124m\"\u001b[39m\u001b[38;5;124m,\u001b[39m\u001b[38;5;124m\"\u001b[39m},\n\u001b[0;32m    947\u001b[0m )\n\u001b[0;32m    948\u001b[0m kwds\u001b[38;5;241m.\u001b[39mupdate(kwds_defaults)\n\u001b[1;32m--> 950\u001b[0m \u001b[38;5;28;01mreturn\u001b[39;00m \u001b[43m_read\u001b[49m\u001b[43m(\u001b[49m\u001b[43mfilepath_or_buffer\u001b[49m\u001b[43m,\u001b[49m\u001b[43m \u001b[49m\u001b[43mkwds\u001b[49m\u001b[43m)\u001b[49m\n",
      "File \u001b[1;32mC:\\anaconda\\lib\\site-packages\\pandas\\io\\parsers\\readers.py:605\u001b[0m, in \u001b[0;36m_read\u001b[1;34m(filepath_or_buffer, kwds)\u001b[0m\n\u001b[0;32m    602\u001b[0m _validate_names(kwds\u001b[38;5;241m.\u001b[39mget(\u001b[38;5;124m\"\u001b[39m\u001b[38;5;124mnames\u001b[39m\u001b[38;5;124m\"\u001b[39m, \u001b[38;5;28;01mNone\u001b[39;00m))\n\u001b[0;32m    604\u001b[0m \u001b[38;5;66;03m# Create the parser.\u001b[39;00m\n\u001b[1;32m--> 605\u001b[0m parser \u001b[38;5;241m=\u001b[39m TextFileReader(filepath_or_buffer, \u001b[38;5;241m*\u001b[39m\u001b[38;5;241m*\u001b[39mkwds)\n\u001b[0;32m    607\u001b[0m \u001b[38;5;28;01mif\u001b[39;00m chunksize \u001b[38;5;129;01mor\u001b[39;00m iterator:\n\u001b[0;32m    608\u001b[0m     \u001b[38;5;28;01mreturn\u001b[39;00m parser\n",
      "File \u001b[1;32mC:\\anaconda\\lib\\site-packages\\pandas\\io\\parsers\\readers.py:1442\u001b[0m, in \u001b[0;36mTextFileReader.__init__\u001b[1;34m(self, f, engine, **kwds)\u001b[0m\n\u001b[0;32m   1439\u001b[0m     \u001b[38;5;28mself\u001b[39m\u001b[38;5;241m.\u001b[39moptions[\u001b[38;5;124m\"\u001b[39m\u001b[38;5;124mhas_index_names\u001b[39m\u001b[38;5;124m\"\u001b[39m] \u001b[38;5;241m=\u001b[39m kwds[\u001b[38;5;124m\"\u001b[39m\u001b[38;5;124mhas_index_names\u001b[39m\u001b[38;5;124m\"\u001b[39m]\n\u001b[0;32m   1441\u001b[0m \u001b[38;5;28mself\u001b[39m\u001b[38;5;241m.\u001b[39mhandles: IOHandles \u001b[38;5;241m|\u001b[39m \u001b[38;5;28;01mNone\u001b[39;00m \u001b[38;5;241m=\u001b[39m \u001b[38;5;28;01mNone\u001b[39;00m\n\u001b[1;32m-> 1442\u001b[0m \u001b[38;5;28mself\u001b[39m\u001b[38;5;241m.\u001b[39m_engine \u001b[38;5;241m=\u001b[39m \u001b[38;5;28;43mself\u001b[39;49m\u001b[38;5;241;43m.\u001b[39;49m\u001b[43m_make_engine\u001b[49m\u001b[43m(\u001b[49m\u001b[43mf\u001b[49m\u001b[43m,\u001b[49m\u001b[43m \u001b[49m\u001b[38;5;28;43mself\u001b[39;49m\u001b[38;5;241;43m.\u001b[39;49m\u001b[43mengine\u001b[49m\u001b[43m)\u001b[49m\n",
      "File \u001b[1;32mC:\\anaconda\\lib\\site-packages\\pandas\\io\\parsers\\readers.py:1735\u001b[0m, in \u001b[0;36mTextFileReader._make_engine\u001b[1;34m(self, f, engine)\u001b[0m\n\u001b[0;32m   1733\u001b[0m     \u001b[38;5;28;01mif\u001b[39;00m \u001b[38;5;124m\"\u001b[39m\u001b[38;5;124mb\u001b[39m\u001b[38;5;124m\"\u001b[39m \u001b[38;5;129;01mnot\u001b[39;00m \u001b[38;5;129;01min\u001b[39;00m mode:\n\u001b[0;32m   1734\u001b[0m         mode \u001b[38;5;241m+\u001b[39m\u001b[38;5;241m=\u001b[39m \u001b[38;5;124m\"\u001b[39m\u001b[38;5;124mb\u001b[39m\u001b[38;5;124m\"\u001b[39m\n\u001b[1;32m-> 1735\u001b[0m \u001b[38;5;28mself\u001b[39m\u001b[38;5;241m.\u001b[39mhandles \u001b[38;5;241m=\u001b[39m \u001b[43mget_handle\u001b[49m\u001b[43m(\u001b[49m\n\u001b[0;32m   1736\u001b[0m \u001b[43m    \u001b[49m\u001b[43mf\u001b[49m\u001b[43m,\u001b[49m\n\u001b[0;32m   1737\u001b[0m \u001b[43m    \u001b[49m\u001b[43mmode\u001b[49m\u001b[43m,\u001b[49m\n\u001b[0;32m   1738\u001b[0m \u001b[43m    \u001b[49m\u001b[43mencoding\u001b[49m\u001b[38;5;241;43m=\u001b[39;49m\u001b[38;5;28;43mself\u001b[39;49m\u001b[38;5;241;43m.\u001b[39;49m\u001b[43moptions\u001b[49m\u001b[38;5;241;43m.\u001b[39;49m\u001b[43mget\u001b[49m\u001b[43m(\u001b[49m\u001b[38;5;124;43m\"\u001b[39;49m\u001b[38;5;124;43mencoding\u001b[39;49m\u001b[38;5;124;43m\"\u001b[39;49m\u001b[43m,\u001b[49m\u001b[43m \u001b[49m\u001b[38;5;28;43;01mNone\u001b[39;49;00m\u001b[43m)\u001b[49m\u001b[43m,\u001b[49m\n\u001b[0;32m   1739\u001b[0m \u001b[43m    \u001b[49m\u001b[43mcompression\u001b[49m\u001b[38;5;241;43m=\u001b[39;49m\u001b[38;5;28;43mself\u001b[39;49m\u001b[38;5;241;43m.\u001b[39;49m\u001b[43moptions\u001b[49m\u001b[38;5;241;43m.\u001b[39;49m\u001b[43mget\u001b[49m\u001b[43m(\u001b[49m\u001b[38;5;124;43m\"\u001b[39;49m\u001b[38;5;124;43mcompression\u001b[39;49m\u001b[38;5;124;43m\"\u001b[39;49m\u001b[43m,\u001b[49m\u001b[43m \u001b[49m\u001b[38;5;28;43;01mNone\u001b[39;49;00m\u001b[43m)\u001b[49m\u001b[43m,\u001b[49m\n\u001b[0;32m   1740\u001b[0m \u001b[43m    \u001b[49m\u001b[43mmemory_map\u001b[49m\u001b[38;5;241;43m=\u001b[39;49m\u001b[38;5;28;43mself\u001b[39;49m\u001b[38;5;241;43m.\u001b[39;49m\u001b[43moptions\u001b[49m\u001b[38;5;241;43m.\u001b[39;49m\u001b[43mget\u001b[49m\u001b[43m(\u001b[49m\u001b[38;5;124;43m\"\u001b[39;49m\u001b[38;5;124;43mmemory_map\u001b[39;49m\u001b[38;5;124;43m\"\u001b[39;49m\u001b[43m,\u001b[49m\u001b[43m \u001b[49m\u001b[38;5;28;43;01mFalse\u001b[39;49;00m\u001b[43m)\u001b[49m\u001b[43m,\u001b[49m\n\u001b[0;32m   1741\u001b[0m \u001b[43m    \u001b[49m\u001b[43mis_text\u001b[49m\u001b[38;5;241;43m=\u001b[39;49m\u001b[43mis_text\u001b[49m\u001b[43m,\u001b[49m\n\u001b[0;32m   1742\u001b[0m \u001b[43m    \u001b[49m\u001b[43merrors\u001b[49m\u001b[38;5;241;43m=\u001b[39;49m\u001b[38;5;28;43mself\u001b[39;49m\u001b[38;5;241;43m.\u001b[39;49m\u001b[43moptions\u001b[49m\u001b[38;5;241;43m.\u001b[39;49m\u001b[43mget\u001b[49m\u001b[43m(\u001b[49m\u001b[38;5;124;43m\"\u001b[39;49m\u001b[38;5;124;43mencoding_errors\u001b[39;49m\u001b[38;5;124;43m\"\u001b[39;49m\u001b[43m,\u001b[49m\u001b[43m \u001b[49m\u001b[38;5;124;43m\"\u001b[39;49m\u001b[38;5;124;43mstrict\u001b[39;49m\u001b[38;5;124;43m\"\u001b[39;49m\u001b[43m)\u001b[49m\u001b[43m,\u001b[49m\n\u001b[0;32m   1743\u001b[0m \u001b[43m    \u001b[49m\u001b[43mstorage_options\u001b[49m\u001b[38;5;241;43m=\u001b[39;49m\u001b[38;5;28;43mself\u001b[39;49m\u001b[38;5;241;43m.\u001b[39;49m\u001b[43moptions\u001b[49m\u001b[38;5;241;43m.\u001b[39;49m\u001b[43mget\u001b[49m\u001b[43m(\u001b[49m\u001b[38;5;124;43m\"\u001b[39;49m\u001b[38;5;124;43mstorage_options\u001b[39;49m\u001b[38;5;124;43m\"\u001b[39;49m\u001b[43m,\u001b[49m\u001b[43m \u001b[49m\u001b[38;5;28;43;01mNone\u001b[39;49;00m\u001b[43m)\u001b[49m\u001b[43m,\u001b[49m\n\u001b[0;32m   1744\u001b[0m \u001b[43m\u001b[49m\u001b[43m)\u001b[49m\n\u001b[0;32m   1745\u001b[0m \u001b[38;5;28;01massert\u001b[39;00m \u001b[38;5;28mself\u001b[39m\u001b[38;5;241m.\u001b[39mhandles \u001b[38;5;129;01mis\u001b[39;00m \u001b[38;5;129;01mnot\u001b[39;00m \u001b[38;5;28;01mNone\u001b[39;00m\n\u001b[0;32m   1746\u001b[0m f \u001b[38;5;241m=\u001b[39m \u001b[38;5;28mself\u001b[39m\u001b[38;5;241m.\u001b[39mhandles\u001b[38;5;241m.\u001b[39mhandle\n",
      "File \u001b[1;32mC:\\anaconda\\lib\\site-packages\\pandas\\io\\common.py:856\u001b[0m, in \u001b[0;36mget_handle\u001b[1;34m(path_or_buf, mode, encoding, compression, memory_map, is_text, errors, storage_options)\u001b[0m\n\u001b[0;32m    851\u001b[0m \u001b[38;5;28;01melif\u001b[39;00m \u001b[38;5;28misinstance\u001b[39m(handle, \u001b[38;5;28mstr\u001b[39m):\n\u001b[0;32m    852\u001b[0m     \u001b[38;5;66;03m# Check whether the filename is to be opened in binary mode.\u001b[39;00m\n\u001b[0;32m    853\u001b[0m     \u001b[38;5;66;03m# Binary mode does not support 'encoding' and 'newline'.\u001b[39;00m\n\u001b[0;32m    854\u001b[0m     \u001b[38;5;28;01mif\u001b[39;00m ioargs\u001b[38;5;241m.\u001b[39mencoding \u001b[38;5;129;01mand\u001b[39;00m \u001b[38;5;124m\"\u001b[39m\u001b[38;5;124mb\u001b[39m\u001b[38;5;124m\"\u001b[39m \u001b[38;5;129;01mnot\u001b[39;00m \u001b[38;5;129;01min\u001b[39;00m ioargs\u001b[38;5;241m.\u001b[39mmode:\n\u001b[0;32m    855\u001b[0m         \u001b[38;5;66;03m# Encoding\u001b[39;00m\n\u001b[1;32m--> 856\u001b[0m         handle \u001b[38;5;241m=\u001b[39m \u001b[38;5;28;43mopen\u001b[39;49m\u001b[43m(\u001b[49m\n\u001b[0;32m    857\u001b[0m \u001b[43m            \u001b[49m\u001b[43mhandle\u001b[49m\u001b[43m,\u001b[49m\n\u001b[0;32m    858\u001b[0m \u001b[43m            \u001b[49m\u001b[43mioargs\u001b[49m\u001b[38;5;241;43m.\u001b[39;49m\u001b[43mmode\u001b[49m\u001b[43m,\u001b[49m\n\u001b[0;32m    859\u001b[0m \u001b[43m            \u001b[49m\u001b[43mencoding\u001b[49m\u001b[38;5;241;43m=\u001b[39;49m\u001b[43mioargs\u001b[49m\u001b[38;5;241;43m.\u001b[39;49m\u001b[43mencoding\u001b[49m\u001b[43m,\u001b[49m\n\u001b[0;32m    860\u001b[0m \u001b[43m            \u001b[49m\u001b[43merrors\u001b[49m\u001b[38;5;241;43m=\u001b[39;49m\u001b[43merrors\u001b[49m\u001b[43m,\u001b[49m\n\u001b[0;32m    861\u001b[0m \u001b[43m            \u001b[49m\u001b[43mnewline\u001b[49m\u001b[38;5;241;43m=\u001b[39;49m\u001b[38;5;124;43m\"\u001b[39;49m\u001b[38;5;124;43m\"\u001b[39;49m\u001b[43m,\u001b[49m\n\u001b[0;32m    862\u001b[0m \u001b[43m        \u001b[49m\u001b[43m)\u001b[49m\n\u001b[0;32m    863\u001b[0m     \u001b[38;5;28;01melse\u001b[39;00m:\n\u001b[0;32m    864\u001b[0m         \u001b[38;5;66;03m# Binary mode\u001b[39;00m\n\u001b[0;32m    865\u001b[0m         handle \u001b[38;5;241m=\u001b[39m \u001b[38;5;28mopen\u001b[39m(handle, ioargs\u001b[38;5;241m.\u001b[39mmode)\n",
      "\u001b[1;31mFileNotFoundError\u001b[0m: [Errno 2] No such file or directory: '/datasets/moscow_places.csv'"
     ]
    }
   ],
   "source": [
    "# загружаем файл\n",
    "df = pd.read_csv('/datasets/moscow_places.csv')"
   ]
  },
  {
   "cell_type": "code",
   "execution_count": null,
   "metadata": {},
   "outputs": [],
   "source": [
    "# напишем функцию для изучения основных характеристик датафрейма\n",
    "def df_study(df):\n",
    "      \n",
    "    # изучим начало и конец выборки\n",
    "    display(df.head(10), df.tail(10))\n",
    "\n",
    "    # изучим информацию о датафрейме\n",
    "    display(df.info())\n",
    "    \n",
    "    # изучим статистические показатели\n",
    "    display(df.describe())\n",
    "    \n",
    "    print('-'*50)\n",
    "    # изучим количество строк и столбцов\n",
    "    print('Количество строк и столбцов:', df.shape)   \n",
    "\n",
    "    print('-'*50)\n",
    "    # посчитаем количество явных дубликатов\n",
    "    dubl = df.duplicated().sum()\n",
    "    print('Количество явных дубликатов:' , dubl)\n",
    "    \n",
    "    # посчитаем долю дубликатов\n",
    "    dubl_share = dubl/len(df)\n",
    "    print(f'Доля явных дубликатов: {dubl_share:.2%}')\n",
    "    \n",
    "    print('-'*50)\n",
    "    # посчитаем количество пропусков\n",
    "    gap = df.isna().sum()\n",
    "    print('Количество пропусков:', gap)\n",
    "    \n",
    "    # посчитаем долю пропусков\n",
    "    gap_share = ((df.isnull().sum().sort_values(ascending=False)/df.shape[0])*100).round(2)\n",
    "    print()\n",
    "    print('Доля пропусков:')\n",
    "    display(gap_share)\n",
    "    \n",
    "    # зададим масимальную ширину столбца\n",
    "    pd.set_option('max_colwidth', 100) "
   ]
  },
  {
   "cell_type": "code",
   "execution_count": null,
   "metadata": {
    "scrolled": true
   },
   "outputs": [],
   "source": [
    "# изучим основную информацию\n",
    "df_study(df)"
   ]
  },
  {
   "cell_type": "markdown",
   "metadata": {},
   "source": [
    "В датафрейме 8406 записей. В столбцах с рейтингом и информации о принадлежности заведения к сети указаны верные диапазоны значений (от 0 до 5  и 0 или 1 соотвественно). \\\n",
    "Выявленные проблемы:\n",
    "1. Наличие большого количества пропусков в столбцах с данными в следующих столбцах:\n",
    "    - оценка стоимости одной чашки капучино (94% пропусков);\n",
    "    - оценка суммы среднего чека (63% пропусков);\n",
    "    - цена (61% пропусков);\n",
    "    - средняя стоимость заказа (55% пропусков);\n",
    "    - количество посадочных мест (43% пропусков).\n",
    "2. Некорректный тип данных в стобце с количеством посадочных мест. \n",
    "\n",
    "Необходима предобработка данных."
   ]
  },
  {
   "cell_type": "markdown",
   "metadata": {},
   "source": [
    "---\n",
    "<a id='preprocessing'></a> \n",
    "## Предобработка данных\n",
    "[Назад к оглавлению](#contens)"
   ]
  },
  {
   "cell_type": "markdown",
   "metadata": {},
   "source": [
    "---\n",
    "<a id='pass'></a> \n",
    "### Работа с пропусками\n",
    "[Назад к оглавлению](#contens)"
   ]
  },
  {
   "cell_type": "code",
   "execution_count": null,
   "metadata": {},
   "outputs": [],
   "source": [
    "# пропуски в столбцах заменим на -1\n",
    "columns_fillna = ['hours', 'price', 'avg_bill', 'middle_avg_bill', 'middle_coffee_cup', 'seats']\n",
    "\n",
    "for i in columns_fillna:\n",
    "    df[i] = df[i].fillna(-1)\n",
    "    \n",
    "# проверим заполнение пропусков\n",
    "df.isna().sum()"
   ]
  },
  {
   "cell_type": "markdown",
   "metadata": {},
   "source": [
    "---\n",
    "<a id='type_change'></a> \n",
    "### Изменение типа данных\n",
    "[Назад к оглавлению](#contens)"
   ]
  },
  {
   "cell_type": "markdown",
   "metadata": {},
   "source": [
    "Перед тем, как менять тип данных с количеством посадочных мест, проверим: все ли данные указаны верно, то есть отсутствуют ли доли."
   ]
  },
  {
   "cell_type": "code",
   "execution_count": null,
   "metadata": {},
   "outputs": [],
   "source": [
    "# проверим значения и их количество\n",
    "df['seats'].value_counts().sort_values()"
   ]
  },
  {
   "cell_type": "code",
   "execution_count": null,
   "metadata": {},
   "outputs": [],
   "source": [
    "# изменим тип данных в столбце с количеством посадочных мест на целочисленный\n",
    "df['seats'] = df.loc[(df['seats'] != '-1'), 'seats'].astype(int)\n",
    "\n",
    "# проверим изменение типа данных\n",
    "df.info()"
   ]
  },
  {
   "cell_type": "markdown",
   "metadata": {},
   "source": [
    "---\n",
    "<a id='check_dubl'></a> \n",
    "### Проверка на наличие дубликатов\n",
    "[Назад к оглавлению](#contens)"
   ]
  },
  {
   "cell_type": "markdown",
   "metadata": {},
   "source": [
    "Первоначальная проверка показала отсутствие явных дубликатов. Приведем все данные в столбцах к нижнему регистру и проверим еще раз."
   ]
  },
  {
   "cell_type": "code",
   "execution_count": null,
   "metadata": {},
   "outputs": [],
   "source": [
    "# приведем данных в этих столбцах к нижнему регистру\n",
    "columns_lower = ['name', 'category', 'address', 'price', 'avg_bill']\n",
    "\n",
    "for i in columns_lower:\n",
    "    df[i] = df[i].str.lower()\n",
    "    \n",
    "# проверим наличие дубликатов после манипуляций\n",
    "df.duplicated().sum()"
   ]
  },
  {
   "cell_type": "markdown",
   "metadata": {},
   "source": [
    "Проверим наличие неявных дубликатов по названию, адресу и району размещения."
   ]
  },
  {
   "cell_type": "code",
   "execution_count": null,
   "metadata": {},
   "outputs": [],
   "source": [
    "# подсчитаем количество дубликатов\n",
    "print('Количество дубликатов:', df.duplicated(subset = ['name', 'address']).sum())"
   ]
  },
  {
   "cell_type": "code",
   "execution_count": null,
   "metadata": {},
   "outputs": [],
   "source": [
    "# посмотрим на дубликаты\n",
    "df[df.duplicated(subset = ['name', 'address'], keep=False)]"
   ]
  },
  {
   "cell_type": "code",
   "execution_count": null,
   "metadata": {},
   "outputs": [],
   "source": [
    "# удалим дубликаты\n",
    "df.drop_duplicates(subset=['name', 'address'], keep='first', inplace=True)"
   ]
  },
  {
   "cell_type": "markdown",
   "metadata": {},
   "source": [
    "---\n",
    "<a id='change_chain'></a> \n",
    "### Изменение данных в столбце chain\n",
    "[Назад к оглавлению](#contens)"
   ]
  },
  {
   "cell_type": "code",
   "execution_count": null,
   "metadata": {},
   "outputs": [],
   "source": [
    "# для удобства анализа изменим числовые значения на текстовое отображение\n",
    "df.loc[(df['chain'] == 0), 'chain'] = 'несетевое'\n",
    "df.loc[(df['chain'] == 1), 'chain'] = 'сетевое'"
   ]
  },
  {
   "cell_type": "markdown",
   "metadata": {},
   "source": [
    "---\n",
    "<a id='add_columns'></a> \n",
    "### Добавление дополнительных \n",
    "[Назад к оглавлению](#contens)"
   ]
  },
  {
   "cell_type": "markdown",
   "metadata": {},
   "source": [
    "Добавим столбец street с названиями улиц из столбца с адресом."
   ]
  },
  {
   "cell_type": "code",
   "execution_count": null,
   "metadata": {},
   "outputs": [],
   "source": [
    "# перечислим существующие типы частей дороги\n",
    "words = ['улица','ул','переулок','шоссе','проспект','площадь','проезд',\n",
    "         'село','аллея','бульвар','набережная','тупик','линия']\n",
    "\n",
    "# добавляем названия к типам\n",
    "str_part = r\".*,\\s*\\b([^,]*?(?:{})\\b[^,]*)[,$]+\".format(\"|\".join(words))\n",
    "\n",
    "# добавляем столбец\n",
    "df['street'] = df['address'].str.extract(str_part, flags=re.I)"
   ]
  },
  {
   "cell_type": "markdown",
   "metadata": {},
   "source": [
    "Создаем столбец is_24/7 с обозначением, что заведение работает ежедневно и круглосуточно (24/7)."
   ]
  },
  {
   "cell_type": "code",
   "execution_count": null,
   "metadata": {},
   "outputs": [],
   "source": [
    "# добавляем столбец\n",
    "df['is_24/7'] = df['hours'].str.contains('ежедневно, круглосуточно')"
   ]
  },
  {
   "cell_type": "code",
   "execution_count": null,
   "metadata": {},
   "outputs": [],
   "source": [
    "# проверяем \n",
    "df.head()"
   ]
  },
  {
   "cell_type": "markdown",
   "metadata": {},
   "source": [
    "---\n",
    "<a id='analysis'></a> \n",
    "## Анализ данных\n",
    "[Назад к оглавлению](#contens)"
   ]
  },
  {
   "cell_type": "markdown",
   "metadata": {},
   "source": [
    "---\n",
    "<a id='category'></a> \n",
    "### Распределение заведений по категориям\n",
    "[Назад к оглавлению](#contens)"
   ]
  },
  {
   "cell_type": "markdown",
   "metadata": {},
   "source": [
    "Изучим распределение заведений г. Москвы по категориям."
   ]
  },
  {
   "cell_type": "code",
   "execution_count": null,
   "metadata": {
    "scrolled": false
   },
   "outputs": [],
   "source": [
    "# подсчитаем общее количество заведений в Москве\n",
    "print('Общее количество заведений общественного питания в Москве:', len(df))\n",
    "# составим таблицу с категориями и количество заведений\n",
    "temp = (df.pivot_table(index='category', values='name', aggfunc='count')\n",
    "                    .sort_values(by='name', ascending=False)\n",
    "                    .rename(columns={'name' : 'count'})\n",
    "                    .reset_index())\n",
    "display(temp)\n",
    "\n",
    "# отобразим распределение на гистограмме\n",
    "sns.set_style('dark')\n",
    "custom_palette = ['#16537e', '#cfe2f3', '#9fc5e8', '#6fa8dc', '#3d85c6', '#0b5394', '#073763', '#62a7d7',\n",
    "                 '#9dbbd5', '#7b95ac', '#697c8c', '#b1d5f5', '#246cac', '#204e77', '#76a5af']\n",
    "sns.set_palette(custom_palette)\n",
    "plt.figure(figsize=(12, 4)) \n",
    "ax = sns.barplot(x='category', y='count', data=temp)\n",
    "ax.set_title('Распределение заведений по категориям', size=16, weight= 900)\n",
    "ax.set_xlabel('Наименование категорий')\n",
    "ax.set_ylabel('Количество заведений, шт.')\n",
    "plt.show()\n",
    "\n",
    "# отобразим распределение по долям на круговой диаграмме\n",
    "temp.plot(y='count',\n",
    "            kind='pie',\n",
    "            labels=temp['category'],\n",
    "            autopct='%.0f%%',\n",
    "            title='Распределение заведений по категориям',\n",
    "            figsize=(8, 8),\n",
    "            legend=False)\n",
    "plt.show()"
   ]
  },
  {
   "cell_type": "markdown",
   "metadata": {},
   "source": [
    "В первую тройку категорий составляют кафе (28% от всех заведений), рестораны (24%) и кофейни (24%). На три эти категории приходятся практически 70% всех заведений. Далее по популярности: бары, пиццерии и заведения быстрого питания (9%, 8% и 7% соответственно). Аутсайдерами являются столовые (4%) и булочные (3%)."
   ]
  },
  {
   "cell_type": "markdown",
   "metadata": {},
   "source": [
    "---\n",
    "<a id='category_seats'></a> \n",
    "### Количество посадочных мест в заведениях по категориям\n",
    "[Назад к оглавлению](#contens)"
   ]
  },
  {
   "cell_type": "markdown",
   "metadata": {},
   "source": [
    "Изучим среднее количество посадочных мест в заведениях по категориям. Перед исследованием обращаем внимание на наличие большого количества пропусков в столбце с данными о посадочных местах, а именно 43% пропусков."
   ]
  },
  {
   "cell_type": "code",
   "execution_count": null,
   "metadata": {},
   "outputs": [],
   "source": [
    "# составим таблицу \n",
    "temp = (df.query('seats != -1')\n",
    "          .pivot_table(index='category', values='seats', aggfunc='median')\n",
    "          .sort_values(by='seats', ascending=False)\n",
    "          .rename(columns={'seats' : 'seats_median'})\n",
    "          .reset_index())\n",
    "display(temp)\n",
    "\n",
    "# отобразим распределение на гистограмме\n",
    "plt.figure(figsize=(12, 4)) \n",
    "ax = sns.barplot(x='category', y='seats_median', data=temp)\n",
    "ax.set_title('Среднее медианное количество посадочных мест в заведениях по категориям', size=16, weight= 900)\n",
    "ax.set_xlabel('Наименование категорий')\n",
    "ax.set_ylabel('Среднее количество посадочных мест')\n",
    "plt.show()"
   ]
  },
  {
   "cell_type": "markdown",
   "metadata": {},
   "source": [
    "Посмотрим на количество посадочных мест по категориям на диаграмме рассеивания."
   ]
  },
  {
   "cell_type": "code",
   "execution_count": null,
   "metadata": {},
   "outputs": [],
   "source": [
    "# делаем срез по посадочным местам\n",
    "df_temp = df.query('seats != -1')\n",
    "\n",
    "# строим диаграмму рассеивания\n",
    "plt.figure(figsize=(12, 6))\n",
    "ax = sns.stripplot(x='category', y='seats', data=df_temp)\n",
    "ax.set_title('Количество посадочных мест в заведениях по категориям', size=16, weight= 900)\n",
    "ax.set_xlabel('Наименование категорий')\n",
    "ax.set_ylabel('Количество посадочных мест')\n",
    "plt.show()"
   ]
  },
  {
   "cell_type": "markdown",
   "metadata": {},
   "source": [
    "Среднее медианное количество посадочных по категориям заведений находится в переделах от 50 в булочных до 86 в ресторанах. Лидерами по количеству посадочных мест являются: рестораны (86 посадочных мест), бары/пабы (83 места) и кофейни (80 мест). Диаграмма рассеивания позвляет сделать вывод о том, что в ресторанах, кафе, барах и кофейнях чаще всего количество посадочных мест менее 200. В булочных и столовых показатель значительно ниже. В булочных чаще всего около 50 посадочных мест, в столовых - около 100. Практически для каждой категории заведений характерны аномально высокие значения (от 1000 и выше). Стоит обратить внимание на то, что почти половина данных отсутвует, поэтому сложно делать верные и корректные выводы о показателе. "
   ]
  },
  {
   "cell_type": "markdown",
   "metadata": {},
   "source": [
    "---\n",
    "<a id='chain'></a> \n",
    "### Соотношение сетевых и несетевых заведений\n",
    "[Назад к оглавлению](#contens)"
   ]
  },
  {
   "cell_type": "markdown",
   "metadata": {},
   "source": [
    "Рассмотрим соотношение сетевых и несетевых заведений в датасете."
   ]
  },
  {
   "cell_type": "code",
   "execution_count": null,
   "metadata": {},
   "outputs": [],
   "source": [
    "# составим таблицу с категориями и количество заведений\n",
    "temp = (df.pivot_table(index='chain', values='name', aggfunc='count')\n",
    "                    .sort_values(by='name', ascending=False)\n",
    "                    .rename(columns={'name' : 'count'})\n",
    "                    .reset_index())\n",
    "                    \n",
    "display(temp)\n",
    "\n",
    "# отобразим распределение на гистограмме\n",
    "temp.plot(y='count',\n",
    "            kind='pie',\n",
    "            labels=temp['chain'],\n",
    "            autopct='%.0f%%',\n",
    "            title='Соотношение сетевых и несетевых заведений',\n",
    "            figsize=(8, 8),\n",
    "            legend=False)\n",
    "plt.show()"
   ]
  },
  {
   "cell_type": "markdown",
   "metadata": {},
   "source": [
    "На рынке общественного питания г. Москвы большая часть заведений (62%) являются несетевыми. "
   ]
  },
  {
   "cell_type": "markdown",
   "metadata": {},
   "source": [
    "---\n",
    "<a id='category_chain'></a> \n",
    "### Распределение сетевых и частных заведений по категориям\n",
    "[Назад к оглавлению](#contens)"
   ]
  },
  {
   "cell_type": "markdown",
   "metadata": {},
   "source": [
    "Исследуем, какие категории чаще остальных являются сетевыми."
   ]
  },
  {
   "cell_type": "code",
   "execution_count": null,
   "metadata": {},
   "outputs": [],
   "source": [
    "# составим таблицу с категориями и количество заведений\n",
    "temp = (df.pivot_table(index='category', values='name', columns='chain', aggfunc='count')\n",
    "          .sort_values(by='несетевое', ascending=False))\n",
    "temp['доля несетевых, %'] = ((temp['несетевое']/(temp['несетевое']+temp['сетевое']))*100).round(2)\n",
    "temp['доля сетевых, %'] = ((temp['сетевое']/(temp['несетевое']+temp['сетевое']))*100).round(2)\n",
    "temp['разница, %'] = temp['доля несетевых, %'] - temp['доля сетевых, %']\n",
    "display(temp)\n",
    "\n",
    "# отобразим распределение на гистограмме\n",
    "plt.figure(figsize=(12, 4)) \n",
    "ax = sns.countplot(x='category', hue='chain', data=df)\n",
    "ax.set_title('Распределение заведений по категориям', size=16, weight= 900)\n",
    "ax.set_xlabel('Наименование категорий')\n",
    "ax.set_ylabel('Количество заведений, шт.')\n",
    "plt.show()"
   ]
  },
  {
   "cell_type": "markdown",
   "metadata": {},
   "source": [
    "Для кафе, ресторанов, баров, заведений быстрого питания и столовых характерно преобладание несетевых заведений. Стоит отметить значительную разницу в соотношении у следующих категорий: кафе (на 34% несетевый заведений больше), рестораны (29%), бары (56%), заведения быстрого питания (23%) и столовые (44%). У заведений в остальных категориях сетевая принадленость преобладает. В кофейнях и пиццериях эта разница незначительна (примерно на 2% и 4% соответственно сетевых заведений больше). В булочных разница наиболее существенна (23%)."
   ]
  },
  {
   "cell_type": "markdown",
   "metadata": {},
   "source": [
    "---\n",
    "<a id='top_chain'></a> \n",
    "### Топ-15 популярных сетей в Москве\n",
    "[Назад к оглавлению](#contens)"
   ]
  },
  {
   "cell_type": "markdown",
   "metadata": {},
   "source": [
    "Исследуем топ-15 популярных сетей в Москве. Попробуем определить общий признак. Проанализируем категорию, к которой относятся заведения сети, определим общее количество заведений и количество заведений каждой категории по районам."
   ]
  },
  {
   "cell_type": "code",
   "execution_count": null,
   "metadata": {
    "scrolled": false
   },
   "outputs": [],
   "source": [
    "# составим таблицу топ-15 сетей в Москве с максимальным количеством заведений\n",
    "temp = (df.pivot_table(index=['name', 'category'], values='address', aggfunc='count')\n",
    "          .rename(columns={'address' : 'count'})\n",
    "          .reset_index())\n",
    "temp = temp.sort_values(by='count', ascending=False)\n",
    "temp = temp.head(16)  \n",
    "temp"
   ]
  },
  {
   "cell_type": "markdown",
   "metadata": {},
   "source": [
    "На первом месте оказалась сеть 'кафе'. Предполагаю, что это не сеть, а наименование небольших заведений без названия, поэтому для более достоверного анализа не будет ее учитывать."
   ]
  },
  {
   "cell_type": "code",
   "execution_count": null,
   "metadata": {
    "scrolled": false
   },
   "outputs": [],
   "source": [
    "# итоговая таблица топ-15\n",
    "temp = temp[1:]\n",
    "display(temp)\n",
    "\n",
    "# отразим данные на графике\n",
    "plt.figure(figsize=(12, 6))\n",
    "ax = sns.barplot(y='name', x='count', data=temp)\n",
    "ax.set_title('Топ-15 сетей по количеству заведений общественного питания', size=16, weight= 900)\n",
    "ax.set_ylabel('Наименование сети')\n",
    "ax.set_xlabel('Количество заведений, шт.')\n",
    "plt.show()"
   ]
  },
  {
   "cell_type": "markdown",
   "metadata": {},
   "source": [
    " Лидером в топ-листе является сеть кофеен \"Шоколадница\" (119 заведений). На следующих пяти местах расположились сети:\n",
    "- Доминос пицца (77 заведений)\n",
    "- Додо пицца (74 заведения)\n",
    "- One price coffee (72 заведения)\n",
    "- Яндекс лавка (69 заведений)\n",
    "- Cofix (65 заведений).\n",
    "Количество заведений у остальных сетей значительно ниже (от 49 и меньше).\n",
    "\\\n",
    "\\\n",
    "Посмотрим к какой категории заведений относятся сети из топ-листа."
   ]
  },
  {
   "cell_type": "code",
   "execution_count": null,
   "metadata": {},
   "outputs": [],
   "source": [
    "# составим таблицу\n",
    "temp2 = (temp.pivot_table(index='category', values='count', aggfunc='sum')\n",
    "             .sort_values(by='count', ascending=False)\n",
    "             .rename(columns={'count' : 'count'})\n",
    "             .reset_index())\n",
    "display(temp2)\n",
    "\n",
    "# отразим данные на графике\n",
    "plt.figure(figsize=(12, 6))\n",
    "ax = sns.barplot(x='category', y='count', data=temp2)\n",
    "ax.set_title('Распределение заведений из топ-15 сетей по категориям', size=16, weight= 900)\n",
    "ax.set_ylabel('Наименование категории')\n",
    "ax.set_xlabel('Количество заведений, шт.')\n",
    "plt.show()\n",
    "\n",
    "# отобразим распределение по долям на круговой диаграмме\n",
    "temp2.plot(y='count',\n",
    "            kind='pie',\n",
    "            labels=temp2['category'],\n",
    "            autopct='%.0f%%',\n",
    "            title='Распределение заведений из топ-15 сетей по категориям',\n",
    "            figsize=(8, 8),\n",
    "            legend=False)\n",
    "plt.show()"
   ]
  },
  {
   "cell_type": "markdown",
   "metadata": {},
   "source": [
    "Заведения из топ-листа популярных сетей в основном относятся к категории кофеен (42%), ресторанов (24%) и пиццерий (19%). \n",
    "\\\n",
    "\\\n",
    "Посмотрим, в каких районах г. Москвы расположены заведения сетей."
   ]
  },
  {
   "cell_type": "code",
   "execution_count": null,
   "metadata": {},
   "outputs": [],
   "source": [
    "# для среза создадим список с наименованиями сетей из топ-листа\n",
    "name_top_chain = temp['name'].tolist()\n",
    "\n",
    "# формируем таблицу \n",
    "df_top_chain = df.query('name == @name_top_chain').sort_values(by='name')\n",
    "temp3 = (df_top_chain.pivot_table(index='district', columns='name', values='address', aggfunc='count')\n",
    "                     .fillna(0)\n",
    "                     .reset_index())\n",
    "temp3['всего заведений в районе'] = temp3.sum(axis=1)\n",
    "temp3 = temp3.sort_values(by='всего заведений в районе', ascending=False)\n",
    "temp3"
   ]
  },
  {
   "cell_type": "code",
   "execution_count": null,
   "metadata": {},
   "outputs": [],
   "source": [
    "# отобразим распределение по долям на круговой диаграмме\n",
    "temp3.plot(y='всего заведений в районе',\n",
    "            kind='pie',\n",
    "            labels=temp3['district'],\n",
    "            autopct='%.0f%%',\n",
    "            title='Распределение заведений топ-15 сетей по районам г. Москвы',\n",
    "            figsize=(8, 8),\n",
    "            legend=False)\n",
    "plt.show()"
   ]
  },
  {
   "cell_type": "markdown",
   "metadata": {},
   "source": [
    "Большая часть заведений топ-листа расположена в Центральном районе (23%). Далее по популярности идет Севеный район (12%). На Западный,Северо-Восточный и Южный районы приходится по 11% заведений. Аутсайдером является Северо-Западный район (6%).\n",
    "\\\n",
    "\\\n",
    "Посмотрим как расположились категории заведений из топ-листа по районам Москвы."
   ]
  },
  {
   "cell_type": "code",
   "execution_count": null,
   "metadata": {},
   "outputs": [],
   "source": [
    "# формируем таблицу \n",
    "df_top_chain = df.query('name == @name_top_chain').sort_values(by='name')\n",
    "temp4 = (df_top_chain.pivot_table(index='district', columns='category', values='address', aggfunc='count')\n",
    "                     .fillna(0)\n",
    "                     .reset_index())\n",
    "temp4['всего заведений в районе'] = temp4.sum(axis=1)\n",
    "temp4 = temp4.sort_values(by='всего заведений в районе', ascending=False)\n",
    "display(temp4)"
   ]
  },
  {
   "cell_type": "code",
   "execution_count": null,
   "metadata": {},
   "outputs": [],
   "source": [
    "# формируем таблицу\n",
    "temp4 = (df_top_chain.pivot_table(index=['district', 'category'], values='address', aggfunc='count')\n",
    "                      .rename(columns={'address' : 'count'})\n",
    "                      .sort_values(by='count', ascending=False)\n",
    "                     .reset_index())\n",
    "\n",
    "# отобразим распределение на графике\n",
    "plt.figure(figsize=(16, 8)) \n",
    "fig = px.bar(temp4, x='district', y='count', color='category', \n",
    "             title='Распределение категорий заведений по районам г. Москвы', barmode='stack',\n",
    "             labels={'district': 'Название района', \n",
    "                     'count': 'Количество заведений, шт.',\n",
    "                    'category': 'Категория'})\n",
    "fig.update_layout(\n",
    "    height=600, width=900, \n",
    "    title_font_size=16, \n",
    "    plot_bgcolor='rgba(0,0,0,0.05)') \n",
    "fig.show()"
   ]
  },
  {
   "cell_type": "markdown",
   "metadata": {},
   "source": [
    "В центральном районе расположена большая часть кофеен, ресторанов и кафе. В остальных районах лидерами среди категорий являются: кофейни, рестораны и пиццерии."
   ]
  },
  {
   "cell_type": "markdown",
   "metadata": {},
   "source": [
    "---\n",
    "<a id='district'></a> \n",
    "### Распределение заведений общественного питания по районам г. Москвы\n",
    "[Назад к оглавлению](#contens)"
   ]
  },
  {
   "cell_type": "markdown",
   "metadata": {},
   "source": [
    "Посмотрим как распределены заведения общественного питания по городу."
   ]
  },
  {
   "cell_type": "code",
   "execution_count": null,
   "metadata": {
    "scrolled": false
   },
   "outputs": [],
   "source": [
    "# формируем таблицу \n",
    "temp = (df.pivot_table(index='district', values='name', aggfunc='count')\n",
    "          .sort_values(by='name', ascending=False)\n",
    "          .rename(columns={'name' : 'count'})\n",
    "          .reset_index())\n",
    "display(temp)\n",
    "\n",
    "# отразим данные на графике\n",
    "plt.figure(figsize=(12, 6))\n",
    "ax = sns.barplot(y='district', x='count', data=temp)\n",
    "ax.set_title('Распределение заведений по районам г. Москвы', size=16, weight= 900)\n",
    "ax.set_ylabel('Наименование района')\n",
    "ax.set_xlabel('Количество заведений, шт.')\n",
    "plt.show()\n",
    "\n",
    "# отобразим распределение по долям на круговой диаграмме\n",
    "temp.plot(y='count',\n",
    "            kind='pie',\n",
    "            labels=temp['district'],\n",
    "            autopct='%.0f%%',\n",
    "            title='Распределение заведений по районам г. Москвы',\n",
    "            figsize=(8, 8),\n",
    "            legend=False)\n",
    "plt.show()"
   ]
  },
  {
   "cell_type": "markdown",
   "metadata": {},
   "source": [
    "Большая часть заведений (27%) расположена в Центральном районе. На Северный, Южный и Северо-Восточный районы приходится по 11% заведений. Меньше всего заведений расположено в Северо-Западном округе (5%).\n",
    "\\\n",
    "\\\n",
    "Посмотрим как распределены категории заведений по районам города."
   ]
  },
  {
   "cell_type": "code",
   "execution_count": null,
   "metadata": {},
   "outputs": [],
   "source": [
    "# формируем таблицу \n",
    "temp = (df.pivot_table(index='district', columns='category', values='name', aggfunc='count')\n",
    "          .reset_index())\n",
    "temp['всего заведений в районе'] = temp.sum(axis=1)\n",
    "temp = temp.sort_values(by='всего заведений в районе', ascending=False)\n",
    "display(temp)\n",
    "\n",
    "# отобразим распределение на гистограмме\n",
    "plt.figure(figsize=(16, 8)) \n",
    "ax = sns.countplot(x='district', hue='category', data=df)\n",
    "ax.set_title('Распределение категорий заведений по районам г. Москвы', size=16, weight= 900)\n",
    "ax.set_xlabel('Наименование районов')\n",
    "ax.set_xticklabels(ax.get_xticklabels(),rotation = 90)\n",
    "ax.set_ylabel('Количество заведений, шт.')\n",
    "plt.show()"
   ]
  },
  {
   "cell_type": "markdown",
   "metadata": {},
   "source": [
    "Основная доля ресторанов, кафе, баров и пиццерий расположена в Центальном районе. В остальных районах кафе являются наиболее популярными по сравнению с остальными категориями. Рестораны и кофейни тоже входят в тройку лидеров среди категорий."
   ]
  },
  {
   "cell_type": "markdown",
   "metadata": {},
   "source": [
    "---\n",
    "<a id='score_category'></a> \n",
    "### Распределение средних рейтингов по категориям заведений \n",
    "[Назад к оглавлению](#contens)"
   ]
  },
  {
   "cell_type": "markdown",
   "metadata": {},
   "source": [
    "Посмотрим как распределены средние оценки рейтингов по категориям заведений."
   ]
  },
  {
   "cell_type": "code",
   "execution_count": null,
   "metadata": {},
   "outputs": [],
   "source": [
    "# формируем таблицу\n",
    "temp = (df.pivot_table(index='category', values='rating', aggfunc='median')\n",
    "          .sort_values(by='rating', ascending=False)\n",
    "          .rename(columns={'rating' : 'median_rating'})\n",
    "          .reset_index())\n",
    "display(temp)\n",
    "\n",
    "# изучим статистические показатели\n",
    "print('Статистические показатели столбца rating')\n",
    "display(df['rating'].describe())\n",
    "\n",
    "# отразим данные на графике\n",
    "plt.figure(figsize=(12, 4))\n",
    "ax = sns.barplot(y='median_rating', x='category', data=temp)\n",
    "ax.set_title('Средние (медианные) рейтинги заведений по категориям', size=16, weight= 900)\n",
    "ax.set_xlabel('Наименование категории')\n",
    "ax.set_ylabel('Медианный рейтинг')\n",
    "plt.ylim([4, 4.5])\n",
    "plt.show()"
   ]
  },
  {
   "cell_type": "markdown",
   "metadata": {},
   "source": [
    "Средний (медианный) рейтинг по категория варьируется в пределах от 4.4 у баров/пабов до 4.2 у заведений быстрого питания и кафе. Для всех остальных категорий этот показатель равен 4.3."
   ]
  },
  {
   "cell_type": "markdown",
   "metadata": {},
   "source": [
    "---\n",
    "<a id='choropleth'></a> \n",
    "### Фоновая картограмма (хороплет) со средним рейтингом заведений каждого района\n",
    "[Назад к оглавлению](#contens)"
   ]
  },
  {
   "cell_type": "markdown",
   "metadata": {},
   "source": [
    "Для каждого района посчитаем медианный рейтинг заведений, которые находятся на его территории."
   ]
  },
  {
   "cell_type": "code",
   "execution_count": null,
   "metadata": {},
   "outputs": [],
   "source": [
    "# формируем таблицу \n",
    "rating_df = (df.groupby('district', as_index=False)['rating'].agg('median')\n",
    "               .sort_values(by='rating', ascending=False))\n",
    "display(rating_df)"
   ]
  },
  {
   "cell_type": "markdown",
   "metadata": {},
   "source": [
    "Формируем хороплет."
   ]
  },
  {
   "cell_type": "code",
   "execution_count": null,
   "metadata": {
    "scrolled": false
   },
   "outputs": [],
   "source": [
    "# загружаем JSON-файл с границами районов Москвы\n",
    "state_geo = '/datasets/admin_level_geomap.geojson'\n",
    "\n",
    "# moscow_lat - широта центра Москвы, moscow_lng - долгота центра Москвы\n",
    "moscow_lat, moscow_lng = 55.751244, 37.618423\n",
    "\n",
    "# создаём карту Москвы\n",
    "m = Map(location=[moscow_lat, moscow_lng], zoom_start=10)\n",
    "\n",
    "# создаём хороплет с помощью конструктора Choropleth и добавляем его на карту\n",
    "Choropleth(\n",
    "    geo_data=state_geo,\n",
    "    data=rating_df,\n",
    "    columns=['district', 'rating'],\n",
    "    key_on='feature.name',\n",
    "    fill_color='Blues',\n",
    "    fill_opacity=0.8,\n",
    "    legend_name='Медианный рейтинг заведений по районам',\n",
    ").add_to(m)\n",
    "\n",
    "# выводим карту\n",
    "m"
   ]
  },
  {
   "cell_type": "markdown",
   "metadata": {},
   "source": [
    "По районам максимальный рейтинг (4.4) чаще всего встречается у заведений в Центральном районе. В Северо-Восточном и Юго-Восточном районах показатель минимальный (4.2). Для всех остальных районов средний (медианный) рейтинг равен 4.3. "
   ]
  },
  {
   "cell_type": "markdown",
   "metadata": {},
   "source": [
    "---\n",
    "<a id='map'></a> \n",
    "### Карта Москвы с заведениями общественного питания\n",
    "[Назад к оглавлению](#contens)"
   ]
  },
  {
   "cell_type": "code",
   "execution_count": null,
   "metadata": {},
   "outputs": [],
   "source": [
    "# создаём карту Москвы\n",
    "moscow = Map(location=[moscow_lat, moscow_lng], zoom_start=10)\n",
    "\n",
    "# создаём пустой кластер, добавляем его на карту\n",
    "marker_cluster = MarkerCluster().add_to(moscow)\n",
    "\n",
    "# пишем функцию, которая принимает строку датафрейма,\n",
    "# создаёт маркер в текущей точке и добавляет его в кластер marker_cluster\n",
    "def create_clusters(row):\n",
    "    # сохраняем URL-адрес изображения со значком торгового центра с icons8,\n",
    "    # это путь к файлу на сервере icons8\n",
    "    icon_url = 'https://img.icons8.com/?size=512&id=9rCm9FIFH5qA&format=png'  \n",
    "    # создаём объект с собственной иконкой размером 30x30\n",
    "    icon = CustomIcon(icon_url, icon_size=(30, 30))\n",
    "    \n",
    "    # создаём маркер с иконкой icon и добавляем его в кластер\n",
    "    Marker(\n",
    "        [row['lat'], row['lng']],\n",
    "        popup=f\"{row['name']}{row['category']}{row['rating']}\",\n",
    "        icon=icon,\n",
    "    ).add_to(marker_cluster)\n",
    "\n",
    "# применяем функцию для создания кластеров к каждой строке датафрейма\n",
    "df.apply(create_clusters, axis=1)\n",
    "\n",
    "# выводим карту\n",
    "moscow"
   ]
  },
  {
   "cell_type": "markdown",
   "metadata": {},
   "source": [
    "Карта располагает данными о всех заведениях общественного питания Москвы. На карте можно отметить большое количество заведений в центре города, который отличается большей проходимостью и популярностью среди жителей и туристов города."
   ]
  },
  {
   "cell_type": "markdown",
   "metadata": {},
   "source": [
    "---\n",
    "<a id='top_street'></a> \n",
    "### Топ-15 улиц Москвы по количеству заведений\n",
    "[Назад к оглавлению](#contens)"
   ]
  },
  {
   "cell_type": "markdown",
   "metadata": {},
   "source": [
    "Составим топ-лист улиц г. Моксвы по количеству заведений общественного питания. Посмотрим на распределение количества заведений и их категории по этим улицам. "
   ]
  },
  {
   "cell_type": "code",
   "execution_count": null,
   "metadata": {},
   "outputs": [],
   "source": [
    "# формируем таблицу\n",
    "temp = (df.pivot_table(index='street', values='address', aggfunc='count')\n",
    "           .sort_values(by='address', ascending=False)\n",
    "           .rename(columns={'address' : 'count'})\n",
    "           .reset_index()\n",
    "           .head(15))\n",
    "display(temp)\n",
    "\n",
    "# отразим данные на графике\n",
    "plt.figure(figsize=(12, 6))\n",
    "ax = sns.barplot(y='street', x='count', data=temp)\n",
    "ax.set_title('Топ-15 улиц г. Москвы по количеству заведений общественного питания', size=16, weight= 900)\n",
    "ax.set_ylabel('Наименование улицы')\n",
    "ax.set_xlabel('Количество заведений, шт.')\n",
    "plt.show()"
   ]
  },
  {
   "cell_type": "markdown",
   "metadata": {},
   "source": [
    "Самой популярной улицей г. Москвы по количеству заведений общественного питания является проспект Мира, на которой расположены 184 заведения. В первую тройку также входят Профсоюзная улица (122 заведения) и проспект Вернадского (108 заведений). Ленинский проспект занимает 4-е место (107 заведений). \n",
    "\\\n",
    "\\\n",
    "Посмотрим, какие категории заведений расположились на этих улицах."
   ]
  },
  {
   "cell_type": "code",
   "execution_count": null,
   "metadata": {},
   "outputs": [],
   "source": [
    "# для среза создадим список с наименованиями сетей из топ-листа\n",
    "category_top_street= temp['street'].tolist()\n",
    "\n",
    "# делам срез датафрейма\n",
    "df_top_street= df.query('street == @category_top_street')\n",
    "\n",
    "# формируем таблицу\n",
    "temp2 = (df_top_street.pivot_table(index=['street', 'category'], values='address', aggfunc='count')\n",
    "                      .rename(columns={'address' : 'count'})\n",
    "                      .sort_values(by='count', ascending=False)\n",
    "                      .reset_index())\n",
    "\n",
    "# отобразим распределение на графике\n",
    "plt.figure(figsize=(16, 8)) \n",
    "fig = px.bar(temp2, x='street', y='count', color='category', \n",
    "             title='Распределение категорий заведений по улицам г. Москвы', barmode='stack',\n",
    "             labels={'street': 'Название улицы', \n",
    "                     'count': 'Количество заведений, шт.',\n",
    "                    'category': 'Категория'})\n",
    "fig.update_layout(\n",
    "    height=600, width=900, \n",
    "    title_font_size=16, \n",
    "    plot_bgcolor='rgba(0,0,0,0.05)') \n",
    "fig.show()"
   ]
  },
  {
   "cell_type": "markdown",
   "metadata": {},
   "source": [
    "Изучим процентное соотношение категорий заведений на этих улицах."
   ]
  },
  {
   "cell_type": "code",
   "execution_count": null,
   "metadata": {},
   "outputs": [],
   "source": [
    "# составим таблицу\n",
    "temp3 = (temp2.pivot_table(index='category', values='count', aggfunc='sum')\n",
    "             .sort_values(by='count', ascending=False)\n",
    "             .reset_index())\n",
    "display(temp3)\n",
    "\n",
    "# отобразим распределение по долям на круговой диаграмме\n",
    "temp3.plot(y='count',\n",
    "            kind='pie',\n",
    "            labels=temp3['category'],\n",
    "            autopct='%.0f%%',\n",
    "            title='Распределение заведений из топ-15 улиц по категориям',\n",
    "            figsize=(8, 8),\n",
    "            legend=False)\n",
    "plt.show()"
   ]
  },
  {
   "cell_type": "markdown",
   "metadata": {},
   "source": [
    "71% всех заведений на улицах из топ-листа являются ресторанами (27%), кафе (26%) и кофейнями (18%). Меньше всего на данных улицах размещено булочных (2%) и столовых (3%)."
   ]
  },
  {
   "cell_type": "markdown",
   "metadata": {},
   "source": [
    "---\n",
    "<a id='one_street'></a> \n",
    "### Улицы Москвы только с одним заведением общественного питания\n",
    "[Назад к оглавлению](#contens)"
   ]
  },
  {
   "cell_type": "markdown",
   "metadata": {},
   "source": [
    "Исследуем улицы, на которых расположено только по одному заведению общественного питания."
   ]
  },
  {
   "cell_type": "code",
   "execution_count": null,
   "metadata": {},
   "outputs": [],
   "source": [
    "# формируем таблицу\n",
    "temp = (df.pivot_table(index='street', values='address', aggfunc='count')\n",
    "           .sort_values(by='address')\n",
    "           .rename(columns={'address' : 'count'})\n",
    "           .reset_index())\n",
    "temp = temp.query('count == 1')\n",
    "print('Количество улиц, на которых расположено только одно заведение:', len(temp))    "
   ]
  },
  {
   "cell_type": "markdown",
   "metadata": {},
   "source": [
    "На 414 улицах Москвы расположено всего по одному заведению общественного питания.\n",
    "\\\n",
    "\\\n",
    "Посмотрим в каких районах расположены эти заведения и к каким категориям относятся."
   ]
  },
  {
   "cell_type": "code",
   "execution_count": null,
   "metadata": {},
   "outputs": [],
   "source": [
    "# для среза создадим список с наименованиями улиц из топ-листа\n",
    "street_one = temp['street'].tolist()\n",
    "\n",
    "# делам срез датафрейма\n",
    "df_one= df.query('street == @street_one')\n",
    "\n",
    "# формируем таблицы по категориям (для анализа и графика)\n",
    "temp2 = (df_one.pivot_table(index='category', values='address', aggfunc='count')\n",
    "                      .rename(columns={'address' : 'count'})\n",
    "                      .sort_values(by='count', ascending=False)\n",
    "                     .reset_index())\n",
    "display(temp2)\n",
    "\n",
    "# отразим данные на графике\n",
    "plt.figure(figsize=(12, 4))\n",
    "ax = sns.barplot(x='count', y='category', data=temp2)\n",
    "ax.set_title('Распределение заведений с улиц с одним объектом питания по категориям', size=16, weight= 900)\n",
    "ax.set_ylabel('Категория')\n",
    "ax.set_xlabel('Количество улиц')\n",
    "plt.show()\n",
    "\n",
    "# отобразим распределение по долям на круговой диаграмме\n",
    "temp2.plot(y='count',\n",
    "            kind='pie',\n",
    "            labels=temp2['category'],\n",
    "            autopct='%.0f%%',\n",
    "            title='Распределение заведений с улиц с одним объектом питания по категориям',\n",
    "            figsize=(8, 8),\n",
    "            legend=False)\n",
    "plt.show()"
   ]
  },
  {
   "cell_type": "markdown",
   "metadata": {},
   "source": [
    "70% заведений с таких улиц являются кафе (25%), ресторанами (24%) и кофейнями (21%). Меньше всего встречаются булочные и столовые (по 3%)."
   ]
  },
  {
   "cell_type": "code",
   "execution_count": null,
   "metadata": {},
   "outputs": [],
   "source": [
    "# формируем таблицу по районам\n",
    "temp3 = (df_one.pivot_table(index='district', values='address', aggfunc='count')\n",
    "               .rename(columns={'address' : 'count'})\n",
    "               .sort_values(by='count', ascending=False)\n",
    "               .reset_index())\n",
    "display(temp3)\n",
    "\n",
    "# отразим данные на графике\n",
    "plt.figure(figsize=(12, 4))\n",
    "ax = sns.barplot(x='count', y='district', data=temp3)\n",
    "ax.set_title('Распределение улиц с одним заведением по районам г. Москвы', size=16, weight= 900)\n",
    "ax.set_ylabel('Наименование района')\n",
    "ax.set_xlabel('Количество улиц')\n",
    "plt.show()\n",
    "\n",
    "# отобразим распределение по долям на круговой диаграмме\n",
    "temp3.plot(y='count',\n",
    "            kind='pie',\n",
    "            labels=temp3['district'],\n",
    "            autopct='%.0f%%',\n",
    "            title='Распределение улиц с одним заведением по районам г. Москвы',\n",
    "            figsize=(8, 8),\n",
    "            legend=False)\n",
    "plt.show()"
   ]
  },
  {
   "cell_type": "markdown",
   "metadata": {},
   "source": [
    "26% улиц расположено в Центральном районе г. Москвы. Это может быть связано с наличием небольших улочек в центре города. На Северный, Западный и Южный районы прихрдится по 12% заведений. Аутсайдером по количеству улиц является Северо-Западный район."
   ]
  },
  {
   "cell_type": "markdown",
   "metadata": {},
   "source": [
    "---\n",
    "<a id='middle_bill_district'></a> \n",
    "### Разница в сумме среднего чека по районам г. Москвы\n",
    "[Назад к оглавлению](#contens)"
   ]
  },
  {
   "cell_type": "markdown",
   "metadata": {},
   "source": [
    "Исследуем средние суммы чеков в заведениях, найдем медианные значения и проанализируем изменение показателя по районам Москвы. Напомним, что в столбце со значениями средних чеков большое количество пропусков (63%)."
   ]
  },
  {
   "cell_type": "code",
   "execution_count": null,
   "metadata": {},
   "outputs": [],
   "source": [
    "# формируем таблицу\n",
    "avg_bill_for_district = (df.query('middle_avg_bill != -1')\n",
    "                           .pivot_table(index='district', values='middle_avg_bill', aggfunc='median')\n",
    "                           .rename(columns={'middle_avg_bill' : 'median_avg_bill'})\n",
    "                           .sort_values(by='median_avg_bill', ascending=False)\n",
    "                           .reset_index())\n",
    "avg_bill_for_district"
   ]
  },
  {
   "cell_type": "code",
   "execution_count": null,
   "metadata": {
    "scrolled": false
   },
   "outputs": [],
   "source": [
    "# загружаем JSON-файл с границами районов Москвы\n",
    "state_geo = '/datasets/admin_level_geomap.geojson'\n",
    "\n",
    "# moscow_lat - широта центра Москвы, moscow_lng - долгота центра Москвы\n",
    "moscow_lat, moscow_lng = 55.751244, 37.618423\n",
    "\n",
    "# создаём карту Москвы\n",
    "m = Map(location=[moscow_lat, moscow_lng], zoom_start=10)\n",
    "\n",
    "# создаём хороплет с помощью конструктора Choropleth и добавляем его на карту\n",
    "Choropleth(\n",
    "    geo_data=state_geo,\n",
    "    data=avg_bill_for_district,\n",
    "    columns=['district', 'median_avg_bill'],\n",
    "    key_on='feature.name',\n",
    "    fill_color='Blues',\n",
    "    fill_opacity=0.8,\n",
    "    legend_name='Медианный средний чек заведений по районам',\n",
    ").add_to(m)\n",
    "\n",
    "# выводим карту\n",
    "m"
   ]
  },
  {
   "cell_type": "markdown",
   "metadata": {},
   "source": [
    "Посмотрим на статистические показатели столбца в целом по датафрему."
   ]
  },
  {
   "cell_type": "code",
   "execution_count": null,
   "metadata": {},
   "outputs": [],
   "source": [
    "temp = df.query('middle_avg_bill != -1')\n",
    "temp['middle_avg_bill'].describe()"
   ]
  },
  {
   "cell_type": "markdown",
   "metadata": {},
   "source": [
    "Сумма среднего чека находится в пределах от 450 руб. в Юго-Восточном районе до 1000 руб. в Центральном и Западном районе. Средняя сумма чека по городу - 958 руб, среднее медианное - 750 руб. Во всех районах кроме Центрального и Западного средний чек ниже среднего медианного. По карте можно сделать вывод, что удаленность от центра влияет на сумму среднего чека."
   ]
  },
  {
   "cell_type": "markdown",
   "metadata": {},
   "source": [
    "---\n",
    "<a id='conclusion'></a> \n",
    "### Вывод\n",
    "[Назад к оглавлению](#contens)"
   ]
  },
  {
   "cell_type": "markdown",
   "metadata": {},
   "source": [
    "Проанализировав рынок заведений общественного питания г. Москвы, можно сделать следующие выводы:\n",
    "- По состоянию на лето 2022 года общее количество заведений общественного питания в Москве: 8406.\n",
    "- Основная доля заведений является кафе (28%), ресторанами (24%) и кофейнями (17%).\n",
    "- Чаще всего заведения являются несетевыми (62% заведений). \n",
    "- Среднее количество посадочных мест находится в пределах от 50 в булочных до 86 в ресторанах.\n",
    "- По количеству заведений лидирует Центральный район (27% всех заведений).\n",
    "- Рейтинг заведений варьируется от 4.2 у кафе до 4.4 у баров/пабов. Также максимальный рейтинг (4.4) имеют заведения Центрального района Москвы, минимальный (4.2) – Юго-Восточный и Северо-Восточный районы.\n",
    "- Средний чек находится в пределах от 450 руб. в Юго-Восточном районе до 1000 руб. в Центральном и Западном районах.\n",
    "- Выделены топ-15 популярных сетей по количеству заведений. Со значительным отрывом лидирует сеть кофеен «Шоколадница» (119 заведений по городу).\n",
    "- Составлен топ-15 улиц г. Москвы, лидером которого является проспект Мира (184 заведения)."
   ]
  },
  {
   "cell_type": "markdown",
   "metadata": {},
   "source": [
    "---\n",
    "<a id='coffee'></a> \n",
    "## Исследование: открытие кофейни \n",
    "[Назад к оглавлению](#contens)"
   ]
  },
  {
   "cell_type": "markdown",
   "metadata": {},
   "source": [
    "Изучим вопрос успешности открытия кофейни в г. Москве. Проанализируем данные об уже открытых кофейнях.\n",
    "Дадим ответы на следующие вопросы:\n",
    "- Сколько всего кофеен в датасете? \n",
    "- В каких районах их больше всего, каковы особенности их расположения?\n",
    "- Есть ли круглосуточные кофейни?\n",
    "- Какие у кофеен рейтинги? Как они распределяются по районам?\n",
    "- На какую стоимость чашки капучино стоит ориентироваться при открытии и почему?\n",
    "- Какое количество посадочных мест в кофейнях?\n",
    "- Какой средний чек по районам?"
   ]
  },
  {
   "cell_type": "markdown",
   "metadata": {},
   "source": [
    "---\n",
    "<a id='coffee1'></a> \n",
    "### Общее количество кофеен в городе\n",
    "[Назад к оглавлению](#contens)"
   ]
  },
  {
   "cell_type": "code",
   "execution_count": null,
   "metadata": {},
   "outputs": [],
   "source": [
    "# сделаем срез в исходном датафрейме \n",
    "df_coffee = df.query('category == \"кофейня\"')\n",
    "share_coffee = len(df_coffee)/len(df)\n",
    "print('Всего кофеен в Москве:', len(df_coffee))\n",
    "print(f'Доля кофеен в Москве: {share_coffee:.2%}')"
   ]
  },
  {
   "cell_type": "markdown",
   "metadata": {},
   "source": [
    "Всего в Москве 1413 кофеен, что составляет 16.81% от всех заведений общественного питания. Данная категория расположена на 3-м месте среди всех категорий."
   ]
  },
  {
   "cell_type": "markdown",
   "metadata": {},
   "source": [
    "---\n",
    "<a id='coffee2'></a> \n",
    "### Распределение кофеен по городу\n",
    "[Назад к оглавлению](#contens)"
   ]
  },
  {
   "cell_type": "markdown",
   "metadata": {},
   "source": [
    "Посмотрим в каких районах расположены кофейни."
   ]
  },
  {
   "cell_type": "code",
   "execution_count": null,
   "metadata": {},
   "outputs": [],
   "source": [
    "# формируем таблицу по районам\n",
    "coffee_district = (df_coffee.groupby('district', as_index=False)['address'].agg('count')\n",
    "                           .sort_values(by='address', ascending=False)\n",
    "                           .rename(columns={'address' : 'count'}))\n",
    "display(coffee_district)\n",
    "\n",
    "# отразим данные на графике\n",
    "plt.figure(figsize=(12, 6))\n",
    "ax = sns.barplot(y='district', x='count', data=coffee_district)\n",
    "ax.set_title('Распределение кофеен по районам г. Москвы', size=16, weight= 900)\n",
    "ax.set_ylabel('Наименование района')\n",
    "ax.set_xlabel('Количество заведений, шт.')\n",
    "plt.show()\n",
    "\n",
    "# отобразим распределение по долям на круговой диаграмме\n",
    "coffee_district.plot(y='count',\n",
    "            kind='pie',\n",
    "            labels=coffee_district['district'],\n",
    "            autopct='%.0f%%',\n",
    "            title='Распределение кофеен по районам г. Москвы',\n",
    "            figsize=(8, 8),\n",
    "            legend=False)\n",
    "plt.show()"
   ]
  },
  {
   "cell_type": "markdown",
   "metadata": {},
   "source": [
    "30% всех кофеен города расположена в Центральном районе города.Также популярными районами являются Северный (14%), Северо-Восточный и Западный (по 11%). Меньше всего кофеен в Северо-Западном районе (4%)."
   ]
  },
  {
   "cell_type": "markdown",
   "metadata": {},
   "source": [
    "Отобразим кофейни на карте Москвы."
   ]
  },
  {
   "cell_type": "code",
   "execution_count": null,
   "metadata": {},
   "outputs": [],
   "source": [
    "# создаём карту Москвы\n",
    "moscow_coffee = Map(location=[moscow_lat, moscow_lng], zoom_start=10)\n",
    "\n",
    "# создаём пустой кластер, добавляем его на карту\n",
    "marker_cluster = MarkerCluster().add_to(moscow_coffee)\n",
    "\n",
    "# пишем функцию, которая принимает строку датафрейма,\n",
    "# создаёт маркер в текущей точке и добавляет его в кластер marker_cluster\n",
    "def create_clusters(row):\n",
    "    # сохраняем URL-адрес изображения со значком торгового центра с icons8,\n",
    "    # это путь к файлу на сервере icons8\n",
    "    icon_url = 'https://img.icons8.com/?size=512&id=b4ZGhlJP5MOk&format=png'  \n",
    "    # создаём объект с собственной иконкой размером 30x30\n",
    "    icon = CustomIcon(icon_url, icon_size=(30, 30))\n",
    "    \n",
    "    # создаём маркер с иконкой icon и добавляем его в кластер\n",
    "    Marker(\n",
    "        [row['lat'], row['lng']],\n",
    "        popup=f\"{row['name']}{row['rating']}\",\n",
    "        icon=icon,\n",
    "    ).add_to(marker_cluster)\n",
    "\n",
    "# применяем функцию для создания кластеров к каждой строке датафрейма\n",
    "df_coffee.apply(create_clusters, axis=1)\n",
    "\n",
    "# выводим карту\n",
    "moscow_coffee"
   ]
  },
  {
   "cell_type": "markdown",
   "metadata": {},
   "source": [
    "---\n",
    "<a id='coffee3'></a> \n",
    "### Рейтинг кофеен в городе\n",
    "[Назад к оглавлению](#contens)"
   ]
  },
  {
   "cell_type": "markdown",
   "metadata": {},
   "source": [
    "Посмотрим какие рейтинги у кофеен и как они распределены по районам."
   ]
  },
  {
   "cell_type": "code",
   "execution_count": null,
   "metadata": {
    "scrolled": false
   },
   "outputs": [],
   "source": [
    "# формируем таблицу по районам\n",
    "coffee_rating = (df_coffee.groupby('district', as_index=False)['rating'].agg('median')\n",
    "                           .sort_values(by='rating', ascending=False)\n",
    "                           .rename(columns={'rating' : 'median_rating'}))\n",
    "display(coffee_rating)\n",
    "\n",
    "# отразим данные на графике\n",
    "plt.figure(figsize=(12, 6))\n",
    "ax = sns.barplot(y='district', x='median_rating', data=coffee_rating)\n",
    "ax.set_title('Средний рейтинг кофеен по районам г. Москвы', size=16, weight= 900)\n",
    "ax.set_ylabel('Наименование района')\n",
    "ax.set_xlabel('Медианный рейтинг')\n",
    "plt.xlim([4, 4.5])\n",
    "plt.show()"
   ]
  },
  {
   "cell_type": "markdown",
   "metadata": {},
   "source": [
    "Рейтинг кофеен по всем районам составляет 4.3. По данному показателю отличается только Западный район с рейтингом кофеен 4.2."
   ]
  },
  {
   "cell_type": "markdown",
   "metadata": {},
   "source": [
    "---\n",
    "<a id='coffee4'></a> \n",
    "### Режим работы кофеен\n",
    "[Назад к оглавлению](#contens)"
   ]
  },
  {
   "cell_type": "markdown",
   "metadata": {},
   "source": [
    "Изучим режимы работы кофеен."
   ]
  },
  {
   "cell_type": "code",
   "execution_count": null,
   "metadata": {},
   "outputs": [],
   "source": [
    "# посмотрим на режимы работы всех кофеен\n",
    "temp = (df_coffee.query('hours != -1')\n",
    "                 .pivot_table(index='hours', values='address', aggfunc='count')\n",
    "                 .sort_values(by='address', ascending=False)\n",
    "                 .rename(columns={'address' : 'count'}))\n",
    "temp.loc['other'] = temp.iloc[10:].sum()[0]\n",
    "table_for_pie = temp.head(10)\n",
    "table_for_pie=table_for_pie.append(temp.loc['other'])\n",
    "table_for_pie = table_for_pie.reset_index()\n",
    "table_for_pie['share'] = ((table_for_pie['count']/table_for_pie['count'].sum())*100).round(2)\n",
    "display(table_for_pie)"
   ]
  },
  {
   "cell_type": "markdown",
   "metadata": {},
   "source": [
    "10% всех кофеен работает ежедневно с 10 до 22 часов. По 4% кофеен работают ежедневно с 8 до 22, с 9 до 22 или круглосуточно."
   ]
  },
  {
   "cell_type": "markdown",
   "metadata": {},
   "source": [
    "---\n",
    "<a id='coffee5'></a> \n",
    "### Количество посадочных мест в кофейнях\n",
    "[Назад к оглавлению](#contens)"
   ]
  },
  {
   "cell_type": "code",
   "execution_count": null,
   "metadata": {},
   "outputs": [],
   "source": [
    "# посмотрим на количество посадочных мест в кофейнях\n",
    "temp = df_coffee.query('seats != -1')\n",
    "temp['seats'].describe()"
   ]
  },
  {
   "cell_type": "code",
   "execution_count": null,
   "metadata": {},
   "outputs": [],
   "source": [
    "# отобразим распределение посадочных мест на графике\n",
    "plt.figure(figsize=(12, 6))\n",
    "ax = sns.histplot(temp['seats'], bins=20)\n",
    "ax.set_title('Распределение количества посадочных мест в кофейнях', size=16, weight= 900)\n",
    "ax.set_ylabel('Наименование района')\n",
    "ax.set_xlabel('Медианный рейтинг')\n",
    "plt.show()"
   ]
  },
  {
   "cell_type": "markdown",
   "metadata": {},
   "source": [
    "Количество посадочных мест находится в пределах от 0 до 1288. Верхний и нижний предел вероятно являются аномальными для данной категории заведений. Среднее количество мест - 111, среднее медианное - 80. "
   ]
  },
  {
   "cell_type": "markdown",
   "metadata": {},
   "source": [
    "---\n",
    "<a id='coffee6'></a> \n",
    "### Средняя стоимость чашки капучино в кофейнях\n",
    "[Назад к оглавлению](#contens)"
   ]
  },
  {
   "cell_type": "markdown",
   "metadata": {},
   "source": [
    "Изучим среднюю стоимость одной чашки капучино в кофейнях. "
   ]
  },
  {
   "cell_type": "code",
   "execution_count": null,
   "metadata": {},
   "outputs": [],
   "source": [
    "# изучим датафрейм, удалив пропуски в столбце\n",
    "df_cup = df_coffee.query('middle_coffee_cup != -1')\n",
    "share_cup = len(df_cup)/len(df_coffee)\n",
    "print('Всего кофеен, по которым есть данные о средней цене чашки капучино:', len(df_cup))\n",
    "print(f'Доля таких кофеен: {share_cup:.2%}')"
   ]
  },
  {
   "cell_type": "markdown",
   "metadata": {},
   "source": [
    "Пропусков в данной столбце достаточно много. Поэтому будем делать выводы только по 37% данных. Посмотрим на статистические показатели столбца с ценой, рассчитаем медианную стоимость по всему городу и районам."
   ]
  },
  {
   "cell_type": "code",
   "execution_count": null,
   "metadata": {},
   "outputs": [],
   "source": [
    "# изучим статистические показатели\n",
    "display(df_cup['middle_coffee_cup'].describe())\n",
    "\n",
    "# посчитаем среднюю медианную цену по городу\n",
    "median_bill = df_cup['middle_coffee_cup'].median()\n",
    "print('Медианная цена одной чашки капучино по г. Москве:', median_bill)\n",
    "\n",
    "# посчитаем данный показатель по районам Москвы\n",
    "median_bill_dist = (df_cup.groupby('district', as_index=False)['middle_coffee_cup'].agg('median')\n",
    "                           .sort_values(by='middle_coffee_cup', ascending=False))\n",
    "display(median_bill_dist)\n",
    "\n",
    "# отразим данные на графике\n",
    "plt.figure(figsize=(12, 6))\n",
    "ax = sns.barplot(y='district', x='middle_coffee_cup', data=median_bill_dist)\n",
    "ax.set_title('Средняя (медианная) цена одной чашки капучино в районах Москвы', size=16, weight= 900)\n",
    "ax.set_ylabel('Наименование района')\n",
    "ax.set_xlabel('Медианная цена, руб.')\n",
    "plt.xlim([120, 200])\n",
    "plt.show()"
   ]
  },
  {
   "cell_type": "markdown",
   "metadata": {},
   "source": [
    "Средняя стоимость чашки капучино в кофейнях по городу - 175 руб., медианная цена - 170 руб. По районам самая высокая стоимость 198 руб. в Юго-Западном районе. Также в первую тройку лидеров входят Центральный и Западный районы (190 и 189 руб. соответственно). Для остальных районов цена ниже среднего значения. Минимальная цена характерна для Восточного района (135 руб.)"
   ]
  },
  {
   "cell_type": "markdown",
   "metadata": {},
   "source": [
    "---\n",
    "<a id='coffee7'></a> \n",
    "### Средний чек в кофейнях\n",
    "[Назад к оглавлению](#contens)"
   ]
  },
  {
   "cell_type": "markdown",
   "metadata": {},
   "source": [
    "Изучим сумму среднего чека в кофейнях в целом по городу и по кофейням."
   ]
  },
  {
   "cell_type": "code",
   "execution_count": null,
   "metadata": {},
   "outputs": [],
   "source": [
    "# изучим датафрейм, удалив пропуски в столбце\n",
    "df_middle_bill = df_coffee.query('middle_avg_bill != -1')\n",
    "share_middle_bill= len(df_middle_bill)/len(df_coffee)\n",
    "print('Всего кофеен, по которым есть данные о среднем чеке:', len(df_middle_bill))\n",
    "print(f'Доля таких кофеен: {share_middle_bill:.2%}')"
   ]
  },
  {
   "cell_type": "markdown",
   "metadata": {},
   "source": [
    "Информации по среднему чеку в кофейнях крайне мало, но изучим то, что есть."
   ]
  },
  {
   "cell_type": "code",
   "execution_count": null,
   "metadata": {},
   "outputs": [],
   "source": [
    "# посчитаем среднюю медианную сумму чека по городу\n",
    "median_middle_bill = df_middle_bill['middle_avg_bill'].median()\n",
    "print('Средняя (медианная) сумма чека по г. Москве:', median_middle_bill)\n",
    "\n",
    "# посчитаем данный показатель по районам Москвы\n",
    "median_middle_bill_dist = (df_middle_bill.groupby('district', as_index=False)['middle_avg_bill'].agg('median')\n",
    "                           .sort_values(by='middle_avg_bill', ascending=False))\n",
    "display(median_middle_bill_dist)\n",
    "\n",
    "# отразим данные на графике\n",
    "plt.figure(figsize=(12, 6))\n",
    "ax = sns.barplot(y='district', x='middle_avg_bill', data=median_middle_bill_dist)\n",
    "ax.set_title('Средняя (медианная) сумма чека в кофейням по районам Москвы', size=16, weight= 900)\n",
    "ax.set_ylabel('Наименование района')\n",
    "ax.set_xlabel('Медианная сумма чека, руб.')\n",
    "plt.xlim([200, 600])\n",
    "plt.show()"
   ]
  },
  {
   "cell_type": "markdown",
   "metadata": {},
   "source": [
    "Средний (медианный) чек по городу составляет 400 руб. Максимальный чек характерен для Западного района (600 руб.), минимальный (250 руб.) для Юго-Восточного района. Большая часть районов имеет средний чек ниже медианного по городу."
   ]
  },
  {
   "cell_type": "markdown",
   "metadata": {},
   "source": [
    "---\n",
    "<a id='coffee8'></a> \n",
    "### Вывод и рекомендации\n",
    "[Назад к оглавлению](#contens)"
   ]
  },
  {
   "cell_type": "markdown",
   "metadata": {},
   "source": [
    "Для выводов сформируем сводную таблицу по районам."
   ]
  },
  {
   "cell_type": "code",
   "execution_count": null,
   "metadata": {},
   "outputs": [],
   "source": [
    "# формируем таблицу\n",
    "coffee_district['median_rating'] = coffee_rating['median_rating']\n",
    "coffee_district['middle_coffee_cup'] = median_bill_dist['middle_coffee_cup']\n",
    "coffee_district['middle_avg_bill'] = median_middle_bill_dist['middle_avg_bill']\n",
    "coffee_district"
   ]
  },
  {
   "cell_type": "markdown",
   "metadata": {},
   "source": [
    "Самым популярным районом с кофейнями является Центральный район, который лидирует по средней стоимости чашки капучино и чека. Это вполне логично, так как этот район является событийным и туристическим центром. Стоит отметить Западный район, в котором кофеен в 3 раза меньше, чем в Центральном, но средняя цена чашки капучино и чек тажке велики (189 руб. и 600 руб.). В Северо-Западном и Юго-Восточном районах минимальное количество заведений, что может обеспечить малую конкурентность, но в то же время это может быть связано с малой плотностью населения в этих районах.\n",
    "\n",
    "Режим работы большинства кофеен ежедневный с 10 до 22 часов. Круглосутоных кофеен значительно меньше, что также можно рассмотреть как потенциальное свойство своего заведения.\n",
    "\n",
    "\\\n",
    "*Проанализировав данные по кофейням г. Москвы, могу дать следующие рекомендации.*\n",
    "\\\n",
    "Учитывая наличие большого количества кофеен создаваемое заведение должно быть привлекательным и запоминающимся, отличаться от существующих заведений. Это может быть панорамное заведение с красивым видом из окон, редкие сорта кофе и необычные блюда, интересный способ подачи блюд, цифровое меню и т.д. В качестве района для размещения можно рассмотреть Центральный район как наиболее популярный среди жителей и туристов. Для снижения влияния конкурентов можно выбрать Северо-Западный или Юго-Восточный районы, но также нужно чем-то особенным привлекать клиентов. \n",
    "\\\n",
    "Рекомендуемый режим работы: ежедневно с 10 до 22 часов. Если кофейня будет размещена возле офисных центров, то лучше пересести открытие на более раннее время и добавить функцию еды навынос. При открытии заведения в центре можно рассмореть круглосуточный режим работы.\n",
    "\\\n",
    "Рейтинг кофеен по городу довольно высокий (4.2 и выше), поэтому важно обеспечить высокое качество блюд, написткв и сервиса в заведении.\n",
    "\\\n",
    "При формировании цен рекомендую отталкиваться от средних цен по району. При этом наличие уникальной \"фишки\" заведения позволит определить цену выше среднего.\n",
    "\\\n",
    "Важно учитывать, что анализ проведен на основе неполных представленных данных и их необходимо корректировать и уточнять в бизнес-плане для конкретной бизнес-идее."
   ]
  },
  {
   "cell_type": "markdown",
   "metadata": {},
   "source": [
    "---\n",
    "<a id='presentation'></a> \n",
    "## Презентация\n",
    "[Назад к оглавлению](#contens)"
   ]
  },
  {
   "cell_type": "markdown",
   "metadata": {},
   "source": [
    "Ссылка для просмотра презентации: https://drive.google.com/file/d/1emvWOIh7Q2GhXfkgpnsEHepevaUMUeWm/view?usp=drive_link"
   ]
  }
 ],
 "metadata": {
  "ExecuteTimeLog": [
   {
    "duration": 20,
    "start_time": "2023-06-10T07:44:30.345Z"
   },
   {
    "duration": 89,
    "start_time": "2023-06-10T12:26:36.149Z"
   },
   {
    "duration": 1539,
    "start_time": "2023-06-10T12:31:44.680Z"
   },
   {
    "duration": 5,
    "start_time": "2023-06-10T12:32:10.267Z"
   },
   {
    "duration": 144,
    "start_time": "2023-06-10T12:33:35.804Z"
   },
   {
    "duration": 6,
    "start_time": "2023-06-10T12:33:58.572Z"
   },
   {
    "duration": 133,
    "start_time": "2023-06-10T12:34:10.015Z"
   },
   {
    "duration": 6,
    "start_time": "2023-06-10T12:36:59.369Z"
   },
   {
    "duration": 126,
    "start_time": "2023-06-10T12:37:00.165Z"
   },
   {
    "duration": 7,
    "start_time": "2023-06-10T12:37:36.372Z"
   },
   {
    "duration": 128,
    "start_time": "2023-06-10T12:37:37.846Z"
   },
   {
    "duration": 7,
    "start_time": "2023-06-10T12:38:40.470Z"
   },
   {
    "duration": 125,
    "start_time": "2023-06-10T12:38:40.970Z"
   },
   {
    "duration": 12,
    "start_time": "2023-06-10T12:39:40.770Z"
   },
   {
    "duration": 345,
    "start_time": "2023-06-10T12:39:41.303Z"
   },
   {
    "duration": 14,
    "start_time": "2023-06-10T12:41:14.709Z"
   },
   {
    "duration": 123,
    "start_time": "2023-06-10T12:41:15.184Z"
   },
   {
    "duration": 95,
    "start_time": "2023-06-10T12:41:30.098Z"
   },
   {
    "duration": 10,
    "start_time": "2023-06-10T17:59:44.802Z"
   },
   {
    "duration": 46,
    "start_time": "2023-06-10T17:59:45.439Z"
   },
   {
    "duration": 1343,
    "start_time": "2023-06-10T17:59:51.033Z"
   },
   {
    "duration": 138,
    "start_time": "2023-06-10T17:59:52.378Z"
   },
   {
    "duration": 7,
    "start_time": "2023-06-10T17:59:52.517Z"
   },
   {
    "duration": 227,
    "start_time": "2023-06-10T17:59:52.526Z"
   },
   {
    "duration": 7,
    "start_time": "2023-06-10T18:00:15.000Z"
   },
   {
    "duration": 5,
    "start_time": "2023-06-10T18:00:29.450Z"
   },
   {
    "duration": 96,
    "start_time": "2023-06-10T18:00:29.908Z"
   },
   {
    "duration": 5,
    "start_time": "2023-06-10T18:01:26.455Z"
   },
   {
    "duration": 94,
    "start_time": "2023-06-10T18:01:26.917Z"
   },
   {
    "duration": 8,
    "start_time": "2023-06-10T18:01:48.284Z"
   },
   {
    "duration": 94,
    "start_time": "2023-06-10T18:01:48.654Z"
   },
   {
    "duration": 9,
    "start_time": "2023-06-10T19:02:12.418Z"
   },
   {
    "duration": 7,
    "start_time": "2023-06-10T19:02:16.992Z"
   },
   {
    "duration": 13,
    "start_time": "2023-06-10T19:04:09.905Z"
   },
   {
    "duration": 8,
    "start_time": "2023-06-10T19:04:19.540Z"
   },
   {
    "duration": 6,
    "start_time": "2023-06-10T19:04:26.022Z"
   },
   {
    "duration": 15,
    "start_time": "2023-06-10T19:04:54.767Z"
   },
   {
    "duration": 144,
    "start_time": "2023-06-10T19:05:39.896Z"
   },
   {
    "duration": 19,
    "start_time": "2023-06-10T19:05:52.069Z"
   },
   {
    "duration": 10,
    "start_time": "2023-06-10T19:06:04.692Z"
   },
   {
    "duration": 6,
    "start_time": "2023-06-10T19:06:24.523Z"
   },
   {
    "duration": 7,
    "start_time": "2023-06-10T19:11:22.492Z"
   },
   {
    "duration": 5,
    "start_time": "2023-06-10T19:11:25.861Z"
   },
   {
    "duration": 11,
    "start_time": "2023-06-10T19:11:33.231Z"
   },
   {
    "duration": 4,
    "start_time": "2023-06-10T19:14:22.952Z"
   },
   {
    "duration": 14,
    "start_time": "2023-06-10T19:18:50.643Z"
   },
   {
    "duration": 20,
    "start_time": "2023-06-10T19:19:31.865Z"
   },
   {
    "duration": 20,
    "start_time": "2023-06-10T19:21:09.793Z"
   },
   {
    "duration": 10,
    "start_time": "2023-06-10T19:21:23.241Z"
   },
   {
    "duration": 6,
    "start_time": "2023-06-10T19:21:51.834Z"
   },
   {
    "duration": 10,
    "start_time": "2023-06-10T19:21:55.801Z"
   },
   {
    "duration": 12,
    "start_time": "2023-06-10T19:22:02.617Z"
   },
   {
    "duration": 6,
    "start_time": "2023-06-10T19:23:52.907Z"
   },
   {
    "duration": 13,
    "start_time": "2023-06-10T19:24:22.610Z"
   },
   {
    "duration": 16,
    "start_time": "2023-06-10T19:24:44.452Z"
   },
   {
    "duration": 9,
    "start_time": "2023-06-10T19:27:41.124Z"
   },
   {
    "duration": 2034,
    "start_time": "2023-06-10T19:27:53.798Z"
   },
   {
    "duration": 7,
    "start_time": "2023-06-10T19:29:11.156Z"
   },
   {
    "duration": 24,
    "start_time": "2023-06-10T19:30:08.918Z"
   },
   {
    "duration": 8,
    "start_time": "2023-06-10T19:31:09.506Z"
   },
   {
    "duration": 25,
    "start_time": "2023-06-10T19:31:48.292Z"
   },
   {
    "duration": 63,
    "start_time": "2023-06-10T19:38:58.690Z"
   },
   {
    "duration": 196,
    "start_time": "2023-06-10T19:39:50.636Z"
   },
   {
    "duration": 159,
    "start_time": "2023-06-10T19:39:59.591Z"
   },
   {
    "duration": 4,
    "start_time": "2023-06-10T19:44:51.537Z"
   },
   {
    "duration": 96,
    "start_time": "2023-06-10T19:44:51.544Z"
   },
   {
    "duration": 5,
    "start_time": "2023-06-10T19:44:51.642Z"
   },
   {
    "duration": 169,
    "start_time": "2023-06-10T19:44:51.648Z"
   },
   {
    "duration": 15,
    "start_time": "2023-06-10T19:44:51.819Z"
   },
   {
    "duration": 22,
    "start_time": "2023-06-10T19:44:51.836Z"
   },
   {
    "duration": 31,
    "start_time": "2023-06-10T19:44:51.859Z"
   },
   {
    "duration": 34,
    "start_time": "2023-06-10T19:44:51.896Z"
   },
   {
    "duration": 12,
    "start_time": "2023-06-10T19:45:09.441Z"
   },
   {
    "duration": 12,
    "start_time": "2023-06-10T19:49:15.320Z"
   },
   {
    "duration": 7,
    "start_time": "2023-06-10T19:50:09.161Z"
   },
   {
    "duration": 7,
    "start_time": "2023-06-10T19:50:36.856Z"
   },
   {
    "duration": 12,
    "start_time": "2023-06-10T19:51:05.766Z"
   },
   {
    "duration": 21,
    "start_time": "2023-06-10T20:11:45.203Z"
   },
   {
    "duration": 21,
    "start_time": "2023-06-10T20:14:21.554Z"
   },
   {
    "duration": 1973,
    "start_time": "2023-06-11T08:39:53.308Z"
   },
   {
    "duration": 324,
    "start_time": "2023-06-11T08:39:55.284Z"
   },
   {
    "duration": 10,
    "start_time": "2023-06-11T08:39:55.610Z"
   },
   {
    "duration": 208,
    "start_time": "2023-06-11T08:39:55.622Z"
   },
   {
    "duration": 38,
    "start_time": "2023-06-11T08:39:55.831Z"
   },
   {
    "duration": 43,
    "start_time": "2023-06-11T08:39:55.871Z"
   },
   {
    "duration": 41,
    "start_time": "2023-06-11T08:39:55.916Z"
   },
   {
    "duration": 154,
    "start_time": "2023-06-11T08:39:55.960Z"
   },
   {
    "duration": 20,
    "start_time": "2023-06-11T08:41:38.894Z"
   },
   {
    "duration": 29,
    "start_time": "2023-06-11T08:41:53.468Z"
   },
   {
    "duration": 22,
    "start_time": "2023-06-11T08:43:30.268Z"
   },
   {
    "duration": 37,
    "start_time": "2023-06-11T08:44:02.159Z"
   },
   {
    "duration": 303,
    "start_time": "2023-06-11T08:45:43.352Z"
   },
   {
    "duration": 248,
    "start_time": "2023-06-11T08:46:36.334Z"
   },
   {
    "duration": 288,
    "start_time": "2023-06-11T08:46:48.082Z"
   },
   {
    "duration": 216,
    "start_time": "2023-06-11T08:46:55.528Z"
   },
   {
    "duration": 265,
    "start_time": "2023-06-11T08:47:35.703Z"
   },
   {
    "duration": 331,
    "start_time": "2023-06-11T08:50:20.966Z"
   },
   {
    "duration": 277,
    "start_time": "2023-06-11T08:50:57.256Z"
   },
   {
    "duration": 328,
    "start_time": "2023-06-11T08:51:42.263Z"
   },
   {
    "duration": 313,
    "start_time": "2023-06-11T08:52:18.863Z"
   },
   {
    "duration": 240,
    "start_time": "2023-06-11T08:53:36.456Z"
   },
   {
    "duration": 366,
    "start_time": "2023-06-11T08:54:04.801Z"
   },
   {
    "duration": 241,
    "start_time": "2023-06-11T08:54:33.645Z"
   },
   {
    "duration": 336,
    "start_time": "2023-06-11T08:56:29.807Z"
   },
   {
    "duration": 361,
    "start_time": "2023-06-11T08:57:23.608Z"
   },
   {
    "duration": 233,
    "start_time": "2023-06-11T08:58:51.166Z"
   },
   {
    "duration": 265,
    "start_time": "2023-06-11T08:59:10.945Z"
   },
   {
    "duration": 228,
    "start_time": "2023-06-11T08:59:20.161Z"
   },
   {
    "duration": 157,
    "start_time": "2023-06-11T09:00:17.019Z"
   },
   {
    "duration": 1048,
    "start_time": "2023-06-11T09:01:11.910Z"
   },
   {
    "duration": 434,
    "start_time": "2023-06-11T09:01:46.934Z"
   },
   {
    "duration": 320,
    "start_time": "2023-06-11T09:03:16.653Z"
   },
   {
    "duration": 246,
    "start_time": "2023-06-11T09:05:23.662Z"
   },
   {
    "duration": 237,
    "start_time": "2023-06-11T09:05:32.158Z"
   },
   {
    "duration": 407,
    "start_time": "2023-06-11T09:09:01.483Z"
   },
   {
    "duration": 306,
    "start_time": "2023-06-11T09:09:27.009Z"
   },
   {
    "duration": 345,
    "start_time": "2023-06-11T09:09:30.647Z"
   },
   {
    "duration": 199,
    "start_time": "2023-06-11T09:09:35.449Z"
   },
   {
    "duration": 306,
    "start_time": "2023-06-11T09:09:55.185Z"
   },
   {
    "duration": 209,
    "start_time": "2023-06-11T09:10:09.748Z"
   },
   {
    "duration": 248,
    "start_time": "2023-06-11T09:11:33.870Z"
   },
   {
    "duration": 257,
    "start_time": "2023-06-11T09:12:46.822Z"
   },
   {
    "duration": 437,
    "start_time": "2023-06-11T09:13:01.758Z"
   },
   {
    "duration": 107,
    "start_time": "2023-06-11T09:14:05.396Z"
   },
   {
    "duration": 80,
    "start_time": "2023-06-11T09:14:30.741Z"
   },
   {
    "duration": 130,
    "start_time": "2023-06-11T09:14:50.323Z"
   },
   {
    "duration": 3,
    "start_time": "2023-06-11T09:14:58.263Z"
   },
   {
    "duration": 85,
    "start_time": "2023-06-11T09:15:39.843Z"
   },
   {
    "duration": 86,
    "start_time": "2023-06-11T09:15:47.023Z"
   },
   {
    "duration": 121,
    "start_time": "2023-06-11T09:18:15.279Z"
   },
   {
    "duration": 1703,
    "start_time": "2023-06-11T12:48:03.065Z"
   },
   {
    "duration": 778,
    "start_time": "2023-06-11T12:48:04.770Z"
   },
   {
    "duration": 10,
    "start_time": "2023-06-11T12:48:05.550Z"
   },
   {
    "duration": 188,
    "start_time": "2023-06-11T12:48:05.564Z"
   },
   {
    "duration": 20,
    "start_time": "2023-06-11T12:48:05.754Z"
   },
   {
    "duration": 14,
    "start_time": "2023-06-11T12:48:05.776Z"
   },
   {
    "duration": 41,
    "start_time": "2023-06-11T12:48:05.791Z"
   },
   {
    "duration": 530,
    "start_time": "2023-06-11T12:48:05.835Z"
   },
   {
    "duration": 3,
    "start_time": "2023-06-11T12:48:06.367Z"
   },
   {
    "duration": 42,
    "start_time": "2023-06-11T12:51:09.321Z"
   },
   {
    "duration": 200,
    "start_time": "2023-06-11T13:28:20.407Z"
   },
   {
    "duration": 150,
    "start_time": "2023-06-11T13:30:57.123Z"
   },
   {
    "duration": 139,
    "start_time": "2023-06-11T13:31:04.482Z"
   },
   {
    "duration": 14,
    "start_time": "2023-06-11T13:31:30.370Z"
   },
   {
    "duration": 263,
    "start_time": "2023-06-11T13:35:03.995Z"
   },
   {
    "duration": 143,
    "start_time": "2023-06-11T13:35:09.591Z"
   },
   {
    "duration": 92,
    "start_time": "2023-06-11T13:36:03.501Z"
   },
   {
    "duration": 32,
    "start_time": "2023-06-11T13:36:38.814Z"
   },
   {
    "duration": 19,
    "start_time": "2023-06-11T13:38:42.028Z"
   },
   {
    "duration": 40,
    "start_time": "2023-06-11T13:38:50.876Z"
   },
   {
    "duration": 7,
    "start_time": "2023-06-11T13:39:12.815Z"
   },
   {
    "duration": 33,
    "start_time": "2023-06-11T13:39:29.940Z"
   },
   {
    "duration": 18,
    "start_time": "2023-06-11T13:40:04.693Z"
   },
   {
    "duration": 1382,
    "start_time": "2023-06-11T17:58:58.996Z"
   },
   {
    "duration": 122,
    "start_time": "2023-06-11T17:59:00.381Z"
   },
   {
    "duration": 5,
    "start_time": "2023-06-11T17:59:00.505Z"
   },
   {
    "duration": 120,
    "start_time": "2023-06-11T17:59:00.511Z"
   },
   {
    "duration": 20,
    "start_time": "2023-06-11T17:59:00.636Z"
   },
   {
    "duration": 30,
    "start_time": "2023-06-11T17:59:00.660Z"
   },
   {
    "duration": 27,
    "start_time": "2023-06-11T17:59:00.692Z"
   },
   {
    "duration": 121,
    "start_time": "2023-06-11T17:59:00.721Z"
   },
   {
    "duration": 9,
    "start_time": "2023-06-11T17:59:00.844Z"
   },
   {
    "duration": 36,
    "start_time": "2023-06-11T17:59:00.855Z"
   },
   {
    "duration": 475,
    "start_time": "2023-06-11T17:59:00.893Z"
   },
   {
    "duration": 3,
    "start_time": "2023-06-11T17:59:01.369Z"
   },
   {
    "duration": 18,
    "start_time": "2023-06-11T18:03:59.122Z"
   },
   {
    "duration": 14,
    "start_time": "2023-06-11T18:04:07.773Z"
   },
   {
    "duration": 2309,
    "start_time": "2023-06-11T18:05:46.773Z"
   },
   {
    "duration": 45,
    "start_time": "2023-06-11T18:05:55.304Z"
   },
   {
    "duration": 33,
    "start_time": "2023-06-11T18:06:07.709Z"
   },
   {
    "duration": 16,
    "start_time": "2023-06-11T18:06:08.494Z"
   },
   {
    "duration": 50,
    "start_time": "2023-06-11T18:06:55.891Z"
   },
   {
    "duration": 40,
    "start_time": "2023-06-11T18:07:11.241Z"
   },
   {
    "duration": 16,
    "start_time": "2023-06-11T18:07:55.687Z"
   },
   {
    "duration": 30,
    "start_time": "2023-06-11T18:09:52.651Z"
   },
   {
    "duration": 254,
    "start_time": "2023-06-11T18:10:04.563Z"
   },
   {
    "duration": 185,
    "start_time": "2023-06-11T18:10:18.610Z"
   },
   {
    "duration": 189,
    "start_time": "2023-06-11T18:10:44.101Z"
   },
   {
    "duration": 181,
    "start_time": "2023-06-11T18:11:46.614Z"
   },
   {
    "duration": 196,
    "start_time": "2023-06-11T18:11:56.487Z"
   },
   {
    "duration": 185,
    "start_time": "2023-06-11T18:12:48.702Z"
   },
   {
    "duration": 223,
    "start_time": "2023-06-11T18:12:59.098Z"
   },
   {
    "duration": 187,
    "start_time": "2023-06-11T18:13:13.378Z"
   },
   {
    "duration": 11,
    "start_time": "2023-06-11T18:16:31.743Z"
   },
   {
    "duration": 18,
    "start_time": "2023-06-11T18:16:48.616Z"
   },
   {
    "duration": 8,
    "start_time": "2023-06-11T18:17:17.513Z"
   },
   {
    "duration": 8,
    "start_time": "2023-06-11T18:21:26.189Z"
   },
   {
    "duration": 103,
    "start_time": "2023-06-11T18:22:40.872Z"
   },
   {
    "duration": 127,
    "start_time": "2023-06-11T18:24:35.173Z"
   },
   {
    "duration": 265,
    "start_time": "2023-06-11T18:24:45.253Z"
   },
   {
    "duration": 724,
    "start_time": "2023-06-11T18:25:04.124Z"
   },
   {
    "duration": 216,
    "start_time": "2023-06-11T18:25:15.568Z"
   },
   {
    "duration": 362,
    "start_time": "2023-06-11T18:26:24.454Z"
   },
   {
    "duration": 114,
    "start_time": "2023-06-11T18:26:53.486Z"
   },
   {
    "duration": 261,
    "start_time": "2023-06-11T18:26:57.713Z"
   },
   {
    "duration": 28,
    "start_time": "2023-06-11T18:27:21.512Z"
   },
   {
    "duration": 179,
    "start_time": "2023-06-11T18:27:40.482Z"
   },
   {
    "duration": 250,
    "start_time": "2023-06-11T18:27:42.809Z"
   },
   {
    "duration": 78,
    "start_time": "2023-06-11T18:28:22.377Z"
   },
   {
    "duration": 232,
    "start_time": "2023-06-11T18:28:25.542Z"
   },
   {
    "duration": 11,
    "start_time": "2023-06-11T18:28:36.552Z"
   },
   {
    "duration": 318,
    "start_time": "2023-06-11T18:28:56.060Z"
   },
   {
    "duration": 170,
    "start_time": "2023-06-11T18:29:06.245Z"
   },
   {
    "duration": 15,
    "start_time": "2023-06-11T18:35:30.036Z"
   },
   {
    "duration": 168,
    "start_time": "2023-06-11T18:39:44.147Z"
   },
   {
    "duration": 14,
    "start_time": "2023-06-11T18:40:35.021Z"
   },
   {
    "duration": 14,
    "start_time": "2023-06-11T18:40:44.683Z"
   },
   {
    "duration": 14,
    "start_time": "2023-06-11T18:40:48.874Z"
   },
   {
    "duration": 21,
    "start_time": "2023-06-11T18:41:43.806Z"
   },
   {
    "duration": 19,
    "start_time": "2023-06-11T18:42:08.366Z"
   },
   {
    "duration": 20,
    "start_time": "2023-06-11T18:42:12.303Z"
   },
   {
    "duration": 22,
    "start_time": "2023-06-11T18:42:15.097Z"
   },
   {
    "duration": 18,
    "start_time": "2023-06-11T18:42:22.039Z"
   },
   {
    "duration": 24,
    "start_time": "2023-06-11T18:44:53.551Z"
   },
   {
    "duration": 32,
    "start_time": "2023-06-11T18:47:15.901Z"
   },
   {
    "duration": 227,
    "start_time": "2023-06-11T18:47:32.010Z"
   },
   {
    "duration": 239,
    "start_time": "2023-06-11T18:47:52.609Z"
   },
   {
    "duration": 225,
    "start_time": "2023-06-11T18:48:48.390Z"
   },
   {
    "duration": 164,
    "start_time": "2023-06-11T18:49:04.430Z"
   },
   {
    "duration": 198,
    "start_time": "2023-06-11T18:49:24.065Z"
   },
   {
    "duration": 197,
    "start_time": "2023-06-11T18:49:57.256Z"
   },
   {
    "duration": 158,
    "start_time": "2023-06-11T18:49:58.139Z"
   },
   {
    "duration": 208,
    "start_time": "2023-06-11T18:50:11.191Z"
   },
   {
    "duration": 232,
    "start_time": "2023-06-11T18:51:48.534Z"
   },
   {
    "duration": 18,
    "start_time": "2023-06-11T19:05:54.396Z"
   },
   {
    "duration": 174,
    "start_time": "2023-06-11T19:06:07.067Z"
   },
   {
    "duration": 201,
    "start_time": "2023-06-11T19:07:01.577Z"
   },
   {
    "duration": 14,
    "start_time": "2023-06-11T19:09:51.648Z"
   },
   {
    "duration": 122,
    "start_time": "2023-06-11T19:24:16.558Z"
   },
   {
    "duration": 161,
    "start_time": "2023-06-11T19:26:51.053Z"
   },
   {
    "duration": 101,
    "start_time": "2023-06-11T19:27:43.649Z"
   },
   {
    "duration": 104,
    "start_time": "2023-06-11T19:28:13.882Z"
   },
   {
    "duration": 11,
    "start_time": "2023-06-11T19:33:01.943Z"
   },
   {
    "duration": 805,
    "start_time": "2023-06-11T19:33:22.137Z"
   },
   {
    "duration": 1141,
    "start_time": "2023-06-11T19:33:43.090Z"
   },
   {
    "duration": 856,
    "start_time": "2023-06-11T19:34:54.540Z"
   },
   {
    "duration": 799,
    "start_time": "2023-06-11T19:35:39.972Z"
   },
   {
    "duration": 5,
    "start_time": "2023-06-11T19:36:22.219Z"
   },
   {
    "duration": 5,
    "start_time": "2023-06-11T19:36:51.782Z"
   },
   {
    "duration": 5,
    "start_time": "2023-06-11T19:38:07.053Z"
   },
   {
    "duration": 144,
    "start_time": "2023-06-11T19:38:11.796Z"
   },
   {
    "duration": 6,
    "start_time": "2023-06-11T19:38:40.011Z"
   },
   {
    "duration": 144,
    "start_time": "2023-06-11T19:38:50.008Z"
   },
   {
    "duration": 114,
    "start_time": "2023-06-11T19:38:54.389Z"
   },
   {
    "duration": 4,
    "start_time": "2023-06-11T19:39:40.748Z"
   },
   {
    "duration": 87,
    "start_time": "2023-06-11T19:39:40.753Z"
   },
   {
    "duration": 110,
    "start_time": "2023-06-11T19:39:40.842Z"
   },
   {
    "duration": 147,
    "start_time": "2023-06-11T19:39:40.953Z"
   },
   {
    "duration": 24,
    "start_time": "2023-06-11T19:39:41.103Z"
   },
   {
    "duration": 22,
    "start_time": "2023-06-11T19:39:41.134Z"
   },
   {
    "duration": 31,
    "start_time": "2023-06-11T19:39:41.157Z"
   },
   {
    "duration": 75,
    "start_time": "2023-06-11T19:39:41.190Z"
   },
   {
    "duration": 8,
    "start_time": "2023-06-11T19:39:41.267Z"
   },
   {
    "duration": 110,
    "start_time": "2023-06-11T19:39:41.277Z"
   },
   {
    "duration": 8,
    "start_time": "2023-06-11T19:39:41.389Z"
   },
   {
    "duration": 37,
    "start_time": "2023-06-11T19:39:41.399Z"
   },
   {
    "duration": 211,
    "start_time": "2023-06-11T19:39:41.441Z"
   },
   {
    "duration": 188,
    "start_time": "2023-06-11T19:39:41.654Z"
   },
   {
    "duration": 206,
    "start_time": "2023-06-11T19:39:41.844Z"
   },
   {
    "duration": 88,
    "start_time": "2023-06-11T19:39:42.051Z"
   },
   {
    "duration": 0,
    "start_time": "2023-06-11T19:39:42.141Z"
   },
   {
    "duration": 71,
    "start_time": "2023-06-11T19:39:48.739Z"
   },
   {
    "duration": 40,
    "start_time": "2023-06-11T19:39:56.319Z"
   },
   {
    "duration": 158,
    "start_time": "2023-06-11T19:40:09.886Z"
   },
   {
    "duration": 132,
    "start_time": "2023-06-11T19:40:16.186Z"
   },
   {
    "duration": 164,
    "start_time": "2023-06-11T19:40:30.433Z"
   },
   {
    "duration": 100,
    "start_time": "2023-06-11T19:40:36.911Z"
   },
   {
    "duration": 1490,
    "start_time": "2023-06-12T08:21:22.625Z"
   },
   {
    "duration": 244,
    "start_time": "2023-06-12T08:21:24.119Z"
   },
   {
    "duration": 9,
    "start_time": "2023-06-12T08:21:24.365Z"
   },
   {
    "duration": 123,
    "start_time": "2023-06-12T08:21:24.377Z"
   },
   {
    "duration": 19,
    "start_time": "2023-06-12T08:21:24.502Z"
   },
   {
    "duration": 45,
    "start_time": "2023-06-12T08:21:24.523Z"
   },
   {
    "duration": 23,
    "start_time": "2023-06-12T08:21:24.570Z"
   },
   {
    "duration": 86,
    "start_time": "2023-06-12T08:21:24.596Z"
   },
   {
    "duration": 7,
    "start_time": "2023-06-12T08:21:24.683Z"
   },
   {
    "duration": 90,
    "start_time": "2023-06-12T08:21:24.693Z"
   },
   {
    "duration": 11,
    "start_time": "2023-06-12T08:21:24.784Z"
   },
   {
    "duration": 34,
    "start_time": "2023-06-12T08:21:24.797Z"
   },
   {
    "duration": 214,
    "start_time": "2023-06-12T08:21:24.832Z"
   },
   {
    "duration": 179,
    "start_time": "2023-06-12T08:21:25.050Z"
   },
   {
    "duration": 224,
    "start_time": "2023-06-12T08:21:25.231Z"
   },
   {
    "duration": 155,
    "start_time": "2023-06-12T08:21:25.457Z"
   },
   {
    "duration": 124,
    "start_time": "2023-06-12T08:21:25.613Z"
   },
   {
    "duration": 248,
    "start_time": "2023-06-12T08:24:43.821Z"
   },
   {
    "duration": 255,
    "start_time": "2023-06-12T08:25:37.386Z"
   },
   {
    "duration": 324,
    "start_time": "2023-06-12T08:26:02.385Z"
   },
   {
    "duration": 283,
    "start_time": "2023-06-12T08:26:15.929Z"
   },
   {
    "duration": 248,
    "start_time": "2023-06-12T08:26:25.542Z"
   },
   {
    "duration": 243,
    "start_time": "2023-06-12T08:26:29.623Z"
   },
   {
    "duration": 194,
    "start_time": "2023-06-12T08:26:43.117Z"
   },
   {
    "duration": 250,
    "start_time": "2023-06-12T08:26:47.951Z"
   },
   {
    "duration": 293,
    "start_time": "2023-06-12T08:26:57.328Z"
   },
   {
    "duration": 307,
    "start_time": "2023-06-12T08:29:57.371Z"
   },
   {
    "duration": 373,
    "start_time": "2023-06-12T08:44:52.675Z"
   },
   {
    "duration": 335,
    "start_time": "2023-06-12T08:45:03.846Z"
   },
   {
    "duration": 272,
    "start_time": "2023-06-12T08:51:15.476Z"
   },
   {
    "duration": 273,
    "start_time": "2023-06-12T08:51:25.505Z"
   },
   {
    "duration": 344,
    "start_time": "2023-06-12T08:51:35.860Z"
   },
   {
    "duration": 270,
    "start_time": "2023-06-12T08:51:41.002Z"
   },
   {
    "duration": 294,
    "start_time": "2023-06-12T08:51:46.692Z"
   },
   {
    "duration": 269,
    "start_time": "2023-06-12T08:51:56.263Z"
   },
   {
    "duration": 11,
    "start_time": "2023-06-12T08:52:37.743Z"
   },
   {
    "duration": 280,
    "start_time": "2023-06-12T08:53:16.770Z"
   },
   {
    "duration": 1887,
    "start_time": "2023-06-12T12:34:33.586Z"
   },
   {
    "duration": 500,
    "start_time": "2023-06-12T12:34:35.475Z"
   },
   {
    "duration": 8,
    "start_time": "2023-06-12T12:34:35.977Z"
   },
   {
    "duration": 195,
    "start_time": "2023-06-12T12:34:35.987Z"
   },
   {
    "duration": 15,
    "start_time": "2023-06-12T12:34:36.186Z"
   },
   {
    "duration": 41,
    "start_time": "2023-06-12T12:34:36.204Z"
   },
   {
    "duration": 33,
    "start_time": "2023-06-12T12:34:36.248Z"
   },
   {
    "duration": 86,
    "start_time": "2023-06-12T12:34:36.283Z"
   },
   {
    "duration": 8,
    "start_time": "2023-06-12T12:34:36.371Z"
   },
   {
    "duration": 116,
    "start_time": "2023-06-12T12:34:36.382Z"
   },
   {
    "duration": 9,
    "start_time": "2023-06-12T12:34:36.500Z"
   },
   {
    "duration": 41,
    "start_time": "2023-06-12T12:34:36.511Z"
   },
   {
    "duration": 287,
    "start_time": "2023-06-12T12:34:36.554Z"
   },
   {
    "duration": 244,
    "start_time": "2023-06-12T12:34:36.848Z"
   },
   {
    "duration": 289,
    "start_time": "2023-06-12T12:34:37.094Z"
   },
   {
    "duration": 426,
    "start_time": "2023-06-12T12:34:37.386Z"
   },
   {
    "duration": 195,
    "start_time": "2023-06-12T12:34:37.815Z"
   },
   {
    "duration": 166,
    "start_time": "2023-06-12T12:34:38.012Z"
   },
   {
    "duration": 1550,
    "start_time": "2023-06-12T12:36:59.151Z"
   },
   {
    "duration": 5,
    "start_time": "2023-06-12T12:37:13.675Z"
   },
   {
    "duration": 163,
    "start_time": "2023-06-12T12:37:13.683Z"
   },
   {
    "duration": 10,
    "start_time": "2023-06-12T12:37:13.850Z"
   },
   {
    "duration": 156,
    "start_time": "2023-06-12T12:37:13.862Z"
   },
   {
    "duration": 21,
    "start_time": "2023-06-12T12:37:14.020Z"
   },
   {
    "duration": 22,
    "start_time": "2023-06-12T12:37:14.044Z"
   },
   {
    "duration": 25,
    "start_time": "2023-06-12T12:37:14.069Z"
   },
   {
    "duration": 114,
    "start_time": "2023-06-12T12:37:14.097Z"
   },
   {
    "duration": 8,
    "start_time": "2023-06-12T12:37:14.214Z"
   },
   {
    "duration": 225,
    "start_time": "2023-06-12T12:37:14.226Z"
   },
   {
    "duration": 16,
    "start_time": "2023-06-12T12:37:14.456Z"
   },
   {
    "duration": 26,
    "start_time": "2023-06-12T12:37:14.475Z"
   },
   {
    "duration": 295,
    "start_time": "2023-06-12T12:37:14.503Z"
   },
   {
    "duration": 205,
    "start_time": "2023-06-12T12:37:14.801Z"
   },
   {
    "duration": 273,
    "start_time": "2023-06-12T12:37:15.008Z"
   },
   {
    "duration": 386,
    "start_time": "2023-06-12T12:37:15.283Z"
   },
   {
    "duration": 468,
    "start_time": "2023-06-12T12:37:15.677Z"
   },
   {
    "duration": 310,
    "start_time": "2023-06-12T12:37:16.150Z"
   },
   {
    "duration": 164,
    "start_time": "2023-06-12T12:37:33.415Z"
   },
   {
    "duration": 15,
    "start_time": "2023-06-12T12:44:05.023Z"
   },
   {
    "duration": 28,
    "start_time": "2023-06-12T12:44:17.285Z"
   },
   {
    "duration": 17,
    "start_time": "2023-06-12T12:44:37.107Z"
   },
   {
    "duration": 48,
    "start_time": "2023-06-12T12:44:59.722Z"
   },
   {
    "duration": 46,
    "start_time": "2023-06-12T12:45:25.501Z"
   },
   {
    "duration": 35,
    "start_time": "2023-06-12T12:45:37.991Z"
   },
   {
    "duration": 35,
    "start_time": "2023-06-12T12:46:01.246Z"
   },
   {
    "duration": 50,
    "start_time": "2023-06-12T12:46:51.756Z"
   },
   {
    "duration": 56,
    "start_time": "2023-06-12T12:47:18.694Z"
   },
   {
    "duration": 46,
    "start_time": "2023-06-12T12:47:39.091Z"
   },
   {
    "duration": 22,
    "start_time": "2023-06-12T12:47:58.495Z"
   },
   {
    "duration": 24,
    "start_time": "2023-06-12T12:48:18.566Z"
   },
   {
    "duration": 187,
    "start_time": "2023-06-12T12:48:32.219Z"
   },
   {
    "duration": 249,
    "start_time": "2023-06-12T12:48:42.371Z"
   },
   {
    "duration": 98,
    "start_time": "2023-06-12T12:49:38.550Z"
   },
   {
    "duration": 42,
    "start_time": "2023-06-12T12:50:14.352Z"
   },
   {
    "duration": 104,
    "start_time": "2023-06-12T13:09:48.379Z"
   },
   {
    "duration": 41,
    "start_time": "2023-06-12T13:09:55.260Z"
   },
   {
    "duration": 48,
    "start_time": "2023-06-12T13:11:41.854Z"
   },
   {
    "duration": 34,
    "start_time": "2023-06-12T13:11:49.370Z"
   },
   {
    "duration": 34,
    "start_time": "2023-06-12T13:12:01.163Z"
   },
   {
    "duration": 35,
    "start_time": "2023-06-12T13:15:28.568Z"
   },
   {
    "duration": 36,
    "start_time": "2023-06-12T13:16:25.184Z"
   },
   {
    "duration": 38,
    "start_time": "2023-06-12T13:16:55.859Z"
   },
   {
    "duration": 34,
    "start_time": "2023-06-12T13:17:11.586Z"
   },
   {
    "duration": 48,
    "start_time": "2023-06-12T13:17:26.513Z"
   },
   {
    "duration": 44,
    "start_time": "2023-06-12T13:18:32.468Z"
   },
   {
    "duration": 325,
    "start_time": "2023-06-12T13:19:18.270Z"
   },
   {
    "duration": 460,
    "start_time": "2023-06-12T13:21:18.480Z"
   },
   {
    "duration": 385,
    "start_time": "2023-06-12T13:21:32.778Z"
   },
   {
    "duration": 18,
    "start_time": "2023-06-12T13:31:25.686Z"
   },
   {
    "duration": 1550,
    "start_time": "2023-06-12T18:38:25.397Z"
   },
   {
    "duration": 174,
    "start_time": "2023-06-12T18:38:26.949Z"
   },
   {
    "duration": 6,
    "start_time": "2023-06-12T18:38:27.126Z"
   },
   {
    "duration": 116,
    "start_time": "2023-06-12T18:38:27.134Z"
   },
   {
    "duration": 28,
    "start_time": "2023-06-12T18:38:27.251Z"
   },
   {
    "duration": 17,
    "start_time": "2023-06-12T18:38:27.281Z"
   },
   {
    "duration": 34,
    "start_time": "2023-06-12T18:38:27.300Z"
   },
   {
    "duration": 57,
    "start_time": "2023-06-12T18:38:27.336Z"
   },
   {
    "duration": 9,
    "start_time": "2023-06-12T18:38:27.394Z"
   },
   {
    "duration": 82,
    "start_time": "2023-06-12T18:38:27.405Z"
   },
   {
    "duration": 13,
    "start_time": "2023-06-12T18:38:27.489Z"
   },
   {
    "duration": 30,
    "start_time": "2023-06-12T18:38:27.504Z"
   },
   {
    "duration": 206,
    "start_time": "2023-06-12T18:38:27.536Z"
   },
   {
    "duration": 180,
    "start_time": "2023-06-12T18:38:27.744Z"
   },
   {
    "duration": 212,
    "start_time": "2023-06-12T18:38:27.925Z"
   },
   {
    "duration": 305,
    "start_time": "2023-06-12T18:38:28.138Z"
   },
   {
    "duration": 142,
    "start_time": "2023-06-12T18:38:28.444Z"
   },
   {
    "duration": 127,
    "start_time": "2023-06-12T18:38:28.590Z"
   },
   {
    "duration": 248,
    "start_time": "2023-06-12T18:38:28.719Z"
   },
   {
    "duration": 39,
    "start_time": "2023-06-12T18:38:28.969Z"
   },
   {
    "duration": 412,
    "start_time": "2023-06-12T18:40:13.309Z"
   },
   {
    "duration": 283,
    "start_time": "2023-06-12T18:40:27.802Z"
   },
   {
    "duration": 287,
    "start_time": "2023-06-12T18:41:09.329Z"
   },
   {
    "duration": 130,
    "start_time": "2023-06-12T18:47:25.797Z"
   },
   {
    "duration": 24,
    "start_time": "2023-06-12T18:47:47.598Z"
   },
   {
    "duration": 15,
    "start_time": "2023-06-12T18:48:04.609Z"
   },
   {
    "duration": 389,
    "start_time": "2023-06-12T18:48:10.916Z"
   },
   {
    "duration": 15,
    "start_time": "2023-06-12T18:48:37.541Z"
   },
   {
    "duration": 17,
    "start_time": "2023-06-12T18:48:49.852Z"
   },
   {
    "duration": 21,
    "start_time": "2023-06-12T18:48:54.101Z"
   },
   {
    "duration": 24,
    "start_time": "2023-06-12T18:50:50.060Z"
   },
   {
    "duration": 36,
    "start_time": "2023-06-12T18:53:33.858Z"
   },
   {
    "duration": 37,
    "start_time": "2023-06-12T18:53:49.317Z"
   },
   {
    "duration": 18,
    "start_time": "2023-06-12T18:54:03.109Z"
   },
   {
    "duration": 20,
    "start_time": "2023-06-12T18:54:12.646Z"
   },
   {
    "duration": 19,
    "start_time": "2023-06-12T18:54:45.341Z"
   },
   {
    "duration": 32,
    "start_time": "2023-06-12T18:55:07.065Z"
   },
   {
    "duration": 21,
    "start_time": "2023-06-12T18:55:49.574Z"
   },
   {
    "duration": 29,
    "start_time": "2023-06-12T18:56:02.201Z"
   },
   {
    "duration": 23,
    "start_time": "2023-06-12T18:56:16.622Z"
   },
   {
    "duration": 119,
    "start_time": "2023-06-12T18:57:30.085Z"
   },
   {
    "duration": 29,
    "start_time": "2023-06-12T18:57:45.523Z"
   },
   {
    "duration": 91,
    "start_time": "2023-06-12T19:00:27.398Z"
   },
   {
    "duration": 6,
    "start_time": "2023-06-12T19:02:24.193Z"
   },
   {
    "duration": 7,
    "start_time": "2023-06-12T19:02:27.943Z"
   },
   {
    "duration": 8,
    "start_time": "2023-06-12T19:02:39.112Z"
   },
   {
    "duration": 9,
    "start_time": "2023-06-12T19:02:52.297Z"
   },
   {
    "duration": 8,
    "start_time": "2023-06-12T19:02:59.697Z"
   },
   {
    "duration": 4,
    "start_time": "2023-06-12T19:03:27.212Z"
   },
   {
    "duration": 126,
    "start_time": "2023-06-12T19:03:27.218Z"
   },
   {
    "duration": 9,
    "start_time": "2023-06-12T19:03:27.346Z"
   },
   {
    "duration": 155,
    "start_time": "2023-06-12T19:03:27.358Z"
   },
   {
    "duration": 14,
    "start_time": "2023-06-12T19:03:27.515Z"
   },
   {
    "duration": 20,
    "start_time": "2023-06-12T19:03:27.531Z"
   },
   {
    "duration": 30,
    "start_time": "2023-06-12T19:03:27.553Z"
   },
   {
    "duration": 82,
    "start_time": "2023-06-12T19:03:27.586Z"
   },
   {
    "duration": 15,
    "start_time": "2023-06-12T19:03:27.677Z"
   },
   {
    "duration": 119,
    "start_time": "2023-06-12T19:03:27.694Z"
   },
   {
    "duration": 9,
    "start_time": "2023-06-12T19:03:27.814Z"
   },
   {
    "duration": 21,
    "start_time": "2023-06-12T19:03:27.824Z"
   },
   {
    "duration": 234,
    "start_time": "2023-06-12T19:03:27.848Z"
   },
   {
    "duration": 187,
    "start_time": "2023-06-12T19:03:28.085Z"
   },
   {
    "duration": 248,
    "start_time": "2023-06-12T19:03:28.274Z"
   },
   {
    "duration": 330,
    "start_time": "2023-06-12T19:03:28.524Z"
   },
   {
    "duration": 169,
    "start_time": "2023-06-12T19:03:28.856Z"
   },
   {
    "duration": 120,
    "start_time": "2023-06-12T19:03:29.026Z"
   },
   {
    "duration": 309,
    "start_time": "2023-06-12T19:03:29.148Z"
   },
   {
    "duration": 31,
    "start_time": "2023-06-12T19:03:29.459Z"
   },
   {
    "duration": 30,
    "start_time": "2023-06-12T19:03:29.494Z"
   },
   {
    "duration": 14,
    "start_time": "2023-06-12T19:03:42.447Z"
   },
   {
    "duration": 9,
    "start_time": "2023-06-12T19:03:52.343Z"
   },
   {
    "duration": 25,
    "start_time": "2023-06-12T19:04:40.806Z"
   },
   {
    "duration": 30,
    "start_time": "2023-06-12T19:05:12.093Z"
   },
   {
    "duration": 368,
    "start_time": "2023-06-12T19:05:20.197Z"
   },
   {
    "duration": 250,
    "start_time": "2023-06-12T19:05:32.206Z"
   },
   {
    "duration": 285,
    "start_time": "2023-06-12T19:06:00.237Z"
   },
   {
    "duration": 244,
    "start_time": "2023-06-12T19:06:07.089Z"
   },
   {
    "duration": 8,
    "start_time": "2023-06-12T19:06:39.496Z"
   },
   {
    "duration": 256,
    "start_time": "2023-06-12T19:06:43.005Z"
   },
   {
    "duration": 245,
    "start_time": "2023-06-12T19:06:50.604Z"
   },
   {
    "duration": 219,
    "start_time": "2023-06-12T19:07:12.198Z"
   },
   {
    "duration": 223,
    "start_time": "2023-06-12T19:08:22.218Z"
   },
   {
    "duration": 228,
    "start_time": "2023-06-12T19:08:45.319Z"
   },
   {
    "duration": 191,
    "start_time": "2023-06-12T19:08:54.387Z"
   },
   {
    "duration": 180,
    "start_time": "2023-06-12T19:09:11.700Z"
   },
   {
    "duration": 26,
    "start_time": "2023-06-12T19:09:20.799Z"
   },
   {
    "duration": 394,
    "start_time": "2023-06-12T19:09:26.087Z"
   },
   {
    "duration": 291,
    "start_time": "2023-06-12T19:09:32.697Z"
   },
   {
    "duration": 290,
    "start_time": "2023-06-12T19:09:40.816Z"
   },
   {
    "duration": 277,
    "start_time": "2023-06-12T19:10:33.397Z"
   },
   {
    "duration": 283,
    "start_time": "2023-06-12T19:10:54.546Z"
   },
   {
    "duration": 285,
    "start_time": "2023-06-12T19:11:04.897Z"
   },
   {
    "duration": 262,
    "start_time": "2023-06-12T19:11:18.044Z"
   },
   {
    "duration": 373,
    "start_time": "2023-06-12T19:11:26.646Z"
   },
   {
    "duration": 256,
    "start_time": "2023-06-12T19:11:38.464Z"
   },
   {
    "duration": 227,
    "start_time": "2023-06-12T19:11:48.375Z"
   },
   {
    "duration": 202,
    "start_time": "2023-06-12T19:11:52.497Z"
   },
   {
    "duration": 5,
    "start_time": "2023-06-12T19:12:30.103Z"
   },
   {
    "duration": 148,
    "start_time": "2023-06-12T19:12:30.110Z"
   },
   {
    "duration": 7,
    "start_time": "2023-06-12T19:12:30.260Z"
   },
   {
    "duration": 182,
    "start_time": "2023-06-12T19:12:30.270Z"
   },
   {
    "duration": 25,
    "start_time": "2023-06-12T19:12:30.454Z"
   },
   {
    "duration": 129,
    "start_time": "2023-06-12T19:12:30.481Z"
   },
   {
    "duration": 440,
    "start_time": "2023-06-12T19:12:30.612Z"
   },
   {
    "duration": 114,
    "start_time": "2023-06-12T19:12:31.054Z"
   },
   {
    "duration": 41,
    "start_time": "2023-06-12T19:12:31.171Z"
   },
   {
    "duration": 108,
    "start_time": "2023-06-12T19:12:31.214Z"
   },
   {
    "duration": 9,
    "start_time": "2023-06-12T19:12:31.324Z"
   },
   {
    "duration": 45,
    "start_time": "2023-06-12T19:12:31.334Z"
   },
   {
    "duration": 256,
    "start_time": "2023-06-12T19:12:31.381Z"
   },
   {
    "duration": 196,
    "start_time": "2023-06-12T19:12:31.639Z"
   },
   {
    "duration": 206,
    "start_time": "2023-06-12T19:12:31.838Z"
   },
   {
    "duration": 279,
    "start_time": "2023-06-12T19:12:32.046Z"
   },
   {
    "duration": 154,
    "start_time": "2023-06-12T19:12:32.327Z"
   },
   {
    "duration": 102,
    "start_time": "2023-06-12T19:12:32.482Z"
   },
   {
    "duration": 273,
    "start_time": "2023-06-12T19:12:32.586Z"
   },
   {
    "duration": 45,
    "start_time": "2023-06-12T19:12:32.861Z"
   },
   {
    "duration": 394,
    "start_time": "2023-06-12T19:12:32.908Z"
   },
   {
    "duration": 46,
    "start_time": "2023-06-12T19:19:03.711Z"
   },
   {
    "duration": 15,
    "start_time": "2023-06-12T19:22:40.988Z"
   },
   {
    "duration": 242,
    "start_time": "2023-06-12T19:23:35.090Z"
   },
   {
    "duration": 254,
    "start_time": "2023-06-12T19:24:06.787Z"
   },
   {
    "duration": 271,
    "start_time": "2023-06-12T19:24:20.140Z"
   },
   {
    "duration": 236,
    "start_time": "2023-06-12T19:24:25.451Z"
   },
   {
    "duration": 221,
    "start_time": "2023-06-12T19:24:28.770Z"
   },
   {
    "duration": 180,
    "start_time": "2023-06-12T19:24:40.871Z"
   },
   {
    "duration": 13,
    "start_time": "2023-06-12T19:24:48.920Z"
   },
   {
    "duration": 16,
    "start_time": "2023-06-12T19:24:55.415Z"
   },
   {
    "duration": 12,
    "start_time": "2023-06-12T19:25:09.530Z"
   },
   {
    "duration": 3,
    "start_time": "2023-06-12T19:25:41.820Z"
   },
   {
    "duration": 75,
    "start_time": "2023-06-12T19:25:41.825Z"
   },
   {
    "duration": 5,
    "start_time": "2023-06-12T19:25:41.902Z"
   },
   {
    "duration": 121,
    "start_time": "2023-06-12T19:25:41.908Z"
   },
   {
    "duration": 16,
    "start_time": "2023-06-12T19:25:42.031Z"
   },
   {
    "duration": 38,
    "start_time": "2023-06-12T19:25:42.048Z"
   },
   {
    "duration": 16,
    "start_time": "2023-06-12T19:25:42.088Z"
   },
   {
    "duration": 45,
    "start_time": "2023-06-12T19:25:42.105Z"
   },
   {
    "duration": 24,
    "start_time": "2023-06-12T19:25:42.152Z"
   },
   {
    "duration": 76,
    "start_time": "2023-06-12T19:25:42.178Z"
   },
   {
    "duration": 8,
    "start_time": "2023-06-12T19:25:42.256Z"
   },
   {
    "duration": 25,
    "start_time": "2023-06-12T19:25:42.265Z"
   },
   {
    "duration": 184,
    "start_time": "2023-06-12T19:25:42.292Z"
   },
   {
    "duration": 154,
    "start_time": "2023-06-12T19:25:42.478Z"
   },
   {
    "duration": 194,
    "start_time": "2023-06-12T19:25:42.634Z"
   },
   {
    "duration": 365,
    "start_time": "2023-06-12T19:25:42.830Z"
   },
   {
    "duration": 139,
    "start_time": "2023-06-12T19:25:43.197Z"
   },
   {
    "duration": 118,
    "start_time": "2023-06-12T19:25:43.337Z"
   },
   {
    "duration": 289,
    "start_time": "2023-06-12T19:25:43.456Z"
   },
   {
    "duration": 38,
    "start_time": "2023-06-12T19:25:43.746Z"
   },
   {
    "duration": 590,
    "start_time": "2023-06-12T19:25:43.786Z"
   },
   {
    "duration": 513,
    "start_time": "2023-06-12T19:25:44.378Z"
   },
   {
    "duration": 231,
    "start_time": "2023-06-12T19:26:53.316Z"
   },
   {
    "duration": 248,
    "start_time": "2023-06-12T19:27:19.101Z"
   },
   {
    "duration": 287,
    "start_time": "2023-06-12T19:28:31.834Z"
   },
   {
    "duration": 1625,
    "start_time": "2023-06-12T19:29:05.986Z"
   },
   {
    "duration": 124,
    "start_time": "2023-06-12T19:29:22.399Z"
   },
   {
    "duration": 224,
    "start_time": "2023-06-12T19:29:34.507Z"
   },
   {
    "duration": 262,
    "start_time": "2023-06-12T19:34:35.387Z"
   },
   {
    "duration": 5,
    "start_time": "2023-06-12T19:34:49.248Z"
   },
   {
    "duration": 8,
    "start_time": "2023-06-12T19:34:57.193Z"
   },
   {
    "duration": 4,
    "start_time": "2023-06-12T19:35:26.258Z"
   },
   {
    "duration": 86,
    "start_time": "2023-06-12T19:35:26.269Z"
   },
   {
    "duration": 5,
    "start_time": "2023-06-12T19:35:26.357Z"
   },
   {
    "duration": 221,
    "start_time": "2023-06-12T19:35:26.364Z"
   },
   {
    "duration": 13,
    "start_time": "2023-06-12T19:35:26.587Z"
   },
   {
    "duration": 11,
    "start_time": "2023-06-12T19:35:26.602Z"
   },
   {
    "duration": 14,
    "start_time": "2023-06-12T19:35:26.614Z"
   },
   {
    "duration": 84,
    "start_time": "2023-06-12T19:35:26.629Z"
   },
   {
    "duration": 6,
    "start_time": "2023-06-12T19:35:26.715Z"
   },
   {
    "duration": 83,
    "start_time": "2023-06-12T19:35:26.722Z"
   },
   {
    "duration": 8,
    "start_time": "2023-06-12T19:35:26.806Z"
   },
   {
    "duration": 18,
    "start_time": "2023-06-12T19:35:26.816Z"
   },
   {
    "duration": 198,
    "start_time": "2023-06-12T19:35:26.835Z"
   },
   {
    "duration": 170,
    "start_time": "2023-06-12T19:35:27.035Z"
   },
   {
    "duration": 198,
    "start_time": "2023-06-12T19:35:27.207Z"
   },
   {
    "duration": 269,
    "start_time": "2023-06-12T19:35:27.407Z"
   },
   {
    "duration": 142,
    "start_time": "2023-06-12T19:35:27.678Z"
   },
   {
    "duration": 110,
    "start_time": "2023-06-12T19:35:27.822Z"
   },
   {
    "duration": 265,
    "start_time": "2023-06-12T19:35:27.934Z"
   },
   {
    "duration": 26,
    "start_time": "2023-06-12T19:35:28.201Z"
   },
   {
    "duration": 265,
    "start_time": "2023-06-12T19:35:28.229Z"
   },
   {
    "duration": 308,
    "start_time": "2023-06-12T19:35:28.496Z"
   },
   {
    "duration": 313,
    "start_time": "2023-06-12T19:35:28.807Z"
   },
   {
    "duration": 6,
    "start_time": "2023-06-12T19:35:29.171Z"
   },
   {
    "duration": 28,
    "start_time": "2023-06-12T19:36:30.534Z"
   },
   {
    "duration": 3,
    "start_time": "2023-06-12T19:37:19.834Z"
   },
   {
    "duration": 363,
    "start_time": "2023-06-12T19:37:22.189Z"
   },
   {
    "duration": 347,
    "start_time": "2023-06-12T19:37:57.592Z"
   },
   {
    "duration": 5,
    "start_time": "2023-06-12T19:38:11.231Z"
   },
   {
    "duration": 23,
    "start_time": "2023-06-12T19:51:18.656Z"
   },
   {
    "duration": 135,
    "start_time": "2023-06-12T19:51:32.496Z"
   },
   {
    "duration": 35,
    "start_time": "2023-06-12T19:54:10.905Z"
   },
   {
    "duration": 40,
    "start_time": "2023-06-12T19:54:44.561Z"
   },
   {
    "duration": 273,
    "start_time": "2023-06-12T19:55:13.702Z"
   },
   {
    "duration": 33,
    "start_time": "2023-06-12T19:55:26.392Z"
   },
   {
    "duration": 87,
    "start_time": "2023-06-12T19:56:25.140Z"
   },
   {
    "duration": 18,
    "start_time": "2023-06-12T19:56:33.720Z"
   },
   {
    "duration": 33,
    "start_time": "2023-06-12T19:56:38.534Z"
   },
   {
    "duration": 24,
    "start_time": "2023-06-12T19:58:32.437Z"
   },
   {
    "duration": 36,
    "start_time": "2023-06-12T19:59:02.893Z"
   },
   {
    "duration": 39,
    "start_time": "2023-06-12T20:00:25.492Z"
   },
   {
    "duration": 51,
    "start_time": "2023-06-12T20:02:20.588Z"
   },
   {
    "duration": 4,
    "start_time": "2023-06-12T20:02:57.961Z"
   },
   {
    "duration": 94,
    "start_time": "2023-06-12T20:02:57.967Z"
   },
   {
    "duration": 6,
    "start_time": "2023-06-12T20:02:58.063Z"
   },
   {
    "duration": 122,
    "start_time": "2023-06-12T20:02:58.070Z"
   },
   {
    "duration": 14,
    "start_time": "2023-06-12T20:02:58.194Z"
   },
   {
    "duration": 27,
    "start_time": "2023-06-12T20:02:58.209Z"
   },
   {
    "duration": 15,
    "start_time": "2023-06-12T20:02:58.237Z"
   },
   {
    "duration": 71,
    "start_time": "2023-06-12T20:02:58.253Z"
   },
   {
    "duration": 7,
    "start_time": "2023-06-12T20:02:58.325Z"
   },
   {
    "duration": 95,
    "start_time": "2023-06-12T20:02:58.333Z"
   },
   {
    "duration": 14,
    "start_time": "2023-06-12T20:02:58.430Z"
   },
   {
    "duration": 38,
    "start_time": "2023-06-12T20:02:58.446Z"
   },
   {
    "duration": 242,
    "start_time": "2023-06-12T20:02:58.486Z"
   },
   {
    "duration": 175,
    "start_time": "2023-06-12T20:02:58.730Z"
   },
   {
    "duration": 221,
    "start_time": "2023-06-12T20:02:58.907Z"
   },
   {
    "duration": 319,
    "start_time": "2023-06-12T20:02:59.130Z"
   },
   {
    "duration": 159,
    "start_time": "2023-06-12T20:02:59.451Z"
   },
   {
    "duration": 110,
    "start_time": "2023-06-12T20:02:59.612Z"
   },
   {
    "duration": 286,
    "start_time": "2023-06-12T20:02:59.723Z"
   },
   {
    "duration": 28,
    "start_time": "2023-06-12T20:03:00.011Z"
   },
   {
    "duration": 299,
    "start_time": "2023-06-12T20:03:00.040Z"
   },
   {
    "duration": 287,
    "start_time": "2023-06-12T20:03:00.341Z"
   },
   {
    "duration": 209,
    "start_time": "2023-06-12T20:03:00.630Z"
   },
   {
    "duration": 6,
    "start_time": "2023-06-12T20:03:00.841Z"
   },
   {
    "duration": 145,
    "start_time": "2023-06-12T20:03:00.849Z"
   },
   {
    "duration": 4,
    "start_time": "2023-06-12T20:04:58.748Z"
   },
   {
    "duration": 85,
    "start_time": "2023-06-12T20:04:58.754Z"
   },
   {
    "duration": 6,
    "start_time": "2023-06-12T20:04:58.841Z"
   },
   {
    "duration": 244,
    "start_time": "2023-06-12T20:04:58.849Z"
   },
   {
    "duration": 12,
    "start_time": "2023-06-12T20:04:59.095Z"
   },
   {
    "duration": 11,
    "start_time": "2023-06-12T20:04:59.109Z"
   },
   {
    "duration": 18,
    "start_time": "2023-06-12T20:04:59.121Z"
   },
   {
    "duration": 80,
    "start_time": "2023-06-12T20:04:59.140Z"
   },
   {
    "duration": 7,
    "start_time": "2023-06-12T20:04:59.222Z"
   },
   {
    "duration": 108,
    "start_time": "2023-06-12T20:04:59.230Z"
   },
   {
    "duration": 8,
    "start_time": "2023-06-12T20:04:59.342Z"
   },
   {
    "duration": 18,
    "start_time": "2023-06-12T20:04:59.352Z"
   },
   {
    "duration": 208,
    "start_time": "2023-06-12T20:04:59.372Z"
   },
   {
    "duration": 159,
    "start_time": "2023-06-12T20:04:59.582Z"
   },
   {
    "duration": 213,
    "start_time": "2023-06-12T20:04:59.743Z"
   },
   {
    "duration": 280,
    "start_time": "2023-06-12T20:04:59.957Z"
   },
   {
    "duration": 155,
    "start_time": "2023-06-12T20:05:00.238Z"
   },
   {
    "duration": 111,
    "start_time": "2023-06-12T20:05:00.395Z"
   },
   {
    "duration": 323,
    "start_time": "2023-06-12T20:05:00.508Z"
   },
   {
    "duration": 41,
    "start_time": "2023-06-12T20:05:00.833Z"
   },
   {
    "duration": 344,
    "start_time": "2023-06-12T20:05:00.876Z"
   },
   {
    "duration": 294,
    "start_time": "2023-06-12T20:05:01.222Z"
   },
   {
    "duration": 167,
    "start_time": "2023-06-12T20:05:01.518Z"
   },
   {
    "duration": 7,
    "start_time": "2023-06-12T20:05:01.689Z"
   },
   {
    "duration": 129,
    "start_time": "2023-06-12T20:05:01.697Z"
   },
   {
    "duration": 2486,
    "start_time": "2023-06-12T20:05:23.885Z"
   },
   {
    "duration": 40,
    "start_time": "2023-06-12T20:05:35.701Z"
   },
   {
    "duration": 58,
    "start_time": "2023-06-12T20:05:55.263Z"
   },
   {
    "duration": 50,
    "start_time": "2023-06-12T20:06:06.414Z"
   },
   {
    "duration": 187,
    "start_time": "2023-06-12T20:06:35.688Z"
   },
   {
    "duration": 2356,
    "start_time": "2023-06-12T20:06:41.250Z"
   },
   {
    "duration": 38,
    "start_time": "2023-06-12T20:07:07.816Z"
   },
   {
    "duration": 47,
    "start_time": "2023-06-12T20:07:50.160Z"
   },
   {
    "duration": 44,
    "start_time": "2023-06-12T20:07:55.070Z"
   },
   {
    "duration": 1563,
    "start_time": "2023-06-12T20:10:27.937Z"
   },
   {
    "duration": 1981,
    "start_time": "2023-06-12T20:10:43.985Z"
   },
   {
    "duration": 39,
    "start_time": "2023-06-12T20:12:33.184Z"
   },
   {
    "duration": 44,
    "start_time": "2023-06-12T20:13:51.308Z"
   },
   {
    "duration": 243,
    "start_time": "2023-06-12T20:15:04.190Z"
   },
   {
    "duration": 34,
    "start_time": "2023-06-12T20:15:21.715Z"
   },
   {
    "duration": 186,
    "start_time": "2023-06-12T20:15:43.168Z"
   },
   {
    "duration": 141,
    "start_time": "2023-06-12T20:15:47.621Z"
   },
   {
    "duration": 37,
    "start_time": "2023-06-12T20:17:41.601Z"
   },
   {
    "duration": 15,
    "start_time": "2023-06-12T20:17:50.796Z"
   },
   {
    "duration": 325,
    "start_time": "2023-06-12T20:18:03.991Z"
   },
   {
    "duration": 261,
    "start_time": "2023-06-12T20:18:19.116Z"
   },
   {
    "duration": 606,
    "start_time": "2023-06-12T20:18:39.266Z"
   },
   {
    "duration": 726,
    "start_time": "2023-06-12T20:19:18.218Z"
   },
   {
    "duration": 41,
    "start_time": "2023-06-12T20:40:49.944Z"
   },
   {
    "duration": 26,
    "start_time": "2023-06-12T20:41:21.269Z"
   },
   {
    "duration": 42,
    "start_time": "2023-06-12T20:41:37.928Z"
   },
   {
    "duration": 48,
    "start_time": "2023-06-12T20:41:44.257Z"
   },
   {
    "duration": 1401,
    "start_time": "2023-06-12T20:43:59.769Z"
   },
   {
    "duration": 47,
    "start_time": "2023-06-12T20:44:27.095Z"
   },
   {
    "duration": 50,
    "start_time": "2023-06-12T20:44:42.148Z"
   },
   {
    "duration": 44,
    "start_time": "2023-06-12T20:48:54.661Z"
   },
   {
    "duration": 43,
    "start_time": "2023-06-12T20:49:31.098Z"
   },
   {
    "duration": 1645,
    "start_time": "2023-06-12T20:49:47.725Z"
   },
   {
    "duration": 226,
    "start_time": "2023-06-12T20:50:06.993Z"
   },
   {
    "duration": 41,
    "start_time": "2023-06-12T21:00:06.656Z"
   },
   {
    "duration": 49,
    "start_time": "2023-06-12T21:00:21.965Z"
   },
   {
    "duration": 192,
    "start_time": "2023-06-12T21:02:14.445Z"
   },
   {
    "duration": 31,
    "start_time": "2023-06-12T21:05:14.687Z"
   },
   {
    "duration": 30,
    "start_time": "2023-06-12T21:06:19.914Z"
   },
   {
    "duration": 357,
    "start_time": "2023-06-12T21:08:08.909Z"
   },
   {
    "duration": 410,
    "start_time": "2023-06-12T21:08:21.726Z"
   },
   {
    "duration": 381,
    "start_time": "2023-06-12T21:08:34.186Z"
   },
   {
    "duration": 477,
    "start_time": "2023-06-12T21:09:14.847Z"
   },
   {
    "duration": 553,
    "start_time": "2023-06-12T21:14:00.101Z"
   },
   {
    "duration": 425,
    "start_time": "2023-06-12T21:15:16.235Z"
   },
   {
    "duration": 423,
    "start_time": "2023-06-12T21:15:24.931Z"
   },
   {
    "duration": 431,
    "start_time": "2023-06-12T21:15:33.441Z"
   },
   {
    "duration": 477,
    "start_time": "2023-06-12T21:15:50.428Z"
   },
   {
    "duration": 589,
    "start_time": "2023-06-12T21:15:56.012Z"
   },
   {
    "duration": 479,
    "start_time": "2023-06-12T21:19:40.570Z"
   },
   {
    "duration": 438,
    "start_time": "2023-06-12T21:19:53.385Z"
   },
   {
    "duration": 19,
    "start_time": "2023-06-12T21:27:56.415Z"
   },
   {
    "duration": 16,
    "start_time": "2023-06-12T21:28:53.104Z"
   },
   {
    "duration": 39,
    "start_time": "2023-06-12T21:29:35.830Z"
   },
   {
    "duration": 273,
    "start_time": "2023-06-12T21:29:55.166Z"
   },
   {
    "duration": 189,
    "start_time": "2023-06-12T21:30:21.904Z"
   },
   {
    "duration": 287,
    "start_time": "2023-06-12T21:30:47.411Z"
   },
   {
    "duration": 250,
    "start_time": "2023-06-12T21:30:58.800Z"
   },
   {
    "duration": 265,
    "start_time": "2023-06-12T21:31:10.844Z"
   },
   {
    "duration": 1781,
    "start_time": "2023-06-12T21:31:50.770Z"
   },
   {
    "duration": 561,
    "start_time": "2023-06-12T21:32:03.066Z"
   },
   {
    "duration": 454,
    "start_time": "2023-06-12T21:32:15.362Z"
   },
   {
    "duration": 7,
    "start_time": "2023-06-12T21:40:22.169Z"
   },
   {
    "duration": 101,
    "start_time": "2023-06-12T21:40:22.187Z"
   },
   {
    "duration": 7,
    "start_time": "2023-06-12T21:40:22.291Z"
   },
   {
    "duration": 141,
    "start_time": "2023-06-12T21:40:22.303Z"
   },
   {
    "duration": 12,
    "start_time": "2023-06-12T21:40:22.447Z"
   },
   {
    "duration": 24,
    "start_time": "2023-06-12T21:40:22.462Z"
   },
   {
    "duration": 39,
    "start_time": "2023-06-12T21:40:22.488Z"
   },
   {
    "duration": 55,
    "start_time": "2023-06-12T21:40:22.529Z"
   },
   {
    "duration": 34,
    "start_time": "2023-06-12T21:40:22.587Z"
   },
   {
    "duration": 103,
    "start_time": "2023-06-12T21:40:22.622Z"
   },
   {
    "duration": 9,
    "start_time": "2023-06-12T21:40:22.727Z"
   },
   {
    "duration": 25,
    "start_time": "2023-06-12T21:40:22.737Z"
   },
   {
    "duration": 243,
    "start_time": "2023-06-12T21:40:22.763Z"
   },
   {
    "duration": 195,
    "start_time": "2023-06-12T21:40:23.008Z"
   },
   {
    "duration": 321,
    "start_time": "2023-06-12T21:40:23.206Z"
   },
   {
    "duration": 332,
    "start_time": "2023-06-12T21:40:23.529Z"
   },
   {
    "duration": 213,
    "start_time": "2023-06-12T21:40:23.862Z"
   },
   {
    "duration": 131,
    "start_time": "2023-06-12T21:40:24.077Z"
   },
   {
    "duration": 466,
    "start_time": "2023-06-12T21:40:24.213Z"
   },
   {
    "duration": 49,
    "start_time": "2023-06-12T21:40:24.685Z"
   },
   {
    "duration": 368,
    "start_time": "2023-06-12T21:40:24.736Z"
   },
   {
    "duration": 233,
    "start_time": "2023-06-12T21:40:25.105Z"
   },
   {
    "duration": 181,
    "start_time": "2023-06-12T21:40:25.340Z"
   },
   {
    "duration": 64,
    "start_time": "2023-06-12T21:40:25.524Z"
   },
   {
    "duration": 264,
    "start_time": "2023-06-12T21:40:25.589Z"
   },
   {
    "duration": 596,
    "start_time": "2023-06-12T21:40:25.855Z"
   },
   {
    "duration": 541,
    "start_time": "2023-06-12T21:40:26.453Z"
   },
   {
    "duration": 36,
    "start_time": "2023-06-12T21:42:40.468Z"
   },
   {
    "duration": 35,
    "start_time": "2023-06-12T21:42:51.156Z"
   },
   {
    "duration": 40,
    "start_time": "2023-06-12T21:43:33.172Z"
   },
   {
    "duration": 31,
    "start_time": "2023-06-12T21:43:47.670Z"
   },
   {
    "duration": 28,
    "start_time": "2023-06-12T21:43:54.356Z"
   },
   {
    "duration": 27,
    "start_time": "2023-06-12T21:44:17.644Z"
   },
   {
    "duration": 547,
    "start_time": "2023-06-12T21:44:42.334Z"
   },
   {
    "duration": 1823,
    "start_time": "2023-06-13T07:55:35.590Z"
   },
   {
    "duration": 168,
    "start_time": "2023-06-13T07:55:37.415Z"
   },
   {
    "duration": 8,
    "start_time": "2023-06-13T07:55:37.586Z"
   },
   {
    "duration": 175,
    "start_time": "2023-06-13T07:55:37.596Z"
   },
   {
    "duration": 23,
    "start_time": "2023-06-13T07:55:37.772Z"
   },
   {
    "duration": 24,
    "start_time": "2023-06-13T07:55:37.797Z"
   },
   {
    "duration": 33,
    "start_time": "2023-06-13T07:55:37.823Z"
   },
   {
    "duration": 70,
    "start_time": "2023-06-13T07:55:37.863Z"
   },
   {
    "duration": 16,
    "start_time": "2023-06-13T07:55:37.936Z"
   },
   {
    "duration": 145,
    "start_time": "2023-06-13T07:55:37.955Z"
   },
   {
    "duration": 24,
    "start_time": "2023-06-13T07:55:38.103Z"
   },
   {
    "duration": 48,
    "start_time": "2023-06-13T07:55:38.130Z"
   },
   {
    "duration": 343,
    "start_time": "2023-06-13T07:55:38.180Z"
   },
   {
    "duration": 244,
    "start_time": "2023-06-13T07:55:38.529Z"
   },
   {
    "duration": 333,
    "start_time": "2023-06-13T07:55:38.776Z"
   },
   {
    "duration": 412,
    "start_time": "2023-06-13T07:55:39.113Z"
   },
   {
    "duration": 184,
    "start_time": "2023-06-13T07:55:39.527Z"
   },
   {
    "duration": 146,
    "start_time": "2023-06-13T07:55:39.713Z"
   },
   {
    "duration": 347,
    "start_time": "2023-06-13T07:55:39.863Z"
   },
   {
    "duration": 74,
    "start_time": "2023-06-13T07:55:40.213Z"
   },
   {
    "duration": 429,
    "start_time": "2023-06-13T07:55:40.289Z"
   },
   {
    "duration": 214,
    "start_time": "2023-06-13T07:55:40.721Z"
   },
   {
    "duration": 175,
    "start_time": "2023-06-13T07:55:40.941Z"
   },
   {
    "duration": 66,
    "start_time": "2023-06-13T07:55:41.119Z"
   },
   {
    "duration": 275,
    "start_time": "2023-06-13T07:55:41.189Z"
   },
   {
    "duration": 631,
    "start_time": "2023-06-13T07:55:41.468Z"
   },
   {
    "duration": 584,
    "start_time": "2023-06-13T07:55:42.105Z"
   },
   {
    "duration": 655,
    "start_time": "2023-06-13T07:55:42.694Z"
   },
   {
    "duration": 164,
    "start_time": "2023-06-13T07:55:43.362Z"
   },
   {
    "duration": 21,
    "start_time": "2023-06-13T08:02:37.017Z"
   },
   {
    "duration": 110,
    "start_time": "2023-06-13T08:08:04.975Z"
   },
   {
    "duration": 262,
    "start_time": "2023-06-13T08:12:43.544Z"
   },
   {
    "duration": 21175,
    "start_time": "2023-06-13T08:13:15.501Z"
   },
   {
    "duration": 22284,
    "start_time": "2023-06-13T08:13:51.025Z"
   },
   {
    "duration": 30,
    "start_time": "2023-06-13T08:14:35.928Z"
   },
   {
    "duration": 893,
    "start_time": "2023-06-13T08:15:19.817Z"
   },
   {
    "duration": 26427,
    "start_time": "2023-06-13T08:15:38.295Z"
   },
   {
    "duration": 414,
    "start_time": "2023-06-13T08:16:29.257Z"
   },
   {
    "duration": 22643,
    "start_time": "2023-06-13T08:17:04.434Z"
   },
   {
    "duration": 24652,
    "start_time": "2023-06-13T08:17:54.112Z"
   },
   {
    "duration": 31398,
    "start_time": "2023-06-13T08:18:26.002Z"
   },
   {
    "duration": 22883,
    "start_time": "2023-06-13T08:19:41.029Z"
   },
   {
    "duration": 28703,
    "start_time": "2023-06-13T08:20:23.380Z"
   },
   {
    "duration": 26,
    "start_time": "2023-06-13T08:26:12.008Z"
   },
   {
    "duration": 26,
    "start_time": "2023-06-13T08:26:21.988Z"
   },
   {
    "duration": 20,
    "start_time": "2023-06-13T08:26:43.305Z"
   },
   {
    "duration": 20,
    "start_time": "2023-06-13T08:26:53.195Z"
   },
   {
    "duration": 52,
    "start_time": "2023-06-13T08:27:44.076Z"
   },
   {
    "duration": 225,
    "start_time": "2023-06-13T08:28:07.313Z"
   },
   {
    "duration": 48,
    "start_time": "2023-06-13T08:28:12.721Z"
   },
   {
    "duration": 60,
    "start_time": "2023-06-13T08:29:23.243Z"
   },
   {
    "duration": 512,
    "start_time": "2023-06-13T08:30:04.485Z"
   },
   {
    "duration": 365,
    "start_time": "2023-06-13T08:30:56.917Z"
   },
   {
    "duration": 444,
    "start_time": "2023-06-13T08:34:19.825Z"
   },
   {
    "duration": 327,
    "start_time": "2023-06-13T08:34:25.584Z"
   },
   {
    "duration": 464,
    "start_time": "2023-06-13T08:37:04.748Z"
   },
   {
    "duration": 631,
    "start_time": "2023-06-13T08:37:18.907Z"
   },
   {
    "duration": 86,
    "start_time": "2023-06-13T08:38:28.306Z"
   },
   {
    "duration": 445,
    "start_time": "2023-06-13T08:38:37.229Z"
   },
   {
    "duration": 499,
    "start_time": "2023-06-13T08:38:42.116Z"
   },
   {
    "duration": 420,
    "start_time": "2023-06-13T08:38:47.696Z"
   },
   {
    "duration": 101,
    "start_time": "2023-06-13T08:41:00.611Z"
   },
   {
    "duration": 14,
    "start_time": "2023-06-13T08:41:43.904Z"
   },
   {
    "duration": 341,
    "start_time": "2023-06-13T08:41:43.932Z"
   },
   {
    "duration": 32,
    "start_time": "2023-06-13T08:41:44.279Z"
   },
   {
    "duration": 424,
    "start_time": "2023-06-13T08:41:44.322Z"
   },
   {
    "duration": 25,
    "start_time": "2023-06-13T08:41:44.753Z"
   },
   {
    "duration": 217,
    "start_time": "2023-06-13T08:41:44.784Z"
   },
   {
    "duration": 209,
    "start_time": "2023-06-13T08:41:45.012Z"
   },
   {
    "duration": 370,
    "start_time": "2023-06-13T08:41:45.227Z"
   },
   {
    "duration": 24,
    "start_time": "2023-06-13T08:41:45.609Z"
   },
   {
    "duration": 302,
    "start_time": "2023-06-13T08:41:45.640Z"
   },
   {
    "duration": 17,
    "start_time": "2023-06-13T08:41:45.944Z"
   },
   {
    "duration": 143,
    "start_time": "2023-06-13T08:41:45.965Z"
   },
   {
    "duration": 436,
    "start_time": "2023-06-13T08:41:46.115Z"
   },
   {
    "duration": 235,
    "start_time": "2023-06-13T08:41:46.563Z"
   },
   {
    "duration": 327,
    "start_time": "2023-06-13T08:41:46.804Z"
   },
   {
    "duration": 464,
    "start_time": "2023-06-13T08:41:47.137Z"
   },
   {
    "duration": 229,
    "start_time": "2023-06-13T08:41:47.609Z"
   },
   {
    "duration": 169,
    "start_time": "2023-06-13T08:41:47.845Z"
   },
   {
    "duration": 454,
    "start_time": "2023-06-13T08:41:48.021Z"
   },
   {
    "duration": 64,
    "start_time": "2023-06-13T08:41:48.482Z"
   },
   {
    "duration": 581,
    "start_time": "2023-06-13T08:41:48.552Z"
   },
   {
    "duration": 511,
    "start_time": "2023-06-13T08:41:49.139Z"
   },
   {
    "duration": 303,
    "start_time": "2023-06-13T08:41:49.665Z"
   },
   {
    "duration": 86,
    "start_time": "2023-06-13T08:41:49.977Z"
   },
   {
    "duration": 447,
    "start_time": "2023-06-13T08:41:50.069Z"
   },
   {
    "duration": 797,
    "start_time": "2023-06-13T08:41:50.522Z"
   },
   {
    "duration": 3742,
    "start_time": "2023-06-13T08:41:51.328Z"
   },
   {
    "duration": 1002,
    "start_time": "2023-06-13T08:41:55.077Z"
   },
   {
    "duration": 168,
    "start_time": "2023-06-13T08:41:56.095Z"
   },
   {
    "duration": 596,
    "start_time": "2023-06-13T08:42:01.979Z"
   },
   {
    "duration": 833,
    "start_time": "2023-06-13T08:42:17.142Z"
   },
   {
    "duration": 670,
    "start_time": "2023-06-13T08:42:24.797Z"
   },
   {
    "duration": 1257,
    "start_time": "2023-06-13T08:42:33.919Z"
   },
   {
    "duration": 1411,
    "start_time": "2023-06-13T08:42:40.239Z"
   },
   {
    "duration": 1311,
    "start_time": "2023-06-13T08:42:46.636Z"
   },
   {
    "duration": 1369,
    "start_time": "2023-06-13T08:42:55.662Z"
   },
   {
    "duration": 68,
    "start_time": "2023-06-13T08:43:15.227Z"
   },
   {
    "duration": 488,
    "start_time": "2023-06-13T08:43:42.421Z"
   },
   {
    "duration": 728,
    "start_time": "2023-06-13T08:43:50.208Z"
   },
   {
    "duration": 429,
    "start_time": "2023-06-13T08:43:54.492Z"
   },
   {
    "duration": 710,
    "start_time": "2023-06-13T08:44:02.493Z"
   },
   {
    "duration": 419,
    "start_time": "2023-06-13T08:44:07.964Z"
   },
   {
    "duration": 569,
    "start_time": "2023-06-13T08:44:13.757Z"
   },
   {
    "duration": 104,
    "start_time": "2023-06-13T08:44:23.287Z"
   },
   {
    "duration": 107,
    "start_time": "2023-06-13T08:44:31.171Z"
   },
   {
    "duration": 430,
    "start_time": "2023-06-13T08:44:52.388Z"
   },
   {
    "duration": 122,
    "start_time": "2023-06-13T08:44:59.197Z"
   },
   {
    "duration": 636,
    "start_time": "2023-06-13T08:45:06.519Z"
   },
   {
    "duration": 693,
    "start_time": "2023-06-13T08:45:51.638Z"
   },
   {
    "duration": 514,
    "start_time": "2023-06-13T08:46:31.908Z"
   },
   {
    "duration": 351,
    "start_time": "2023-06-13T08:46:46.438Z"
   },
   {
    "duration": 654,
    "start_time": "2023-06-13T08:47:00.449Z"
   },
   {
    "duration": 446,
    "start_time": "2023-06-13T08:52:06.909Z"
   },
   {
    "duration": 721,
    "start_time": "2023-06-13T08:52:21.185Z"
   },
   {
    "duration": 491,
    "start_time": "2023-06-13T08:52:35.196Z"
   },
   {
    "duration": 50,
    "start_time": "2023-06-13T08:53:06.941Z"
   },
   {
    "duration": 1319,
    "start_time": "2023-06-13T12:30:29.252Z"
   },
   {
    "duration": 135,
    "start_time": "2023-06-13T12:30:30.573Z"
   },
   {
    "duration": 5,
    "start_time": "2023-06-13T12:30:30.710Z"
   },
   {
    "duration": 282,
    "start_time": "2023-06-13T12:30:30.718Z"
   },
   {
    "duration": 11,
    "start_time": "2023-06-13T12:30:31.016Z"
   },
   {
    "duration": 55,
    "start_time": "2023-06-13T12:30:31.029Z"
   },
   {
    "duration": 75,
    "start_time": "2023-06-13T12:30:31.086Z"
   },
   {
    "duration": 76,
    "start_time": "2023-06-13T12:30:31.162Z"
   },
   {
    "duration": 6,
    "start_time": "2023-06-13T12:30:31.239Z"
   },
   {
    "duration": 128,
    "start_time": "2023-06-13T12:30:31.249Z"
   },
   {
    "duration": 60,
    "start_time": "2023-06-13T12:30:31.379Z"
   },
   {
    "duration": 44,
    "start_time": "2023-06-13T12:30:31.441Z"
   },
   {
    "duration": 222,
    "start_time": "2023-06-13T12:30:31.486Z"
   },
   {
    "duration": 160,
    "start_time": "2023-06-13T12:30:31.710Z"
   },
   {
    "duration": 192,
    "start_time": "2023-06-13T12:30:31.873Z"
   },
   {
    "duration": 244,
    "start_time": "2023-06-13T12:30:32.066Z"
   },
   {
    "duration": 132,
    "start_time": "2023-06-13T12:30:32.311Z"
   },
   {
    "duration": 90,
    "start_time": "2023-06-13T12:30:32.444Z"
   },
   {
    "duration": 233,
    "start_time": "2023-06-13T12:30:32.536Z"
   },
   {
    "duration": 23,
    "start_time": "2023-06-13T12:30:32.771Z"
   },
   {
    "duration": 314,
    "start_time": "2023-06-13T12:30:32.796Z"
   },
   {
    "duration": 168,
    "start_time": "2023-06-13T12:30:33.112Z"
   },
   {
    "duration": 128,
    "start_time": "2023-06-13T12:30:33.281Z"
   },
   {
    "duration": 41,
    "start_time": "2023-06-13T12:30:33.415Z"
   },
   {
    "duration": 221,
    "start_time": "2023-06-13T12:30:33.457Z"
   },
   {
    "duration": 412,
    "start_time": "2023-06-13T12:30:33.680Z"
   },
   {
    "duration": 414,
    "start_time": "2023-06-13T12:30:34.093Z"
   },
   {
    "duration": 452,
    "start_time": "2023-06-13T12:30:34.510Z"
   },
   {
    "duration": 172,
    "start_time": "2023-06-13T12:30:34.963Z"
   },
   {
    "duration": 10,
    "start_time": "2023-06-13T12:30:35.136Z"
   },
   {
    "duration": 4,
    "start_time": "2023-06-13T12:32:31.226Z"
   },
   {
    "duration": 4,
    "start_time": "2023-06-13T12:32:47.294Z"
   },
   {
    "duration": 259,
    "start_time": "2023-06-13T12:33:30.731Z"
   },
   {
    "duration": 2,
    "start_time": "2023-06-13T12:41:02.197Z"
   },
   {
    "duration": 117,
    "start_time": "2023-06-13T12:42:12.206Z"
   },
   {
    "duration": 11,
    "start_time": "2023-06-13T12:42:41.328Z"
   },
   {
    "duration": 53,
    "start_time": "2023-06-13T12:42:48.887Z"
   },
   {
    "duration": 16,
    "start_time": "2023-06-13T12:43:16.795Z"
   },
   {
    "duration": 82,
    "start_time": "2023-06-13T12:43:52.990Z"
   },
   {
    "duration": 232,
    "start_time": "2023-06-13T12:46:26.533Z"
   },
   {
    "duration": 39,
    "start_time": "2023-06-13T12:47:54.628Z"
   },
   {
    "duration": 10,
    "start_time": "2023-06-13T12:47:59.711Z"
   },
   {
    "duration": 35,
    "start_time": "2023-06-13T12:48:20.423Z"
   },
   {
    "duration": 10,
    "start_time": "2023-06-13T12:48:26.556Z"
   },
   {
    "duration": 110,
    "start_time": "2023-06-13T12:48:31.223Z"
   },
   {
    "duration": 4,
    "start_time": "2023-06-13T12:48:57.455Z"
   },
   {
    "duration": 61,
    "start_time": "2023-06-13T12:48:57.482Z"
   },
   {
    "duration": 5,
    "start_time": "2023-06-13T12:48:57.545Z"
   },
   {
    "duration": 94,
    "start_time": "2023-06-13T12:48:57.551Z"
   },
   {
    "duration": 11,
    "start_time": "2023-06-13T12:48:57.647Z"
   },
   {
    "duration": 13,
    "start_time": "2023-06-13T12:48:57.660Z"
   },
   {
    "duration": 13,
    "start_time": "2023-06-13T12:48:57.675Z"
   },
   {
    "duration": 37,
    "start_time": "2023-06-13T12:48:57.715Z"
   },
   {
    "duration": 5,
    "start_time": "2023-06-13T12:48:57.754Z"
   },
   {
    "duration": 74,
    "start_time": "2023-06-13T12:48:57.760Z"
   },
   {
    "duration": 9,
    "start_time": "2023-06-13T12:48:57.835Z"
   },
   {
    "duration": 23,
    "start_time": "2023-06-13T12:48:57.846Z"
   },
   {
    "duration": 181,
    "start_time": "2023-06-13T12:48:57.870Z"
   },
   {
    "duration": 147,
    "start_time": "2023-06-13T12:48:58.052Z"
   },
   {
    "duration": 183,
    "start_time": "2023-06-13T12:48:58.202Z"
   },
   {
    "duration": 313,
    "start_time": "2023-06-13T12:48:58.387Z"
   },
   {
    "duration": 125,
    "start_time": "2023-06-13T12:48:58.702Z"
   },
   {
    "duration": 98,
    "start_time": "2023-06-13T12:48:58.828Z"
   },
   {
    "duration": 222,
    "start_time": "2023-06-13T12:48:58.927Z"
   },
   {
    "duration": 21,
    "start_time": "2023-06-13T12:48:59.150Z"
   },
   {
    "duration": 233,
    "start_time": "2023-06-13T12:48:59.173Z"
   },
   {
    "duration": 166,
    "start_time": "2023-06-13T12:48:59.408Z"
   },
   {
    "duration": 121,
    "start_time": "2023-06-13T12:48:59.575Z"
   },
   {
    "duration": 42,
    "start_time": "2023-06-13T12:48:59.698Z"
   },
   {
    "duration": 191,
    "start_time": "2023-06-13T12:48:59.742Z"
   },
   {
    "duration": 405,
    "start_time": "2023-06-13T12:48:59.934Z"
   },
   {
    "duration": 400,
    "start_time": "2023-06-13T12:49:00.340Z"
   },
   {
    "duration": 525,
    "start_time": "2023-06-13T12:49:00.741Z"
   },
   {
    "duration": 186,
    "start_time": "2023-06-13T12:49:01.267Z"
   },
   {
    "duration": 12,
    "start_time": "2023-06-13T12:49:01.454Z"
   },
   {
    "duration": 217,
    "start_time": "2023-06-13T12:49:01.467Z"
   },
   {
    "duration": 4,
    "start_time": "2023-06-13T12:51:07.884Z"
   },
   {
    "duration": 3,
    "start_time": "2023-06-13T12:51:48.426Z"
   },
   {
    "duration": 73,
    "start_time": "2023-06-13T12:52:16.626Z"
   },
   {
    "duration": 4,
    "start_time": "2023-06-13T12:52:23.003Z"
   },
   {
    "duration": 3,
    "start_time": "2023-06-13T12:52:37.414Z"
   },
   {
    "duration": 8370,
    "start_time": "2023-06-13T12:52:56.413Z"
   },
   {
    "duration": 4,
    "start_time": "2023-06-13T12:54:43.682Z"
   },
   {
    "duration": 20401,
    "start_time": "2023-06-13T12:57:12.306Z"
   },
   {
    "duration": 41874,
    "start_time": "2023-06-13T12:59:37.193Z"
   },
   {
    "duration": 1859,
    "start_time": "2023-06-13T18:23:29.484Z"
   },
   {
    "duration": 130,
    "start_time": "2023-06-13T18:23:31.345Z"
   },
   {
    "duration": 5,
    "start_time": "2023-06-13T18:23:31.476Z"
   },
   {
    "duration": 180,
    "start_time": "2023-06-13T18:23:31.483Z"
   },
   {
    "duration": 13,
    "start_time": "2023-06-13T18:23:31.666Z"
   },
   {
    "duration": 50,
    "start_time": "2023-06-13T18:23:31.697Z"
   },
   {
    "duration": 31,
    "start_time": "2023-06-13T18:23:31.749Z"
   },
   {
    "duration": 93,
    "start_time": "2023-06-13T18:23:31.783Z"
   },
   {
    "duration": 59,
    "start_time": "2023-06-13T18:23:31.878Z"
   },
   {
    "duration": 111,
    "start_time": "2023-06-13T18:23:31.941Z"
   },
   {
    "duration": 10,
    "start_time": "2023-06-13T18:23:32.054Z"
   },
   {
    "duration": 36,
    "start_time": "2023-06-13T18:23:32.066Z"
   },
   {
    "duration": 279,
    "start_time": "2023-06-13T18:23:32.104Z"
   },
   {
    "duration": 253,
    "start_time": "2023-06-13T18:23:32.387Z"
   },
   {
    "duration": 231,
    "start_time": "2023-06-13T18:23:32.642Z"
   },
   {
    "duration": 366,
    "start_time": "2023-06-13T18:23:32.874Z"
   },
   {
    "duration": 178,
    "start_time": "2023-06-13T18:23:33.242Z"
   },
   {
    "duration": 109,
    "start_time": "2023-06-13T18:23:33.422Z"
   },
   {
    "duration": 281,
    "start_time": "2023-06-13T18:23:33.533Z"
   },
   {
    "duration": 23,
    "start_time": "2023-06-13T18:23:33.816Z"
   },
   {
    "duration": 281,
    "start_time": "2023-06-13T18:23:33.841Z"
   },
   {
    "duration": 211,
    "start_time": "2023-06-13T18:23:34.123Z"
   },
   {
    "duration": 162,
    "start_time": "2023-06-13T18:23:34.335Z"
   },
   {
    "duration": 44,
    "start_time": "2023-06-13T18:23:34.503Z"
   },
   {
    "duration": 253,
    "start_time": "2023-06-13T18:23:34.549Z"
   },
   {
    "duration": 551,
    "start_time": "2023-06-13T18:23:34.807Z"
   },
   {
    "duration": 586,
    "start_time": "2023-06-13T18:23:35.360Z"
   },
   {
    "duration": 698,
    "start_time": "2023-06-13T18:23:35.948Z"
   },
   {
    "duration": 212,
    "start_time": "2023-06-13T18:23:36.648Z"
   },
   {
    "duration": 11,
    "start_time": "2023-06-13T18:23:36.861Z"
   },
   {
    "duration": 209,
    "start_time": "2023-06-13T18:23:36.874Z"
   },
   {
    "duration": 1333,
    "start_time": "2023-06-13T18:23:37.085Z"
   },
   {
    "duration": 19297,
    "start_time": "2023-06-13T18:24:08.240Z"
   },
   {
    "duration": 18,
    "start_time": "2023-06-13T18:26:15.133Z"
   },
   {
    "duration": 136,
    "start_time": "2023-06-13T18:26:56.349Z"
   },
   {
    "duration": 43,
    "start_time": "2023-06-13T18:27:01.481Z"
   },
   {
    "duration": 925,
    "start_time": "2023-06-13T18:27:05.348Z"
   },
   {
    "duration": 728,
    "start_time": "2023-06-13T18:27:40.623Z"
   },
   {
    "duration": 749,
    "start_time": "2023-06-13T18:28:49.243Z"
   },
   {
    "duration": 36,
    "start_time": "2023-06-13T18:29:24.944Z"
   },
   {
    "duration": 41,
    "start_time": "2023-06-13T18:29:31.888Z"
   },
   {
    "duration": 827,
    "start_time": "2023-06-13T18:30:17.549Z"
   },
   {
    "duration": 1825,
    "start_time": "2023-06-13T18:31:22.509Z"
   },
   {
    "duration": 6,
    "start_time": "2023-06-13T18:33:56.085Z"
   },
   {
    "duration": 5,
    "start_time": "2023-06-13T18:34:20.328Z"
   },
   {
    "duration": 16,
    "start_time": "2023-06-13T18:35:00.264Z"
   },
   {
    "duration": 4,
    "start_time": "2023-06-13T18:35:34.480Z"
   },
   {
    "duration": 116,
    "start_time": "2023-06-13T18:35:47.581Z"
   },
   {
    "duration": 15,
    "start_time": "2023-06-13T18:35:52.043Z"
   },
   {
    "duration": 80,
    "start_time": "2023-06-13T18:42:29.447Z"
   },
   {
    "duration": 74,
    "start_time": "2023-06-13T18:42:41.112Z"
   },
   {
    "duration": 18,
    "start_time": "2023-06-13T18:42:53.482Z"
   },
   {
    "duration": 29,
    "start_time": "2023-06-13T18:43:19.580Z"
   },
   {
    "duration": 291,
    "start_time": "2023-06-13T18:44:07.194Z"
   },
   {
    "duration": 3,
    "start_time": "2023-06-13T18:45:58.677Z"
   },
   {
    "duration": 636,
    "start_time": "2023-06-13T18:48:59.421Z"
   },
   {
    "duration": 653,
    "start_time": "2023-06-13T18:49:28.109Z"
   },
   {
    "duration": 622,
    "start_time": "2023-06-13T18:50:43.693Z"
   },
   {
    "duration": 631,
    "start_time": "2023-06-13T18:50:52.031Z"
   },
   {
    "duration": 235,
    "start_time": "2023-06-13T18:52:52.835Z"
   },
   {
    "duration": 33,
    "start_time": "2023-06-13T18:55:04.929Z"
   },
   {
    "duration": 611,
    "start_time": "2023-06-13T18:55:19.690Z"
   },
   {
    "duration": 82,
    "start_time": "2023-06-13T18:55:43.290Z"
   },
   {
    "duration": 75,
    "start_time": "2023-06-13T18:55:55.750Z"
   },
   {
    "duration": 718,
    "start_time": "2023-06-13T18:56:16.306Z"
   },
   {
    "duration": 67,
    "start_time": "2023-06-13T18:56:28.117Z"
   },
   {
    "duration": 633,
    "start_time": "2023-06-13T18:56:47.533Z"
   },
   {
    "duration": 62,
    "start_time": "2023-06-13T18:57:05.695Z"
   },
   {
    "duration": 25,
    "start_time": "2023-06-13T18:57:27.491Z"
   },
   {
    "duration": 88,
    "start_time": "2023-06-13T18:57:39.818Z"
   },
   {
    "duration": 6,
    "start_time": "2023-06-13T18:58:10.084Z"
   },
   {
    "duration": 85,
    "start_time": "2023-06-13T18:58:32.384Z"
   },
   {
    "duration": 87,
    "start_time": "2023-06-13T18:58:40.486Z"
   },
   {
    "duration": 118,
    "start_time": "2023-06-13T19:00:34.711Z"
   },
   {
    "duration": 86,
    "start_time": "2023-06-13T19:00:48.276Z"
   },
   {
    "duration": 102,
    "start_time": "2023-06-13T19:03:53.889Z"
   },
   {
    "duration": 98,
    "start_time": "2023-06-13T19:03:59.342Z"
   },
   {
    "duration": 99,
    "start_time": "2023-06-13T19:04:05.889Z"
   },
   {
    "duration": 100,
    "start_time": "2023-06-13T19:04:33.689Z"
   },
   {
    "duration": 135,
    "start_time": "2023-06-13T19:05:06.589Z"
   },
   {
    "duration": 124,
    "start_time": "2023-06-13T19:05:16.419Z"
   },
   {
    "duration": 402,
    "start_time": "2023-06-13T19:06:41.022Z"
   },
   {
    "duration": 40,
    "start_time": "2023-06-13T19:08:45.189Z"
   },
   {
    "duration": 86,
    "start_time": "2023-06-13T19:09:04.153Z"
   },
   {
    "duration": 82,
    "start_time": "2023-06-13T19:09:36.895Z"
   },
   {
    "duration": 96,
    "start_time": "2023-06-13T19:09:47.545Z"
   },
   {
    "duration": 84,
    "start_time": "2023-06-13T19:10:03.189Z"
   },
   {
    "duration": 28,
    "start_time": "2023-06-13T19:12:07.437Z"
   },
   {
    "duration": 26,
    "start_time": "2023-06-13T19:12:29.890Z"
   },
   {
    "duration": 27,
    "start_time": "2023-06-13T19:13:14.081Z"
   },
   {
    "duration": 66,
    "start_time": "2023-06-13T19:13:28.624Z"
   },
   {
    "duration": 17,
    "start_time": "2023-06-13T19:13:48.809Z"
   },
   {
    "duration": 26,
    "start_time": "2023-06-13T19:14:24.417Z"
   },
   {
    "duration": 100,
    "start_time": "2023-06-13T19:14:28.848Z"
   },
   {
    "duration": 31,
    "start_time": "2023-06-13T19:15:10.216Z"
   },
   {
    "duration": 22,
    "start_time": "2023-06-13T19:15:19.018Z"
   },
   {
    "duration": 100,
    "start_time": "2023-06-13T19:15:23.135Z"
   },
   {
    "duration": 132,
    "start_time": "2023-06-13T19:16:25.116Z"
   },
   {
    "duration": 134,
    "start_time": "2023-06-13T19:20:05.460Z"
   },
   {
    "duration": 100,
    "start_time": "2023-06-13T19:20:23.431Z"
   },
   {
    "duration": 121,
    "start_time": "2023-06-13T19:20:30.479Z"
   },
   {
    "duration": 98,
    "start_time": "2023-06-13T19:20:43.128Z"
   },
   {
    "duration": 105,
    "start_time": "2023-06-13T19:21:54.107Z"
   },
   {
    "duration": 149,
    "start_time": "2023-06-13T19:25:48.377Z"
   },
   {
    "duration": 149,
    "start_time": "2023-06-13T19:26:16.177Z"
   },
   {
    "duration": 145,
    "start_time": "2023-06-13T19:26:22.283Z"
   },
   {
    "duration": 99,
    "start_time": "2023-06-13T19:29:26.079Z"
   },
   {
    "duration": 120,
    "start_time": "2023-06-13T19:29:32.998Z"
   },
   {
    "duration": 148,
    "start_time": "2023-06-13T19:30:24.691Z"
   },
   {
    "duration": 1523,
    "start_time": "2023-06-13T19:37:41.191Z"
   },
   {
    "duration": 1687,
    "start_time": "2023-06-13T19:37:56.540Z"
   },
   {
    "duration": 221,
    "start_time": "2023-06-13T19:38:19.888Z"
   },
   {
    "duration": 1653,
    "start_time": "2023-06-13T19:38:41.972Z"
   },
   {
    "duration": 7,
    "start_time": "2023-06-13T19:40:51.505Z"
   },
   {
    "duration": 71,
    "start_time": "2023-06-13T19:40:51.529Z"
   },
   {
    "duration": 6,
    "start_time": "2023-06-13T19:40:51.602Z"
   },
   {
    "duration": 138,
    "start_time": "2023-06-13T19:40:51.610Z"
   },
   {
    "duration": 14,
    "start_time": "2023-06-13T19:40:51.751Z"
   },
   {
    "duration": 37,
    "start_time": "2023-06-13T19:40:51.766Z"
   },
   {
    "duration": 38,
    "start_time": "2023-06-13T19:40:51.807Z"
   },
   {
    "duration": 39,
    "start_time": "2023-06-13T19:40:51.847Z"
   },
   {
    "duration": 13,
    "start_time": "2023-06-13T19:40:51.888Z"
   },
   {
    "duration": 111,
    "start_time": "2023-06-13T19:40:51.903Z"
   },
   {
    "duration": 9,
    "start_time": "2023-06-13T19:40:52.018Z"
   },
   {
    "duration": 58,
    "start_time": "2023-06-13T19:40:52.028Z"
   },
   {
    "duration": 227,
    "start_time": "2023-06-13T19:40:52.088Z"
   },
   {
    "duration": 156,
    "start_time": "2023-06-13T19:40:52.317Z"
   },
   {
    "duration": 212,
    "start_time": "2023-06-13T19:40:52.476Z"
   },
   {
    "duration": 272,
    "start_time": "2023-06-13T19:40:52.690Z"
   },
   {
    "duration": 148,
    "start_time": "2023-06-13T19:40:52.963Z"
   },
   {
    "duration": 107,
    "start_time": "2023-06-13T19:40:53.115Z"
   },
   {
    "duration": 291,
    "start_time": "2023-06-13T19:40:53.224Z"
   },
   {
    "duration": 25,
    "start_time": "2023-06-13T19:40:53.517Z"
   },
   {
    "duration": 293,
    "start_time": "2023-06-13T19:40:53.543Z"
   },
   {
    "duration": 202,
    "start_time": "2023-06-13T19:40:53.838Z"
   },
   {
    "duration": 143,
    "start_time": "2023-06-13T19:40:54.042Z"
   },
   {
    "duration": 57,
    "start_time": "2023-06-13T19:40:54.187Z"
   },
   {
    "duration": 220,
    "start_time": "2023-06-13T19:40:54.247Z"
   },
   {
    "duration": 529,
    "start_time": "2023-06-13T19:40:54.468Z"
   },
   {
    "duration": 472,
    "start_time": "2023-06-13T19:40:54.999Z"
   },
   {
    "duration": 511,
    "start_time": "2023-06-13T19:40:55.472Z"
   },
   {
    "duration": 232,
    "start_time": "2023-06-13T19:40:55.986Z"
   },
   {
    "duration": 12,
    "start_time": "2023-06-13T19:40:56.220Z"
   },
   {
    "duration": 304,
    "start_time": "2023-06-13T19:40:56.234Z"
   },
   {
    "duration": 15988,
    "start_time": "2023-06-13T19:40:56.540Z"
   },
   {
    "duration": 602,
    "start_time": "2023-06-13T19:41:12.530Z"
   },
   {
    "duration": 103,
    "start_time": "2023-06-13T19:41:13.134Z"
   },
   {
    "duration": 108,
    "start_time": "2023-06-13T19:41:43.511Z"
   },
   {
    "duration": 31,
    "start_time": "2023-06-13T19:43:06.916Z"
   },
   {
    "duration": 96,
    "start_time": "2023-06-13T19:43:28.444Z"
   },
   {
    "duration": 79,
    "start_time": "2023-06-13T19:43:54.590Z"
   },
   {
    "duration": 75,
    "start_time": "2023-06-13T19:44:03.603Z"
   },
   {
    "duration": 106,
    "start_time": "2023-06-13T19:44:12.275Z"
   },
   {
    "duration": 14,
    "start_time": "2023-06-13T19:44:41.137Z"
   },
   {
    "duration": 21,
    "start_time": "2023-06-13T19:44:52.889Z"
   },
   {
    "duration": 92,
    "start_time": "2023-06-13T19:46:18.724Z"
   },
   {
    "duration": 14,
    "start_time": "2023-06-13T19:46:58.123Z"
   },
   {
    "duration": 21,
    "start_time": "2023-06-13T19:48:00.381Z"
   },
   {
    "duration": 172,
    "start_time": "2023-06-13T19:50:16.732Z"
   },
   {
    "duration": 164,
    "start_time": "2023-06-13T19:50:38.947Z"
   },
   {
    "duration": 106,
    "start_time": "2023-06-13T19:54:00.072Z"
   },
   {
    "duration": 49,
    "start_time": "2023-06-13T19:54:24.378Z"
   },
   {
    "duration": 42,
    "start_time": "2023-06-13T19:55:01.317Z"
   },
   {
    "duration": 92,
    "start_time": "2023-06-13T19:56:38.537Z"
   },
   {
    "duration": 66,
    "start_time": "2023-06-13T19:56:42.991Z"
   },
   {
    "duration": 21,
    "start_time": "2023-06-13T19:56:56.157Z"
   },
   {
    "duration": 31,
    "start_time": "2023-06-13T19:58:20.225Z"
   },
   {
    "duration": 44,
    "start_time": "2023-06-13T19:58:58.210Z"
   },
   {
    "duration": 108,
    "start_time": "2023-06-13T19:59:18.527Z"
   },
   {
    "duration": 141,
    "start_time": "2023-06-13T19:59:25.751Z"
   },
   {
    "duration": 29,
    "start_time": "2023-06-13T19:59:32.652Z"
   },
   {
    "duration": 226,
    "start_time": "2023-06-13T19:59:37.926Z"
   },
   {
    "duration": 40,
    "start_time": "2023-06-13T20:00:01.929Z"
   },
   {
    "duration": 22,
    "start_time": "2023-06-13T20:00:06.433Z"
   },
   {
    "duration": 40,
    "start_time": "2023-06-13T20:01:33.819Z"
   },
   {
    "duration": 93,
    "start_time": "2023-06-13T20:03:52.620Z"
   },
   {
    "duration": 41,
    "start_time": "2023-06-13T20:04:04.677Z"
   },
   {
    "duration": 38,
    "start_time": "2023-06-13T20:04:14.934Z"
   },
   {
    "duration": 36,
    "start_time": "2023-06-13T20:04:34.748Z"
   },
   {
    "duration": 102,
    "start_time": "2023-06-13T20:05:42.254Z"
   },
   {
    "duration": 101,
    "start_time": "2023-06-13T20:05:48.087Z"
   },
   {
    "duration": 22,
    "start_time": "2023-06-13T20:08:31.987Z"
   },
   {
    "duration": 255,
    "start_time": "2023-06-13T20:10:02.279Z"
   },
   {
    "duration": 122,
    "start_time": "2023-06-13T20:11:49.089Z"
   },
   {
    "duration": 264,
    "start_time": "2023-06-13T20:11:57.855Z"
   },
   {
    "duration": 267,
    "start_time": "2023-06-13T20:12:06.200Z"
   },
   {
    "duration": 102,
    "start_time": "2023-06-13T20:12:45.352Z"
   },
   {
    "duration": 31,
    "start_time": "2023-06-13T20:17:46.586Z"
   },
   {
    "duration": 13,
    "start_time": "2023-06-13T20:18:14.421Z"
   },
   {
    "duration": 17,
    "start_time": "2023-06-13T20:18:24.982Z"
   },
   {
    "duration": 21,
    "start_time": "2023-06-13T20:21:24.684Z"
   },
   {
    "duration": 96,
    "start_time": "2023-06-13T20:22:12.885Z"
   },
   {
    "duration": 18,
    "start_time": "2023-06-13T20:22:32.341Z"
   },
   {
    "duration": 18,
    "start_time": "2023-06-13T20:22:55.643Z"
   },
   {
    "duration": 16,
    "start_time": "2023-06-13T20:26:34.551Z"
   },
   {
    "duration": 18,
    "start_time": "2023-06-13T20:26:41.060Z"
   },
   {
    "duration": 146,
    "start_time": "2023-06-13T20:26:42.883Z"
   },
   {
    "duration": 136,
    "start_time": "2023-06-13T20:26:58.223Z"
   },
   {
    "duration": 371,
    "start_time": "2023-06-13T20:31:13.988Z"
   },
   {
    "duration": 15,
    "start_time": "2023-06-13T20:32:37.850Z"
   },
   {
    "duration": 21,
    "start_time": "2023-06-13T20:34:18.664Z"
   },
   {
    "duration": 27,
    "start_time": "2023-06-13T20:34:34.690Z"
   },
   {
    "duration": 374,
    "start_time": "2023-06-13T20:35:02.687Z"
   },
   {
    "duration": 345,
    "start_time": "2023-06-13T20:35:40.523Z"
   },
   {
    "duration": 371,
    "start_time": "2023-06-13T20:35:47.987Z"
   },
   {
    "duration": 10,
    "start_time": "2023-06-13T20:37:04.020Z"
   },
   {
    "duration": 97,
    "start_time": "2023-06-13T20:37:04.034Z"
   },
   {
    "duration": 7,
    "start_time": "2023-06-13T20:37:04.133Z"
   },
   {
    "duration": 139,
    "start_time": "2023-06-13T20:37:04.142Z"
   },
   {
    "duration": 33,
    "start_time": "2023-06-13T20:37:04.283Z"
   },
   {
    "duration": 14,
    "start_time": "2023-06-13T20:37:04.317Z"
   },
   {
    "duration": 18,
    "start_time": "2023-06-13T20:37:04.332Z"
   },
   {
    "duration": 66,
    "start_time": "2023-06-13T20:37:04.351Z"
   },
   {
    "duration": 8,
    "start_time": "2023-06-13T20:37:04.421Z"
   },
   {
    "duration": 104,
    "start_time": "2023-06-13T20:37:04.433Z"
   },
   {
    "duration": 7,
    "start_time": "2023-06-13T20:37:04.539Z"
   },
   {
    "duration": 26,
    "start_time": "2023-06-13T20:37:04.548Z"
   },
   {
    "duration": 404,
    "start_time": "2023-06-13T20:37:04.577Z"
   },
   {
    "duration": 228,
    "start_time": "2023-06-13T20:37:04.983Z"
   },
   {
    "duration": 331,
    "start_time": "2023-06-13T20:37:05.215Z"
   },
   {
    "duration": 150,
    "start_time": "2023-06-13T20:37:05.548Z"
   },
   {
    "duration": 104,
    "start_time": "2023-06-13T20:37:05.705Z"
   },
   {
    "duration": 276,
    "start_time": "2023-06-13T20:37:05.811Z"
   },
   {
    "duration": 43,
    "start_time": "2023-06-13T20:37:06.089Z"
   },
   {
    "duration": 330,
    "start_time": "2023-06-13T20:37:06.134Z"
   },
   {
    "duration": 376,
    "start_time": "2023-06-13T20:37:06.466Z"
   },
   {
    "duration": 204,
    "start_time": "2023-06-13T20:37:06.850Z"
   },
   {
    "duration": 66,
    "start_time": "2023-06-13T20:37:07.055Z"
   },
   {
    "duration": 234,
    "start_time": "2023-06-13T20:37:07.131Z"
   },
   {
    "duration": 63,
    "start_time": "2023-06-13T20:37:07.367Z"
   },
   {
    "duration": 116,
    "start_time": "2023-06-13T20:37:07.434Z"
   },
   {
    "duration": 524,
    "start_time": "2023-06-13T20:37:07.552Z"
   },
   {
    "duration": 576,
    "start_time": "2023-06-13T20:37:08.078Z"
   },
   {
    "duration": 213,
    "start_time": "2023-06-13T20:37:08.655Z"
   },
   {
    "duration": 10,
    "start_time": "2023-06-13T20:37:08.869Z"
   },
   {
    "duration": 640,
    "start_time": "2023-06-13T20:37:08.880Z"
   },
   {
    "duration": 16825,
    "start_time": "2023-06-13T20:37:09.523Z"
   },
   {
    "duration": 635,
    "start_time": "2023-06-13T20:37:26.349Z"
   },
   {
    "duration": 29,
    "start_time": "2023-06-13T20:37:26.986Z"
   },
   {
    "duration": 0,
    "start_time": "2023-06-13T20:37:27.020Z"
   },
   {
    "duration": 0,
    "start_time": "2023-06-13T20:37:27.021Z"
   },
   {
    "duration": 0,
    "start_time": "2023-06-13T20:37:27.022Z"
   },
   {
    "duration": 0,
    "start_time": "2023-06-13T20:37:27.023Z"
   },
   {
    "duration": 0,
    "start_time": "2023-06-13T20:37:27.023Z"
   },
   {
    "duration": 0,
    "start_time": "2023-06-13T20:37:27.024Z"
   },
   {
    "duration": 0,
    "start_time": "2023-06-13T20:37:27.031Z"
   },
   {
    "duration": 0,
    "start_time": "2023-06-13T20:37:27.031Z"
   },
   {
    "duration": 82,
    "start_time": "2023-06-13T20:38:41.391Z"
   },
   {
    "duration": 538,
    "start_time": "2023-06-13T20:39:50.094Z"
   },
   {
    "duration": 1748,
    "start_time": "2023-06-13T20:41:34.339Z"
   },
   {
    "duration": 1897,
    "start_time": "2023-06-13T20:42:16.740Z"
   },
   {
    "duration": 1780,
    "start_time": "2023-06-13T20:42:36.555Z"
   },
   {
    "duration": 5,
    "start_time": "2023-06-13T20:43:23.938Z"
   },
   {
    "duration": 71,
    "start_time": "2023-06-13T20:43:23.945Z"
   },
   {
    "duration": 8,
    "start_time": "2023-06-13T20:43:24.018Z"
   },
   {
    "duration": 122,
    "start_time": "2023-06-13T20:43:24.030Z"
   },
   {
    "duration": 12,
    "start_time": "2023-06-13T20:43:24.155Z"
   },
   {
    "duration": 10,
    "start_time": "2023-06-13T20:43:24.168Z"
   },
   {
    "duration": 30,
    "start_time": "2023-06-13T20:43:24.195Z"
   },
   {
    "duration": 48,
    "start_time": "2023-06-13T20:43:24.227Z"
   },
   {
    "duration": 5,
    "start_time": "2023-06-13T20:43:24.276Z"
   },
   {
    "duration": 86,
    "start_time": "2023-06-13T20:43:24.303Z"
   },
   {
    "duration": 16,
    "start_time": "2023-06-13T20:43:24.392Z"
   },
   {
    "duration": 52,
    "start_time": "2023-06-13T20:43:24.410Z"
   },
   {
    "duration": 419,
    "start_time": "2023-06-13T20:43:24.466Z"
   },
   {
    "duration": 243,
    "start_time": "2023-06-13T20:43:24.887Z"
   },
   {
    "duration": 271,
    "start_time": "2023-06-13T20:43:25.136Z"
   },
   {
    "duration": 149,
    "start_time": "2023-06-13T20:43:25.412Z"
   },
   {
    "duration": 99,
    "start_time": "2023-06-13T20:43:25.563Z"
   },
   {
    "duration": 279,
    "start_time": "2023-06-13T20:43:25.663Z"
   },
   {
    "duration": 25,
    "start_time": "2023-06-13T20:43:25.944Z"
   },
   {
    "duration": 308,
    "start_time": "2023-06-13T20:43:25.971Z"
   },
   {
    "duration": 353,
    "start_time": "2023-06-13T20:43:26.280Z"
   },
   {
    "duration": 43,
    "start_time": "2023-06-13T20:43:26.637Z"
   },
   {
    "duration": 235,
    "start_time": "2023-06-13T20:43:26.681Z"
   },
   {
    "duration": 35,
    "start_time": "2023-06-13T20:43:26.918Z"
   },
   {
    "duration": 85,
    "start_time": "2023-06-13T20:43:26.955Z"
   },
   {
    "duration": 449,
    "start_time": "2023-06-13T20:43:27.041Z"
   },
   {
    "duration": 542,
    "start_time": "2023-06-13T20:43:27.496Z"
   },
   {
    "duration": 213,
    "start_time": "2023-06-13T20:43:28.040Z"
   },
   {
    "duration": 10,
    "start_time": "2023-06-13T20:43:28.256Z"
   },
   {
    "duration": 147,
    "start_time": "2023-06-13T20:43:28.268Z"
   },
   {
    "duration": 15031,
    "start_time": "2023-06-13T20:43:28.418Z"
   },
   {
    "duration": 599,
    "start_time": "2023-06-13T20:43:43.451Z"
   },
   {
    "duration": 98,
    "start_time": "2023-06-13T20:43:44.051Z"
   },
   {
    "duration": 13,
    "start_time": "2023-06-13T20:43:44.151Z"
   },
   {
    "duration": 195,
    "start_time": "2023-06-13T20:43:44.165Z"
   },
   {
    "duration": 15,
    "start_time": "2023-06-13T20:43:44.361Z"
   },
   {
    "duration": 0,
    "start_time": "2023-06-13T20:43:44.377Z"
   },
   {
    "duration": 0,
    "start_time": "2023-06-13T20:43:44.378Z"
   },
   {
    "duration": 0,
    "start_time": "2023-06-13T20:43:44.379Z"
   },
   {
    "duration": 0,
    "start_time": "2023-06-13T20:43:44.380Z"
   },
   {
    "duration": 109,
    "start_time": "2023-06-13T20:45:20.171Z"
   },
   {
    "duration": 28,
    "start_time": "2023-06-13T20:46:23.498Z"
   },
   {
    "duration": 120,
    "start_time": "2023-06-13T20:46:44.524Z"
   },
   {
    "duration": 1917,
    "start_time": "2023-06-14T07:39:53.521Z"
   },
   {
    "duration": 280,
    "start_time": "2023-06-14T07:39:55.441Z"
   },
   {
    "duration": 13,
    "start_time": "2023-06-14T07:39:55.723Z"
   },
   {
    "duration": 190,
    "start_time": "2023-06-14T07:39:55.740Z"
   },
   {
    "duration": 16,
    "start_time": "2023-06-14T07:39:55.936Z"
   },
   {
    "duration": 28,
    "start_time": "2023-06-14T07:39:55.954Z"
   },
   {
    "duration": 33,
    "start_time": "2023-06-14T07:39:55.985Z"
   },
   {
    "duration": 70,
    "start_time": "2023-06-14T07:39:56.020Z"
   },
   {
    "duration": 45,
    "start_time": "2023-06-14T07:39:56.092Z"
   },
   {
    "duration": 122,
    "start_time": "2023-06-14T07:39:56.141Z"
   },
   {
    "duration": 11,
    "start_time": "2023-06-14T07:39:56.265Z"
   },
   {
    "duration": 40,
    "start_time": "2023-06-14T07:39:56.280Z"
   },
   {
    "duration": 438,
    "start_time": "2023-06-14T07:39:56.323Z"
   },
   {
    "duration": 241,
    "start_time": "2023-06-14T07:39:56.762Z"
   },
   {
    "duration": 391,
    "start_time": "2023-06-14T07:39:57.005Z"
   },
   {
    "duration": 274,
    "start_time": "2023-06-14T07:39:57.398Z"
   },
   {
    "duration": 240,
    "start_time": "2023-06-14T07:39:57.725Z"
   },
   {
    "duration": 667,
    "start_time": "2023-06-14T07:39:57.967Z"
   },
   {
    "duration": 31,
    "start_time": "2023-06-14T07:39:58.636Z"
   },
   {
    "duration": 689,
    "start_time": "2023-06-14T07:39:58.669Z"
   },
   {
    "duration": 736,
    "start_time": "2023-06-14T07:39:59.359Z"
   },
   {
    "duration": 66,
    "start_time": "2023-06-14T07:40:00.096Z"
   },
   {
    "duration": 479,
    "start_time": "2023-06-14T07:40:00.163Z"
   },
   {
    "duration": 46,
    "start_time": "2023-06-14T07:40:00.644Z"
   },
   {
    "duration": 639,
    "start_time": "2023-06-14T07:40:00.692Z"
   },
   {
    "duration": 716,
    "start_time": "2023-06-14T07:40:01.333Z"
   },
   {
    "duration": 948,
    "start_time": "2023-06-14T07:40:02.051Z"
   },
   {
    "duration": 257,
    "start_time": "2023-06-14T07:40:03.004Z"
   },
   {
    "duration": 493,
    "start_time": "2023-06-14T07:40:03.264Z"
   },
   {
    "duration": 297,
    "start_time": "2023-06-14T07:40:03.759Z"
   },
   {
    "duration": 17448,
    "start_time": "2023-06-14T07:40:04.058Z"
   },
   {
    "duration": 791,
    "start_time": "2023-06-14T07:40:21.509Z"
   },
   {
    "duration": 138,
    "start_time": "2023-06-14T07:40:22.326Z"
   },
   {
    "duration": 282,
    "start_time": "2023-06-14T07:40:22.466Z"
   },
   {
    "duration": 199,
    "start_time": "2023-06-14T07:40:22.751Z"
   },
   {
    "duration": 0,
    "start_time": "2023-06-14T07:40:22.958Z"
   },
   {
    "duration": 0,
    "start_time": "2023-06-14T07:40:22.963Z"
   },
   {
    "duration": 0,
    "start_time": "2023-06-14T07:40:22.967Z"
   },
   {
    "duration": 0,
    "start_time": "2023-06-14T07:40:22.971Z"
   },
   {
    "duration": 29,
    "start_time": "2023-06-14T07:41:20.428Z"
   },
   {
    "duration": 25,
    "start_time": "2023-06-14T07:41:50.046Z"
   },
   {
    "duration": 19,
    "start_time": "2023-06-14T07:42:21.681Z"
   },
   {
    "duration": 18,
    "start_time": "2023-06-14T07:42:44.160Z"
   },
   {
    "duration": 115,
    "start_time": "2023-06-14T07:42:55.402Z"
   },
   {
    "duration": 229,
    "start_time": "2023-06-14T07:43:15.173Z"
   },
   {
    "duration": 113,
    "start_time": "2023-06-14T07:43:31.265Z"
   },
   {
    "duration": 297,
    "start_time": "2023-06-14T07:43:38.878Z"
   },
   {
    "duration": 512,
    "start_time": "2023-06-14T07:44:06.318Z"
   },
   {
    "duration": 448,
    "start_time": "2023-06-14T07:44:26.946Z"
   },
   {
    "duration": 366,
    "start_time": "2023-06-14T07:44:39.677Z"
   },
   {
    "duration": 350,
    "start_time": "2023-06-14T07:45:08.312Z"
   },
   {
    "duration": 269,
    "start_time": "2023-06-14T07:45:35.545Z"
   },
   {
    "duration": 257,
    "start_time": "2023-06-14T07:45:49.176Z"
   },
   {
    "duration": 20,
    "start_time": "2023-06-14T07:46:11.960Z"
   },
   {
    "duration": 21,
    "start_time": "2023-06-14T07:46:14.070Z"
   },
   {
    "duration": 396,
    "start_time": "2023-06-14T07:46:15.813Z"
   },
   {
    "duration": 22,
    "start_time": "2023-06-14T07:55:18.793Z"
   },
   {
    "duration": 8,
    "start_time": "2023-06-14T07:55:32.617Z"
   },
   {
    "duration": 16,
    "start_time": "2023-06-14T07:56:33.834Z"
   },
   {
    "duration": 14,
    "start_time": "2023-06-14T07:57:09.150Z"
   },
   {
    "duration": 12,
    "start_time": "2023-06-14T07:58:47.319Z"
   },
   {
    "duration": 11,
    "start_time": "2023-06-14T08:01:18.391Z"
   },
   {
    "duration": 17,
    "start_time": "2023-06-14T08:02:03.957Z"
   },
   {
    "duration": 17,
    "start_time": "2023-06-14T08:02:09.483Z"
   },
   {
    "duration": 33,
    "start_time": "2023-06-14T08:03:04.546Z"
   },
   {
    "duration": 303,
    "start_time": "2023-06-14T08:03:27.522Z"
   },
   {
    "duration": 1083,
    "start_time": "2023-06-14T08:03:48.164Z"
   },
   {
    "duration": 315,
    "start_time": "2023-06-14T08:04:06.959Z"
   },
   {
    "duration": 1171,
    "start_time": "2023-06-14T08:04:09.871Z"
   },
   {
    "duration": 15040,
    "start_time": "2023-06-14T08:05:36.104Z"
   },
   {
    "duration": 3122,
    "start_time": "2023-06-14T08:07:17.678Z"
   },
   {
    "duration": 2656,
    "start_time": "2023-06-14T08:08:18.444Z"
   },
   {
    "duration": 31,
    "start_time": "2023-06-14T08:11:55.826Z"
   },
   {
    "duration": 267,
    "start_time": "2023-06-14T08:12:52.619Z"
   },
   {
    "duration": 288,
    "start_time": "2023-06-14T08:13:28.224Z"
   },
   {
    "duration": 23,
    "start_time": "2023-06-14T08:14:58.077Z"
   },
   {
    "duration": 15,
    "start_time": "2023-06-14T08:15:28.101Z"
   },
   {
    "duration": 17,
    "start_time": "2023-06-14T08:17:40.376Z"
   },
   {
    "duration": 10,
    "start_time": "2023-06-14T08:17:56.275Z"
   },
   {
    "duration": 7,
    "start_time": "2023-06-14T08:19:52.228Z"
   },
   {
    "duration": 18,
    "start_time": "2023-06-14T08:20:37.609Z"
   },
   {
    "duration": 347,
    "start_time": "2023-06-14T08:21:38.136Z"
   },
   {
    "duration": 10,
    "start_time": "2023-06-14T08:23:10.272Z"
   },
   {
    "duration": 12,
    "start_time": "2023-06-14T08:24:15.144Z"
   },
   {
    "duration": 1880,
    "start_time": "2023-06-14T12:35:41.969Z"
   },
   {
    "duration": 279,
    "start_time": "2023-06-14T12:35:43.858Z"
   },
   {
    "duration": 8,
    "start_time": "2023-06-14T12:35:44.139Z"
   },
   {
    "duration": 140,
    "start_time": "2023-06-14T12:35:44.150Z"
   },
   {
    "duration": 20,
    "start_time": "2023-06-14T12:35:44.295Z"
   },
   {
    "duration": 33,
    "start_time": "2023-06-14T12:35:44.318Z"
   },
   {
    "duration": 18,
    "start_time": "2023-06-14T12:35:44.358Z"
   },
   {
    "duration": 65,
    "start_time": "2023-06-14T12:35:44.379Z"
   },
   {
    "duration": 7,
    "start_time": "2023-06-14T12:35:44.449Z"
   },
   {
    "duration": 86,
    "start_time": "2023-06-14T12:35:44.459Z"
   },
   {
    "duration": 18,
    "start_time": "2023-06-14T12:35:44.549Z"
   },
   {
    "duration": 20,
    "start_time": "2023-06-14T12:35:44.569Z"
   },
   {
    "duration": 392,
    "start_time": "2023-06-14T12:35:44.590Z"
   },
   {
    "duration": 228,
    "start_time": "2023-06-14T12:35:44.984Z"
   },
   {
    "duration": 378,
    "start_time": "2023-06-14T12:35:45.214Z"
   },
   {
    "duration": 168,
    "start_time": "2023-06-14T12:35:45.593Z"
   },
   {
    "duration": 107,
    "start_time": "2023-06-14T12:35:45.763Z"
   },
   {
    "duration": 294,
    "start_time": "2023-06-14T12:35:45.872Z"
   },
   {
    "duration": 26,
    "start_time": "2023-06-14T12:35:46.168Z"
   },
   {
    "duration": 297,
    "start_time": "2023-06-14T12:35:46.195Z"
   },
   {
    "duration": 379,
    "start_time": "2023-06-14T12:35:46.495Z"
   },
   {
    "duration": 48,
    "start_time": "2023-06-14T12:35:46.876Z"
   },
   {
    "duration": 302,
    "start_time": "2023-06-14T12:35:46.926Z"
   },
   {
    "duration": 43,
    "start_time": "2023-06-14T12:35:47.229Z"
   },
   {
    "duration": 490,
    "start_time": "2023-06-14T12:35:47.274Z"
   },
   {
    "duration": 574,
    "start_time": "2023-06-14T12:35:47.771Z"
   },
   {
    "duration": 555,
    "start_time": "2023-06-14T12:35:48.346Z"
   },
   {
    "duration": 230,
    "start_time": "2023-06-14T12:35:48.904Z"
   },
   {
    "duration": 26,
    "start_time": "2023-06-14T12:35:49.136Z"
   },
   {
    "duration": 232,
    "start_time": "2023-06-14T12:35:49.163Z"
   },
   {
    "duration": 15716,
    "start_time": "2023-06-14T12:35:49.396Z"
   },
   {
    "duration": 599,
    "start_time": "2023-06-14T12:36:05.114Z"
   },
   {
    "duration": 112,
    "start_time": "2023-06-14T12:36:05.715Z"
   },
   {
    "duration": 187,
    "start_time": "2023-06-14T12:36:05.829Z"
   },
   {
    "duration": 31,
    "start_time": "2023-06-14T12:36:06.019Z"
   },
   {
    "duration": 249,
    "start_time": "2023-06-14T12:36:06.052Z"
   },
   {
    "duration": 338,
    "start_time": "2023-06-14T12:36:06.303Z"
   },
   {
    "duration": 32,
    "start_time": "2023-06-14T12:36:06.643Z"
   },
   {
    "duration": 118,
    "start_time": "2023-06-14T12:36:06.677Z"
   },
   {
    "duration": 8,
    "start_time": "2023-06-14T12:36:06.797Z"
   },
   {
    "duration": 305,
    "start_time": "2023-06-14T12:36:06.807Z"
   },
   {
    "duration": 2619,
    "start_time": "2023-06-14T12:36:07.114Z"
   },
   {
    "duration": 327,
    "start_time": "2023-06-14T12:36:09.735Z"
   },
   {
    "duration": 6,
    "start_time": "2023-06-14T12:36:10.068Z"
   },
   {
    "duration": 17,
    "start_time": "2023-06-14T12:36:10.075Z"
   },
   {
    "duration": 235,
    "start_time": "2023-06-14T12:37:58.718Z"
   },
   {
    "duration": 645,
    "start_time": "2023-06-14T12:38:23.899Z"
   },
   {
    "duration": 220,
    "start_time": "2023-06-14T12:38:29.406Z"
   },
   {
    "duration": 242,
    "start_time": "2023-06-14T12:38:37.800Z"
   },
   {
    "duration": 238,
    "start_time": "2023-06-14T12:39:15.998Z"
   },
   {
    "duration": 5,
    "start_time": "2023-06-14T12:44:17.065Z"
   },
   {
    "duration": 66,
    "start_time": "2023-06-14T12:44:17.072Z"
   },
   {
    "duration": 5,
    "start_time": "2023-06-14T12:44:17.140Z"
   },
   {
    "duration": 122,
    "start_time": "2023-06-14T12:44:17.147Z"
   },
   {
    "duration": 15,
    "start_time": "2023-06-14T12:44:17.270Z"
   },
   {
    "duration": 13,
    "start_time": "2023-06-14T12:44:17.287Z"
   },
   {
    "duration": 48,
    "start_time": "2023-06-14T12:44:17.302Z"
   },
   {
    "duration": 66,
    "start_time": "2023-06-14T12:44:17.351Z"
   },
   {
    "duration": 8,
    "start_time": "2023-06-14T12:44:17.420Z"
   },
   {
    "duration": 94,
    "start_time": "2023-06-14T12:44:17.430Z"
   },
   {
    "duration": 29,
    "start_time": "2023-06-14T12:44:17.527Z"
   },
   {
    "duration": 30,
    "start_time": "2023-06-14T12:44:17.558Z"
   },
   {
    "duration": 363,
    "start_time": "2023-06-14T12:44:17.590Z"
   },
   {
    "duration": 211,
    "start_time": "2023-06-14T12:44:17.963Z"
   },
   {
    "duration": 311,
    "start_time": "2023-06-14T12:44:18.176Z"
   },
   {
    "duration": 150,
    "start_time": "2023-06-14T12:44:18.489Z"
   },
   {
    "duration": 102,
    "start_time": "2023-06-14T12:44:18.641Z"
   },
   {
    "duration": 276,
    "start_time": "2023-06-14T12:44:18.757Z"
   },
   {
    "duration": 40,
    "start_time": "2023-06-14T12:44:19.035Z"
   },
   {
    "duration": 294,
    "start_time": "2023-06-14T12:44:19.077Z"
   },
   {
    "duration": 352,
    "start_time": "2023-06-14T12:44:19.373Z"
   },
   {
    "duration": 56,
    "start_time": "2023-06-14T12:44:19.727Z"
   },
   {
    "duration": 230,
    "start_time": "2023-06-14T12:44:19.785Z"
   },
   {
    "duration": 47,
    "start_time": "2023-06-14T12:44:20.018Z"
   },
   {
    "duration": 94,
    "start_time": "2023-06-14T12:44:20.066Z"
   },
   {
    "duration": 500,
    "start_time": "2023-06-14T12:44:20.162Z"
   },
   {
    "duration": 845,
    "start_time": "2023-06-14T12:44:20.665Z"
   },
   {
    "duration": 254,
    "start_time": "2023-06-14T12:44:21.512Z"
   },
   {
    "duration": 11,
    "start_time": "2023-06-14T12:44:21.768Z"
   },
   {
    "duration": 118,
    "start_time": "2023-06-14T12:44:21.780Z"
   },
   {
    "duration": 4,
    "start_time": "2023-06-14T12:44:41.924Z"
   },
   {
    "duration": 73,
    "start_time": "2023-06-14T12:44:41.929Z"
   },
   {
    "duration": 5,
    "start_time": "2023-06-14T12:44:42.004Z"
   },
   {
    "duration": 129,
    "start_time": "2023-06-14T12:44:42.011Z"
   },
   {
    "duration": 18,
    "start_time": "2023-06-14T12:44:42.150Z"
   },
   {
    "duration": 19,
    "start_time": "2023-06-14T12:44:42.170Z"
   },
   {
    "duration": 18,
    "start_time": "2023-06-14T12:44:42.192Z"
   },
   {
    "duration": 67,
    "start_time": "2023-06-14T12:44:42.213Z"
   },
   {
    "duration": 8,
    "start_time": "2023-06-14T12:44:42.282Z"
   },
   {
    "duration": 91,
    "start_time": "2023-06-14T12:44:42.292Z"
   },
   {
    "duration": 9,
    "start_time": "2023-06-14T12:44:42.384Z"
   },
   {
    "duration": 33,
    "start_time": "2023-06-14T12:44:42.394Z"
   },
   {
    "duration": 384,
    "start_time": "2023-06-14T12:44:42.429Z"
   },
   {
    "duration": 218,
    "start_time": "2023-06-14T12:44:42.815Z"
   },
   {
    "duration": 296,
    "start_time": "2023-06-14T12:44:43.035Z"
   },
   {
    "duration": 170,
    "start_time": "2023-06-14T12:44:43.332Z"
   },
   {
    "duration": 112,
    "start_time": "2023-06-14T12:44:43.503Z"
   },
   {
    "duration": 292,
    "start_time": "2023-06-14T12:44:43.617Z"
   },
   {
    "duration": 27,
    "start_time": "2023-06-14T12:44:43.911Z"
   },
   {
    "duration": 336,
    "start_time": "2023-06-14T12:44:43.965Z"
   },
   {
    "duration": 382,
    "start_time": "2023-06-14T12:44:44.304Z"
   },
   {
    "duration": 41,
    "start_time": "2023-06-14T12:44:44.688Z"
   },
   {
    "duration": 242,
    "start_time": "2023-06-14T12:44:44.731Z"
   },
   {
    "duration": 31,
    "start_time": "2023-06-14T12:44:44.975Z"
   },
   {
    "duration": 109,
    "start_time": "2023-06-14T12:44:45.008Z"
   },
   {
    "duration": 501,
    "start_time": "2023-06-14T12:44:45.119Z"
   },
   {
    "duration": 559,
    "start_time": "2023-06-14T12:44:45.622Z"
   },
   {
    "duration": 241,
    "start_time": "2023-06-14T12:44:46.183Z"
   },
   {
    "duration": 12,
    "start_time": "2023-06-14T12:44:46.425Z"
   },
   {
    "duration": 129,
    "start_time": "2023-06-14T12:44:46.449Z"
   },
   {
    "duration": 532,
    "start_time": "2023-06-14T12:45:04.650Z"
   },
   {
    "duration": 103,
    "start_time": "2023-06-14T12:45:05.184Z"
   },
   {
    "duration": 199,
    "start_time": "2023-06-14T12:45:05.288Z"
   },
   {
    "duration": 17,
    "start_time": "2023-06-14T12:45:05.488Z"
   },
   {
    "duration": 260,
    "start_time": "2023-06-14T12:45:05.506Z"
   },
   {
    "duration": 271,
    "start_time": "2023-06-14T12:45:05.767Z"
   },
   {
    "duration": 32,
    "start_time": "2023-06-14T12:45:06.041Z"
   },
   {
    "duration": 125,
    "start_time": "2023-06-14T12:45:06.075Z"
   },
   {
    "duration": 9,
    "start_time": "2023-06-14T12:45:06.202Z"
   },
   {
    "duration": 293,
    "start_time": "2023-06-14T12:45:06.213Z"
   },
   {
    "duration": 2419,
    "start_time": "2023-06-14T12:45:06.508Z"
   },
   {
    "duration": 334,
    "start_time": "2023-06-14T12:45:08.929Z"
   },
   {
    "duration": 7,
    "start_time": "2023-06-14T12:45:09.266Z"
   },
   {
    "duration": 13,
    "start_time": "2023-06-14T12:45:09.274Z"
   },
   {
    "duration": 238,
    "start_time": "2023-06-14T12:45:09.288Z"
   },
   {
    "duration": 15452,
    "start_time": "2023-06-14T12:45:09.531Z"
   },
   {
    "duration": 26,
    "start_time": "2023-06-14T12:45:27.365Z"
   },
   {
    "duration": 17,
    "start_time": "2023-06-14T12:48:14.995Z"
   },
   {
    "duration": 6,
    "start_time": "2023-06-14T12:48:36.315Z"
   },
   {
    "duration": 7,
    "start_time": "2023-06-14T12:48:45.492Z"
   },
   {
    "duration": 17,
    "start_time": "2023-06-14T12:51:14.451Z"
   },
   {
    "duration": 8,
    "start_time": "2023-06-14T12:51:25.024Z"
   },
   {
    "duration": 20,
    "start_time": "2023-06-14T12:54:19.451Z"
   },
   {
    "duration": 9,
    "start_time": "2023-06-14T12:54:25.388Z"
   },
   {
    "duration": 16,
    "start_time": "2023-06-14T12:55:06.787Z"
   },
   {
    "duration": 4,
    "start_time": "2023-06-14T12:55:30.620Z"
   },
   {
    "duration": 5,
    "start_time": "2023-06-14T12:55:34.515Z"
   },
   {
    "duration": 5,
    "start_time": "2023-06-14T12:56:09.216Z"
   },
   {
    "duration": 290,
    "start_time": "2023-06-14T12:58:17.819Z"
   },
   {
    "duration": 337,
    "start_time": "2023-06-14T12:59:37.293Z"
   },
   {
    "duration": 263,
    "start_time": "2023-06-14T13:00:14.959Z"
   },
   {
    "duration": 309,
    "start_time": "2023-06-14T13:00:24.531Z"
   },
   {
    "duration": 1870,
    "start_time": "2023-06-14T18:54:52.473Z"
   },
   {
    "duration": 117,
    "start_time": "2023-06-14T18:54:54.345Z"
   },
   {
    "duration": 7,
    "start_time": "2023-06-14T18:54:54.464Z"
   },
   {
    "duration": 147,
    "start_time": "2023-06-14T18:54:54.475Z"
   },
   {
    "duration": 31,
    "start_time": "2023-06-14T18:54:54.624Z"
   },
   {
    "duration": 12,
    "start_time": "2023-06-14T18:54:54.656Z"
   },
   {
    "duration": 21,
    "start_time": "2023-06-14T18:54:54.670Z"
   },
   {
    "duration": 61,
    "start_time": "2023-06-14T18:54:54.693Z"
   },
   {
    "duration": 6,
    "start_time": "2023-06-14T18:54:54.756Z"
   },
   {
    "duration": 80,
    "start_time": "2023-06-14T18:54:54.765Z"
   },
   {
    "duration": 9,
    "start_time": "2023-06-14T18:54:54.847Z"
   },
   {
    "duration": 42,
    "start_time": "2023-06-14T18:54:54.859Z"
   },
   {
    "duration": 380,
    "start_time": "2023-06-14T18:54:54.903Z"
   },
   {
    "duration": 230,
    "start_time": "2023-06-14T18:54:55.286Z"
   },
   {
    "duration": 370,
    "start_time": "2023-06-14T18:54:55.519Z"
   },
   {
    "duration": 152,
    "start_time": "2023-06-14T18:54:55.891Z"
   },
   {
    "duration": 110,
    "start_time": "2023-06-14T18:54:56.045Z"
   },
   {
    "duration": 272,
    "start_time": "2023-06-14T18:54:56.157Z"
   },
   {
    "duration": 36,
    "start_time": "2023-06-14T18:54:56.431Z"
   },
   {
    "duration": 295,
    "start_time": "2023-06-14T18:54:56.469Z"
   },
   {
    "duration": 342,
    "start_time": "2023-06-14T18:54:56.767Z"
   },
   {
    "duration": 82,
    "start_time": "2023-06-14T18:54:57.111Z"
   },
   {
    "duration": 244,
    "start_time": "2023-06-14T18:54:57.195Z"
   },
   {
    "duration": 32,
    "start_time": "2023-06-14T18:54:57.441Z"
   },
   {
    "duration": 521,
    "start_time": "2023-06-14T18:54:57.475Z"
   },
   {
    "duration": 617,
    "start_time": "2023-06-14T18:54:57.998Z"
   },
   {
    "duration": 602,
    "start_time": "2023-06-14T18:54:58.618Z"
   },
   {
    "duration": 257,
    "start_time": "2023-06-14T18:54:59.225Z"
   },
   {
    "duration": 13,
    "start_time": "2023-06-14T18:54:59.485Z"
   },
   {
    "duration": 261,
    "start_time": "2023-06-14T18:54:59.501Z"
   },
   {
    "duration": 14874,
    "start_time": "2023-06-14T18:54:59.765Z"
   },
   {
    "duration": 580,
    "start_time": "2023-06-14T18:55:14.641Z"
   },
   {
    "duration": 114,
    "start_time": "2023-06-14T18:55:15.223Z"
   },
   {
    "duration": 216,
    "start_time": "2023-06-14T18:55:15.352Z"
   },
   {
    "duration": 20,
    "start_time": "2023-06-14T18:55:15.570Z"
   },
   {
    "duration": 234,
    "start_time": "2023-06-14T18:55:15.592Z"
   },
   {
    "duration": 258,
    "start_time": "2023-06-14T18:55:15.827Z"
   },
   {
    "duration": 18,
    "start_time": "2023-06-14T18:55:16.087Z"
   },
   {
    "duration": 118,
    "start_time": "2023-06-14T18:55:16.107Z"
   },
   {
    "duration": 9,
    "start_time": "2023-06-14T18:55:16.227Z"
   },
   {
    "duration": 314,
    "start_time": "2023-06-14T18:55:16.238Z"
   },
   {
    "duration": 2675,
    "start_time": "2023-06-14T18:55:16.554Z"
   },
   {
    "duration": 301,
    "start_time": "2023-06-14T18:55:19.231Z"
   },
   {
    "duration": 7,
    "start_time": "2023-06-14T18:55:19.534Z"
   },
   {
    "duration": 26,
    "start_time": "2023-06-14T18:55:19.552Z"
   },
   {
    "duration": 213,
    "start_time": "2023-06-14T18:55:19.579Z"
   },
   {
    "duration": 6,
    "start_time": "2023-06-14T18:55:19.794Z"
   },
   {
    "duration": 282,
    "start_time": "2023-06-14T18:55:19.802Z"
   },
   {
    "duration": 19,
    "start_time": "2023-06-14T19:06:06.281Z"
   },
   {
    "duration": 8,
    "start_time": "2023-06-14T19:07:35.829Z"
   },
   {
    "duration": 7,
    "start_time": "2023-06-14T19:07:43.481Z"
   },
   {
    "duration": 298,
    "start_time": "2023-06-14T19:10:40.586Z"
   },
   {
    "duration": 284,
    "start_time": "2023-06-14T19:11:04.705Z"
   },
   {
    "duration": 228,
    "start_time": "2023-06-14T19:17:26.806Z"
   },
   {
    "duration": 229,
    "start_time": "2023-06-14T19:21:37.301Z"
   },
   {
    "duration": 89,
    "start_time": "2023-06-14T20:29:24.596Z"
   },
   {
    "duration": 22,
    "start_time": "2023-06-14T20:29:29.148Z"
   },
   {
    "duration": 4,
    "start_time": "2023-06-14T20:33:09.104Z"
   },
   {
    "duration": 4,
    "start_time": "2023-06-14T20:33:14.500Z"
   },
   {
    "duration": 5,
    "start_time": "2023-06-14T20:33:23.245Z"
   },
   {
    "duration": 109,
    "start_time": "2023-06-14T20:36:33.064Z"
   },
   {
    "duration": 110,
    "start_time": "2023-06-14T20:36:46.752Z"
   },
   {
    "duration": 107,
    "start_time": "2023-06-14T20:38:20.548Z"
   },
   {
    "duration": 102,
    "start_time": "2023-06-14T20:38:37.928Z"
   },
   {
    "duration": 108,
    "start_time": "2023-06-14T20:38:54.549Z"
   },
   {
    "duration": 437,
    "start_time": "2023-06-14T20:44:10.643Z"
   },
   {
    "duration": 79,
    "start_time": "2023-06-14T20:45:21.256Z"
   },
   {
    "duration": 353,
    "start_time": "2023-06-14T20:45:28.524Z"
   },
   {
    "duration": 484,
    "start_time": "2023-06-14T20:47:42.218Z"
   },
   {
    "duration": 418,
    "start_time": "2023-06-14T20:47:54.011Z"
   },
   {
    "duration": 12,
    "start_time": "2023-06-14T20:54:14.736Z"
   },
   {
    "duration": 122,
    "start_time": "2023-06-14T21:07:36.222Z"
   },
   {
    "duration": 1676,
    "start_time": "2023-06-15T13:07:21.298Z"
   },
   {
    "duration": 229,
    "start_time": "2023-06-15T13:07:22.976Z"
   },
   {
    "duration": 6,
    "start_time": "2023-06-15T13:07:23.206Z"
   },
   {
    "duration": 143,
    "start_time": "2023-06-15T13:07:23.213Z"
   },
   {
    "duration": 13,
    "start_time": "2023-06-15T13:07:23.358Z"
   },
   {
    "duration": 39,
    "start_time": "2023-06-15T13:07:23.372Z"
   },
   {
    "duration": 29,
    "start_time": "2023-06-15T13:07:23.413Z"
   },
   {
    "duration": 76,
    "start_time": "2023-06-15T13:07:23.444Z"
   },
   {
    "duration": 6,
    "start_time": "2023-06-15T13:07:23.522Z"
   },
   {
    "duration": 79,
    "start_time": "2023-06-15T13:07:23.531Z"
   },
   {
    "duration": 9,
    "start_time": "2023-06-15T13:07:23.612Z"
   },
   {
    "duration": 35,
    "start_time": "2023-06-15T13:07:23.622Z"
   },
   {
    "duration": 360,
    "start_time": "2023-06-15T13:07:23.658Z"
   },
   {
    "duration": 207,
    "start_time": "2023-06-15T13:07:24.020Z"
   },
   {
    "duration": 334,
    "start_time": "2023-06-15T13:07:24.229Z"
   },
   {
    "duration": 147,
    "start_time": "2023-06-15T13:07:24.565Z"
   },
   {
    "duration": 94,
    "start_time": "2023-06-15T13:07:24.714Z"
   },
   {
    "duration": 246,
    "start_time": "2023-06-15T13:07:24.810Z"
   },
   {
    "duration": 24,
    "start_time": "2023-06-15T13:07:25.057Z"
   },
   {
    "duration": 258,
    "start_time": "2023-06-15T13:07:25.083Z"
   },
   {
    "duration": 328,
    "start_time": "2023-06-15T13:07:25.343Z"
   },
   {
    "duration": 42,
    "start_time": "2023-06-15T13:07:25.675Z"
   },
   {
    "duration": 233,
    "start_time": "2023-06-15T13:07:25.718Z"
   },
   {
    "duration": 30,
    "start_time": "2023-06-15T13:07:25.953Z"
   },
   {
    "duration": 510,
    "start_time": "2023-06-15T13:07:25.984Z"
   },
   {
    "duration": 524,
    "start_time": "2023-06-15T13:07:26.496Z"
   },
   {
    "duration": 540,
    "start_time": "2023-06-15T13:07:27.022Z"
   },
   {
    "duration": 232,
    "start_time": "2023-06-15T13:07:27.566Z"
   },
   {
    "duration": 11,
    "start_time": "2023-06-15T13:07:27.799Z"
   },
   {
    "duration": 228,
    "start_time": "2023-06-15T13:07:27.812Z"
   },
   {
    "duration": 13895,
    "start_time": "2023-06-15T13:07:28.041Z"
   },
   {
    "duration": 537,
    "start_time": "2023-06-15T13:07:41.937Z"
   },
   {
    "duration": 91,
    "start_time": "2023-06-15T13:07:42.476Z"
   },
   {
    "duration": 168,
    "start_time": "2023-06-15T13:07:42.568Z"
   },
   {
    "duration": 26,
    "start_time": "2023-06-15T13:07:42.737Z"
   },
   {
    "duration": 354,
    "start_time": "2023-06-15T13:07:42.764Z"
   },
   {
    "duration": 438,
    "start_time": "2023-06-15T13:07:43.120Z"
   },
   {
    "duration": 17,
    "start_time": "2023-06-15T13:07:43.560Z"
   },
   {
    "duration": 114,
    "start_time": "2023-06-15T13:07:43.579Z"
   },
   {
    "duration": 11,
    "start_time": "2023-06-15T13:07:43.695Z"
   },
   {
    "duration": 7,
    "start_time": "2023-06-15T13:07:43.708Z"
   },
   {
    "duration": 693,
    "start_time": "2023-06-15T13:07:43.716Z"
   },
   {
    "duration": 2198,
    "start_time": "2023-06-15T13:07:44.411Z"
   },
   {
    "duration": 319,
    "start_time": "2023-06-15T13:07:46.611Z"
   },
   {
    "duration": 35,
    "start_time": "2023-06-15T13:07:46.932Z"
   },
   {
    "duration": 10,
    "start_time": "2023-06-15T13:07:46.969Z"
   },
   {
    "duration": 224,
    "start_time": "2023-06-15T13:07:46.981Z"
   },
   {
    "duration": 7,
    "start_time": "2023-06-15T13:07:47.206Z"
   },
   {
    "duration": 321,
    "start_time": "2023-06-15T13:07:47.214Z"
   },
   {
    "duration": 17,
    "start_time": "2023-06-15T13:07:47.537Z"
   },
   {
    "duration": 326,
    "start_time": "2023-06-15T13:07:47.557Z"
   },
   {
    "duration": 14,
    "start_time": "2023-06-15T13:07:47.884Z"
   },
   {
    "duration": 1619,
    "start_time": "2023-06-15T20:17:56.915Z"
   },
   {
    "duration": 231,
    "start_time": "2023-06-15T20:17:58.537Z"
   },
   {
    "duration": 6,
    "start_time": "2023-06-15T20:17:58.769Z"
   },
   {
    "duration": 100,
    "start_time": "2023-06-15T20:17:58.777Z"
   },
   {
    "duration": 12,
    "start_time": "2023-06-15T20:17:58.879Z"
   },
   {
    "duration": 11,
    "start_time": "2023-06-15T20:17:58.892Z"
   },
   {
    "duration": 25,
    "start_time": "2023-06-15T20:17:58.904Z"
   },
   {
    "duration": 54,
    "start_time": "2023-06-15T20:17:58.930Z"
   },
   {
    "duration": 6,
    "start_time": "2023-06-15T20:17:58.985Z"
   },
   {
    "duration": 83,
    "start_time": "2023-06-15T20:17:58.993Z"
   },
   {
    "duration": 7,
    "start_time": "2023-06-15T20:17:59.078Z"
   },
   {
    "duration": 18,
    "start_time": "2023-06-15T20:17:59.087Z"
   },
   {
    "duration": 326,
    "start_time": "2023-06-15T20:17:59.106Z"
   },
   {
    "duration": 190,
    "start_time": "2023-06-15T20:17:59.434Z"
   },
   {
    "duration": 312,
    "start_time": "2023-06-15T20:17:59.625Z"
   },
   {
    "duration": 138,
    "start_time": "2023-06-15T20:17:59.938Z"
   },
   {
    "duration": 100,
    "start_time": "2023-06-15T20:18:00.077Z"
   },
   {
    "duration": 239,
    "start_time": "2023-06-15T20:18:00.179Z"
   },
   {
    "duration": 25,
    "start_time": "2023-06-15T20:18:00.419Z"
   },
   {
    "duration": 261,
    "start_time": "2023-06-15T20:18:00.454Z"
   },
   {
    "duration": 461,
    "start_time": "2023-06-15T20:18:00.717Z"
   },
   {
    "duration": 91,
    "start_time": "2023-06-15T20:18:01.180Z"
   },
   {
    "duration": 434,
    "start_time": "2023-06-15T20:18:01.273Z"
   },
   {
    "duration": 57,
    "start_time": "2023-06-15T20:18:01.708Z"
   },
   {
    "duration": 850,
    "start_time": "2023-06-15T20:18:01.766Z"
   },
   {
    "duration": 500,
    "start_time": "2023-06-15T20:18:02.618Z"
   },
   {
    "duration": 656,
    "start_time": "2023-06-15T20:18:03.119Z"
   },
   {
    "duration": 407,
    "start_time": "2023-06-15T20:18:03.779Z"
   },
   {
    "duration": 11,
    "start_time": "2023-06-15T20:18:04.188Z"
   },
   {
    "duration": 394,
    "start_time": "2023-06-15T20:18:04.201Z"
   },
   {
    "duration": 13198,
    "start_time": "2023-06-15T20:18:04.596Z"
   },
   {
    "duration": 502,
    "start_time": "2023-06-15T20:18:17.796Z"
   },
   {
    "duration": 84,
    "start_time": "2023-06-15T20:18:18.300Z"
   },
   {
    "duration": 170,
    "start_time": "2023-06-15T20:18:18.386Z"
   },
   {
    "duration": 15,
    "start_time": "2023-06-15T20:18:18.558Z"
   },
   {
    "duration": 346,
    "start_time": "2023-06-15T20:18:18.574Z"
   },
   {
    "duration": 437,
    "start_time": "2023-06-15T20:18:18.922Z"
   },
   {
    "duration": 18,
    "start_time": "2023-06-15T20:18:19.361Z"
   },
   {
    "duration": 108,
    "start_time": "2023-06-15T20:18:19.380Z"
   },
   {
    "duration": 11,
    "start_time": "2023-06-15T20:18:19.489Z"
   },
   {
    "duration": 6,
    "start_time": "2023-06-15T20:18:19.502Z"
   },
   {
    "duration": 679,
    "start_time": "2023-06-15T20:18:19.510Z"
   },
   {
    "duration": 2142,
    "start_time": "2023-06-15T20:18:20.190Z"
   },
   {
    "duration": 309,
    "start_time": "2023-06-15T20:18:22.334Z"
   },
   {
    "duration": 32,
    "start_time": "2023-06-15T20:18:22.644Z"
   },
   {
    "duration": 9,
    "start_time": "2023-06-15T20:18:22.678Z"
   },
   {
    "duration": 225,
    "start_time": "2023-06-15T20:18:22.689Z"
   },
   {
    "duration": 5,
    "start_time": "2023-06-15T20:18:22.916Z"
   },
   {
    "duration": 281,
    "start_time": "2023-06-15T20:18:22.923Z"
   },
   {
    "duration": 7,
    "start_time": "2023-06-15T20:18:23.205Z"
   },
   {
    "duration": 272,
    "start_time": "2023-06-15T20:18:23.214Z"
   },
   {
    "duration": 13,
    "start_time": "2023-06-15T20:18:23.488Z"
   },
   {
    "duration": 294,
    "start_time": "2023-06-15T20:31:03.439Z"
   },
   {
    "duration": 348,
    "start_time": "2023-06-15T20:31:17.391Z"
   },
   {
    "duration": 291,
    "start_time": "2023-06-15T20:37:08.807Z"
   },
   {
    "duration": 178,
    "start_time": "2023-06-15T20:37:26.956Z"
   },
   {
    "duration": 234,
    "start_time": "2023-06-15T20:38:04.870Z"
   },
   {
    "duration": 298,
    "start_time": "2023-06-15T20:39:08.503Z"
   },
   {
    "duration": 291,
    "start_time": "2023-06-15T20:41:45.247Z"
   },
   {
    "duration": 288,
    "start_time": "2023-06-15T20:41:59.103Z"
   },
   {
    "duration": 291,
    "start_time": "2023-06-15T20:42:09.531Z"
   },
   {
    "duration": 324,
    "start_time": "2023-06-15T20:42:16.410Z"
   },
   {
    "duration": 211,
    "start_time": "2023-06-15T20:42:22.346Z"
   },
   {
    "duration": 4,
    "start_time": "2023-06-15T20:49:35.339Z"
   },
   {
    "duration": 60,
    "start_time": "2023-06-15T20:49:35.345Z"
   },
   {
    "duration": 6,
    "start_time": "2023-06-15T20:49:35.407Z"
   },
   {
    "duration": 96,
    "start_time": "2023-06-15T20:49:35.415Z"
   },
   {
    "duration": 11,
    "start_time": "2023-06-15T20:49:35.512Z"
   },
   {
    "duration": 37,
    "start_time": "2023-06-15T20:49:35.525Z"
   },
   {
    "duration": 14,
    "start_time": "2023-06-15T20:49:35.563Z"
   },
   {
    "duration": 39,
    "start_time": "2023-06-15T20:49:35.578Z"
   },
   {
    "duration": 6,
    "start_time": "2023-06-15T20:49:35.618Z"
   },
   {
    "duration": 383,
    "start_time": "2023-06-15T20:49:35.627Z"
   },
   {
    "duration": 8,
    "start_time": "2023-06-15T20:49:36.012Z"
   },
   {
    "duration": 19,
    "start_time": "2023-06-15T20:49:36.021Z"
   },
   {
    "duration": 324,
    "start_time": "2023-06-15T20:49:36.055Z"
   },
   {
    "duration": 207,
    "start_time": "2023-06-15T20:49:36.381Z"
   },
   {
    "duration": 276,
    "start_time": "2023-06-15T20:49:36.590Z"
   },
   {
    "duration": 136,
    "start_time": "2023-06-15T20:49:36.868Z"
   },
   {
    "duration": 99,
    "start_time": "2023-06-15T20:49:37.006Z"
   },
   {
    "duration": 272,
    "start_time": "2023-06-15T20:49:37.107Z"
   },
   {
    "duration": 33,
    "start_time": "2023-06-15T20:49:37.381Z"
   },
   {
    "duration": 283,
    "start_time": "2023-06-15T20:49:37.416Z"
   },
   {
    "duration": 289,
    "start_time": "2023-06-15T20:49:37.701Z"
   },
   {
    "duration": 35,
    "start_time": "2023-06-15T20:49:37.992Z"
   },
   {
    "duration": 203,
    "start_time": "2023-06-15T20:49:38.029Z"
   },
   {
    "duration": 35,
    "start_time": "2023-06-15T20:49:38.234Z"
   },
   {
    "duration": 65,
    "start_time": "2023-06-15T20:49:38.273Z"
   },
   {
    "duration": 428,
    "start_time": "2023-06-15T20:49:38.354Z"
   },
   {
    "duration": 549,
    "start_time": "2023-06-15T20:49:38.784Z"
   },
   {
    "duration": 224,
    "start_time": "2023-06-15T20:49:39.335Z"
   },
   {
    "duration": 11,
    "start_time": "2023-06-15T20:49:39.561Z"
   },
   {
    "duration": 109,
    "start_time": "2023-06-15T20:49:39.574Z"
   },
   {
    "duration": 13230,
    "start_time": "2023-06-15T20:49:39.684Z"
   },
   {
    "duration": 500,
    "start_time": "2023-06-15T20:49:52.916Z"
   },
   {
    "duration": 89,
    "start_time": "2023-06-15T20:49:53.418Z"
   },
   {
    "duration": 167,
    "start_time": "2023-06-15T20:49:53.508Z"
   },
   {
    "duration": 16,
    "start_time": "2023-06-15T20:49:53.677Z"
   },
   {
    "duration": 354,
    "start_time": "2023-06-15T20:49:53.694Z"
   },
   {
    "duration": 415,
    "start_time": "2023-06-15T20:49:54.049Z"
   },
   {
    "duration": 18,
    "start_time": "2023-06-15T20:49:54.466Z"
   },
   {
    "duration": 140,
    "start_time": "2023-06-15T20:49:54.485Z"
   },
   {
    "duration": 27,
    "start_time": "2023-06-15T20:49:54.627Z"
   },
   {
    "duration": 24,
    "start_time": "2023-06-15T20:49:54.656Z"
   },
   {
    "duration": 433,
    "start_time": "2023-06-15T20:49:54.682Z"
   },
   {
    "duration": 2286,
    "start_time": "2023-06-15T20:49:55.117Z"
   },
   {
    "duration": 338,
    "start_time": "2023-06-15T20:49:57.405Z"
   },
   {
    "duration": 33,
    "start_time": "2023-06-15T20:49:57.745Z"
   },
   {
    "duration": 31,
    "start_time": "2023-06-15T20:49:57.779Z"
   },
   {
    "duration": 244,
    "start_time": "2023-06-15T20:49:57.812Z"
   },
   {
    "duration": 7,
    "start_time": "2023-06-15T20:49:58.058Z"
   },
   {
    "duration": 356,
    "start_time": "2023-06-15T20:49:58.066Z"
   },
   {
    "duration": 6,
    "start_time": "2023-06-15T20:49:58.424Z"
   },
   {
    "duration": 270,
    "start_time": "2023-06-15T20:49:58.432Z"
   },
   {
    "duration": 13,
    "start_time": "2023-06-15T20:49:58.703Z"
   },
   {
    "duration": 297,
    "start_time": "2023-06-15T20:50:39.739Z"
   },
   {
    "duration": 758,
    "start_time": "2023-06-15T20:53:36.994Z"
   },
   {
    "duration": 175,
    "start_time": "2023-06-15T20:59:52.671Z"
   },
   {
    "duration": 126,
    "start_time": "2023-06-15T21:00:01.368Z"
   },
   {
    "duration": 216,
    "start_time": "2023-06-15T21:00:40.853Z"
   },
   {
    "duration": 100,
    "start_time": "2023-06-15T21:00:54.372Z"
   },
   {
    "duration": 21,
    "start_time": "2023-06-15T21:08:04.773Z"
   },
   {
    "duration": 20,
    "start_time": "2023-06-15T21:08:12.647Z"
   },
   {
    "duration": 248,
    "start_time": "2023-06-15T21:08:31.015Z"
   },
   {
    "duration": 18,
    "start_time": "2023-06-15T21:10:43.475Z"
   },
   {
    "duration": 69,
    "start_time": "2023-06-15T21:13:21.119Z"
   },
   {
    "duration": 69,
    "start_time": "2023-06-15T21:13:38.323Z"
   },
   {
    "duration": 90,
    "start_time": "2023-06-15T21:16:01.779Z"
   },
   {
    "duration": 69,
    "start_time": "2023-06-15T21:16:18.995Z"
   },
   {
    "duration": 391,
    "start_time": "2023-06-15T21:21:07.033Z"
   },
   {
    "duration": 396,
    "start_time": "2023-06-15T21:21:12.515Z"
   },
   {
    "duration": 470,
    "start_time": "2023-06-15T21:21:27.510Z"
   },
   {
    "duration": 172,
    "start_time": "2023-06-15T21:27:31.903Z"
   },
   {
    "duration": 105,
    "start_time": "2023-06-15T21:29:09.339Z"
   },
   {
    "duration": 52,
    "start_time": "2023-06-16T09:39:34.055Z"
   },
   {
    "duration": 1871,
    "start_time": "2023-06-16T09:39:38.890Z"
   },
   {
    "duration": 115,
    "start_time": "2023-06-16T09:39:40.763Z"
   },
   {
    "duration": 7,
    "start_time": "2023-06-16T09:39:40.879Z"
   },
   {
    "duration": 129,
    "start_time": "2023-06-16T09:39:40.888Z"
   },
   {
    "duration": 13,
    "start_time": "2023-06-16T09:39:41.018Z"
   },
   {
    "duration": 50,
    "start_time": "2023-06-16T09:39:41.033Z"
   },
   {
    "duration": 46,
    "start_time": "2023-06-16T09:39:41.085Z"
   },
   {
    "duration": 49,
    "start_time": "2023-06-16T09:39:41.133Z"
   },
   {
    "duration": 6,
    "start_time": "2023-06-16T09:39:41.184Z"
   },
   {
    "duration": 99,
    "start_time": "2023-06-16T09:39:41.192Z"
   },
   {
    "duration": 9,
    "start_time": "2023-06-16T09:39:41.293Z"
   },
   {
    "duration": 42,
    "start_time": "2023-06-16T09:39:41.303Z"
   },
   {
    "duration": 392,
    "start_time": "2023-06-16T09:39:41.346Z"
   },
   {
    "duration": 223,
    "start_time": "2023-06-16T09:39:41.740Z"
   },
   {
    "duration": 384,
    "start_time": "2023-06-16T09:39:41.965Z"
   },
   {
    "duration": 124,
    "start_time": "2023-06-16T09:39:42.351Z"
   },
   {
    "duration": 270,
    "start_time": "2023-06-16T09:39:42.477Z"
   },
   {
    "duration": 27,
    "start_time": "2023-06-16T09:39:42.749Z"
   },
   {
    "duration": 296,
    "start_time": "2023-06-16T09:39:42.778Z"
   },
   {
    "duration": 342,
    "start_time": "2023-06-16T09:39:43.076Z"
   },
   {
    "duration": 49,
    "start_time": "2023-06-16T09:39:43.421Z"
   },
   {
    "duration": 263,
    "start_time": "2023-06-16T09:39:43.472Z"
   },
   {
    "duration": 34,
    "start_time": "2023-06-16T09:39:43.737Z"
   },
   {
    "duration": 535,
    "start_time": "2023-06-16T09:39:43.773Z"
   },
   {
    "duration": 600,
    "start_time": "2023-06-16T09:39:44.310Z"
   },
   {
    "duration": 536,
    "start_time": "2023-06-16T09:39:44.912Z"
   },
   {
    "duration": 242,
    "start_time": "2023-06-16T09:39:45.450Z"
   },
   {
    "duration": 13,
    "start_time": "2023-06-16T09:39:45.701Z"
   },
   {
    "duration": 186,
    "start_time": "2023-06-16T09:39:45.716Z"
   },
   {
    "duration": 15171,
    "start_time": "2023-06-16T09:39:45.904Z"
   },
   {
    "duration": 544,
    "start_time": "2023-06-16T09:40:01.077Z"
   },
   {
    "duration": 104,
    "start_time": "2023-06-16T09:40:01.623Z"
   },
   {
    "duration": 194,
    "start_time": "2023-06-16T09:40:01.730Z"
   },
   {
    "duration": 22,
    "start_time": "2023-06-16T09:40:01.926Z"
   },
   {
    "duration": 478,
    "start_time": "2023-06-16T09:40:01.950Z"
   },
   {
    "duration": 802,
    "start_time": "2023-06-16T09:40:02.430Z"
   },
   {
    "duration": 76,
    "start_time": "2023-06-16T09:40:03.234Z"
   },
   {
    "duration": 501,
    "start_time": "2023-06-16T09:40:03.312Z"
   },
   {
    "duration": 16,
    "start_time": "2023-06-16T09:40:03.816Z"
   },
   {
    "duration": 71,
    "start_time": "2023-06-16T09:40:03.835Z"
   },
   {
    "duration": 838,
    "start_time": "2023-06-16T09:40:03.908Z"
   },
   {
    "duration": 2653,
    "start_time": "2023-06-16T09:40:04.749Z"
   },
   {
    "duration": 306,
    "start_time": "2023-06-16T09:40:07.404Z"
   },
   {
    "duration": 27,
    "start_time": "2023-06-16T09:40:07.712Z"
   },
   {
    "duration": 17,
    "start_time": "2023-06-16T09:40:07.740Z"
   },
   {
    "duration": 242,
    "start_time": "2023-06-16T09:40:07.759Z"
   },
   {
    "duration": 8,
    "start_time": "2023-06-16T09:40:08.004Z"
   },
   {
    "duration": 339,
    "start_time": "2023-06-16T09:40:08.014Z"
   },
   {
    "duration": 7,
    "start_time": "2023-06-16T09:40:08.355Z"
   },
   {
    "duration": 307,
    "start_time": "2023-06-16T09:40:08.364Z"
   },
   {
    "duration": 15,
    "start_time": "2023-06-16T09:40:08.673Z"
   },
   {
    "duration": 117,
    "start_time": "2023-06-16T09:40:41.467Z"
   },
   {
    "duration": 497,
    "start_time": "2023-06-16T09:43:08.131Z"
   },
   {
    "duration": 5,
    "start_time": "2023-06-16T09:44:00.003Z"
   },
   {
    "duration": 106,
    "start_time": "2023-06-16T09:44:00.010Z"
   },
   {
    "duration": 6,
    "start_time": "2023-06-16T09:44:00.118Z"
   },
   {
    "duration": 148,
    "start_time": "2023-06-16T09:44:00.125Z"
   },
   {
    "duration": 39,
    "start_time": "2023-06-16T09:44:00.275Z"
   },
   {
    "duration": 48,
    "start_time": "2023-06-16T09:44:00.315Z"
   },
   {
    "duration": 34,
    "start_time": "2023-06-16T09:44:00.365Z"
   },
   {
    "duration": 92,
    "start_time": "2023-06-16T09:44:00.400Z"
   },
   {
    "duration": 12,
    "start_time": "2023-06-16T09:44:00.495Z"
   },
   {
    "duration": 103,
    "start_time": "2023-06-16T09:44:00.510Z"
   },
   {
    "duration": 9,
    "start_time": "2023-06-16T09:44:00.616Z"
   },
   {
    "duration": 43,
    "start_time": "2023-06-16T09:44:00.626Z"
   },
   {
    "duration": 386,
    "start_time": "2023-06-16T09:44:00.671Z"
   },
   {
    "duration": 229,
    "start_time": "2023-06-16T09:44:01.059Z"
   },
   {
    "duration": 287,
    "start_time": "2023-06-16T09:44:01.301Z"
   },
   {
    "duration": 130,
    "start_time": "2023-06-16T09:44:01.590Z"
   },
   {
    "duration": 327,
    "start_time": "2023-06-16T09:44:01.723Z"
   },
   {
    "duration": 29,
    "start_time": "2023-06-16T09:44:02.052Z"
   },
   {
    "duration": 903,
    "start_time": "2023-06-16T09:44:02.084Z"
   },
   {
    "duration": 336,
    "start_time": "2023-06-16T09:44:02.989Z"
   },
   {
    "duration": 44,
    "start_time": "2023-06-16T09:44:03.327Z"
   },
   {
    "duration": 273,
    "start_time": "2023-06-16T09:44:03.373Z"
   },
   {
    "duration": 34,
    "start_time": "2023-06-16T09:44:03.648Z"
   },
   {
    "duration": 94,
    "start_time": "2023-06-16T09:44:03.684Z"
   },
   {
    "duration": 477,
    "start_time": "2023-06-16T09:44:03.781Z"
   },
   {
    "duration": 526,
    "start_time": "2023-06-16T09:44:04.260Z"
   },
   {
    "duration": 240,
    "start_time": "2023-06-16T09:44:04.789Z"
   },
   {
    "duration": 14,
    "start_time": "2023-06-16T09:44:05.032Z"
   },
   {
    "duration": 476,
    "start_time": "2023-06-16T09:44:05.051Z"
   },
   {
    "duration": 7,
    "start_time": "2023-06-16T09:44:27.869Z"
   },
   {
    "duration": 79,
    "start_time": "2023-06-16T09:44:27.877Z"
   },
   {
    "duration": 7,
    "start_time": "2023-06-16T09:44:27.958Z"
   },
   {
    "duration": 171,
    "start_time": "2023-06-16T09:44:27.967Z"
   },
   {
    "duration": 20,
    "start_time": "2023-06-16T09:44:28.140Z"
   },
   {
    "duration": 16,
    "start_time": "2023-06-16T09:44:28.162Z"
   },
   {
    "duration": 21,
    "start_time": "2023-06-16T09:44:28.203Z"
   },
   {
    "duration": 77,
    "start_time": "2023-06-16T09:44:28.226Z"
   },
   {
    "duration": 9,
    "start_time": "2023-06-16T09:44:28.305Z"
   },
   {
    "duration": 95,
    "start_time": "2023-06-16T09:44:28.316Z"
   },
   {
    "duration": 10,
    "start_time": "2023-06-16T09:44:28.413Z"
   },
   {
    "duration": 41,
    "start_time": "2023-06-16T09:44:28.425Z"
   },
   {
    "duration": 389,
    "start_time": "2023-06-16T09:44:28.468Z"
   },
   {
    "duration": 238,
    "start_time": "2023-06-16T09:44:28.859Z"
   },
   {
    "duration": 385,
    "start_time": "2023-06-16T09:44:29.100Z"
   },
   {
    "duration": 129,
    "start_time": "2023-06-16T09:44:29.487Z"
   },
   {
    "duration": 287,
    "start_time": "2023-06-16T09:44:29.618Z"
   },
   {
    "duration": 39,
    "start_time": "2023-06-16T09:44:29.907Z"
   },
   {
    "duration": 305,
    "start_time": "2023-06-16T09:44:29.948Z"
   },
   {
    "duration": 374,
    "start_time": "2023-06-16T09:44:30.255Z"
   },
   {
    "duration": 42,
    "start_time": "2023-06-16T09:44:30.631Z"
   },
   {
    "duration": 230,
    "start_time": "2023-06-16T09:44:30.675Z"
   },
   {
    "duration": 31,
    "start_time": "2023-06-16T09:44:30.907Z"
   },
   {
    "duration": 96,
    "start_time": "2023-06-16T09:44:30.940Z"
   },
   {
    "duration": 519,
    "start_time": "2023-06-16T09:44:31.038Z"
   },
   {
    "duration": 536,
    "start_time": "2023-06-16T09:44:31.559Z"
   },
   {
    "duration": 233,
    "start_time": "2023-06-16T09:44:32.097Z"
   },
   {
    "duration": 13,
    "start_time": "2023-06-16T09:44:32.332Z"
   },
   {
    "duration": 133,
    "start_time": "2023-06-16T09:44:32.347Z"
   },
   {
    "duration": 15210,
    "start_time": "2023-06-16T09:44:32.482Z"
   },
   {
    "duration": 511,
    "start_time": "2023-06-16T09:44:47.701Z"
   },
   {
    "duration": 114,
    "start_time": "2023-06-16T09:44:48.214Z"
   },
   {
    "duration": 218,
    "start_time": "2023-06-16T09:44:48.330Z"
   },
   {
    "duration": 17,
    "start_time": "2023-06-16T09:44:48.550Z"
   },
   {
    "duration": 425,
    "start_time": "2023-06-16T09:44:48.569Z"
   },
   {
    "duration": 494,
    "start_time": "2023-06-16T09:44:48.996Z"
   },
   {
    "duration": 26,
    "start_time": "2023-06-16T09:44:49.492Z"
   },
   {
    "duration": 124,
    "start_time": "2023-06-16T09:44:49.519Z"
   },
   {
    "duration": 12,
    "start_time": "2023-06-16T09:44:49.644Z"
   },
   {
    "duration": 9,
    "start_time": "2023-06-16T09:44:49.657Z"
   },
   {
    "duration": 521,
    "start_time": "2023-06-16T09:44:49.667Z"
   },
   {
    "duration": 2370,
    "start_time": "2023-06-16T09:44:50.190Z"
   },
   {
    "duration": 328,
    "start_time": "2023-06-16T09:44:52.562Z"
   },
   {
    "duration": 33,
    "start_time": "2023-06-16T09:44:52.892Z"
   },
   {
    "duration": 12,
    "start_time": "2023-06-16T09:44:52.927Z"
   },
   {
    "duration": 251,
    "start_time": "2023-06-16T09:44:52.941Z"
   },
   {
    "duration": 13,
    "start_time": "2023-06-16T09:44:53.194Z"
   },
   {
    "duration": 313,
    "start_time": "2023-06-16T09:44:53.209Z"
   },
   {
    "duration": 8,
    "start_time": "2023-06-16T09:44:53.524Z"
   },
   {
    "duration": 422,
    "start_time": "2023-06-16T09:44:53.533Z"
   },
   {
    "duration": 14,
    "start_time": "2023-06-16T09:44:53.957Z"
   },
   {
    "duration": 379,
    "start_time": "2023-06-16T09:47:50.465Z"
   },
   {
    "duration": 6,
    "start_time": "2023-06-16T09:47:57.306Z"
   },
   {
    "duration": 94,
    "start_time": "2023-06-16T09:47:57.314Z"
   },
   {
    "duration": 8,
    "start_time": "2023-06-16T09:47:57.410Z"
   },
   {
    "duration": 129,
    "start_time": "2023-06-16T09:47:57.420Z"
   },
   {
    "duration": 20,
    "start_time": "2023-06-16T09:47:57.556Z"
   },
   {
    "duration": 33,
    "start_time": "2023-06-16T09:47:57.578Z"
   },
   {
    "duration": 17,
    "start_time": "2023-06-16T09:47:57.613Z"
   },
   {
    "duration": 44,
    "start_time": "2023-06-16T09:47:57.632Z"
   },
   {
    "duration": 8,
    "start_time": "2023-06-16T09:47:57.702Z"
   },
   {
    "duration": 70,
    "start_time": "2023-06-16T09:47:57.712Z"
   },
   {
    "duration": 21,
    "start_time": "2023-06-16T09:47:57.784Z"
   },
   {
    "duration": 20,
    "start_time": "2023-06-16T09:47:57.807Z"
   },
   {
    "duration": 384,
    "start_time": "2023-06-16T09:47:57.829Z"
   },
   {
    "duration": 241,
    "start_time": "2023-06-16T09:47:58.215Z"
   },
   {
    "duration": 295,
    "start_time": "2023-06-16T09:47:58.458Z"
   },
   {
    "duration": 124,
    "start_time": "2023-06-16T09:47:58.755Z"
   },
   {
    "duration": 290,
    "start_time": "2023-06-16T09:47:58.880Z"
   },
   {
    "duration": 44,
    "start_time": "2023-06-16T09:47:59.172Z"
   },
   {
    "duration": 298,
    "start_time": "2023-06-16T09:47:59.218Z"
   },
   {
    "duration": 342,
    "start_time": "2023-06-16T09:47:59.517Z"
   },
   {
    "duration": 55,
    "start_time": "2023-06-16T09:47:59.861Z"
   },
   {
    "duration": 229,
    "start_time": "2023-06-16T09:47:59.918Z"
   },
   {
    "duration": 75,
    "start_time": "2023-06-16T09:48:00.149Z"
   },
   {
    "duration": 236,
    "start_time": "2023-06-16T09:48:00.228Z"
   },
   {
    "duration": 572,
    "start_time": "2023-06-16T09:48:00.466Z"
   },
   {
    "duration": 610,
    "start_time": "2023-06-16T09:48:01.040Z"
   },
   {
    "duration": 243,
    "start_time": "2023-06-16T09:48:01.653Z"
   },
   {
    "duration": 13,
    "start_time": "2023-06-16T09:48:01.898Z"
   },
   {
    "duration": 304,
    "start_time": "2023-06-16T09:48:01.913Z"
   },
   {
    "duration": 16712,
    "start_time": "2023-06-16T09:48:02.219Z"
   },
   {
    "duration": 912,
    "start_time": "2023-06-16T09:48:18.933Z"
   },
   {
    "duration": 299,
    "start_time": "2023-06-16T09:48:19.848Z"
   },
   {
    "duration": 578,
    "start_time": "2023-06-16T09:48:20.150Z"
   },
   {
    "duration": 73,
    "start_time": "2023-06-16T09:48:20.730Z"
   },
   {
    "duration": 686,
    "start_time": "2023-06-16T09:48:20.806Z"
   },
   {
    "duration": 476,
    "start_time": "2023-06-16T09:48:21.494Z"
   },
   {
    "duration": 38,
    "start_time": "2023-06-16T09:48:21.972Z"
   },
   {
    "duration": 118,
    "start_time": "2023-06-16T09:48:22.013Z"
   },
   {
    "duration": 14,
    "start_time": "2023-06-16T09:48:22.133Z"
   },
   {
    "duration": 9,
    "start_time": "2023-06-16T09:48:22.149Z"
   },
   {
    "duration": 516,
    "start_time": "2023-06-16T09:48:22.159Z"
   },
   {
    "duration": 2328,
    "start_time": "2023-06-16T09:48:22.677Z"
   },
   {
    "duration": 308,
    "start_time": "2023-06-16T09:48:25.007Z"
   },
   {
    "duration": 30,
    "start_time": "2023-06-16T09:48:25.317Z"
   },
   {
    "duration": 21,
    "start_time": "2023-06-16T09:48:25.350Z"
   },
   {
    "duration": 255,
    "start_time": "2023-06-16T09:48:25.374Z"
   },
   {
    "duration": 8,
    "start_time": "2023-06-16T09:48:25.632Z"
   },
   {
    "duration": 345,
    "start_time": "2023-06-16T09:48:25.642Z"
   },
   {
    "duration": 16,
    "start_time": "2023-06-16T09:48:25.989Z"
   },
   {
    "duration": 302,
    "start_time": "2023-06-16T09:48:26.008Z"
   },
   {
    "duration": 15,
    "start_time": "2023-06-16T09:48:26.312Z"
   },
   {
    "duration": 1973,
    "start_time": "2023-06-16T19:00:53.312Z"
   },
   {
    "duration": 203,
    "start_time": "2023-06-16T19:00:55.287Z"
   },
   {
    "duration": 11,
    "start_time": "2023-06-16T19:00:55.492Z"
   },
   {
    "duration": 180,
    "start_time": "2023-06-16T19:00:55.505Z"
   },
   {
    "duration": 13,
    "start_time": "2023-06-16T19:00:55.687Z"
   },
   {
    "duration": 53,
    "start_time": "2023-06-16T19:00:55.702Z"
   },
   {
    "duration": 13,
    "start_time": "2023-06-16T19:00:55.757Z"
   },
   {
    "duration": 51,
    "start_time": "2023-06-16T19:00:55.771Z"
   },
   {
    "duration": 28,
    "start_time": "2023-06-16T19:00:55.823Z"
   },
   {
    "duration": 129,
    "start_time": "2023-06-16T19:00:55.853Z"
   },
   {
    "duration": 9,
    "start_time": "2023-06-16T19:00:55.984Z"
   },
   {
    "duration": 82,
    "start_time": "2023-06-16T19:00:55.996Z"
   },
   {
    "duration": 459,
    "start_time": "2023-06-16T19:00:56.080Z"
   },
   {
    "duration": 226,
    "start_time": "2023-06-16T19:00:56.543Z"
   },
   {
    "duration": 388,
    "start_time": "2023-06-16T19:00:56.770Z"
   },
   {
    "duration": 120,
    "start_time": "2023-06-16T19:00:57.160Z"
   },
   {
    "duration": 314,
    "start_time": "2023-06-16T19:00:57.282Z"
   },
   {
    "duration": 53,
    "start_time": "2023-06-16T19:00:57.597Z"
   },
   {
    "duration": 304,
    "start_time": "2023-06-16T19:00:57.658Z"
   },
   {
    "duration": 381,
    "start_time": "2023-06-16T19:00:57.963Z"
   },
   {
    "duration": 59,
    "start_time": "2023-06-16T19:00:58.347Z"
   },
   {
    "duration": 282,
    "start_time": "2023-06-16T19:00:58.408Z"
   },
   {
    "duration": 49,
    "start_time": "2023-06-16T19:00:58.692Z"
   },
   {
    "duration": 614,
    "start_time": "2023-06-16T19:00:58.744Z"
   },
   {
    "duration": 603,
    "start_time": "2023-06-16T19:00:59.360Z"
   },
   {
    "duration": 556,
    "start_time": "2023-06-16T19:00:59.965Z"
   },
   {
    "duration": 240,
    "start_time": "2023-06-16T19:01:00.523Z"
   },
   {
    "duration": 11,
    "start_time": "2023-06-16T19:01:00.764Z"
   },
   {
    "duration": 397,
    "start_time": "2023-06-16T19:01:00.777Z"
   },
   {
    "duration": 18215,
    "start_time": "2023-06-16T19:01:01.175Z"
   },
   {
    "duration": 592,
    "start_time": "2023-06-16T19:01:19.391Z"
   },
   {
    "duration": 102,
    "start_time": "2023-06-16T19:01:19.984Z"
   },
   {
    "duration": 189,
    "start_time": "2023-06-16T19:01:20.087Z"
   },
   {
    "duration": 14,
    "start_time": "2023-06-16T19:01:20.277Z"
   },
   {
    "duration": 391,
    "start_time": "2023-06-16T19:01:20.292Z"
   },
   {
    "duration": 471,
    "start_time": "2023-06-16T19:01:20.684Z"
   },
   {
    "duration": 17,
    "start_time": "2023-06-16T19:01:21.156Z"
   },
   {
    "duration": 151,
    "start_time": "2023-06-16T19:01:21.174Z"
   },
   {
    "duration": 10,
    "start_time": "2023-06-16T19:01:21.326Z"
   },
   {
    "duration": 16,
    "start_time": "2023-06-16T19:01:21.337Z"
   },
   {
    "duration": 560,
    "start_time": "2023-06-16T19:01:21.357Z"
   },
   {
    "duration": 2840,
    "start_time": "2023-06-16T19:01:21.918Z"
   },
   {
    "duration": 44,
    "start_time": "2023-06-16T19:01:25.093Z"
   },
   {
    "duration": 48,
    "start_time": "2023-06-16T19:01:25.138Z"
   },
   {
    "duration": 330,
    "start_time": "2023-06-16T19:01:25.188Z"
   },
   {
    "duration": 8,
    "start_time": "2023-06-16T19:01:25.520Z"
   },
   {
    "duration": 495,
    "start_time": "2023-06-16T19:01:25.529Z"
   },
   {
    "duration": 10,
    "start_time": "2023-06-16T19:01:26.025Z"
   },
   {
    "duration": 413,
    "start_time": "2023-06-16T19:01:26.037Z"
   },
   {
    "duration": 15,
    "start_time": "2023-06-16T19:01:26.452Z"
   },
   {
    "duration": 321,
    "start_time": "2023-06-16T19:01:26.469Z"
   },
   {
    "duration": 7,
    "start_time": "2023-06-16T20:47:27.776Z"
   },
   {
    "duration": 347,
    "start_time": "2023-06-16T20:47:27.826Z"
   },
   {
    "duration": 16,
    "start_time": "2023-06-16T20:47:28.181Z"
   },
   {
    "duration": 330,
    "start_time": "2023-06-16T20:47:28.199Z"
   },
   {
    "duration": 32,
    "start_time": "2023-06-16T20:47:28.531Z"
   },
   {
    "duration": 205,
    "start_time": "2023-06-16T20:47:28.565Z"
   },
   {
    "duration": 43,
    "start_time": "2023-06-16T20:47:28.774Z"
   },
   {
    "duration": 88,
    "start_time": "2023-06-16T20:47:33.865Z"
   },
   {
    "duration": 107,
    "start_time": "2023-06-16T20:47:33.955Z"
   },
   {
    "duration": 213,
    "start_time": "2023-06-16T20:47:34.064Z"
   },
   {
    "duration": 13,
    "start_time": "2023-06-16T20:47:34.279Z"
   },
   {
    "duration": 100,
    "start_time": "2023-06-16T20:47:34.294Z"
   },
   {
    "duration": 836,
    "start_time": "2023-06-16T20:47:34.397Z"
   },
   {
    "duration": 430,
    "start_time": "2023-06-16T20:47:35.235Z"
   },
   {
    "duration": 409,
    "start_time": "2023-06-16T20:47:35.667Z"
   },
   {
    "duration": 147,
    "start_time": "2023-06-16T20:47:36.078Z"
   },
   {
    "duration": 454,
    "start_time": "2023-06-16T20:47:36.228Z"
   },
   {
    "duration": 53,
    "start_time": "2023-06-16T20:47:36.690Z"
   },
   {
    "duration": 481,
    "start_time": "2023-06-16T20:47:36.744Z"
   },
   {
    "duration": 439,
    "start_time": "2023-06-16T20:47:37.226Z"
   },
   {
    "duration": 61,
    "start_time": "2023-06-16T20:47:37.666Z"
   },
   {
    "duration": 304,
    "start_time": "2023-06-16T20:47:37.729Z"
   },
   {
    "duration": 46,
    "start_time": "2023-06-16T20:47:38.046Z"
   },
   {
    "duration": 202,
    "start_time": "2023-06-16T20:47:38.095Z"
   },
   {
    "duration": 736,
    "start_time": "2023-06-16T20:47:38.299Z"
   },
   {
    "duration": 685,
    "start_time": "2023-06-16T20:47:39.036Z"
   },
   {
    "duration": 358,
    "start_time": "2023-06-16T20:47:39.723Z"
   },
   {
    "duration": 51,
    "start_time": "2023-06-16T20:47:40.082Z"
   },
   {
    "duration": 866,
    "start_time": "2023-06-16T20:47:40.151Z"
   },
   {
    "duration": 18924,
    "start_time": "2023-06-16T20:47:41.030Z"
   },
   {
    "duration": 713,
    "start_time": "2023-06-16T20:47:59.956Z"
   },
   {
    "duration": 146,
    "start_time": "2023-06-16T20:48:00.684Z"
   },
   {
    "duration": 313,
    "start_time": "2023-06-16T20:48:00.832Z"
   },
   {
    "duration": 85,
    "start_time": "2023-06-16T20:48:01.147Z"
   },
   {
    "duration": 578,
    "start_time": "2023-06-16T20:48:01.239Z"
   },
   {
    "duration": 529,
    "start_time": "2023-06-16T20:48:01.820Z"
   },
   {
    "duration": 47,
    "start_time": "2023-06-16T20:48:02.353Z"
   },
   {
    "duration": 457,
    "start_time": "2023-06-16T20:48:02.406Z"
   },
   {
    "duration": 13,
    "start_time": "2023-06-16T20:48:02.877Z"
   },
   {
    "duration": 106,
    "start_time": "2023-06-16T20:48:02.892Z"
   },
   {
    "duration": 841,
    "start_time": "2023-06-16T20:48:03.016Z"
   },
   {
    "duration": 3943,
    "start_time": "2023-06-16T20:48:03.858Z"
   },
   {
    "duration": 490,
    "start_time": "2023-06-16T20:48:07.806Z"
   },
   {
    "duration": 95,
    "start_time": "2023-06-16T20:48:08.301Z"
   },
   {
    "duration": 88,
    "start_time": "2023-06-16T20:48:08.401Z"
   },
   {
    "duration": 350,
    "start_time": "2023-06-16T20:48:08.494Z"
   },
   {
    "duration": 13,
    "start_time": "2023-06-16T20:48:08.850Z"
   },
   {
    "duration": 507,
    "start_time": "2023-06-16T20:48:08.869Z"
   },
   {
    "duration": 16,
    "start_time": "2023-06-16T20:48:09.381Z"
   },
   {
    "duration": 383,
    "start_time": "2023-06-16T20:48:09.403Z"
   },
   {
    "duration": 19,
    "start_time": "2023-06-16T20:48:09.791Z"
   },
   {
    "duration": 5,
    "start_time": "2023-06-16T20:54:58.071Z"
   },
   {
    "duration": 697,
    "start_time": "2023-06-16T20:54:58.087Z"
   },
   {
    "duration": 41,
    "start_time": "2023-06-16T20:54:58.797Z"
   },
   {
    "duration": 303,
    "start_time": "2023-06-16T20:54:58.858Z"
   },
   {
    "duration": 27,
    "start_time": "2023-06-16T20:54:59.166Z"
   },
   {
    "duration": 108,
    "start_time": "2023-06-16T20:54:59.197Z"
   },
   {
    "duration": 161,
    "start_time": "2023-06-16T20:54:59.312Z"
   },
   {
    "duration": 222,
    "start_time": "2023-06-16T20:54:59.482Z"
   },
   {
    "duration": 101,
    "start_time": "2023-06-16T20:54:59.711Z"
   },
   {
    "duration": 363,
    "start_time": "2023-06-16T20:54:59.817Z"
   },
   {
    "duration": 46,
    "start_time": "2023-06-16T20:55:00.190Z"
   },
   {
    "duration": 230,
    "start_time": "2023-06-16T20:55:00.244Z"
   },
   {
    "duration": 612,
    "start_time": "2023-06-16T20:55:00.484Z"
   },
   {
    "duration": 296,
    "start_time": "2023-06-16T20:55:01.113Z"
   },
   {
    "duration": 507,
    "start_time": "2023-06-16T20:55:01.415Z"
   },
   {
    "duration": 164,
    "start_time": "2023-06-16T20:55:01.930Z"
   },
   {
    "duration": 554,
    "start_time": "2023-06-16T20:55:02.099Z"
   },
   {
    "duration": 46,
    "start_time": "2023-06-16T20:55:02.658Z"
   },
   {
    "duration": 529,
    "start_time": "2023-06-16T20:55:02.708Z"
   },
   {
    "duration": 435,
    "start_time": "2023-06-16T20:55:03.242Z"
   },
   {
    "duration": 87,
    "start_time": "2023-06-16T20:55:03.682Z"
   },
   {
    "duration": 639,
    "start_time": "2023-06-16T20:55:03.778Z"
   },
   {
    "duration": 50,
    "start_time": "2023-06-16T20:55:04.423Z"
   },
   {
    "duration": 197,
    "start_time": "2023-06-16T20:55:04.479Z"
   },
   {
    "duration": 831,
    "start_time": "2023-06-16T20:55:04.678Z"
   },
   {
    "duration": 846,
    "start_time": "2023-06-16T20:55:05.515Z"
   },
   {
    "duration": 283,
    "start_time": "2023-06-16T20:55:06.370Z"
   },
   {
    "duration": 20,
    "start_time": "2023-06-16T20:55:06.666Z"
   },
   {
    "duration": 411,
    "start_time": "2023-06-16T20:55:06.691Z"
   },
   {
    "duration": 22207,
    "start_time": "2023-06-16T20:55:07.104Z"
   },
   {
    "duration": 669,
    "start_time": "2023-06-16T20:55:29.312Z"
   },
   {
    "duration": 128,
    "start_time": "2023-06-16T20:55:29.985Z"
   },
   {
    "duration": 273,
    "start_time": "2023-06-16T20:55:30.114Z"
   },
   {
    "duration": 25,
    "start_time": "2023-06-16T20:55:30.392Z"
   },
   {
    "duration": 705,
    "start_time": "2023-06-16T20:55:30.422Z"
   },
   {
    "duration": 591,
    "start_time": "2023-06-16T20:55:31.133Z"
   },
   {
    "duration": 20,
    "start_time": "2023-06-16T20:55:31.726Z"
   },
   {
    "duration": 371,
    "start_time": "2023-06-16T20:55:31.747Z"
   },
   {
    "duration": 17,
    "start_time": "2023-06-16T20:55:32.120Z"
   },
   {
    "duration": 11,
    "start_time": "2023-06-16T20:55:32.139Z"
   },
   {
    "duration": 1059,
    "start_time": "2023-06-16T20:55:32.152Z"
   },
   {
    "duration": 2924,
    "start_time": "2023-06-16T20:55:33.213Z"
   },
   {
    "duration": 531,
    "start_time": "2023-06-16T20:55:36.158Z"
   },
   {
    "duration": 40,
    "start_time": "2023-06-16T20:55:36.697Z"
   },
   {
    "duration": 152,
    "start_time": "2023-06-16T20:55:36.741Z"
   },
   {
    "duration": 471,
    "start_time": "2023-06-16T20:55:36.900Z"
   },
   {
    "duration": 12,
    "start_time": "2023-06-16T20:55:37.376Z"
   },
   {
    "duration": 616,
    "start_time": "2023-06-16T20:55:37.393Z"
   },
   {
    "duration": 14,
    "start_time": "2023-06-16T20:55:38.014Z"
   },
   {
    "duration": 609,
    "start_time": "2023-06-16T20:55:38.032Z"
   },
   {
    "duration": 21,
    "start_time": "2023-06-16T20:55:38.648Z"
   },
   {
    "duration": 1517,
    "start_time": "2023-06-17T14:33:46.903Z"
   },
   {
    "duration": 66,
    "start_time": "2023-06-17T14:33:48.423Z"
   },
   {
    "duration": 12,
    "start_time": "2023-06-17T14:33:48.490Z"
   },
   {
    "duration": 156,
    "start_time": "2023-06-17T14:33:48.504Z"
   },
   {
    "duration": 11,
    "start_time": "2023-06-17T14:33:48.661Z"
   },
   {
    "duration": 12,
    "start_time": "2023-06-17T14:33:48.674Z"
   },
   {
    "duration": 33,
    "start_time": "2023-06-17T14:33:48.687Z"
   },
   {
    "duration": 53,
    "start_time": "2023-06-17T14:33:48.722Z"
   },
   {
    "duration": 5,
    "start_time": "2023-06-17T14:33:48.777Z"
   },
   {
    "duration": 81,
    "start_time": "2023-06-17T14:33:48.784Z"
   },
   {
    "duration": 11,
    "start_time": "2023-06-17T14:33:48.867Z"
   },
   {
    "duration": 16,
    "start_time": "2023-06-17T14:33:48.879Z"
   },
   {
    "duration": 348,
    "start_time": "2023-06-17T14:33:48.896Z"
   },
   {
    "duration": 204,
    "start_time": "2023-06-17T14:33:49.245Z"
   },
   {
    "duration": 320,
    "start_time": "2023-06-17T14:33:49.450Z"
   },
   {
    "duration": 113,
    "start_time": "2023-06-17T14:33:49.771Z"
   },
   {
    "duration": 251,
    "start_time": "2023-06-17T14:33:49.886Z"
   },
   {
    "duration": 24,
    "start_time": "2023-06-17T14:33:50.139Z"
   },
   {
    "duration": 315,
    "start_time": "2023-06-17T14:33:50.165Z"
   },
   {
    "duration": 297,
    "start_time": "2023-06-17T14:33:50.481Z"
   },
   {
    "duration": 41,
    "start_time": "2023-06-17T14:33:50.779Z"
   },
   {
    "duration": 229,
    "start_time": "2023-06-17T14:33:50.822Z"
   },
   {
    "duration": 40,
    "start_time": "2023-06-17T14:33:51.053Z"
   },
   {
    "duration": 715,
    "start_time": "2023-06-17T14:33:51.095Z"
   },
   {
    "duration": 473,
    "start_time": "2023-06-17T14:33:51.812Z"
   },
   {
    "duration": 447,
    "start_time": "2023-06-17T14:33:52.286Z"
   },
   {
    "duration": 212,
    "start_time": "2023-06-17T14:33:52.735Z"
   },
   {
    "duration": 13,
    "start_time": "2023-06-17T14:33:52.950Z"
   },
   {
    "duration": 175,
    "start_time": "2023-06-17T14:33:52.965Z"
   },
   {
    "duration": 15072,
    "start_time": "2023-06-17T14:33:53.142Z"
   },
   {
    "duration": 478,
    "start_time": "2023-06-17T14:34:08.216Z"
   },
   {
    "duration": 101,
    "start_time": "2023-06-17T14:34:08.695Z"
   },
   {
    "duration": 198,
    "start_time": "2023-06-17T14:34:08.798Z"
   },
   {
    "duration": 23,
    "start_time": "2023-06-17T14:34:08.997Z"
   },
   {
    "duration": 386,
    "start_time": "2023-06-17T14:34:09.022Z"
   },
   {
    "duration": 467,
    "start_time": "2023-06-17T14:34:09.410Z"
   },
   {
    "duration": 19,
    "start_time": "2023-06-17T14:34:09.878Z"
   },
   {
    "duration": 138,
    "start_time": "2023-06-17T14:34:09.898Z"
   },
   {
    "duration": 11,
    "start_time": "2023-06-17T14:34:10.038Z"
   },
   {
    "duration": 54,
    "start_time": "2023-06-17T14:34:10.051Z"
   },
   {
    "duration": 469,
    "start_time": "2023-06-17T14:34:10.106Z"
   },
   {
    "duration": 2371,
    "start_time": "2023-06-17T14:34:10.576Z"
   },
   {
    "duration": 332,
    "start_time": "2023-06-17T14:34:12.949Z"
   },
   {
    "duration": 24,
    "start_time": "2023-06-17T14:34:13.283Z"
   },
   {
    "duration": 13,
    "start_time": "2023-06-17T14:34:13.319Z"
   },
   {
    "duration": 213,
    "start_time": "2023-06-17T14:34:13.337Z"
   },
   {
    "duration": 7,
    "start_time": "2023-06-17T14:34:13.551Z"
   },
   {
    "duration": 292,
    "start_time": "2023-06-17T14:34:13.559Z"
   },
   {
    "duration": 6,
    "start_time": "2023-06-17T14:34:13.852Z"
   },
   {
    "duration": 287,
    "start_time": "2023-06-17T14:34:13.860Z"
   },
   {
    "duration": 14,
    "start_time": "2023-06-17T14:34:14.148Z"
   },
   {
    "duration": 593,
    "start_time": "2023-06-17T14:39:17.755Z"
   },
   {
    "duration": 5,
    "start_time": "2023-06-17T20:38:46.379Z"
   },
   {
    "duration": 108,
    "start_time": "2023-06-17T20:38:46.389Z"
   },
   {
    "duration": 7,
    "start_time": "2023-06-17T20:38:46.499Z"
   },
   {
    "duration": 109,
    "start_time": "2023-06-17T20:38:46.508Z"
   },
   {
    "duration": 36,
    "start_time": "2023-06-17T20:38:46.619Z"
   },
   {
    "duration": 13,
    "start_time": "2023-06-17T20:38:46.657Z"
   },
   {
    "duration": 15,
    "start_time": "2023-06-17T20:38:46.672Z"
   },
   {
    "duration": 88,
    "start_time": "2023-06-17T20:38:46.690Z"
   },
   {
    "duration": 21,
    "start_time": "2023-06-17T20:38:46.780Z"
   },
   {
    "duration": 57,
    "start_time": "2023-06-17T20:38:46.803Z"
   },
   {
    "duration": 24,
    "start_time": "2023-06-17T20:38:46.863Z"
   },
   {
    "duration": 7,
    "start_time": "2023-06-17T20:38:46.889Z"
   },
   {
    "duration": 106,
    "start_time": "2023-06-17T20:38:46.898Z"
   },
   {
    "duration": 12,
    "start_time": "2023-06-17T20:38:47.006Z"
   },
   {
    "duration": 44,
    "start_time": "2023-06-17T20:38:47.020Z"
   },
   {
    "duration": 393,
    "start_time": "2023-06-17T20:38:47.066Z"
   },
   {
    "duration": 231,
    "start_time": "2023-06-17T20:38:47.461Z"
   },
   {
    "duration": 288,
    "start_time": "2023-06-17T20:38:47.694Z"
   },
   {
    "duration": 163,
    "start_time": "2023-06-17T20:38:47.984Z"
   },
   {
    "duration": 515,
    "start_time": "2023-06-17T20:38:48.148Z"
   },
   {
    "duration": 39,
    "start_time": "2023-06-17T20:38:48.665Z"
   },
   {
    "duration": 292,
    "start_time": "2023-06-17T20:38:48.706Z"
   },
   {
    "duration": 354,
    "start_time": "2023-06-17T20:38:49.000Z"
   },
   {
    "duration": 52,
    "start_time": "2023-06-17T20:38:49.356Z"
   },
   {
    "duration": 231,
    "start_time": "2023-06-17T20:38:49.410Z"
   },
   {
    "duration": 38,
    "start_time": "2023-06-17T20:38:49.643Z"
   },
   {
    "duration": 98,
    "start_time": "2023-06-17T20:38:49.683Z"
   },
   {
    "duration": 474,
    "start_time": "2023-06-17T20:38:49.783Z"
   },
   {
    "duration": 1039,
    "start_time": "2023-06-17T20:38:50.262Z"
   },
   {
    "duration": 231,
    "start_time": "2023-06-17T20:38:51.303Z"
   },
   {
    "duration": 23,
    "start_time": "2023-06-17T20:38:51.539Z"
   },
   {
    "duration": 150,
    "start_time": "2023-06-17T20:38:51.564Z"
   },
   {
    "duration": 16064,
    "start_time": "2023-06-17T20:38:51.717Z"
   },
   {
    "duration": 606,
    "start_time": "2023-06-17T20:39:07.784Z"
   },
   {
    "duration": 129,
    "start_time": "2023-06-17T20:39:08.393Z"
   },
   {
    "duration": 215,
    "start_time": "2023-06-17T20:39:08.524Z"
   },
   {
    "duration": 24,
    "start_time": "2023-06-17T20:39:08.742Z"
   },
   {
    "duration": 407,
    "start_time": "2023-06-17T20:39:08.768Z"
   },
   {
    "duration": 502,
    "start_time": "2023-06-17T20:39:09.177Z"
   },
   {
    "duration": 27,
    "start_time": "2023-06-17T20:39:09.680Z"
   },
   {
    "duration": 126,
    "start_time": "2023-06-17T20:39:09.709Z"
   },
   {
    "duration": 21,
    "start_time": "2023-06-17T20:39:09.838Z"
   },
   {
    "duration": 9,
    "start_time": "2023-06-17T20:39:09.861Z"
   },
   {
    "duration": 498,
    "start_time": "2023-06-17T20:39:09.872Z"
   },
   {
    "duration": 2329,
    "start_time": "2023-06-17T20:39:10.372Z"
   },
   {
    "duration": 313,
    "start_time": "2023-06-17T20:39:12.703Z"
   },
   {
    "duration": 38,
    "start_time": "2023-06-17T20:39:13.019Z"
   },
   {
    "duration": 12,
    "start_time": "2023-06-17T20:39:13.059Z"
   },
   {
    "duration": 239,
    "start_time": "2023-06-17T20:39:13.073Z"
   },
   {
    "duration": 9,
    "start_time": "2023-06-17T20:39:13.314Z"
   },
   {
    "duration": 326,
    "start_time": "2023-06-17T20:39:13.324Z"
   },
   {
    "duration": 7,
    "start_time": "2023-06-17T20:39:13.652Z"
   },
   {
    "duration": 287,
    "start_time": "2023-06-17T20:39:13.661Z"
   },
   {
    "duration": 18,
    "start_time": "2023-06-17T20:39:13.950Z"
   },
   {
    "duration": 12,
    "start_time": "2023-06-17T20:39:34.684Z"
   },
   {
    "duration": 9,
    "start_time": "2023-06-17T20:39:53.628Z"
   },
   {
    "duration": 14,
    "start_time": "2023-06-17T20:40:35.177Z"
   },
   {
    "duration": 13,
    "start_time": "2023-06-17T20:41:16.290Z"
   },
   {
    "duration": 9,
    "start_time": "2023-06-17T20:41:46.073Z"
   },
   {
    "duration": 20,
    "start_time": "2023-06-17T20:41:48.414Z"
   },
   {
    "duration": 32,
    "start_time": "2023-06-17T20:41:49.623Z"
   },
   {
    "duration": 6,
    "start_time": "2023-06-17T20:43:05.759Z"
   },
   {
    "duration": 69,
    "start_time": "2023-06-17T20:43:05.768Z"
   },
   {
    "duration": 6,
    "start_time": "2023-06-17T20:43:05.839Z"
   },
   {
    "duration": 137,
    "start_time": "2023-06-17T20:43:05.847Z"
   },
   {
    "duration": 19,
    "start_time": "2023-06-17T20:43:05.988Z"
   },
   {
    "duration": 35,
    "start_time": "2023-06-17T20:43:06.010Z"
   },
   {
    "duration": 32,
    "start_time": "2023-06-17T20:43:06.047Z"
   },
   {
    "duration": 59,
    "start_time": "2023-06-17T20:43:06.081Z"
   },
   {
    "duration": 8,
    "start_time": "2023-06-17T20:43:06.142Z"
   },
   {
    "duration": 39,
    "start_time": "2023-06-17T20:43:06.152Z"
   },
   {
    "duration": 24,
    "start_time": "2023-06-17T20:43:06.192Z"
   },
   {
    "duration": 7,
    "start_time": "2023-06-17T20:43:06.218Z"
   },
   {
    "duration": 76,
    "start_time": "2023-06-17T20:43:06.227Z"
   },
   {
    "duration": 9,
    "start_time": "2023-06-17T20:43:06.307Z"
   },
   {
    "duration": 36,
    "start_time": "2023-06-17T20:43:06.318Z"
   },
   {
    "duration": 382,
    "start_time": "2023-06-17T20:43:06.358Z"
   },
   {
    "duration": 310,
    "start_time": "2023-06-17T20:43:06.742Z"
   },
   {
    "duration": 316,
    "start_time": "2023-06-17T20:43:07.055Z"
   },
   {
    "duration": 125,
    "start_time": "2023-06-17T20:43:07.373Z"
   },
   {
    "duration": 426,
    "start_time": "2023-06-17T20:43:07.500Z"
   },
   {
    "duration": 44,
    "start_time": "2023-06-17T20:43:07.928Z"
   },
   {
    "duration": 327,
    "start_time": "2023-06-17T20:43:07.974Z"
   },
   {
    "duration": 424,
    "start_time": "2023-06-17T20:43:08.303Z"
   },
   {
    "duration": 56,
    "start_time": "2023-06-17T20:43:08.729Z"
   },
   {
    "duration": 232,
    "start_time": "2023-06-17T20:43:08.788Z"
   },
   {
    "duration": 42,
    "start_time": "2023-06-17T20:43:09.022Z"
   },
   {
    "duration": 105,
    "start_time": "2023-06-17T20:43:09.065Z"
   },
   {
    "duration": 499,
    "start_time": "2023-06-17T20:43:09.172Z"
   },
   {
    "duration": 713,
    "start_time": "2023-06-17T20:43:09.674Z"
   },
   {
    "duration": 244,
    "start_time": "2023-06-17T20:43:10.389Z"
   },
   {
    "duration": 20,
    "start_time": "2023-06-17T20:43:10.635Z"
   },
   {
    "duration": 128,
    "start_time": "2023-06-17T20:43:10.657Z"
   },
   {
    "duration": 15782,
    "start_time": "2023-06-17T20:43:10.787Z"
   },
   {
    "duration": 605,
    "start_time": "2023-06-17T20:43:26.572Z"
   },
   {
    "duration": 293,
    "start_time": "2023-06-17T20:43:27.178Z"
   },
   {
    "duration": 408,
    "start_time": "2023-06-17T20:43:27.473Z"
   },
   {
    "duration": 70,
    "start_time": "2023-06-17T20:43:27.883Z"
   },
   {
    "duration": 944,
    "start_time": "2023-06-17T20:43:27.955Z"
   },
   {
    "duration": 861,
    "start_time": "2023-06-17T20:43:28.900Z"
   },
   {
    "duration": 21,
    "start_time": "2023-06-17T20:43:29.763Z"
   },
   {
    "duration": 118,
    "start_time": "2023-06-17T20:43:29.788Z"
   },
   {
    "duration": 15,
    "start_time": "2023-06-17T20:43:29.908Z"
   },
   {
    "duration": 38,
    "start_time": "2023-06-17T20:43:29.925Z"
   },
   {
    "duration": 494,
    "start_time": "2023-06-17T20:43:29.965Z"
   },
   {
    "duration": 2387,
    "start_time": "2023-06-17T20:43:30.462Z"
   },
   {
    "duration": 313,
    "start_time": "2023-06-17T20:43:32.853Z"
   },
   {
    "duration": 27,
    "start_time": "2023-06-17T20:43:33.168Z"
   },
   {
    "duration": 11,
    "start_time": "2023-06-17T20:43:33.197Z"
   },
   {
    "duration": 257,
    "start_time": "2023-06-17T20:43:33.210Z"
   },
   {
    "duration": 8,
    "start_time": "2023-06-17T20:43:33.469Z"
   },
   {
    "duration": 484,
    "start_time": "2023-06-17T20:43:33.479Z"
   },
   {
    "duration": 8,
    "start_time": "2023-06-17T20:43:33.966Z"
   },
   {
    "duration": 304,
    "start_time": "2023-06-17T20:43:33.975Z"
   },
   {
    "duration": 14,
    "start_time": "2023-06-17T20:43:34.280Z"
   },
   {
    "duration": 10,
    "start_time": "2023-06-17T20:44:30.519Z"
   },
   {
    "duration": 4,
    "start_time": "2023-06-17T20:52:16.187Z"
   },
   {
    "duration": 73,
    "start_time": "2023-06-17T20:52:16.193Z"
   },
   {
    "duration": 7,
    "start_time": "2023-06-17T20:52:16.268Z"
   },
   {
    "duration": 123,
    "start_time": "2023-06-17T20:52:16.276Z"
   },
   {
    "duration": 12,
    "start_time": "2023-06-17T20:52:16.401Z"
   },
   {
    "duration": 12,
    "start_time": "2023-06-17T20:52:16.414Z"
   },
   {
    "duration": 21,
    "start_time": "2023-06-17T20:52:16.453Z"
   },
   {
    "duration": 49,
    "start_time": "2023-06-17T20:52:16.477Z"
   },
   {
    "duration": 14,
    "start_time": "2023-06-17T20:52:16.553Z"
   },
   {
    "duration": 29,
    "start_time": "2023-06-17T20:52:16.569Z"
   },
   {
    "duration": 11,
    "start_time": "2023-06-17T20:52:16.601Z"
   },
   {
    "duration": 7,
    "start_time": "2023-06-17T20:52:16.613Z"
   },
   {
    "duration": 103,
    "start_time": "2023-06-17T20:52:16.622Z"
   },
   {
    "duration": 9,
    "start_time": "2023-06-17T20:52:16.727Z"
   },
   {
    "duration": 47,
    "start_time": "2023-06-17T20:52:16.737Z"
   },
   {
    "duration": 393,
    "start_time": "2023-06-17T20:52:16.787Z"
   },
   {
    "duration": 257,
    "start_time": "2023-06-17T20:52:17.182Z"
   },
   {
    "duration": 307,
    "start_time": "2023-06-17T20:52:17.440Z"
   },
   {
    "duration": 137,
    "start_time": "2023-06-17T20:52:17.748Z"
   },
   {
    "duration": 433,
    "start_time": "2023-06-17T20:52:17.887Z"
   },
   {
    "duration": 45,
    "start_time": "2023-06-17T20:52:18.322Z"
   },
   {
    "duration": 355,
    "start_time": "2023-06-17T20:52:18.369Z"
   },
   {
    "duration": 385,
    "start_time": "2023-06-17T20:52:18.726Z"
   },
   {
    "duration": 59,
    "start_time": "2023-06-17T20:52:19.113Z"
   },
   {
    "duration": 252,
    "start_time": "2023-06-17T20:52:19.175Z"
   },
   {
    "duration": 49,
    "start_time": "2023-06-17T20:52:19.429Z"
   },
   {
    "duration": 96,
    "start_time": "2023-06-17T20:52:19.480Z"
   },
   {
    "duration": 528,
    "start_time": "2023-06-17T20:52:19.578Z"
   },
   {
    "duration": 733,
    "start_time": "2023-06-17T20:52:20.111Z"
   },
   {
    "duration": 227,
    "start_time": "2023-06-17T20:52:20.853Z"
   },
   {
    "duration": 14,
    "start_time": "2023-06-17T20:52:21.082Z"
   },
   {
    "duration": 146,
    "start_time": "2023-06-17T20:52:21.097Z"
   }
  ],
  "kernelspec": {
   "display_name": "Python 3 (ipykernel)",
   "language": "python",
   "name": "python3"
  },
  "language_info": {
   "codemirror_mode": {
    "name": "ipython",
    "version": 3
   },
   "file_extension": ".py",
   "mimetype": "text/x-python",
   "name": "python",
   "nbconvert_exporter": "python",
   "pygments_lexer": "ipython3",
   "version": "3.10.9"
  },
  "toc": {
   "base_numbering": 1,
   "nav_menu": {},
   "number_sections": true,
   "sideBar": true,
   "skip_h1_title": true,
   "title_cell": "Table of Contents",
   "title_sidebar": "Contents",
   "toc_cell": false,
   "toc_position": {
    "height": "calc(100% - 180px)",
    "left": "10px",
    "top": "150px",
    "width": "286px"
   },
   "toc_section_display": true,
   "toc_window_display": true
  }
 },
 "nbformat": 4,
 "nbformat_minor": 2
}
