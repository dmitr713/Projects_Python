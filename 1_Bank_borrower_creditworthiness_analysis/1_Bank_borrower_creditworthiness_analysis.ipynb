{
 "cells": [
  {
   "cell_type": "markdown",
   "id": "29ac695e",
   "metadata": {},
   "source": [
    "# Исследование надежности заемщиков"
   ]
  },
  {
   "cell_type": "markdown",
   "id": "f036c33f",
   "metadata": {},
   "source": [
    "---\n",
    "<a id='contens'></a> \n",
    "# Оглавление\n",
    "1. [Цель проекта](#goal)\n",
    "2. [Задачи проекта](#task)\n",
    "3. [Описание данных](#data_name)\n",
    "4. [Импорт библиотек](#import_bibl)\n",
    "5. [Функции](#function)\n",
    "6. [Загрузка данных и изучение общей информации](#import)\n",
    "7. [Предобработка данных](#preprocessing)\\\n",
    "    7.1 [Изучение пропусков](#pass)\\\n",
    "    7.2 [Проверка на наличие дубликатов](#check_dubl)\\\n",
    "    7.3 [Изменение типа данных](#change_types)\\\n",
    "    7.4 [Исследование аномалий в данных](#anomaly)\\\n",
    "    7.5 [Категоризация данных](#category)\n",
    "8. [Исследовательский анализ данных](#eda)\\\n",
    "    8.1 [Портрет типичных клиентов](#portrait)\\\n",
    "    8.2 [Решения по вопросам](#eda2)\\\n",
    "        8.2.1 [Есть ли зависимость между количеством детей и возвратом кредита в срок?](#question1)\\\n",
    "        8.2.2 [Есть ли зависимость между семейным положением и возвратом кредита в срок?](#question2)\\\n",
    "        8.2.3 [Есть ли зависимость между уровнем дохода и возвратом кредита в срок?](#question3)\\\n",
    "        8.2.4 [Как разные цели кредита влияют на его возврат в срок?](#question4)\n",
    "9. [Выводы](#conclution)"
   ]
  },
  {
   "cell_type": "markdown",
   "id": "e368115f",
   "metadata": {},
   "source": [
    "---\n",
    "<a id='customer'></a> \n",
    "## Заказчик\n",
    "[Назад к оглавлению](#contens)"
   ]
  },
  {
   "cell_type": "markdown",
   "id": "6ae1ee88",
   "metadata": {},
   "source": [
    "Кредитный отдел банка"
   ]
  },
  {
   "cell_type": "markdown",
   "id": "0d6f046c",
   "metadata": {},
   "source": [
    "---\n",
    "<a id='goal'></a> \n",
    "## Цель проекта\n",
    "[Назад к оглавлению](#contens)"
   ]
  },
  {
   "cell_type": "markdown",
   "id": "af6b7c51",
   "metadata": {},
   "source": [
    "Анализ платежеспособности клиентов банка. Изучение зависимости семейного положения и количества детей на погашение кредита в срок."
   ]
  },
  {
   "cell_type": "markdown",
   "id": "6808d8a2",
   "metadata": {},
   "source": [
    "---\n",
    "<a id='task'></a> \n",
    "## Задачи проекта\n",
    "[Назад к оглавлению](#contens)"
   ]
  },
  {
   "cell_type": "markdown",
   "id": "6636b6da",
   "metadata": {},
   "source": [
    "Изучение зависимости между возвратом кредита в срок и \n",
    "- количеством детей;\n",
    "- семейным положением;\n",
    "- уровнем дохода;\n",
    "- целью кредита."
   ]
  },
  {
   "cell_type": "markdown",
   "id": "65e2f86c",
   "metadata": {},
   "source": [
    "---\n",
    "<a id='data_name'></a> \n",
    "## Описание данных\n",
    "[Назад к оглавлению](#contens)"
   ]
  },
  {
   "cell_type": "markdown",
   "id": "bd992d74",
   "metadata": {},
   "source": [
    "- children — количество детей в семье\n",
    "- days_employed — общий трудовой стаж в днях\n",
    "- dob_years — возраст клиента в годах\n",
    "- education — уровень образования клиента\n",
    "- education_id — идентификатор уровня образования\n",
    "- family_status — семейное положение\n",
    "- family_status_id — идентификатор семейного положения\n",
    "- gender — пол клиента\n",
    "- income_type — тип занятости\n",
    "- debt — имел ли задолженность по возврату кредитов\n",
    "- total_income — ежемесячный доход\n",
    "- purpose — цель получения кредита"
   ]
  },
  {
   "cell_type": "markdown",
   "id": "6ba5bf2b",
   "metadata": {},
   "source": [
    "---\n",
    "<a id='import_bibl'></a> \n",
    "## Импорт библиотек\n",
    "[Назад к оглавлению](#contens)"
   ]
  },
  {
   "cell_type": "code",
   "execution_count": 17,
   "id": "b3fe31a5",
   "metadata": {},
   "outputs": [],
   "source": [
    "# импортируем библиотеки\n",
    "import pandas as pd\n",
    "import matplotlib.pyplot as plt\n",
    "import seaborn as sns\n",
    "import numpy as np\n",
    "from IPython.display import set_matplotlib_formats\n",
    "import scipy.stats as st\n",
    "import warnings; warnings.filterwarnings(action = 'ignore')"
   ]
  },
  {
   "cell_type": "code",
   "execution_count": 18,
   "id": "342f1f9d",
   "metadata": {},
   "outputs": [],
   "source": [
    "# добавим опции для отображения таблиц и данных\n",
    "pd.set_option('display.max_rows', None)\n",
    "pd.set_option('display.max_columns', None)\n",
    "pd.options.display.float_format ='{:,.2f}'.format\n",
    "warnings.simplefilter(action='ignore', category=FutureWarning)"
   ]
  },
  {
   "cell_type": "code",
   "execution_count": 19,
   "id": "77bf88e0",
   "metadata": {},
   "outputs": [],
   "source": [
    "# добавим настройки для диагмрамм\n",
    "sns.set_style('dark')\n",
    "custom_palette = ['#16537e', '#cfe2f3', '#9fc5e8', '#6fa8dc', '#3d85c6', '#0b5394', '#073763', '#62a7d7',\n",
    "                 '#9dbbd5', '#7b95ac', '#697c8c', '#b1d5f5', '#246cac', '#204e77', '#76a5af']\n",
    "sns.set_palette(custom_palette)\n",
    "sns.set_context('notebook') "
   ]
  },
  {
   "cell_type": "markdown",
   "id": "c2257bd8",
   "metadata": {},
   "source": [
    "---\n",
    "<a id='function'></a> \n",
    "## Функции\n",
    "[Назад к оглавлению](#contens)"
   ]
  },
  {
   "cell_type": "markdown",
   "id": "2a6cbd93",
   "metadata": {},
   "source": [
    "---\n",
    "<a id='df_study'></a> \n",
    "### Функция df_study\n",
    "[Назад к оглавлению](#contens)\\\n",
    "[Перейти к месту использования функции в проекте](#df_study_use)"
   ]
  },
  {
   "cell_type": "code",
   "execution_count": 20,
   "id": "240521a3",
   "metadata": {},
   "outputs": [],
   "source": [
    "# напишем функцию для изучения основных характеристик датафрейма\n",
    "def df_study(df):\n",
    "      \n",
    "    # изучим начало и конец выборки\n",
    "    display(df.head(10), df.tail(10))\n",
    "\n",
    "    # изучим информацию о датафрейме\n",
    "    display(df.info())\n",
    "    \n",
    "    # изучим статистические показатели\n",
    "    display(df.describe())\n",
    "    \n",
    "    print('-'*50)\n",
    "    # изучим количество строк и столбцов\n",
    "    print('Количество строк и столбцов:', df.shape)   \n",
    "\n",
    "    print('-'*50)\n",
    "    # посчитаем количество явных дубликатов\n",
    "    dubl = df.duplicated().sum()\n",
    "    print('Количество явных дубликатов:' , dubl)\n",
    "    \n",
    "    # посчитаем долю дубликатов\n",
    "    dubl_share = dubl/len(df)\n",
    "    print(f'Доля явных дубликатов: {dubl_share:.2%}')\n",
    "    \n",
    "    print('-'*50)\n",
    "    # посчитаем количество пропусков\n",
    "    gap = df.isna().sum()\n",
    "    print('Количество пропусков:', gap)\n",
    "    \n",
    "    # посчитаем долю пропусков\n",
    "    gap_share = ((df.isnull().sum().sort_values(ascending=False)/df.shape[0])*100).round(2)\n",
    "    print()\n",
    "    print('Доля пропусков:')\n",
    "    display(gap_share)\n",
    "    \n",
    "    # зададим масимальную ширину столбца\n",
    "    pd.set_option('max_colwidth', 100) "
   ]
  },
  {
   "cell_type": "markdown",
   "id": "c6d66d1c",
   "metadata": {},
   "source": [
    "---\n",
    "<a id='import'></a> \n",
    "## Загрузка данных и изучение общей информации\n",
    "[Назад к оглавлению](#contens)"
   ]
  },
  {
   "cell_type": "code",
   "execution_count": 21,
   "id": "6e9babdf",
   "metadata": {},
   "outputs": [],
   "source": [
    "# загружаем файл\n",
    "try:\n",
    "    df = pd.read_csv('/datasets/data.csv')\n",
    "except:\n",
    "    df = pd.read_csv('https://code.s3.yandex.net/datasets/data.csv')"
   ]
  },
  {
   "cell_type": "markdown",
   "id": "751a7dcb",
   "metadata": {},
   "source": [
    "<a id='df_study_use'></a> \n",
    "Для изучения датафрейма используем написанную функцию.\\\n",
    "[Перейти к функции](#df_study)"
   ]
  },
  {
   "cell_type": "code",
   "execution_count": 22,
   "id": "8aed191b",
   "metadata": {
    "scrolled": false
   },
   "outputs": [
    {
     "data": {
      "text/html": [
       "<div>\n",
       "<style scoped>\n",
       "    .dataframe tbody tr th:only-of-type {\n",
       "        vertical-align: middle;\n",
       "    }\n",
       "\n",
       "    .dataframe tbody tr th {\n",
       "        vertical-align: top;\n",
       "    }\n",
       "\n",
       "    .dataframe thead th {\n",
       "        text-align: right;\n",
       "    }\n",
       "</style>\n",
       "<table border=\"1\" class=\"dataframe\">\n",
       "  <thead>\n",
       "    <tr style=\"text-align: right;\">\n",
       "      <th></th>\n",
       "      <th>children</th>\n",
       "      <th>days_employed</th>\n",
       "      <th>dob_years</th>\n",
       "      <th>education</th>\n",
       "      <th>education_id</th>\n",
       "      <th>family_status</th>\n",
       "      <th>family_status_id</th>\n",
       "      <th>gender</th>\n",
       "      <th>income_type</th>\n",
       "      <th>debt</th>\n",
       "      <th>total_income</th>\n",
       "      <th>purpose</th>\n",
       "    </tr>\n",
       "  </thead>\n",
       "  <tbody>\n",
       "    <tr>\n",
       "      <th>0</th>\n",
       "      <td>1</td>\n",
       "      <td>-8,437.67</td>\n",
       "      <td>42</td>\n",
       "      <td>высшее</td>\n",
       "      <td>0</td>\n",
       "      <td>женат / замужем</td>\n",
       "      <td>0</td>\n",
       "      <td>F</td>\n",
       "      <td>сотрудник</td>\n",
       "      <td>0</td>\n",
       "      <td>253,875.64</td>\n",
       "      <td>покупка жилья</td>\n",
       "    </tr>\n",
       "    <tr>\n",
       "      <th>1</th>\n",
       "      <td>1</td>\n",
       "      <td>-4,024.80</td>\n",
       "      <td>36</td>\n",
       "      <td>среднее</td>\n",
       "      <td>1</td>\n",
       "      <td>женат / замужем</td>\n",
       "      <td>0</td>\n",
       "      <td>F</td>\n",
       "      <td>сотрудник</td>\n",
       "      <td>0</td>\n",
       "      <td>112,080.01</td>\n",
       "      <td>приобретение автомобиля</td>\n",
       "    </tr>\n",
       "    <tr>\n",
       "      <th>2</th>\n",
       "      <td>0</td>\n",
       "      <td>-5,623.42</td>\n",
       "      <td>33</td>\n",
       "      <td>Среднее</td>\n",
       "      <td>1</td>\n",
       "      <td>женат / замужем</td>\n",
       "      <td>0</td>\n",
       "      <td>M</td>\n",
       "      <td>сотрудник</td>\n",
       "      <td>0</td>\n",
       "      <td>145,885.95</td>\n",
       "      <td>покупка жилья</td>\n",
       "    </tr>\n",
       "    <tr>\n",
       "      <th>3</th>\n",
       "      <td>3</td>\n",
       "      <td>-4,124.75</td>\n",
       "      <td>32</td>\n",
       "      <td>среднее</td>\n",
       "      <td>1</td>\n",
       "      <td>женат / замужем</td>\n",
       "      <td>0</td>\n",
       "      <td>M</td>\n",
       "      <td>сотрудник</td>\n",
       "      <td>0</td>\n",
       "      <td>267,628.55</td>\n",
       "      <td>дополнительное образование</td>\n",
       "    </tr>\n",
       "    <tr>\n",
       "      <th>4</th>\n",
       "      <td>0</td>\n",
       "      <td>340,266.07</td>\n",
       "      <td>53</td>\n",
       "      <td>среднее</td>\n",
       "      <td>1</td>\n",
       "      <td>гражданский брак</td>\n",
       "      <td>1</td>\n",
       "      <td>F</td>\n",
       "      <td>пенсионер</td>\n",
       "      <td>0</td>\n",
       "      <td>158,616.08</td>\n",
       "      <td>сыграть свадьбу</td>\n",
       "    </tr>\n",
       "    <tr>\n",
       "      <th>5</th>\n",
       "      <td>0</td>\n",
       "      <td>-926.19</td>\n",
       "      <td>27</td>\n",
       "      <td>высшее</td>\n",
       "      <td>0</td>\n",
       "      <td>гражданский брак</td>\n",
       "      <td>1</td>\n",
       "      <td>M</td>\n",
       "      <td>компаньон</td>\n",
       "      <td>0</td>\n",
       "      <td>255,763.57</td>\n",
       "      <td>покупка жилья</td>\n",
       "    </tr>\n",
       "    <tr>\n",
       "      <th>6</th>\n",
       "      <td>0</td>\n",
       "      <td>-2,879.20</td>\n",
       "      <td>43</td>\n",
       "      <td>высшее</td>\n",
       "      <td>0</td>\n",
       "      <td>женат / замужем</td>\n",
       "      <td>0</td>\n",
       "      <td>F</td>\n",
       "      <td>компаньон</td>\n",
       "      <td>0</td>\n",
       "      <td>240,525.97</td>\n",
       "      <td>операции с жильем</td>\n",
       "    </tr>\n",
       "    <tr>\n",
       "      <th>7</th>\n",
       "      <td>0</td>\n",
       "      <td>-152.78</td>\n",
       "      <td>50</td>\n",
       "      <td>СРЕДНЕЕ</td>\n",
       "      <td>1</td>\n",
       "      <td>женат / замужем</td>\n",
       "      <td>0</td>\n",
       "      <td>M</td>\n",
       "      <td>сотрудник</td>\n",
       "      <td>0</td>\n",
       "      <td>135,823.93</td>\n",
       "      <td>образование</td>\n",
       "    </tr>\n",
       "    <tr>\n",
       "      <th>8</th>\n",
       "      <td>2</td>\n",
       "      <td>-6,929.87</td>\n",
       "      <td>35</td>\n",
       "      <td>ВЫСШЕЕ</td>\n",
       "      <td>0</td>\n",
       "      <td>гражданский брак</td>\n",
       "      <td>1</td>\n",
       "      <td>F</td>\n",
       "      <td>сотрудник</td>\n",
       "      <td>0</td>\n",
       "      <td>95,856.83</td>\n",
       "      <td>на проведение свадьбы</td>\n",
       "    </tr>\n",
       "    <tr>\n",
       "      <th>9</th>\n",
       "      <td>0</td>\n",
       "      <td>-2,188.76</td>\n",
       "      <td>41</td>\n",
       "      <td>среднее</td>\n",
       "      <td>1</td>\n",
       "      <td>женат / замужем</td>\n",
       "      <td>0</td>\n",
       "      <td>M</td>\n",
       "      <td>сотрудник</td>\n",
       "      <td>0</td>\n",
       "      <td>144,425.94</td>\n",
       "      <td>покупка жилья для семьи</td>\n",
       "    </tr>\n",
       "  </tbody>\n",
       "</table>\n",
       "</div>"
      ],
      "text/plain": [
       "   children  days_employed  dob_years education  education_id  \\\n",
       "0         1      -8,437.67         42    высшее             0   \n",
       "1         1      -4,024.80         36   среднее             1   \n",
       "2         0      -5,623.42         33   Среднее             1   \n",
       "3         3      -4,124.75         32   среднее             1   \n",
       "4         0     340,266.07         53   среднее             1   \n",
       "5         0        -926.19         27    высшее             0   \n",
       "6         0      -2,879.20         43    высшее             0   \n",
       "7         0        -152.78         50   СРЕДНЕЕ             1   \n",
       "8         2      -6,929.87         35    ВЫСШЕЕ             0   \n",
       "9         0      -2,188.76         41   среднее             1   \n",
       "\n",
       "      family_status  family_status_id gender income_type  debt  total_income  \\\n",
       "0   женат / замужем                 0      F   сотрудник     0    253,875.64   \n",
       "1   женат / замужем                 0      F   сотрудник     0    112,080.01   \n",
       "2   женат / замужем                 0      M   сотрудник     0    145,885.95   \n",
       "3   женат / замужем                 0      M   сотрудник     0    267,628.55   \n",
       "4  гражданский брак                 1      F   пенсионер     0    158,616.08   \n",
       "5  гражданский брак                 1      M   компаньон     0    255,763.57   \n",
       "6   женат / замужем                 0      F   компаньон     0    240,525.97   \n",
       "7   женат / замужем                 0      M   сотрудник     0    135,823.93   \n",
       "8  гражданский брак                 1      F   сотрудник     0     95,856.83   \n",
       "9   женат / замужем                 0      M   сотрудник     0    144,425.94   \n",
       "\n",
       "                      purpose  \n",
       "0               покупка жилья  \n",
       "1     приобретение автомобиля  \n",
       "2               покупка жилья  \n",
       "3  дополнительное образование  \n",
       "4             сыграть свадьбу  \n",
       "5               покупка жилья  \n",
       "6           операции с жильем  \n",
       "7                 образование  \n",
       "8       на проведение свадьбы  \n",
       "9     покупка жилья для семьи  "
      ]
     },
     "metadata": {},
     "output_type": "display_data"
    },
    {
     "data": {
      "text/html": [
       "<div>\n",
       "<style scoped>\n",
       "    .dataframe tbody tr th:only-of-type {\n",
       "        vertical-align: middle;\n",
       "    }\n",
       "\n",
       "    .dataframe tbody tr th {\n",
       "        vertical-align: top;\n",
       "    }\n",
       "\n",
       "    .dataframe thead th {\n",
       "        text-align: right;\n",
       "    }\n",
       "</style>\n",
       "<table border=\"1\" class=\"dataframe\">\n",
       "  <thead>\n",
       "    <tr style=\"text-align: right;\">\n",
       "      <th></th>\n",
       "      <th>children</th>\n",
       "      <th>days_employed</th>\n",
       "      <th>dob_years</th>\n",
       "      <th>education</th>\n",
       "      <th>education_id</th>\n",
       "      <th>family_status</th>\n",
       "      <th>family_status_id</th>\n",
       "      <th>gender</th>\n",
       "      <th>income_type</th>\n",
       "      <th>debt</th>\n",
       "      <th>total_income</th>\n",
       "      <th>purpose</th>\n",
       "    </tr>\n",
       "  </thead>\n",
       "  <tbody>\n",
       "    <tr>\n",
       "      <th>21515</th>\n",
       "      <td>1</td>\n",
       "      <td>-467.69</td>\n",
       "      <td>28</td>\n",
       "      <td>среднее</td>\n",
       "      <td>1</td>\n",
       "      <td>женат / замужем</td>\n",
       "      <td>0</td>\n",
       "      <td>F</td>\n",
       "      <td>сотрудник</td>\n",
       "      <td>1</td>\n",
       "      <td>109,486.33</td>\n",
       "      <td>заняться образованием</td>\n",
       "    </tr>\n",
       "    <tr>\n",
       "      <th>21516</th>\n",
       "      <td>0</td>\n",
       "      <td>-914.39</td>\n",
       "      <td>42</td>\n",
       "      <td>высшее</td>\n",
       "      <td>0</td>\n",
       "      <td>женат / замужем</td>\n",
       "      <td>0</td>\n",
       "      <td>F</td>\n",
       "      <td>компаньон</td>\n",
       "      <td>0</td>\n",
       "      <td>322,807.78</td>\n",
       "      <td>покупка своего жилья</td>\n",
       "    </tr>\n",
       "    <tr>\n",
       "      <th>21517</th>\n",
       "      <td>0</td>\n",
       "      <td>-404.68</td>\n",
       "      <td>42</td>\n",
       "      <td>высшее</td>\n",
       "      <td>0</td>\n",
       "      <td>гражданский брак</td>\n",
       "      <td>1</td>\n",
       "      <td>F</td>\n",
       "      <td>компаньон</td>\n",
       "      <td>0</td>\n",
       "      <td>178,059.55</td>\n",
       "      <td>на покупку своего автомобиля</td>\n",
       "    </tr>\n",
       "    <tr>\n",
       "      <th>21518</th>\n",
       "      <td>0</td>\n",
       "      <td>373,995.71</td>\n",
       "      <td>59</td>\n",
       "      <td>СРЕДНЕЕ</td>\n",
       "      <td>1</td>\n",
       "      <td>женат / замужем</td>\n",
       "      <td>0</td>\n",
       "      <td>F</td>\n",
       "      <td>пенсионер</td>\n",
       "      <td>0</td>\n",
       "      <td>153,864.65</td>\n",
       "      <td>сделка с автомобилем</td>\n",
       "    </tr>\n",
       "    <tr>\n",
       "      <th>21519</th>\n",
       "      <td>1</td>\n",
       "      <td>-2,351.43</td>\n",
       "      <td>37</td>\n",
       "      <td>ученая степень</td>\n",
       "      <td>4</td>\n",
       "      <td>в разводе</td>\n",
       "      <td>3</td>\n",
       "      <td>M</td>\n",
       "      <td>сотрудник</td>\n",
       "      <td>0</td>\n",
       "      <td>115,949.04</td>\n",
       "      <td>покупка коммерческой недвижимости</td>\n",
       "    </tr>\n",
       "    <tr>\n",
       "      <th>21520</th>\n",
       "      <td>1</td>\n",
       "      <td>-4,529.32</td>\n",
       "      <td>43</td>\n",
       "      <td>среднее</td>\n",
       "      <td>1</td>\n",
       "      <td>гражданский брак</td>\n",
       "      <td>1</td>\n",
       "      <td>F</td>\n",
       "      <td>компаньон</td>\n",
       "      <td>0</td>\n",
       "      <td>224,791.86</td>\n",
       "      <td>операции с жильем</td>\n",
       "    </tr>\n",
       "    <tr>\n",
       "      <th>21521</th>\n",
       "      <td>0</td>\n",
       "      <td>343,937.40</td>\n",
       "      <td>67</td>\n",
       "      <td>среднее</td>\n",
       "      <td>1</td>\n",
       "      <td>женат / замужем</td>\n",
       "      <td>0</td>\n",
       "      <td>F</td>\n",
       "      <td>пенсионер</td>\n",
       "      <td>0</td>\n",
       "      <td>155,999.81</td>\n",
       "      <td>сделка с автомобилем</td>\n",
       "    </tr>\n",
       "    <tr>\n",
       "      <th>21522</th>\n",
       "      <td>1</td>\n",
       "      <td>-2,113.35</td>\n",
       "      <td>38</td>\n",
       "      <td>среднее</td>\n",
       "      <td>1</td>\n",
       "      <td>гражданский брак</td>\n",
       "      <td>1</td>\n",
       "      <td>M</td>\n",
       "      <td>сотрудник</td>\n",
       "      <td>1</td>\n",
       "      <td>89,672.56</td>\n",
       "      <td>недвижимость</td>\n",
       "    </tr>\n",
       "    <tr>\n",
       "      <th>21523</th>\n",
       "      <td>3</td>\n",
       "      <td>-3,112.48</td>\n",
       "      <td>38</td>\n",
       "      <td>среднее</td>\n",
       "      <td>1</td>\n",
       "      <td>женат / замужем</td>\n",
       "      <td>0</td>\n",
       "      <td>M</td>\n",
       "      <td>сотрудник</td>\n",
       "      <td>1</td>\n",
       "      <td>244,093.05</td>\n",
       "      <td>на покупку своего автомобиля</td>\n",
       "    </tr>\n",
       "    <tr>\n",
       "      <th>21524</th>\n",
       "      <td>2</td>\n",
       "      <td>-1,984.51</td>\n",
       "      <td>40</td>\n",
       "      <td>среднее</td>\n",
       "      <td>1</td>\n",
       "      <td>женат / замужем</td>\n",
       "      <td>0</td>\n",
       "      <td>F</td>\n",
       "      <td>сотрудник</td>\n",
       "      <td>0</td>\n",
       "      <td>82,047.42</td>\n",
       "      <td>на покупку автомобиля</td>\n",
       "    </tr>\n",
       "  </tbody>\n",
       "</table>\n",
       "</div>"
      ],
      "text/plain": [
       "       children  days_employed  dob_years       education  education_id  \\\n",
       "21515         1        -467.69         28         среднее             1   \n",
       "21516         0        -914.39         42          высшее             0   \n",
       "21517         0        -404.68         42          высшее             0   \n",
       "21518         0     373,995.71         59         СРЕДНЕЕ             1   \n",
       "21519         1      -2,351.43         37  ученая степень             4   \n",
       "21520         1      -4,529.32         43         среднее             1   \n",
       "21521         0     343,937.40         67         среднее             1   \n",
       "21522         1      -2,113.35         38         среднее             1   \n",
       "21523         3      -3,112.48         38         среднее             1   \n",
       "21524         2      -1,984.51         40         среднее             1   \n",
       "\n",
       "          family_status  family_status_id gender income_type  debt  \\\n",
       "21515   женат / замужем                 0      F   сотрудник     1   \n",
       "21516   женат / замужем                 0      F   компаньон     0   \n",
       "21517  гражданский брак                 1      F   компаньон     0   \n",
       "21518   женат / замужем                 0      F   пенсионер     0   \n",
       "21519         в разводе                 3      M   сотрудник     0   \n",
       "21520  гражданский брак                 1      F   компаньон     0   \n",
       "21521   женат / замужем                 0      F   пенсионер     0   \n",
       "21522  гражданский брак                 1      M   сотрудник     1   \n",
       "21523   женат / замужем                 0      M   сотрудник     1   \n",
       "21524   женат / замужем                 0      F   сотрудник     0   \n",
       "\n",
       "       total_income                            purpose  \n",
       "21515    109,486.33              заняться образованием  \n",
       "21516    322,807.78               покупка своего жилья  \n",
       "21517    178,059.55       на покупку своего автомобиля  \n",
       "21518    153,864.65               сделка с автомобилем  \n",
       "21519    115,949.04  покупка коммерческой недвижимости  \n",
       "21520    224,791.86                  операции с жильем  \n",
       "21521    155,999.81               сделка с автомобилем  \n",
       "21522     89,672.56                       недвижимость  \n",
       "21523    244,093.05       на покупку своего автомобиля  \n",
       "21524     82,047.42              на покупку автомобиля  "
      ]
     },
     "metadata": {},
     "output_type": "display_data"
    },
    {
     "name": "stdout",
     "output_type": "stream",
     "text": [
      "<class 'pandas.core.frame.DataFrame'>\n",
      "RangeIndex: 21525 entries, 0 to 21524\n",
      "Data columns (total 12 columns):\n",
      " #   Column            Non-Null Count  Dtype  \n",
      "---  ------            --------------  -----  \n",
      " 0   children          21525 non-null  int64  \n",
      " 1   days_employed     19351 non-null  float64\n",
      " 2   dob_years         21525 non-null  int64  \n",
      " 3   education         21525 non-null  object \n",
      " 4   education_id      21525 non-null  int64  \n",
      " 5   family_status     21525 non-null  object \n",
      " 6   family_status_id  21525 non-null  int64  \n",
      " 7   gender            21525 non-null  object \n",
      " 8   income_type       21525 non-null  object \n",
      " 9   debt              21525 non-null  int64  \n",
      " 10  total_income      19351 non-null  float64\n",
      " 11  purpose           21525 non-null  object \n",
      "dtypes: float64(2), int64(5), object(5)\n",
      "memory usage: 2.0+ MB\n"
     ]
    },
    {
     "data": {
      "text/plain": [
       "None"
      ]
     },
     "metadata": {},
     "output_type": "display_data"
    },
    {
     "data": {
      "text/html": [
       "<div>\n",
       "<style scoped>\n",
       "    .dataframe tbody tr th:only-of-type {\n",
       "        vertical-align: middle;\n",
       "    }\n",
       "\n",
       "    .dataframe tbody tr th {\n",
       "        vertical-align: top;\n",
       "    }\n",
       "\n",
       "    .dataframe thead th {\n",
       "        text-align: right;\n",
       "    }\n",
       "</style>\n",
       "<table border=\"1\" class=\"dataframe\">\n",
       "  <thead>\n",
       "    <tr style=\"text-align: right;\">\n",
       "      <th></th>\n",
       "      <th>children</th>\n",
       "      <th>days_employed</th>\n",
       "      <th>dob_years</th>\n",
       "      <th>education_id</th>\n",
       "      <th>family_status_id</th>\n",
       "      <th>debt</th>\n",
       "      <th>total_income</th>\n",
       "    </tr>\n",
       "  </thead>\n",
       "  <tbody>\n",
       "    <tr>\n",
       "      <th>count</th>\n",
       "      <td>21,525.00</td>\n",
       "      <td>19,351.00</td>\n",
       "      <td>21,525.00</td>\n",
       "      <td>21,525.00</td>\n",
       "      <td>21,525.00</td>\n",
       "      <td>21,525.00</td>\n",
       "      <td>19,351.00</td>\n",
       "    </tr>\n",
       "    <tr>\n",
       "      <th>mean</th>\n",
       "      <td>0.54</td>\n",
       "      <td>63,046.50</td>\n",
       "      <td>43.29</td>\n",
       "      <td>0.82</td>\n",
       "      <td>0.97</td>\n",
       "      <td>0.08</td>\n",
       "      <td>167,422.30</td>\n",
       "    </tr>\n",
       "    <tr>\n",
       "      <th>std</th>\n",
       "      <td>1.38</td>\n",
       "      <td>140,827.31</td>\n",
       "      <td>12.57</td>\n",
       "      <td>0.55</td>\n",
       "      <td>1.42</td>\n",
       "      <td>0.27</td>\n",
       "      <td>102,971.57</td>\n",
       "    </tr>\n",
       "    <tr>\n",
       "      <th>min</th>\n",
       "      <td>-1.00</td>\n",
       "      <td>-18,388.95</td>\n",
       "      <td>0.00</td>\n",
       "      <td>0.00</td>\n",
       "      <td>0.00</td>\n",
       "      <td>0.00</td>\n",
       "      <td>20,667.26</td>\n",
       "    </tr>\n",
       "    <tr>\n",
       "      <th>25%</th>\n",
       "      <td>0.00</td>\n",
       "      <td>-2,747.42</td>\n",
       "      <td>33.00</td>\n",
       "      <td>1.00</td>\n",
       "      <td>0.00</td>\n",
       "      <td>0.00</td>\n",
       "      <td>103,053.15</td>\n",
       "    </tr>\n",
       "    <tr>\n",
       "      <th>50%</th>\n",
       "      <td>0.00</td>\n",
       "      <td>-1,203.37</td>\n",
       "      <td>42.00</td>\n",
       "      <td>1.00</td>\n",
       "      <td>0.00</td>\n",
       "      <td>0.00</td>\n",
       "      <td>145,017.94</td>\n",
       "    </tr>\n",
       "    <tr>\n",
       "      <th>75%</th>\n",
       "      <td>1.00</td>\n",
       "      <td>-291.10</td>\n",
       "      <td>53.00</td>\n",
       "      <td>1.00</td>\n",
       "      <td>1.00</td>\n",
       "      <td>0.00</td>\n",
       "      <td>203,435.07</td>\n",
       "    </tr>\n",
       "    <tr>\n",
       "      <th>max</th>\n",
       "      <td>20.00</td>\n",
       "      <td>401,755.40</td>\n",
       "      <td>75.00</td>\n",
       "      <td>4.00</td>\n",
       "      <td>4.00</td>\n",
       "      <td>1.00</td>\n",
       "      <td>2,265,604.03</td>\n",
       "    </tr>\n",
       "  </tbody>\n",
       "</table>\n",
       "</div>"
      ],
      "text/plain": [
       "       children  days_employed  dob_years  education_id  family_status_id  \\\n",
       "count 21,525.00      19,351.00  21,525.00     21,525.00         21,525.00   \n",
       "mean       0.54      63,046.50      43.29          0.82              0.97   \n",
       "std        1.38     140,827.31      12.57          0.55              1.42   \n",
       "min       -1.00     -18,388.95       0.00          0.00              0.00   \n",
       "25%        0.00      -2,747.42      33.00          1.00              0.00   \n",
       "50%        0.00      -1,203.37      42.00          1.00              0.00   \n",
       "75%        1.00        -291.10      53.00          1.00              1.00   \n",
       "max       20.00     401,755.40      75.00          4.00              4.00   \n",
       "\n",
       "           debt  total_income  \n",
       "count 21,525.00     19,351.00  \n",
       "mean       0.08    167,422.30  \n",
       "std        0.27    102,971.57  \n",
       "min        0.00     20,667.26  \n",
       "25%        0.00    103,053.15  \n",
       "50%        0.00    145,017.94  \n",
       "75%        0.00    203,435.07  \n",
       "max        1.00  2,265,604.03  "
      ]
     },
     "metadata": {},
     "output_type": "display_data"
    },
    {
     "name": "stdout",
     "output_type": "stream",
     "text": [
      "--------------------------------------------------\n",
      "Количество строк и столбцов: (21525, 12)\n",
      "--------------------------------------------------\n",
      "Количество явных дубликатов: 54\n",
      "Доля явных дубликатов: 0.25%\n",
      "--------------------------------------------------\n",
      "Количество пропусков: children               0\n",
      "days_employed       2174\n",
      "dob_years              0\n",
      "education              0\n",
      "education_id           0\n",
      "family_status          0\n",
      "family_status_id       0\n",
      "gender                 0\n",
      "income_type            0\n",
      "debt                   0\n",
      "total_income        2174\n",
      "purpose                0\n",
      "dtype: int64\n",
      "\n",
      "Доля пропусков:\n"
     ]
    },
    {
     "data": {
      "text/plain": [
       "days_employed      10.10\n",
       "total_income       10.10\n",
       "children            0.00\n",
       "dob_years           0.00\n",
       "education           0.00\n",
       "education_id        0.00\n",
       "family_status       0.00\n",
       "family_status_id    0.00\n",
       "gender              0.00\n",
       "income_type         0.00\n",
       "debt                0.00\n",
       "purpose             0.00\n",
       "dtype: float64"
      ]
     },
     "metadata": {},
     "output_type": "display_data"
    }
   ],
   "source": [
    "# изучим основную информацию\n",
    "df_study(df)"
   ]
  },
  {
   "cell_type": "markdown",
   "id": "20a48233",
   "metadata": {},
   "source": [
    "---\n",
    "    \n",
    "В датафрейме 21525 записей.\\\n",
    "Обнаруженные проблемы:\n",
    "- наличие явных дубликатов;\n",
    "- наличие пропусков в данных с количеством дней трудоустройства и дохода;\n",
    "- прыгающий регистр в данных.\n",
    "\n",
    "Необходима предобработка и более точная проверка данных.\n",
    "\n",
    "---"
   ]
  },
  {
   "cell_type": "markdown",
   "id": "e5bf3494",
   "metadata": {},
   "source": [
    "---\n",
    "<a id='preprocessing'></a> \n",
    "## Предобработка данных\n",
    "[Назад к оглавлению](#contens)"
   ]
  },
  {
   "cell_type": "markdown",
   "id": "0df2f8e6",
   "metadata": {},
   "source": [
    "---\n",
    "<a id='pass'></a> \n",
    "### Изучение пропусков\n",
    "[Назад к оглавлению](#contens)"
   ]
  },
  {
   "cell_type": "markdown",
   "id": "27d10be2",
   "metadata": {},
   "source": [
    "Исследование общей информации показало наличие пропусков в столбцах с общим трудовым стажем (10%) и ежемесчным доходом (10%).\n",
    "Пропуски в столбце с возрастом удалим, так как их количество мало, удаление не окажет значительного влияния на результаты дальнейшего исследования.\n",
    "\\\n",
    "На сумму дохода сильнее всего влияет тип занятости, поэтому заполним пропуски в этом столбце медианным значением по каждому типу из столбца `income_type`. Пропуски в столбце со стажем заполним аналогичным образом."
   ]
  },
  {
   "cell_type": "code",
   "execution_count": 23,
   "id": "2370f850",
   "metadata": {},
   "outputs": [],
   "source": [
    "# заполняем пропуски\n",
    "for t in df['income_type'].unique():\n",
    "    df.loc[(df['income_type'] == t) & (df['total_income'].isna()), 'total_income'] = \\\n",
    "    df.loc[(df['income_type'] == t), 'total_income'].median()\n",
    "    \n",
    "for t in df['income_type'].unique():\n",
    "    df.loc[(df['income_type'] == t) & (df['days_employed'].isna()), 'days_employed'] = \\\n",
    "    df.loc[(df['income_type'] == t), 'days_employed'].median()"
   ]
  },
  {
   "cell_type": "code",
   "execution_count": 24,
   "id": "d78f44fc",
   "metadata": {},
   "outputs": [
    {
     "data": {
      "text/plain": [
       "children            0\n",
       "days_employed       0\n",
       "dob_years           0\n",
       "education           0\n",
       "education_id        0\n",
       "family_status       0\n",
       "family_status_id    0\n",
       "gender              0\n",
       "income_type         0\n",
       "debt                0\n",
       "total_income        0\n",
       "purpose             0\n",
       "dtype: int64"
      ]
     },
     "execution_count": 24,
     "metadata": {},
     "output_type": "execute_result"
    }
   ],
   "source": [
    "# проверяем заполнение пропусков\n",
    "df.isna().sum()"
   ]
  },
  {
   "cell_type": "markdown",
   "id": "945782b9",
   "metadata": {},
   "source": [
    "---\n",
    "<a id='check_dubl'></a> \n",
    "### Проверка на наличие дубликатов\n",
    "[Назад к оглавлению](#contens)"
   ]
  },
  {
   "cell_type": "markdown",
   "id": "1ffe244d",
   "metadata": {},
   "source": [
    "Для поиска дубликатов приведем все текстовые данные в датасете к нижнему регистру."
   ]
  },
  {
   "cell_type": "code",
   "execution_count": 25,
   "id": "288573f6",
   "metadata": {},
   "outputs": [
    {
     "data": {
      "text/plain": [
       "71"
      ]
     },
     "execution_count": 25,
     "metadata": {},
     "output_type": "execute_result"
    }
   ],
   "source": [
    "# приведем данные к нижнему регистру\n",
    "\n",
    "for i in df[['education', 'family_status', 'income_type', 'purpose']]:\n",
    "    df[i] = df[i].str.lower()\n",
    "    \n",
    "# посмотрим на количество дубликатов\n",
    "df.duplicated().sum()"
   ]
  },
  {
   "cell_type": "code",
   "execution_count": 26,
   "id": "f400f384",
   "metadata": {},
   "outputs": [
    {
     "data": {
      "text/plain": [
       "0"
      ]
     },
     "execution_count": 26,
     "metadata": {},
     "output_type": "execute_result"
    }
   ],
   "source": [
    "# удалим дубликаты\n",
    "df = df.drop_duplicates()\n",
    "\n",
    "# проверяем\n",
    "df.duplicated().sum()"
   ]
  },
  {
   "cell_type": "markdown",
   "id": "b1b00d4f",
   "metadata": {},
   "source": [
    "---\n",
    "<a id='change_types'></a> \n",
    "### Изменение типа данных\n",
    "[Назад к оглавлению](#contens)"
   ]
  },
  {
   "cell_type": "code",
   "execution_count": 27,
   "id": "72cf2e82",
   "metadata": {},
   "outputs": [],
   "source": [
    "# изменим тип данных в столбце с ежемесячным доходом на целочисленный\n",
    "df['total_income'] = df['total_income'].astype(int)"
   ]
  },
  {
   "cell_type": "markdown",
   "id": "63833cf7",
   "metadata": {},
   "source": [
    "---\n",
    "<a id='anomaly'></a> \n",
    "### Исследование аномалий в данных\n",
    "[Назад к оглавлению](#contens)"
   ]
  },
  {
   "cell_type": "markdown",
   "id": "acdb4787",
   "metadata": {},
   "source": [
    "Посмотрим, нет ли ошибок у качественных данных: образование, семейное положение, пол, тип занятости. Данные с целью кредитования рассмотрим позднее."
   ]
  },
  {
   "cell_type": "code",
   "execution_count": 28,
   "id": "735bb9b8",
   "metadata": {
    "scrolled": false
   },
   "outputs": [
    {
     "data": {
      "text/plain": [
       "среднее                15172\n",
       "высшее                  5250\n",
       "неоконченное высшее      744\n",
       "начальное                282\n",
       "ученая степень             6\n",
       "Name: education, dtype: int64"
      ]
     },
     "metadata": {},
     "output_type": "display_data"
    },
    {
     "name": "stdout",
     "output_type": "stream",
     "text": [
      "--------------------------------------------------\n"
     ]
    },
    {
     "data": {
      "text/plain": [
       "женат / замужем          12339\n",
       "гражданский брак          4151\n",
       "не женат / не замужем     2810\n",
       "в разводе                 1195\n",
       "вдовец / вдова             959\n",
       "Name: family_status, dtype: int64"
      ]
     },
     "metadata": {},
     "output_type": "display_data"
    },
    {
     "name": "stdout",
     "output_type": "stream",
     "text": [
      "--------------------------------------------------\n"
     ]
    },
    {
     "data": {
      "text/plain": [
       "F      14174\n",
       "M       7279\n",
       "XNA        1\n",
       "Name: gender, dtype: int64"
      ]
     },
     "metadata": {},
     "output_type": "display_data"
    },
    {
     "name": "stdout",
     "output_type": "stream",
     "text": [
      "--------------------------------------------------\n"
     ]
    },
    {
     "data": {
      "text/plain": [
       "сотрудник          11084\n",
       "компаньон           5078\n",
       "пенсионер           3829\n",
       "госслужащий         1457\n",
       "безработный            2\n",
       "предприниматель        2\n",
       "студент                1\n",
       "в декрете              1\n",
       "Name: income_type, dtype: int64"
      ]
     },
     "metadata": {},
     "output_type": "display_data"
    },
    {
     "name": "stdout",
     "output_type": "stream",
     "text": [
      "--------------------------------------------------\n"
     ]
    }
   ],
   "source": [
    "quality_list = ['education', 'family_status', 'gender', 'income_type']\n",
    "for i in quality_list:\n",
    "    display(df[i].value_counts())\n",
    "    print('-'*50)"
   ]
  },
  {
   "cell_type": "markdown",
   "id": "b8be3fc3",
   "metadata": {},
   "source": [
    "В данных привлекает внимание одна запись с полом \"XNA\". Предполагаю, что пол клиента не указан в системе по каким-либо причинам (человеческий фактор или техническая ошибка). Так как запись всего одна, удалим ее. "
   ]
  },
  {
   "cell_type": "code",
   "execution_count": 29,
   "id": "a23bf25d",
   "metadata": {},
   "outputs": [
    {
     "data": {
      "text/plain": [
       "array(['F', 'M'], dtype=object)"
      ]
     },
     "execution_count": 29,
     "metadata": {},
     "output_type": "execute_result"
    }
   ],
   "source": [
    "# удалим запись \n",
    "df = df.query('gender != \"XNA\"')\n",
    "\n",
    "# проверка\n",
    "df['gender'].unique()"
   ]
  },
  {
   "cell_type": "markdown",
   "id": "15fc56ca",
   "metadata": {},
   "source": [
    "Посмотрим на стат. показатели числовых данных."
   ]
  },
  {
   "cell_type": "code",
   "execution_count": 30,
   "id": "acc65b75",
   "metadata": {},
   "outputs": [
    {
     "data": {
      "text/html": [
       "<div>\n",
       "<style scoped>\n",
       "    .dataframe tbody tr th:only-of-type {\n",
       "        vertical-align: middle;\n",
       "    }\n",
       "\n",
       "    .dataframe tbody tr th {\n",
       "        vertical-align: top;\n",
       "    }\n",
       "\n",
       "    .dataframe thead th {\n",
       "        text-align: right;\n",
       "    }\n",
       "</style>\n",
       "<table border=\"1\" class=\"dataframe\">\n",
       "  <thead>\n",
       "    <tr style=\"text-align: right;\">\n",
       "      <th></th>\n",
       "      <th>children</th>\n",
       "      <th>days_employed</th>\n",
       "      <th>dob_years</th>\n",
       "      <th>education_id</th>\n",
       "      <th>family_status_id</th>\n",
       "      <th>debt</th>\n",
       "      <th>total_income</th>\n",
       "    </tr>\n",
       "  </thead>\n",
       "  <tbody>\n",
       "    <tr>\n",
       "      <th>count</th>\n",
       "      <td>21,453.00</td>\n",
       "      <td>21,453.00</td>\n",
       "      <td>21,453.00</td>\n",
       "      <td>21,453.00</td>\n",
       "      <td>21,453.00</td>\n",
       "      <td>21,453.00</td>\n",
       "      <td>21,453.00</td>\n",
       "    </tr>\n",
       "    <tr>\n",
       "      <th>mean</th>\n",
       "      <td>0.54</td>\n",
       "      <td>63,307.57</td>\n",
       "      <td>43.27</td>\n",
       "      <td>0.82</td>\n",
       "      <td>0.97</td>\n",
       "      <td>0.08</td>\n",
       "      <td>165,317.77</td>\n",
       "    </tr>\n",
       "    <tr>\n",
       "      <th>std</th>\n",
       "      <td>1.38</td>\n",
       "      <td>140,949.64</td>\n",
       "      <td>12.57</td>\n",
       "      <td>0.55</td>\n",
       "      <td>1.42</td>\n",
       "      <td>0.27</td>\n",
       "      <td>98,189.24</td>\n",
       "    </tr>\n",
       "    <tr>\n",
       "      <th>min</th>\n",
       "      <td>-1.00</td>\n",
       "      <td>-18,388.95</td>\n",
       "      <td>0.00</td>\n",
       "      <td>0.00</td>\n",
       "      <td>0.00</td>\n",
       "      <td>0.00</td>\n",
       "      <td>20,667.00</td>\n",
       "    </tr>\n",
       "    <tr>\n",
       "      <th>25%</th>\n",
       "      <td>0.00</td>\n",
       "      <td>-2,575.93</td>\n",
       "      <td>33.00</td>\n",
       "      <td>1.00</td>\n",
       "      <td>0.00</td>\n",
       "      <td>0.00</td>\n",
       "      <td>107,620.00</td>\n",
       "    </tr>\n",
       "    <tr>\n",
       "      <th>50%</th>\n",
       "      <td>0.00</td>\n",
       "      <td>-1,354.49</td>\n",
       "      <td>42.00</td>\n",
       "      <td>1.00</td>\n",
       "      <td>0.00</td>\n",
       "      <td>0.00</td>\n",
       "      <td>142,594.00</td>\n",
       "    </tr>\n",
       "    <tr>\n",
       "      <th>75%</th>\n",
       "      <td>1.00</td>\n",
       "      <td>-317.28</td>\n",
       "      <td>53.00</td>\n",
       "      <td>1.00</td>\n",
       "      <td>1.00</td>\n",
       "      <td>0.00</td>\n",
       "      <td>195,818.00</td>\n",
       "    </tr>\n",
       "    <tr>\n",
       "      <th>max</th>\n",
       "      <td>20.00</td>\n",
       "      <td>401,755.40</td>\n",
       "      <td>75.00</td>\n",
       "      <td>4.00</td>\n",
       "      <td>4.00</td>\n",
       "      <td>1.00</td>\n",
       "      <td>2,265,604.00</td>\n",
       "    </tr>\n",
       "  </tbody>\n",
       "</table>\n",
       "</div>"
      ],
      "text/plain": [
       "       children  days_employed  dob_years  education_id  family_status_id  \\\n",
       "count 21,453.00      21,453.00  21,453.00     21,453.00         21,453.00   \n",
       "mean       0.54      63,307.57      43.27          0.82              0.97   \n",
       "std        1.38     140,949.64      12.57          0.55              1.42   \n",
       "min       -1.00     -18,388.95       0.00          0.00              0.00   \n",
       "25%        0.00      -2,575.93      33.00          1.00              0.00   \n",
       "50%        0.00      -1,354.49      42.00          1.00              0.00   \n",
       "75%        1.00        -317.28      53.00          1.00              1.00   \n",
       "max       20.00     401,755.40      75.00          4.00              4.00   \n",
       "\n",
       "           debt  total_income  \n",
       "count 21,453.00     21,453.00  \n",
       "mean       0.08    165,317.77  \n",
       "std        0.27     98,189.24  \n",
       "min        0.00     20,667.00  \n",
       "25%        0.00    107,620.00  \n",
       "50%        0.00    142,594.00  \n",
       "75%        0.00    195,818.00  \n",
       "max        1.00  2,265,604.00  "
      ]
     },
     "execution_count": 30,
     "metadata": {},
     "output_type": "execute_result"
    }
   ],
   "source": [
    "# изучим стат. показатели\n",
    "df.describe()"
   ]
  },
  {
   "cell_type": "markdown",
   "id": "ac5a9d27",
   "metadata": {},
   "source": [
    "Таблица позволила выявить аномальные значения в столбце с количеством детей (-1 и 20) и возрастом клиетов (0 лет). Посмотрим какое количество клиентов банка  имеют данные значения. Также стоит обратить внимание на наличие отрицательных значений в столбце с общим трудовым стажем."
   ]
  },
  {
   "cell_type": "code",
   "execution_count": 31,
   "id": "8ed76728",
   "metadata": {},
   "outputs": [
    {
     "data": {
      "text/plain": [
       " 0     14090\n",
       " 1      4808\n",
       " 2      2052\n",
       " 3       330\n",
       " 20       76\n",
       "-1        47\n",
       " 4        41\n",
       " 5         9\n",
       "Name: children, dtype: int64"
      ]
     },
     "metadata": {},
     "output_type": "display_data"
    },
    {
     "data": {
      "text/plain": [
       "35    616\n",
       "40    607\n",
       "41    605\n",
       "34    601\n",
       "38    597\n",
       "42    596\n",
       "33    581\n",
       "39    572\n",
       "31    559\n",
       "36    554\n",
       "44    545\n",
       "29    544\n",
       "30    537\n",
       "48    536\n",
       "37    536\n",
       "50    513\n",
       "43    512\n",
       "32    509\n",
       "49    508\n",
       "28    503\n",
       "45    496\n",
       "27    493\n",
       "52    484\n",
       "56    483\n",
       "47    477\n",
       "54    476\n",
       "46    472\n",
       "53    459\n",
       "57    456\n",
       "58    454\n",
       "51    446\n",
       "59    443\n",
       "55    443\n",
       "26    408\n",
       "60    374\n",
       "25    357\n",
       "61    354\n",
       "62    348\n",
       "63    269\n",
       "24    263\n",
       "64    260\n",
       "23    252\n",
       "65    193\n",
       "22    183\n",
       "66    182\n",
       "67    167\n",
       "21    111\n",
       "0     101\n",
       "68     99\n",
       "69     85\n",
       "70     65\n",
       "71     56\n",
       "20     51\n",
       "72     33\n",
       "19     14\n",
       "73      8\n",
       "74      6\n",
       "75      1\n",
       "Name: dob_years, dtype: int64"
      ]
     },
     "execution_count": 31,
     "metadata": {},
     "output_type": "execute_result"
    }
   ],
   "source": [
    "# посмотрим на количество записей с аномальными данными\n",
    "display(df['children'].value_counts())\n",
    "df['dob_years'].value_counts()"
   ]
  },
  {
   "cell_type": "markdown",
   "id": "6d2f96e5",
   "metadata": {},
   "source": [
    "Количество записей с аномальными данными составляют примерно 1% от всего датасета. Поэтому удалим их."
   ]
  },
  {
   "cell_type": "code",
   "execution_count": 32,
   "id": "dfd36b19",
   "metadata": {},
   "outputs": [],
   "source": [
    "# удалим аномальные данные\n",
    "df = df.query('((children != -1) & (children != 20)) & dob_years != 0') "
   ]
  },
  {
   "cell_type": "markdown",
   "id": "4f95ece6",
   "metadata": {},
   "source": [
    "Отрицательные данные в столбце с данными об общем трудовом стаже скорее всего техническая ошибка. Для ее устранения используем модуль."
   ]
  },
  {
   "cell_type": "code",
   "execution_count": 33,
   "id": "7e6ef7f7",
   "metadata": {
    "scrolled": true
   },
   "outputs": [
    {
     "data": {
      "text/plain": [
       "count    21,230.00\n",
       "mean     67,116.89\n",
       "std     139,254.23\n",
       "min          24.14\n",
       "25%       1,024.69\n",
       "50%       1,999.84\n",
       "75%       5,338.27\n",
       "max     401,755.40\n",
       "Name: days_employed, dtype: float64"
      ]
     },
     "execution_count": 33,
     "metadata": {},
     "output_type": "execute_result"
    }
   ],
   "source": [
    "# возведение столбца со стажем в модуль\n",
    "df['days_employed'] = abs(df['days_employed'])\n",
    "\n",
    "# проверка\n",
    "df['days_employed'].describe()"
   ]
  },
  {
   "cell_type": "markdown",
   "id": "637a40e9",
   "metadata": {},
   "source": [
    "Для удобства анализа данных подсчитаем стаж в годах."
   ]
  },
  {
   "cell_type": "code",
   "execution_count": 34,
   "id": "4f0a7f9d",
   "metadata": {},
   "outputs": [
    {
     "data": {
      "text/plain": [
       "count   21,230.00\n",
       "mean       183.88\n",
       "std        381.52\n",
       "min          0.07\n",
       "25%          2.81\n",
       "50%          5.48\n",
       "75%         14.63\n",
       "max      1,100.70\n",
       "Name: years_employed, dtype: float64"
      ]
     },
     "execution_count": 34,
     "metadata": {},
     "output_type": "execute_result"
    }
   ],
   "source": [
    "# рассчет стажа в годах\n",
    "df['years_employed'] = df['days_employed'] / 365\n",
    "\n",
    "# посмотрим на стат. показатели\n",
    "df['years_employed'].describe()"
   ]
  },
  {
   "cell_type": "markdown",
   "id": "7dc204b2",
   "metadata": {},
   "source": [
    "Таблица показывает, что в датасете есть аномальные данные. Для более точного анализа \"почистим\" датасет. Установим пороговое значение в 65 лет."
   ]
  },
  {
   "cell_type": "code",
   "execution_count": 35,
   "id": "b0154b78",
   "metadata": {},
   "outputs": [],
   "source": [
    "# удалим аномальные данные\n",
    "df = df.query('years_employed <= 65') "
   ]
  },
  {
   "cell_type": "markdown",
   "id": "46d926be",
   "metadata": {},
   "source": [
    "Исследуем данные о ежемесячном доходе клиентов: посмотрим на распределение данных, изучим максимальное, минимальное, среднее значения и медиану."
   ]
  },
  {
   "cell_type": "code",
   "execution_count": 36,
   "id": "a0158ccb",
   "metadata": {
    "scrolled": false
   },
   "outputs": [
    {
     "data": {
      "text/plain": [
       "count      17,436.00\n",
       "mean      171,926.16\n",
       "std       101,420.62\n",
       "min        21,367.00\n",
       "25%       112,420.75\n",
       "50%       148,482.50\n",
       "75%       202,041.75\n",
       "max     2,265,604.00\n",
       "Name: total_income, dtype: float64"
      ]
     },
     "metadata": {},
     "output_type": "display_data"
    },
    {
     "data": {
      "image/png": "[encoded data removed]",
      "text/plain": [
       "<Figure size 1200x600 with 1 Axes>"
      ]
     },
     "metadata": {},
     "output_type": "display_data"
    }
   ],
   "source": [
    "# посмотрим на стат. показатели поля\n",
    "display(df['total_income'].describe())\n",
    "\n",
    "# для графика подсчитаем медиану и среднее \n",
    "balance_median = df['total_income'].median()\n",
    "balance_mean = df['total_income'].mean()\n",
    "\n",
    "# отразим данные на графике\n",
    "plt.figure(figsize=(12, 6))\n",
    "ax = sns.histplot(df['total_income'], bins=1000, legend=True)\n",
    "ax.set_title('Распределение суммы ежемесячного дохода пользователей банка', size=14, weight= 900)\n",
    "ax.set_ylabel('Количество клиентов, чел.')\n",
    "ax.set_xlabel('Сумма дохода, млн. руб.')\n",
    "plt.axvline(x=df['total_income'].median(), color='white', linestyle='--', label='Среднее медианное дохода')\n",
    "plt.axvline(x=df['total_income'].mean(), color='black', linestyle='--', label='Среднее дохода')\n",
    "plt.tight_layout()\n",
    "plt.show()"
   ]
  },
  {
   "cell_type": "markdown",
   "id": "3ceae419",
   "metadata": {},
   "source": [
    "Посмотрим на этот график подробнее."
   ]
  },
  {
   "cell_type": "code",
   "execution_count": 37,
   "id": "14385f86",
   "metadata": {
    "scrolled": false
   },
   "outputs": [
    {
     "data": {
      "image/png": "[encoded data removed]",
      "text/plain": [
       "<Figure size 1200x600 with 1 Axes>"
      ]
     },
     "metadata": {},
     "output_type": "display_data"
    }
   ],
   "source": [
    "# отразим данные на графике\n",
    "plt.figure(figsize=(12, 6))\n",
    "ax = sns.histplot(df['total_income'], bins=1000, legend=True)\n",
    "ax.set_title('Распределение суммы ежемесячного дохода пользователей банка', size=14, weight= 900)\n",
    "ax.set_ylabel('Количество клиентов, чел.')\n",
    "ax.set_xlabel('Сумма дохода, млн. руб.')\n",
    "plt.xlim([0, 300000])\n",
    "plt.axvline(x=df['total_income'].median(), color='white', linestyle='--', label='Среднее медианное дохода')\n",
    "plt.axvline(x=df['total_income'].mean(), color='black', linestyle='--', label='Среднее дохода')\n",
    "plt.tight_layout()\n",
    "plt.show()"
   ]
  },
  {
   "cell_type": "markdown",
   "id": "b6c4dea5",
   "metadata": {},
   "source": [
    "Минимальное значение дохода - 20.6 тыс.руб., \\\n",
    "Максимальное значение - 2.3 млн. руб.\\\n",
    "Среднее значение - 165.4 тыс. руб.\\\n",
    "Медиана - 142.6 тыс. руб.\\\n",
    "Основная доля клиентов имеет доход до 200 тыс. руб.\n",
    "\\\n",
    "\\\n",
    "Для выбора границы для определения аномальных значений рассчитаем 90, 95 и 99  перцентили дохода клиентов."
   ]
  },
  {
   "cell_type": "code",
   "execution_count": 38,
   "id": "107f2da4",
   "metadata": {},
   "outputs": [
    {
     "name": "stdout",
     "output_type": "stream",
     "text": [
      "90 перцентиль: 277769.50\n",
      "95 перцентиль: 340830.75\n",
      "99 перцентиль: 519616.95\n"
     ]
    }
   ],
   "source": [
    "# находит перцентили\n",
    "per_income_90 = np.percentile(df['total_income'], [90])\n",
    "per_income_95 = np.percentile(df['total_income'], [95])\n",
    "per_income_99 = np.percentile(df['total_income'], [99])\n",
    "print('90 перцентиль: %.2f' % (per_income_90))\n",
    "print('95 перцентиль: %.2f' % (per_income_95))\n",
    "print('99 перцентиль: %.2f' % (per_income_99))"
   ]
  },
  {
   "cell_type": "markdown",
   "id": "fac11438",
   "metadata": {},
   "source": [
    "Не более 10% пользователей имеют доход, равный 270 тыс. руб., не более 5% - 332 тыс. руб., и не более 1% - 506 тыс. руб."
   ]
  },
  {
   "cell_type": "markdown",
   "id": "4a7f6a6f",
   "metadata": {},
   "source": [
    "Подсчитаем сколько данных осталось после предобработки."
   ]
  },
  {
   "cell_type": "code",
   "execution_count": 39,
   "id": "b60697d0",
   "metadata": {},
   "outputs": [
    {
     "name": "stdout",
     "output_type": "stream",
     "text": [
      "Количество записей: 17436\n",
      "Доля оставшихся записей: 81.00\n"
     ]
    }
   ],
   "source": [
    "# подсчитаем количество записей после предобрадотки\n",
    "print('Количество записей: %.f' % (len(df)))\n",
    "print('Доля оставшихся записей: %.2f' % ((len(df)/21525)*100))"
   ]
  },
  {
   "cell_type": "markdown",
   "id": "b7e5a7db",
   "metadata": {},
   "source": [
    "---\n",
    "<a id='category'></a> \n",
    "### Категоризация данных\n",
    "[Назад к оглавлению](#contens)"
   ]
  },
  {
   "cell_type": "markdown",
   "id": "cb7115c5",
   "metadata": {},
   "source": [
    "На основании диапазонов, указанных ниже, создадим в датафрейме столбец total_income_category с категориями:\\\n",
    "0–30000 — E\\\n",
    "30001–50000 — D\\\n",
    "50001–200000 — C\\\n",
    "200001–1000000 — B\\\n",
    "1000001 и выше — A."
   ]
  },
  {
   "cell_type": "code",
   "execution_count": 40,
   "id": "c85fc372",
   "metadata": {},
   "outputs": [],
   "source": [
    "# напишем функцию для категоризации дохода\n",
    "def categorize_income(income):\n",
    "    try:\n",
    "        if 0 <= income <= 30000:\n",
    "            return 'E'\n",
    "        elif 30001 <= income <= 50000:\n",
    "            return 'D'\n",
    "        elif 50001 <= income <= 200000:\n",
    "            return 'C'\n",
    "        elif 200001 <= income <= 1000000:\n",
    "            return 'B'\n",
    "        elif income >= 1000001:\n",
    "            return 'A'\n",
    "    except:\n",
    "        pass\n",
    "    \n",
    "# применим ее\n",
    "df['total_income_category'] = df['total_income'].apply(categorize_income)"
   ]
  },
  {
   "cell_type": "markdown",
   "id": "86ee9c83",
   "metadata": {},
   "source": [
    "Изучим цели получения кредита."
   ]
  },
  {
   "cell_type": "code",
   "execution_count": 41,
   "id": "9f361619",
   "metadata": {},
   "outputs": [
    {
     "data": {
      "text/plain": [
       "array(['покупка жилья', 'приобретение автомобиля',\n",
       "       'дополнительное образование', 'операции с жильем', 'образование',\n",
       "       'на проведение свадьбы', 'покупка жилья для семьи',\n",
       "       'покупка недвижимости', 'покупка коммерческой недвижимости',\n",
       "       'покупка жилой недвижимости',\n",
       "       'строительство собственной недвижимости', 'недвижимость',\n",
       "       'строительство недвижимости', 'на покупку своего автомобиля',\n",
       "       'на покупку подержанного автомобиля', 'сыграть свадьбу', 'жилье',\n",
       "       'операции со своей недвижимостью', 'автомобили',\n",
       "       'заняться образованием', 'сделка с подержанным автомобилем',\n",
       "       'получение образования', 'автомобиль', 'свадьба',\n",
       "       'получение дополнительного образования', 'покупка своего жилья',\n",
       "       'операции с недвижимостью', 'получение высшего образования',\n",
       "       'операции с коммерческой недвижимостью', 'свой автомобиль',\n",
       "       'сделка с автомобилем', 'профильное образование',\n",
       "       'высшее образование', 'на покупку автомобиля',\n",
       "       'покупка жилья для сдачи', 'строительство жилой недвижимости',\n",
       "       'ремонт жилью', 'заняться высшим образованием'], dtype=object)"
      ]
     },
     "execution_count": 41,
     "metadata": {},
     "output_type": "execute_result"
    }
   ],
   "source": [
    "# посмотрим на уникальные значения в столбце с целями\n",
    "df['purpose'].unique()"
   ]
  },
  {
   "cell_type": "markdown",
   "id": "23e99bd7",
   "metadata": {},
   "source": [
    "Создадим функцию, которая на основании данных из столбца purpose сформирует новый столбец purpose_category, в который войдут следующие категории:\n",
    "\n",
    "- операции с автомобилем\n",
    "- операции с недвижимостью\n",
    "- проведение свадьбы\n",
    "- получение образования."
   ]
  },
  {
   "cell_type": "code",
   "execution_count": 42,
   "id": "1cbd0baf",
   "metadata": {},
   "outputs": [],
   "source": [
    "# напишем функцию для категоризации целей\n",
    "def categorize_purpose(row):\n",
    "    try:\n",
    "        if 'автом' in row:\n",
    "            return 'операции с автомобилем'\n",
    "        elif 'жил' in row or 'недвиж' in row:\n",
    "            return 'операции с недвижимостью'\n",
    "        elif 'свад' in row:\n",
    "            return 'проведение свадьбы'\n",
    "        elif 'образов' in row:\n",
    "            return 'получение образования'\n",
    "    except:\n",
    "        return 'нет категории'\n",
    "    \n",
    "# применим ее\n",
    "df['purpose_category'] = df['purpose'].apply(categorize_purpose)"
   ]
  },
  {
   "cell_type": "markdown",
   "id": "0facb463",
   "metadata": {},
   "source": [
    "---\n",
    "**В процессе предобработки данных** были выполнены следующие действия:\n",
    "- заполнены пропуски в столбце со стажем и доходом;\n",
    "- удалены пропуски в данных с возрастом клиентов;\n",
    "- удалены дубликаты;\n",
    "- изменен тип данных в столбце с доходом клиентов;\n",
    "- изучены аномальные значения в полях с полом клиентов, количеством детей, возрастом и стажем;\n",
    "- проведена категоризация данных.\n",
    "\\\n",
    "\\\n",
    "В процессе предобработки были удалено 19% данных."
   ]
  },
  {
   "cell_type": "markdown",
   "id": "6e81d89c",
   "metadata": {},
   "source": [
    "---\n",
    "<a id='eda'></a> \n",
    "## Исследовательский анализ данных\n",
    "[Назад к оглавлению](#contens)"
   ]
  },
  {
   "cell_type": "markdown",
   "id": "0cab6ea6",
   "metadata": {},
   "source": [
    "---\n",
    "<a id='portrait'></a> \n",
    "### Портрет типичных клиентов\n",
    "[Назад к оглавлению](#contens)"
   ]
  },
  {
   "cell_type": "markdown",
   "id": "3edb79ca",
   "metadata": {},
   "source": [
    "Составим портрет клиентов банка и посмотрим на различия в показателях в зависимости от наличия и отсутсвия задолженности."
   ]
  },
  {
   "cell_type": "code",
   "execution_count": 43,
   "id": "70eda29c",
   "metadata": {},
   "outputs": [
    {
     "data": {
      "text/html": [
       "<div>\n",
       "<style scoped>\n",
       "    .dataframe tbody tr th:only-of-type {\n",
       "        vertical-align: middle;\n",
       "    }\n",
       "\n",
       "    .dataframe tbody tr th {\n",
       "        vertical-align: top;\n",
       "    }\n",
       "\n",
       "    .dataframe thead th {\n",
       "        text-align: right;\n",
       "    }\n",
       "</style>\n",
       "<table border=\"1\" class=\"dataframe\">\n",
       "  <thead>\n",
       "    <tr style=\"text-align: right;\">\n",
       "      <th></th>\n",
       "      <th>debt</th>\n",
       "      <th>0</th>\n",
       "      <th>1</th>\n",
       "    </tr>\n",
       "  </thead>\n",
       "  <tbody>\n",
       "    <tr>\n",
       "      <th rowspan=\"2\" valign=\"top\">children</th>\n",
       "      <th>mean</th>\n",
       "      <td>0.55</td>\n",
       "      <td>0.60</td>\n",
       "    </tr>\n",
       "    <tr>\n",
       "      <th>median</th>\n",
       "      <td>0.00</td>\n",
       "      <td>0.00</td>\n",
       "    </tr>\n",
       "    <tr>\n",
       "      <th rowspan=\"2\" valign=\"top\">years_employed</th>\n",
       "      <th>mean</th>\n",
       "      <td>6.39</td>\n",
       "      <td>4.97</td>\n",
       "    </tr>\n",
       "    <tr>\n",
       "      <th>median</th>\n",
       "      <td>4.31</td>\n",
       "      <td>3.94</td>\n",
       "    </tr>\n",
       "    <tr>\n",
       "      <th rowspan=\"2\" valign=\"top\">dob_years</th>\n",
       "      <th>mean</th>\n",
       "      <td>40.22</td>\n",
       "      <td>37.99</td>\n",
       "    </tr>\n",
       "    <tr>\n",
       "      <th>median</th>\n",
       "      <td>40.00</td>\n",
       "      <td>37.00</td>\n",
       "    </tr>\n",
       "    <tr>\n",
       "      <th rowspan=\"2\" valign=\"top\">total_income</th>\n",
       "      <th>mean</th>\n",
       "      <td>172,598.04</td>\n",
       "      <td>164,829.49</td>\n",
       "    </tr>\n",
       "    <tr>\n",
       "      <th>median</th>\n",
       "      <td>149,296.50</td>\n",
       "      <td>142,594.00</td>\n",
       "    </tr>\n",
       "  </tbody>\n",
       "</table>\n",
       "</div>"
      ],
      "text/plain": [
       "debt                           0          1\n",
       "children       mean         0.55       0.60\n",
       "               median       0.00       0.00\n",
       "years_employed mean         6.39       4.97\n",
       "               median       4.31       3.94\n",
       "dob_years      mean        40.22      37.99\n",
       "               median      40.00      37.00\n",
       "total_income   mean   172,598.04 164,829.49\n",
       "               median 149,296.50 142,594.00"
      ]
     },
     "execution_count": 43,
     "metadata": {},
     "output_type": "execute_result"
    }
   ],
   "source": [
    "# составим таблицу по клиентам в разрезе по задолженности\n",
    "churn_diff = df.groupby('debt')[['children', 'years_employed', 'dob_years', 'total_income']].agg(['mean', 'median']).T\n",
    "churn_diff"
   ]
  },
  {
   "cell_type": "markdown",
   "id": "241e21ac",
   "metadata": {},
   "source": [
    "Можно сделать вывод об отсутсвии значительной разницы в показателях для должников и клиентов без задолженности. "
   ]
  },
  {
   "cell_type": "markdown",
   "id": "fc9a163f",
   "metadata": {},
   "source": [
    "---\n",
    "<a id='eda2'></a> \n",
    "### Решения по вопросам\n",
    "[Назад к оглавлению](#contens)"
   ]
  },
  {
   "cell_type": "markdown",
   "id": "5c021cd8",
   "metadata": {},
   "source": [
    "---\n",
    "<a id='question1'></a> \n",
    "#### Есть ли зависимость между количеством детей и возвратом кредита в срок?\n",
    "[Назад к оглавлению](#contens)"
   ]
  },
  {
   "cell_type": "code",
   "execution_count": 44,
   "id": "badc8820",
   "metadata": {},
   "outputs": [
    {
     "data": {
      "text/html": [
       "<div>\n",
       "<style scoped>\n",
       "    .dataframe tbody tr th:only-of-type {\n",
       "        vertical-align: middle;\n",
       "    }\n",
       "\n",
       "    .dataframe tbody tr th {\n",
       "        vertical-align: top;\n",
       "    }\n",
       "\n",
       "    .dataframe thead th {\n",
       "        text-align: right;\n",
       "    }\n",
       "</style>\n",
       "<table border=\"1\" class=\"dataframe\">\n",
       "  <thead>\n",
       "    <tr style=\"text-align: right;\">\n",
       "      <th>debt</th>\n",
       "      <th>total</th>\n",
       "      <th>0</th>\n",
       "      <th>1</th>\n",
       "      <th>ratio_debt</th>\n",
       "    </tr>\n",
       "    <tr>\n",
       "      <th>children</th>\n",
       "      <th></th>\n",
       "      <th></th>\n",
       "      <th></th>\n",
       "      <th></th>\n",
       "    </tr>\n",
       "  </thead>\n",
       "  <tbody>\n",
       "    <tr>\n",
       "      <th>0</th>\n",
       "      <td>10530</td>\n",
       "      <td>9,669.00</td>\n",
       "      <td>861.00</td>\n",
       "      <td>8.18</td>\n",
       "    </tr>\n",
       "    <tr>\n",
       "      <th>1</th>\n",
       "      <td>4516</td>\n",
       "      <td>4,090.00</td>\n",
       "      <td>426.00</td>\n",
       "      <td>9.43</td>\n",
       "    </tr>\n",
       "    <tr>\n",
       "      <th>2</th>\n",
       "      <td>2019</td>\n",
       "      <td>1,828.00</td>\n",
       "      <td>191.00</td>\n",
       "      <td>9.46</td>\n",
       "    </tr>\n",
       "    <tr>\n",
       "      <th>3</th>\n",
       "      <td>322</td>\n",
       "      <td>296.00</td>\n",
       "      <td>26.00</td>\n",
       "      <td>8.07</td>\n",
       "    </tr>\n",
       "    <tr>\n",
       "      <th>4</th>\n",
       "      <td>40</td>\n",
       "      <td>36.00</td>\n",
       "      <td>4.00</td>\n",
       "      <td>10.00</td>\n",
       "    </tr>\n",
       "    <tr>\n",
       "      <th>5</th>\n",
       "      <td>9</td>\n",
       "      <td>9.00</td>\n",
       "      <td>0.00</td>\n",
       "      <td>0.00</td>\n",
       "    </tr>\n",
       "  </tbody>\n",
       "</table>\n",
       "</div>"
      ],
      "text/plain": [
       "debt      total        0      1  ratio_debt\n",
       "children                                   \n",
       "0         10530 9,669.00 861.00        8.18\n",
       "1          4516 4,090.00 426.00        9.43\n",
       "2          2019 1,828.00 191.00        9.46\n",
       "3           322   296.00  26.00        8.07\n",
       "4            40    36.00   4.00       10.00\n",
       "5             9     9.00   0.00        0.00"
      ]
     },
     "execution_count": 44,
     "metadata": {},
     "output_type": "execute_result"
    }
   ],
   "source": [
    "# создание сводной таблицы, в которой будет отражена группировка по количеству детей и информация о количестве человек, \n",
    "# у которых была (1) и отсутствовала (0) задолженость по кредиту \n",
    "\n",
    "corr_children_debt = df.pivot_table(index = ['children'], columns = 'debt', values = 'purpose', aggfunc = 'count')\n",
    "\n",
    "# добавление в таблицу столбца 'total', в котором отрабражено общее количество человек в группах\n",
    "corr_children_debt.insert(0, 'total', df.groupby('children')['debt'].count(), allow_duplicates = True) \n",
    "\n",
    "# расчет процентного соотношения лиц, имеющих задолженность по кредиту, от общего количества человек в группе\n",
    "corr_children_debt['ratio_debt'] = corr_children_debt[1] / corr_children_debt['total'] * 100\n",
    "\n",
    "# изменение отображаемого нулевого значения в последней группе (Nan на 0)\n",
    "corr_children_debt = corr_children_debt.fillna(0)\n",
    "\n",
    "# расчет разницы между максимальным и минимальным значением показателя\n",
    "# исключаем последнюю группу в связи с непоказательной выборкой\n",
    "difference_children = corr_children_debt.loc[:4, 'ratio_debt'].max() - corr_children_debt.loc[:4, 'ratio_debt'].min()\n",
    "\n",
    "# отображение итоговой таблицы\n",
    "corr_children_debt"
   ]
  },
  {
   "cell_type": "code",
   "execution_count": 45,
   "id": "14d72647",
   "metadata": {},
   "outputs": [
    {
     "data": {
      "text/plain": [
       "'Разница между максимальным и минимальным значением составляет, 1.93 %'"
      ]
     },
     "execution_count": 45,
     "metadata": {},
     "output_type": "execute_result"
    }
   ],
   "source": [
    "f'Разница между максимальным и минимальным значением составляет, {difference_children:.3} %'"
   ]
  },
  {
   "cell_type": "markdown",
   "id": "c02a19f4",
   "metadata": {},
   "source": [
    "**Вывод:** Исследование показало, что меньший показатель и, следовательно, меньшее количество задолженностей по кредиту у лиц c 3 и более детьми (8.1%). Можно предположить, что семьи с 3 детьми более ответсвенно подходят к выплате кредита в связи с тем, что более заинтересованы в хорошей кредитной истории для следующих кредитов. Далее идет группа лиц без детей (8.2%). Данный вывод логичен, так как в семьх без детей меньшее количество ежемесячных затрат.У лиц с 1, 2 и 4 детьми практически одинаковые показатели. Стоит обратить внимание на группу клиентов с 5 детьми. Процент задолженности по кредиту равен 0. Но выборка по данной группе не репрезентативна ввиду ее маленького размера по сравнению с остальными группами."
   ]
  },
  {
   "cell_type": "markdown",
   "id": "e7a11beb",
   "metadata": {},
   "source": [
    "---\n",
    "<a id='question2'></a> \n",
    "#### Есть ли зависимость между семейным положением и возвратом кредита в срок?\n",
    "[Назад к оглавлению](#contens)"
   ]
  },
  {
   "cell_type": "code",
   "execution_count": 46,
   "id": "563f74b4",
   "metadata": {},
   "outputs": [
    {
     "data": {
      "text/html": [
       "<div>\n",
       "<style scoped>\n",
       "    .dataframe tbody tr th:only-of-type {\n",
       "        vertical-align: middle;\n",
       "    }\n",
       "\n",
       "    .dataframe tbody tr th {\n",
       "        vertical-align: top;\n",
       "    }\n",
       "\n",
       "    .dataframe thead th {\n",
       "        text-align: right;\n",
       "    }\n",
       "</style>\n",
       "<table border=\"1\" class=\"dataframe\">\n",
       "  <thead>\n",
       "    <tr style=\"text-align: right;\">\n",
       "      <th>debt</th>\n",
       "      <th>total</th>\n",
       "      <th>0</th>\n",
       "      <th>1</th>\n",
       "      <th>ratio_debt</th>\n",
       "    </tr>\n",
       "    <tr>\n",
       "      <th>family_status</th>\n",
       "      <th></th>\n",
       "      <th></th>\n",
       "      <th></th>\n",
       "      <th></th>\n",
       "    </tr>\n",
       "  </thead>\n",
       "  <tbody>\n",
       "    <tr>\n",
       "      <th>в разводе</th>\n",
       "      <td>963</td>\n",
       "      <td>892</td>\n",
       "      <td>71</td>\n",
       "      <td>7.37</td>\n",
       "    </tr>\n",
       "    <tr>\n",
       "      <th>вдовец / вдова</th>\n",
       "      <td>419</td>\n",
       "      <td>393</td>\n",
       "      <td>26</td>\n",
       "      <td>6.21</td>\n",
       "    </tr>\n",
       "    <tr>\n",
       "      <th>гражданский брак</th>\n",
       "      <td>3465</td>\n",
       "      <td>3118</td>\n",
       "      <td>347</td>\n",
       "      <td>10.01</td>\n",
       "    </tr>\n",
       "    <tr>\n",
       "      <th>женат / замужем</th>\n",
       "      <td>10154</td>\n",
       "      <td>9346</td>\n",
       "      <td>808</td>\n",
       "      <td>7.96</td>\n",
       "    </tr>\n",
       "    <tr>\n",
       "      <th>не женат / не замужем</th>\n",
       "      <td>2435</td>\n",
       "      <td>2179</td>\n",
       "      <td>256</td>\n",
       "      <td>10.51</td>\n",
       "    </tr>\n",
       "  </tbody>\n",
       "</table>\n",
       "</div>"
      ],
      "text/plain": [
       "debt                   total     0    1  ratio_debt\n",
       "family_status                                      \n",
       "в разводе                963   892   71        7.37\n",
       "вдовец / вдова           419   393   26        6.21\n",
       "гражданский брак        3465  3118  347       10.01\n",
       "женат / замужем        10154  9346  808        7.96\n",
       "не женат / не замужем   2435  2179  256       10.51"
      ]
     },
     "execution_count": 46,
     "metadata": {},
     "output_type": "execute_result"
    }
   ],
   "source": [
    "# создание сводной таблицы, в которой будет отражена группировка по семейному положению и информация о количестве человек, \n",
    "# у которых была (1) и отсутствовала (0) задолженость по кредиту \n",
    "\n",
    "corr_family_debt = df.pivot_table(index = ['family_status'], columns = 'debt', values = 'purpose', aggfunc = 'count')\n",
    "\n",
    "\n",
    "# добавление в таблицу столбца 'total', в котором отрабражено общее количество человек в группах\n",
    "corr_family_debt.insert(0, 'total', df.groupby('family_status')['debt'].count(), allow_duplicates = True)\n",
    "\n",
    "# расчет процентного соотношения лиц, имеющих задолженность по кредиту, от общего количества человек в группе\n",
    "corr_family_debt['ratio_debt'] = corr_family_debt[1] / corr_family_debt['total'] * 100\n",
    "\n",
    "# расчет разницы между максимальным и минимальным значением показателя\n",
    "difference_family = corr_family_debt['ratio_debt'].max() - corr_family_debt['ratio_debt'].min()\n",
    "\n",
    "corr_family_debt"
   ]
  },
  {
   "cell_type": "code",
   "execution_count": 47,
   "id": "c356a7b6",
   "metadata": {},
   "outputs": [
    {
     "data": {
      "text/plain": [
       "'Разница между максимальным и минимальным значением составляет, 4.31 %'"
      ]
     },
     "execution_count": 47,
     "metadata": {},
     "output_type": "execute_result"
    }
   ],
   "source": [
    "f'Разница между максимальным и минимальным значением составляет, {difference_family:.3} %'"
   ]
  },
  {
   "cell_type": "markdown",
   "id": "b10c3727",
   "metadata": {},
   "source": [
    "Вывод: Анализ данных показал, что есть незначительная зависимость между семейным положением и выплатой кредита в срок. Низкие показатели характерны для вдовцов/вдов (6.21%). Максимальный показатель у не женатых/ не замужних (10.51%)."
   ]
  },
  {
   "cell_type": "markdown",
   "id": "52054965",
   "metadata": {},
   "source": [
    "---\n",
    "<a id='question3'></a> \n",
    "#### Есть ли зависимость между уровнем дохода и возвратом кредита в срок?\n",
    "[Назад к оглавлению](#contens)"
   ]
  },
  {
   "cell_type": "code",
   "execution_count": 48,
   "id": "2cb45834",
   "metadata": {},
   "outputs": [
    {
     "data": {
      "text/html": [
       "<div>\n",
       "<style scoped>\n",
       "    .dataframe tbody tr th:only-of-type {\n",
       "        vertical-align: middle;\n",
       "    }\n",
       "\n",
       "    .dataframe tbody tr th {\n",
       "        vertical-align: top;\n",
       "    }\n",
       "\n",
       "    .dataframe thead th {\n",
       "        text-align: right;\n",
       "    }\n",
       "</style>\n",
       "<table border=\"1\" class=\"dataframe\">\n",
       "  <thead>\n",
       "    <tr style=\"text-align: right;\">\n",
       "      <th>debt</th>\n",
       "      <th>income</th>\n",
       "      <th>total</th>\n",
       "      <th>0</th>\n",
       "      <th>1</th>\n",
       "      <th>ratio_debt</th>\n",
       "    </tr>\n",
       "    <tr>\n",
       "      <th>total_income_category</th>\n",
       "      <th></th>\n",
       "      <th></th>\n",
       "      <th></th>\n",
       "      <th></th>\n",
       "      <th></th>\n",
       "    </tr>\n",
       "  </thead>\n",
       "  <tbody>\n",
       "    <tr>\n",
       "      <th>A</th>\n",
       "      <td>более 1000000</td>\n",
       "      <td>25</td>\n",
       "      <td>23.00</td>\n",
       "      <td>2.00</td>\n",
       "      <td>8.00</td>\n",
       "    </tr>\n",
       "    <tr>\n",
       "      <th>B</th>\n",
       "      <td>от 200000 до 1000000</td>\n",
       "      <td>4439</td>\n",
       "      <td>4,117.00</td>\n",
       "      <td>322.00</td>\n",
       "      <td>7.25</td>\n",
       "    </tr>\n",
       "    <tr>\n",
       "      <th>C</th>\n",
       "      <td>от 50000 до 200000</td>\n",
       "      <td>12781</td>\n",
       "      <td>11,611.00</td>\n",
       "      <td>1,170.00</td>\n",
       "      <td>9.15</td>\n",
       "    </tr>\n",
       "    <tr>\n",
       "      <th>D</th>\n",
       "      <td>от 30000 до 50000</td>\n",
       "      <td>184</td>\n",
       "      <td>170.00</td>\n",
       "      <td>14.00</td>\n",
       "      <td>7.61</td>\n",
       "    </tr>\n",
       "    <tr>\n",
       "      <th>E</th>\n",
       "      <td>до 30000</td>\n",
       "      <td>7</td>\n",
       "      <td>7.00</td>\n",
       "      <td>NaN</td>\n",
       "      <td>NaN</td>\n",
       "    </tr>\n",
       "  </tbody>\n",
       "</table>\n",
       "</div>"
      ],
      "text/plain": [
       "debt                                 income  total         0        1  \\\n",
       "total_income_category                                                   \n",
       "A                             более 1000000     25     23.00     2.00   \n",
       "B                      от 200000 до 1000000   4439  4,117.00   322.00   \n",
       "C                        от 50000 до 200000  12781 11,611.00 1,170.00   \n",
       "D                         от 30000 до 50000    184    170.00    14.00   \n",
       "E                                  до 30000      7      7.00      NaN   \n",
       "\n",
       "debt                   ratio_debt  \n",
       "total_income_category              \n",
       "A                            8.00  \n",
       "B                            7.25  \n",
       "C                            9.15  \n",
       "D                            7.61  \n",
       "E                             NaN  "
      ]
     },
     "execution_count": 48,
     "metadata": {},
     "output_type": "execute_result"
    }
   ],
   "source": [
    "# создание сводной таблицы, в которой будет отражена группировка по уровню доходов и информация о количестве человек, \n",
    "# у которых была (1) и отсутствовала (0) задолженость по кредиту \n",
    "\n",
    "corr_income_debt = df.pivot_table(index = ['total_income_category'], columns = 'debt', values = 'purpose', aggfunc = 'count')\n",
    "\n",
    "# добавление в таблицу столбца 'total', в котором отрабражено общее количество человек в группах\n",
    "corr_income_debt.insert(0, 'total', df.groupby('total_income_category')['debt'].count(), allow_duplicates = True)\n",
    "\n",
    "# добавление в таблицу столбца 'income' с расшифровкой дохода в категориях\n",
    "corr_income_debt.insert(0, 'income', ['более 1000000', 'от 200000 до 1000000', 'от 50000 до 200000', \\\n",
    "                                      'от 30000 до 50000','до 30000'], allow_duplicates = True)\n",
    "\n",
    "# расчет процентного соотношения лиц, имеющих задолженность по кредиту, от общего количества человек в группе\n",
    "corr_income_debt['ratio_debt'] = corr_income_debt[1] / corr_income_debt['total'] * 100\n",
    "\n",
    "# расчет разницы между максимальным и минимальным значением показателя\n",
    "difference_income = corr_income_debt['ratio_debt'].max() - corr_income_debt['ratio_debt'].min()\n",
    "\n",
    "corr_income_debt"
   ]
  },
  {
   "cell_type": "code",
   "execution_count": 49,
   "id": "a9b2205f",
   "metadata": {},
   "outputs": [
    {
     "data": {
      "text/plain": [
       "'Разница между максимальным и минимальным значением составляет, 1.9 %'"
      ]
     },
     "execution_count": 49,
     "metadata": {},
     "output_type": "execute_result"
    }
   ],
   "source": [
    "f'Разница между максимальным и минимальным значением составляет, {difference_income:.3} %'"
   ]
  },
  {
   "cell_type": "markdown",
   "id": "8445d173",
   "metadata": {},
   "source": [
    "**Вывод:** Анализ данных показал, что наибольший показатель и, следовательно, большее количество задолженность по выплате кредита у лиц с доходом от 50 до 200 тыс. руб. (9.15%). Самый низкий показатель у лиц с доходом от 200 тыс. руб. до 1000 тыс. руб. (7.25%)."
   ]
  },
  {
   "cell_type": "markdown",
   "id": "8b852c26",
   "metadata": {},
   "source": [
    "---\n",
    "<a id='question4'></a> \n",
    "#### Как разные цели кредита влияют на его возврат в срок?\n",
    "[Назад к оглавлению](#contens)"
   ]
  },
  {
   "cell_type": "code",
   "execution_count": 50,
   "id": "eab0093c",
   "metadata": {},
   "outputs": [
    {
     "data": {
      "text/html": [
       "<div>\n",
       "<style scoped>\n",
       "    .dataframe tbody tr th:only-of-type {\n",
       "        vertical-align: middle;\n",
       "    }\n",
       "\n",
       "    .dataframe tbody tr th {\n",
       "        vertical-align: top;\n",
       "    }\n",
       "\n",
       "    .dataframe thead th {\n",
       "        text-align: right;\n",
       "    }\n",
       "</style>\n",
       "<table border=\"1\" class=\"dataframe\">\n",
       "  <thead>\n",
       "    <tr style=\"text-align: right;\">\n",
       "      <th>debt</th>\n",
       "      <th>total</th>\n",
       "      <th>0</th>\n",
       "      <th>1</th>\n",
       "      <th>ratio_debt</th>\n",
       "    </tr>\n",
       "    <tr>\n",
       "      <th>purpose_category</th>\n",
       "      <th></th>\n",
       "      <th></th>\n",
       "      <th></th>\n",
       "      <th></th>\n",
       "    </tr>\n",
       "  </thead>\n",
       "  <tbody>\n",
       "    <tr>\n",
       "      <th>операции с автомобилем</th>\n",
       "      <td>3470</td>\n",
       "      <td>3123</td>\n",
       "      <td>347</td>\n",
       "      <td>10.00</td>\n",
       "    </tr>\n",
       "    <tr>\n",
       "      <th>операции с недвижимостью</th>\n",
       "      <td>8830</td>\n",
       "      <td>8146</td>\n",
       "      <td>684</td>\n",
       "      <td>7.75</td>\n",
       "    </tr>\n",
       "    <tr>\n",
       "      <th>получение образования</th>\n",
       "      <td>3257</td>\n",
       "      <td>2936</td>\n",
       "      <td>321</td>\n",
       "      <td>9.86</td>\n",
       "    </tr>\n",
       "    <tr>\n",
       "      <th>проведение свадьбы</th>\n",
       "      <td>1879</td>\n",
       "      <td>1723</td>\n",
       "      <td>156</td>\n",
       "      <td>8.30</td>\n",
       "    </tr>\n",
       "  </tbody>\n",
       "</table>\n",
       "</div>"
      ],
      "text/plain": [
       "debt                      total     0    1  ratio_debt\n",
       "purpose_category                                      \n",
       "операции с автомобилем     3470  3123  347       10.00\n",
       "операции с недвижимостью   8830  8146  684        7.75\n",
       "получение образования      3257  2936  321        9.86\n",
       "проведение свадьбы         1879  1723  156        8.30"
      ]
     },
     "execution_count": 50,
     "metadata": {},
     "output_type": "execute_result"
    }
   ],
   "source": [
    "# создание сводной таблицы, в которой будет отражена группировка по уровню доходов и информация о количестве человек, \n",
    "# у которых была (1) и отсутствовала (0) задолженость по кредиту \n",
    "\n",
    "corr_purpose_debt = df.pivot_table(index = ['purpose_category'], columns = 'debt', values = 'purpose', aggfunc = 'count')\n",
    "\n",
    "# добавление в таблицу столбца 'total', в котором отрабражено общее количество человек в группах\n",
    "corr_purpose_debt.insert(0, 'total', df.groupby('purpose_category')['debt'].count(), allow_duplicates = True)\n",
    "\n",
    "# расчет процентного соотношения лиц, имеющих задолженность по кредиту, от общего количества человек в группе\n",
    "corr_purpose_debt['ratio_debt'] = corr_purpose_debt[1] / corr_purpose_debt['total'] * 100\n",
    "\n",
    "# расчет разницы между максимальным и минимальным значением показателя\n",
    "difference_purpose = corr_purpose_debt['ratio_debt'].max() - corr_purpose_debt['ratio_debt'].min()\n",
    "\n",
    "corr_purpose_debt"
   ]
  },
  {
   "cell_type": "code",
   "execution_count": 51,
   "id": "b7407da1",
   "metadata": {},
   "outputs": [
    {
     "data": {
      "text/plain": [
       "'Разница между максимальным и минимальным значением составляет, 2.25 %'"
      ]
     },
     "execution_count": 51,
     "metadata": {},
     "output_type": "execute_result"
    }
   ],
   "source": [
    "f'Разница между максимальным и минимальным значением составляет, {difference_purpose:.3} %'"
   ]
  },
  {
   "cell_type": "markdown",
   "id": "c4e19601",
   "metadata": {},
   "source": [
    "**Вывод:**  Исследование данных показало, что лица, которые берут кредит на операции с автомобилем и получение образования чаще остальных имеют задолженность по выплате кредита (10% и 9.89% соответственно). Для лиц, использующих данные средства на операции с недвижимостью и проведение свадьбы, данный показатель ниже (7.75% и 8.3% соответсвенно)."
   ]
  },
  {
   "cell_type": "markdown",
   "id": "07f1bd08",
   "metadata": {},
   "source": [
    "---\n",
    "<a id='conclution'></a> \n",
    "### Выводы\n",
    "[Назад к оглавлению](#contens)"
   ]
  },
  {
   "cell_type": "code",
   "execution_count": 52,
   "id": "e09e1060",
   "metadata": {},
   "outputs": [
    {
     "data": {
      "text/html": [
       "<div>\n",
       "<style scoped>\n",
       "    .dataframe tbody tr th:only-of-type {\n",
       "        vertical-align: middle;\n",
       "    }\n",
       "\n",
       "    .dataframe tbody tr th {\n",
       "        vertical-align: top;\n",
       "    }\n",
       "\n",
       "    .dataframe thead th {\n",
       "        text-align: right;\n",
       "    }\n",
       "</style>\n",
       "<table border=\"1\" class=\"dataframe\">\n",
       "  <thead>\n",
       "    <tr style=\"text-align: right;\">\n",
       "      <th></th>\n",
       "      <th>categories</th>\n",
       "      <th>max_min_difference</th>\n",
       "    </tr>\n",
       "  </thead>\n",
       "  <tbody>\n",
       "    <tr>\n",
       "      <th>0</th>\n",
       "      <td>children</td>\n",
       "      <td>1.93</td>\n",
       "    </tr>\n",
       "    <tr>\n",
       "      <th>1</th>\n",
       "      <td>family</td>\n",
       "      <td>4.31</td>\n",
       "    </tr>\n",
       "    <tr>\n",
       "      <th>2</th>\n",
       "      <td>income</td>\n",
       "      <td>1.90</td>\n",
       "    </tr>\n",
       "    <tr>\n",
       "      <th>3</th>\n",
       "      <td>purpose</td>\n",
       "      <td>2.25</td>\n",
       "    </tr>\n",
       "  </tbody>\n",
       "</table>\n",
       "</div>"
      ],
      "text/plain": [
       "  categories  max_min_difference\n",
       "0   children                1.93\n",
       "1     family                4.31\n",
       "2     income                1.90\n",
       "3    purpose                2.25"
      ]
     },
     "execution_count": 52,
     "metadata": {},
     "output_type": "execute_result"
    }
   ],
   "source": [
    "# формируем сводную таблицу\n",
    "temp= pd.DataFrame({'categories': ['children', 'family', 'income', 'purpose'],\\\n",
    "                        'max_min_difference': [difference_children,difference_family,difference_income,difference_purpose]})\n",
    "temp"
   ]
  },
  {
   "cell_type": "markdown",
   "id": "d0284400",
   "metadata": {},
   "source": [
    "В проекте были подготовлены и проанализированы данные, предоставленные кредитным отделом банка, с целью выявления наличия или отсутствия взаимосвязи между семейным положением, наличием и количеством детей, уровнем дохода, целью кредитования и выплатой кредита в срок. \n",
    "\n",
    "В процессе подготовки данных были обнаружены и устранены пропуски в столбцах с информацией об уровне дохода и трудовом стаже. Аномальные значения были устранены в столбцах с данными о трудовом стаже, количестве детей. Удалены строки-дубликаты.\n",
    "\n",
    "Анализ взаимосвязи вышеупомянутых категорий клиентов показал, что есть зависимость между ними есть, но в целом, она практически идентичная. Разброс по категориям составляет от 1.90% (доход) до 4.31% (семейное положение). \n",
    "\n",
    "По результатам исследования можно сделать вывод, что «идеальным клиентом» для кредитования будет вдовец/вдова или клиент в разводе, без детей, с доходом от 30 тыс. руб.  до 50 тыс. руб., берущий кредит на операции с недвижимостью. Особое внимание нужно уделить клиентам не женатым/не замужем, с доходом до 30 тыс. руб., планирующим использовать кредит для операций с автомобилем или получение образования либо лицам с 4 детьми. С данными категориями клиентов риски по невозврату кредитов выше."
   ]
  }
 ],
 "metadata": {
  "kernelspec": {
   "display_name": "Python 3 (ipykernel)",
   "language": "python",
   "name": "python3"
  },
  "language_info": {
   "codemirror_mode": {
    "name": "ipython",
    "version": 3
   },
   "file_extension": ".py",
   "mimetype": "text/x-python",
   "name": "python",
   "nbconvert_exporter": "python",
   "pygments_lexer": "ipython3",
   "version": "3.10.9"
  }
 },
 "nbformat": 4,
 "nbformat_minor": 5
}
