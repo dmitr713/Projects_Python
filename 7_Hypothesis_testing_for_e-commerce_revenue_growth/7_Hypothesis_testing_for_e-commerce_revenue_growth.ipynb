{
 "cells": [
  {
   "cell_type": "markdown",
   "metadata": {},
   "source": [
    "\n",
    "# Проверка гипотез для увеличения выручки интернет-магазина "
   ]
  },
  {
   "cell_type": "markdown",
   "metadata": {},
   "source": [
    "---\n",
    "## Цель проекта"
   ]
  },
  {
   "cell_type": "markdown",
   "metadata": {},
   "source": [
    "Проведение А/В теста с целью увеличения выручки интернет-магазина."
   ]
  },
  {
   "cell_type": "markdown",
   "metadata": {},
   "source": [
    "---\n",
    "## Задачи проекта"
   ]
  },
  {
   "cell_type": "markdown",
   "metadata": {},
   "source": [
    "1. Приоритизация гипотез для увеличения выручки интернет-магазина;\n",
    "2. Проведение А/В теста и анализ его результатов"
   ]
  },
  {
   "cell_type": "markdown",
   "metadata": {},
   "source": [
    "---\n",
    "## План"
   ]
  },
  {
   "cell_type": "markdown",
   "metadata": {},
   "source": [
    "1. Подготовка данных;\n",
    "2. Приоритизация гипотез;\n",
    "3. Анализ А/В теста;\n",
    "4. Анализ кумулятивных метрик;\n",
    "5. Анализ аномальных значений;\n",
    "6. Принятие решений по результатам А/В теста."
   ]
  },
  {
   "cell_type": "markdown",
   "metadata": {},
   "source": [
    "---\n",
    "## Описание данных"
   ]
  },
  {
   "cell_type": "markdown",
   "metadata": {},
   "source": [
    "Данные для первой части\\\n",
    "Файл /datasets/hypothesis.csv.\n",
    "- Hypothesis — краткое описание гипотезы;\n",
    "- Reach — охват пользователей по 10-балльной шкале;\n",
    "- Impact — влияние на пользователей по 10-балльной шкале;\n",
    "- Confidence — уверенность в гипотезе по 10-балльной шкале;\n",
    "- Efforts — затраты ресурсов на проверку гипотезы по 10-балльной шкале. Чем больше значение Efforts, тем дороже проверка гипотезы.\n",
    "\n",
    "Данные для второй части\\\n",
    "Файл /datasets/orders.csv.\n",
    "- transactionId — идентификатор заказа;\n",
    "- visitorId — идентификатор пользователя, совершившего заказ;\n",
    "- date — дата, когда был совершён заказ;\n",
    "- revenue — выручка заказа;\n",
    "- group — группа A/B-теста, в которую попал заказ.\n",
    "\n",
    "Файл /datasets/visitors.csv.\n",
    "- date — дата;\n",
    "- group — группа A/B-теста;\n",
    "- visitors — количество пользователей в указанную дату в указанной группе A/B-теста\n"
   ]
  },
  {
   "cell_type": "markdown",
   "metadata": {},
   "source": [
    "---\n",
    "## Загрузка и предобработка данных"
   ]
  },
  {
   "cell_type": "code",
   "execution_count": 10,
   "metadata": {},
   "outputs": [],
   "source": [
    "# импорт библиотек\n",
    "import pandas as pd\n",
    "import datetime as dt\n",
    "import numpy as np\n",
    "import matplotlib.pyplot as plt\n",
    "from pandas.plotting import register_matplotlib_converters\n",
    "import warnings\n",
    "import scipy.stats as stats"
   ]
  },
  {
   "cell_type": "code",
   "execution_count": 11,
   "metadata": {},
   "outputs": [],
   "source": [
    "# загрузка файлов\n",
    "try:\n",
    "    hypothesis, orders, visitors = (\n",
    "        pd.read_csv('/datasets/hypothesis.csv'),\n",
    "        pd.read_csv('/datasets/orders.csv'),\n",
    "        pd.read_csv('/datasets/visitors.csv'))\n",
    "except:\n",
    "     hypothesis, orders, visitors = (\n",
    "        pd.read_csv('https://code.s3.yandex.net/datasets/hypothesis.csv'),\n",
    "        pd.read_csv('https://code.s3.yandex.net/datasets/orders.csv'),\n",
    "        pd.read_csv('https://code.s3.yandex.net/datasets/visitors.csv'))"
   ]
  },
  {
   "cell_type": "code",
   "execution_count": 12,
   "metadata": {},
   "outputs": [],
   "source": [
    "# напишем функцию для изучения основных характеристик датафрейма\n",
    "def df_study(df):\n",
    "      \n",
    "    # изучим начало и конец выборки\n",
    "    display(df.head(10), df.tail(10))\n",
    "\n",
    "    # изучим информацию о датафрейме\n",
    "    display(df.info())\n",
    "    \n",
    "    # изучим статистические показатели\n",
    "    display(df.describe())\n",
    "    \n",
    "    print('-'*50)\n",
    "    # изучим количество строк и столбцов\n",
    "    print('Количество строк и столбцов:', df.shape)   \n",
    "\n",
    "    print('-'*50)\n",
    "    # посчитаем количество явных дубликатов\n",
    "    dubl = df.duplicated().sum()\n",
    "    print('Количество явных дубликатов:' , dubl)\n",
    "    \n",
    "    print('-'*50)\n",
    "    # посчитаем количество пропусков\n",
    "    gap = df.isna().sum()\n",
    "    print('Количество пропусков:', gap)\n",
    "    \n",
    "    # зададим масимальную ширину столбца\n",
    "    pd.set_option('max_colwidth', 100) "
   ]
  },
  {
   "cell_type": "markdown",
   "metadata": {},
   "source": [
    "---\n",
    "### Изучение и предобработка датасета hypothesis"
   ]
  },
  {
   "cell_type": "code",
   "execution_count": 13,
   "metadata": {},
   "outputs": [
    {
     "data": {
      "text/html": [
       "<div>\n",
       "<style scoped>\n",
       "    .dataframe tbody tr th:only-of-type {\n",
       "        vertical-align: middle;\n",
       "    }\n",
       "\n",
       "    .dataframe tbody tr th {\n",
       "        vertical-align: top;\n",
       "    }\n",
       "\n",
       "    .dataframe thead th {\n",
       "        text-align: right;\n",
       "    }\n",
       "</style>\n",
       "<table border=\"1\" class=\"dataframe\">\n",
       "  <thead>\n",
       "    <tr style=\"text-align: right;\">\n",
       "      <th></th>\n",
       "      <th>Hypothesis</th>\n",
       "      <th>Reach</th>\n",
       "      <th>Impact</th>\n",
       "      <th>Confidence</th>\n",
       "      <th>Efforts</th>\n",
       "    </tr>\n",
       "  </thead>\n",
       "  <tbody>\n",
       "    <tr>\n",
       "      <th>0</th>\n",
       "      <td>Добавить два новых канала привлечения трафика,...</td>\n",
       "      <td>3</td>\n",
       "      <td>10</td>\n",
       "      <td>8</td>\n",
       "      <td>6</td>\n",
       "    </tr>\n",
       "    <tr>\n",
       "      <th>1</th>\n",
       "      <td>Запустить собственную службу доставки, что сок...</td>\n",
       "      <td>2</td>\n",
       "      <td>5</td>\n",
       "      <td>4</td>\n",
       "      <td>10</td>\n",
       "    </tr>\n",
       "    <tr>\n",
       "      <th>2</th>\n",
       "      <td>Добавить блоки рекомендаций товаров на сайт ин...</td>\n",
       "      <td>8</td>\n",
       "      <td>3</td>\n",
       "      <td>7</td>\n",
       "      <td>3</td>\n",
       "    </tr>\n",
       "    <tr>\n",
       "      <th>3</th>\n",
       "      <td>Изменить структура категорий, что увеличит кон...</td>\n",
       "      <td>8</td>\n",
       "      <td>3</td>\n",
       "      <td>3</td>\n",
       "      <td>8</td>\n",
       "    </tr>\n",
       "    <tr>\n",
       "      <th>4</th>\n",
       "      <td>Изменить цвет фона главной страницы, чтобы уве...</td>\n",
       "      <td>3</td>\n",
       "      <td>1</td>\n",
       "      <td>1</td>\n",
       "      <td>1</td>\n",
       "    </tr>\n",
       "    <tr>\n",
       "      <th>5</th>\n",
       "      <td>Добавить страницу отзывов клиентов о магазине,...</td>\n",
       "      <td>3</td>\n",
       "      <td>2</td>\n",
       "      <td>2</td>\n",
       "      <td>3</td>\n",
       "    </tr>\n",
       "    <tr>\n",
       "      <th>6</th>\n",
       "      <td>Показать на главной странице баннеры с актуаль...</td>\n",
       "      <td>5</td>\n",
       "      <td>3</td>\n",
       "      <td>8</td>\n",
       "      <td>3</td>\n",
       "    </tr>\n",
       "    <tr>\n",
       "      <th>7</th>\n",
       "      <td>Добавить форму подписки на все основные страни...</td>\n",
       "      <td>10</td>\n",
       "      <td>7</td>\n",
       "      <td>8</td>\n",
       "      <td>5</td>\n",
       "    </tr>\n",
       "    <tr>\n",
       "      <th>8</th>\n",
       "      <td>Запустить акцию, дающую скидку на товар в день...</td>\n",
       "      <td>1</td>\n",
       "      <td>9</td>\n",
       "      <td>9</td>\n",
       "      <td>5</td>\n",
       "    </tr>\n",
       "  </tbody>\n",
       "</table>\n",
       "</div>"
      ],
      "text/plain": [
       "                                          Hypothesis  Reach  Impact  \\\n",
       "0  Добавить два новых канала привлечения трафика,...      3      10   \n",
       "1  Запустить собственную службу доставки, что сок...      2       5   \n",
       "2  Добавить блоки рекомендаций товаров на сайт ин...      8       3   \n",
       "3  Изменить структура категорий, что увеличит кон...      8       3   \n",
       "4  Изменить цвет фона главной страницы, чтобы уве...      3       1   \n",
       "5  Добавить страницу отзывов клиентов о магазине,...      3       2   \n",
       "6  Показать на главной странице баннеры с актуаль...      5       3   \n",
       "7  Добавить форму подписки на все основные страни...     10       7   \n",
       "8  Запустить акцию, дающую скидку на товар в день...      1       9   \n",
       "\n",
       "   Confidence  Efforts  \n",
       "0           8        6  \n",
       "1           4       10  \n",
       "2           7        3  \n",
       "3           3        8  \n",
       "4           1        1  \n",
       "5           2        3  \n",
       "6           8        3  \n",
       "7           8        5  \n",
       "8           9        5  "
      ]
     },
     "metadata": {},
     "output_type": "display_data"
    },
    {
     "data": {
      "text/html": [
       "<div>\n",
       "<style scoped>\n",
       "    .dataframe tbody tr th:only-of-type {\n",
       "        vertical-align: middle;\n",
       "    }\n",
       "\n",
       "    .dataframe tbody tr th {\n",
       "        vertical-align: top;\n",
       "    }\n",
       "\n",
       "    .dataframe thead th {\n",
       "        text-align: right;\n",
       "    }\n",
       "</style>\n",
       "<table border=\"1\" class=\"dataframe\">\n",
       "  <thead>\n",
       "    <tr style=\"text-align: right;\">\n",
       "      <th></th>\n",
       "      <th>Hypothesis</th>\n",
       "      <th>Reach</th>\n",
       "      <th>Impact</th>\n",
       "      <th>Confidence</th>\n",
       "      <th>Efforts</th>\n",
       "    </tr>\n",
       "  </thead>\n",
       "  <tbody>\n",
       "    <tr>\n",
       "      <th>0</th>\n",
       "      <td>Добавить два новых канала привлечения трафика,...</td>\n",
       "      <td>3</td>\n",
       "      <td>10</td>\n",
       "      <td>8</td>\n",
       "      <td>6</td>\n",
       "    </tr>\n",
       "    <tr>\n",
       "      <th>1</th>\n",
       "      <td>Запустить собственную службу доставки, что сок...</td>\n",
       "      <td>2</td>\n",
       "      <td>5</td>\n",
       "      <td>4</td>\n",
       "      <td>10</td>\n",
       "    </tr>\n",
       "    <tr>\n",
       "      <th>2</th>\n",
       "      <td>Добавить блоки рекомендаций товаров на сайт ин...</td>\n",
       "      <td>8</td>\n",
       "      <td>3</td>\n",
       "      <td>7</td>\n",
       "      <td>3</td>\n",
       "    </tr>\n",
       "    <tr>\n",
       "      <th>3</th>\n",
       "      <td>Изменить структура категорий, что увеличит кон...</td>\n",
       "      <td>8</td>\n",
       "      <td>3</td>\n",
       "      <td>3</td>\n",
       "      <td>8</td>\n",
       "    </tr>\n",
       "    <tr>\n",
       "      <th>4</th>\n",
       "      <td>Изменить цвет фона главной страницы, чтобы уве...</td>\n",
       "      <td>3</td>\n",
       "      <td>1</td>\n",
       "      <td>1</td>\n",
       "      <td>1</td>\n",
       "    </tr>\n",
       "    <tr>\n",
       "      <th>5</th>\n",
       "      <td>Добавить страницу отзывов клиентов о магазине,...</td>\n",
       "      <td>3</td>\n",
       "      <td>2</td>\n",
       "      <td>2</td>\n",
       "      <td>3</td>\n",
       "    </tr>\n",
       "    <tr>\n",
       "      <th>6</th>\n",
       "      <td>Показать на главной странице баннеры с актуаль...</td>\n",
       "      <td>5</td>\n",
       "      <td>3</td>\n",
       "      <td>8</td>\n",
       "      <td>3</td>\n",
       "    </tr>\n",
       "    <tr>\n",
       "      <th>7</th>\n",
       "      <td>Добавить форму подписки на все основные страни...</td>\n",
       "      <td>10</td>\n",
       "      <td>7</td>\n",
       "      <td>8</td>\n",
       "      <td>5</td>\n",
       "    </tr>\n",
       "    <tr>\n",
       "      <th>8</th>\n",
       "      <td>Запустить акцию, дающую скидку на товар в день...</td>\n",
       "      <td>1</td>\n",
       "      <td>9</td>\n",
       "      <td>9</td>\n",
       "      <td>5</td>\n",
       "    </tr>\n",
       "  </tbody>\n",
       "</table>\n",
       "</div>"
      ],
      "text/plain": [
       "                                          Hypothesis  Reach  Impact  \\\n",
       "0  Добавить два новых канала привлечения трафика,...      3      10   \n",
       "1  Запустить собственную службу доставки, что сок...      2       5   \n",
       "2  Добавить блоки рекомендаций товаров на сайт ин...      8       3   \n",
       "3  Изменить структура категорий, что увеличит кон...      8       3   \n",
       "4  Изменить цвет фона главной страницы, чтобы уве...      3       1   \n",
       "5  Добавить страницу отзывов клиентов о магазине,...      3       2   \n",
       "6  Показать на главной странице баннеры с актуаль...      5       3   \n",
       "7  Добавить форму подписки на все основные страни...     10       7   \n",
       "8  Запустить акцию, дающую скидку на товар в день...      1       9   \n",
       "\n",
       "   Confidence  Efforts  \n",
       "0           8        6  \n",
       "1           4       10  \n",
       "2           7        3  \n",
       "3           3        8  \n",
       "4           1        1  \n",
       "5           2        3  \n",
       "6           8        3  \n",
       "7           8        5  \n",
       "8           9        5  "
      ]
     },
     "metadata": {},
     "output_type": "display_data"
    },
    {
     "name": "stdout",
     "output_type": "stream",
     "text": [
      "<class 'pandas.core.frame.DataFrame'>\n",
      "RangeIndex: 9 entries, 0 to 8\n",
      "Data columns (total 5 columns):\n",
      " #   Column      Non-Null Count  Dtype \n",
      "---  ------      --------------  ----- \n",
      " 0   Hypothesis  9 non-null      object\n",
      " 1   Reach       9 non-null      int64 \n",
      " 2   Impact      9 non-null      int64 \n",
      " 3   Confidence  9 non-null      int64 \n",
      " 4   Efforts     9 non-null      int64 \n",
      "dtypes: int64(4), object(1)\n",
      "memory usage: 488.0+ bytes\n"
     ]
    },
    {
     "data": {
      "text/plain": [
       "None"
      ]
     },
     "metadata": {},
     "output_type": "display_data"
    },
    {
     "data": {
      "text/html": [
       "<div>\n",
       "<style scoped>\n",
       "    .dataframe tbody tr th:only-of-type {\n",
       "        vertical-align: middle;\n",
       "    }\n",
       "\n",
       "    .dataframe tbody tr th {\n",
       "        vertical-align: top;\n",
       "    }\n",
       "\n",
       "    .dataframe thead th {\n",
       "        text-align: right;\n",
       "    }\n",
       "</style>\n",
       "<table border=\"1\" class=\"dataframe\">\n",
       "  <thead>\n",
       "    <tr style=\"text-align: right;\">\n",
       "      <th></th>\n",
       "      <th>Reach</th>\n",
       "      <th>Impact</th>\n",
       "      <th>Confidence</th>\n",
       "      <th>Efforts</th>\n",
       "    </tr>\n",
       "  </thead>\n",
       "  <tbody>\n",
       "    <tr>\n",
       "      <th>count</th>\n",
       "      <td>9.000000</td>\n",
       "      <td>9.000000</td>\n",
       "      <td>9.000000</td>\n",
       "      <td>9.000000</td>\n",
       "    </tr>\n",
       "    <tr>\n",
       "      <th>mean</th>\n",
       "      <td>4.777778</td>\n",
       "      <td>4.777778</td>\n",
       "      <td>5.555556</td>\n",
       "      <td>4.888889</td>\n",
       "    </tr>\n",
       "    <tr>\n",
       "      <th>std</th>\n",
       "      <td>3.153481</td>\n",
       "      <td>3.192874</td>\n",
       "      <td>3.045944</td>\n",
       "      <td>2.803767</td>\n",
       "    </tr>\n",
       "    <tr>\n",
       "      <th>min</th>\n",
       "      <td>1.000000</td>\n",
       "      <td>1.000000</td>\n",
       "      <td>1.000000</td>\n",
       "      <td>1.000000</td>\n",
       "    </tr>\n",
       "    <tr>\n",
       "      <th>25%</th>\n",
       "      <td>3.000000</td>\n",
       "      <td>3.000000</td>\n",
       "      <td>3.000000</td>\n",
       "      <td>3.000000</td>\n",
       "    </tr>\n",
       "    <tr>\n",
       "      <th>50%</th>\n",
       "      <td>3.000000</td>\n",
       "      <td>3.000000</td>\n",
       "      <td>7.000000</td>\n",
       "      <td>5.000000</td>\n",
       "    </tr>\n",
       "    <tr>\n",
       "      <th>75%</th>\n",
       "      <td>8.000000</td>\n",
       "      <td>7.000000</td>\n",
       "      <td>8.000000</td>\n",
       "      <td>6.000000</td>\n",
       "    </tr>\n",
       "    <tr>\n",
       "      <th>max</th>\n",
       "      <td>10.000000</td>\n",
       "      <td>10.000000</td>\n",
       "      <td>9.000000</td>\n",
       "      <td>10.000000</td>\n",
       "    </tr>\n",
       "  </tbody>\n",
       "</table>\n",
       "</div>"
      ],
      "text/plain": [
       "           Reach     Impact  Confidence    Efforts\n",
       "count   9.000000   9.000000    9.000000   9.000000\n",
       "mean    4.777778   4.777778    5.555556   4.888889\n",
       "std     3.153481   3.192874    3.045944   2.803767\n",
       "min     1.000000   1.000000    1.000000   1.000000\n",
       "25%     3.000000   3.000000    3.000000   3.000000\n",
       "50%     3.000000   3.000000    7.000000   5.000000\n",
       "75%     8.000000   7.000000    8.000000   6.000000\n",
       "max    10.000000  10.000000    9.000000  10.000000"
      ]
     },
     "metadata": {},
     "output_type": "display_data"
    },
    {
     "name": "stdout",
     "output_type": "stream",
     "text": [
      "--------------------------------------------------\n",
      "Количество строк и столбцов: (9, 5)\n",
      "--------------------------------------------------\n",
      "Количество явных дубликатов: 0\n",
      "--------------------------------------------------\n",
      "Количество пропусков: Hypothesis    0\n",
      "Reach         0\n",
      "Impact        0\n",
      "Confidence    0\n",
      "Efforts       0\n",
      "dtype: int64\n"
     ]
    }
   ],
   "source": [
    "# изучим основную информацию\n",
    "df_study(hypothesis)"
   ]
  },
  {
   "cell_type": "markdown",
   "metadata": {},
   "source": [
    "Значения в таблице находятся в верных пределах, тип данных корректен. Дубликаты и пропуски отсутствуют. В процессе предобработки данных приведем названия столбцов к нижнему регистру."
   ]
  },
  {
   "cell_type": "code",
   "execution_count": 14,
   "metadata": {},
   "outputs": [
    {
     "name": "stdout",
     "output_type": "stream",
     "text": [
      "<class 'pandas.core.frame.DataFrame'>\n",
      "RangeIndex: 9 entries, 0 to 8\n",
      "Data columns (total 5 columns):\n",
      " #   Column      Non-Null Count  Dtype \n",
      "---  ------      --------------  ----- \n",
      " 0   hypothesis  9 non-null      object\n",
      " 1   reach       9 non-null      int64 \n",
      " 2   impact      9 non-null      int64 \n",
      " 3   confidence  9 non-null      int64 \n",
      " 4   efforts     9 non-null      int64 \n",
      "dtypes: int64(4), object(1)\n",
      "memory usage: 488.0+ bytes\n"
     ]
    }
   ],
   "source": [
    "# приведем названия столбцов к нижнему регистру\n",
    "hypothesis.columns = hypothesis.columns.str.lower()\n",
    "\n",
    "# проверка\n",
    "hypothesis.info()"
   ]
  },
  {
   "cell_type": "markdown",
   "metadata": {},
   "source": [
    "---\n",
    "### Изучение и предобработка датасета orders"
   ]
  },
  {
   "cell_type": "code",
   "execution_count": 15,
   "metadata": {},
   "outputs": [
    {
     "data": {
      "text/html": [
       "<div>\n",
       "<style scoped>\n",
       "    .dataframe tbody tr th:only-of-type {\n",
       "        vertical-align: middle;\n",
       "    }\n",
       "\n",
       "    .dataframe tbody tr th {\n",
       "        vertical-align: top;\n",
       "    }\n",
       "\n",
       "    .dataframe thead th {\n",
       "        text-align: right;\n",
       "    }\n",
       "</style>\n",
       "<table border=\"1\" class=\"dataframe\">\n",
       "  <thead>\n",
       "    <tr style=\"text-align: right;\">\n",
       "      <th></th>\n",
       "      <th>transactionId</th>\n",
       "      <th>visitorId</th>\n",
       "      <th>date</th>\n",
       "      <th>revenue</th>\n",
       "      <th>group</th>\n",
       "    </tr>\n",
       "  </thead>\n",
       "  <tbody>\n",
       "    <tr>\n",
       "      <th>0</th>\n",
       "      <td>3667963787</td>\n",
       "      <td>3312258926</td>\n",
       "      <td>2019-08-15</td>\n",
       "      <td>1650</td>\n",
       "      <td>B</td>\n",
       "    </tr>\n",
       "    <tr>\n",
       "      <th>1</th>\n",
       "      <td>2804400009</td>\n",
       "      <td>3642806036</td>\n",
       "      <td>2019-08-15</td>\n",
       "      <td>730</td>\n",
       "      <td>B</td>\n",
       "    </tr>\n",
       "    <tr>\n",
       "      <th>2</th>\n",
       "      <td>2961555356</td>\n",
       "      <td>4069496402</td>\n",
       "      <td>2019-08-15</td>\n",
       "      <td>400</td>\n",
       "      <td>A</td>\n",
       "    </tr>\n",
       "    <tr>\n",
       "      <th>3</th>\n",
       "      <td>3797467345</td>\n",
       "      <td>1196621759</td>\n",
       "      <td>2019-08-15</td>\n",
       "      <td>9759</td>\n",
       "      <td>B</td>\n",
       "    </tr>\n",
       "    <tr>\n",
       "      <th>4</th>\n",
       "      <td>2282983706</td>\n",
       "      <td>2322279887</td>\n",
       "      <td>2019-08-15</td>\n",
       "      <td>2308</td>\n",
       "      <td>B</td>\n",
       "    </tr>\n",
       "    <tr>\n",
       "      <th>5</th>\n",
       "      <td>182168103</td>\n",
       "      <td>935554773</td>\n",
       "      <td>2019-08-15</td>\n",
       "      <td>2210</td>\n",
       "      <td>B</td>\n",
       "    </tr>\n",
       "    <tr>\n",
       "      <th>6</th>\n",
       "      <td>398296753</td>\n",
       "      <td>2900797465</td>\n",
       "      <td>2019-08-15</td>\n",
       "      <td>1860</td>\n",
       "      <td>B</td>\n",
       "    </tr>\n",
       "    <tr>\n",
       "      <th>7</th>\n",
       "      <td>2626614568</td>\n",
       "      <td>78758296</td>\n",
       "      <td>2019-08-15</td>\n",
       "      <td>1044</td>\n",
       "      <td>A</td>\n",
       "    </tr>\n",
       "    <tr>\n",
       "      <th>8</th>\n",
       "      <td>1576988021</td>\n",
       "      <td>295230930</td>\n",
       "      <td>2019-08-15</td>\n",
       "      <td>13710</td>\n",
       "      <td>A</td>\n",
       "    </tr>\n",
       "    <tr>\n",
       "      <th>9</th>\n",
       "      <td>1506739906</td>\n",
       "      <td>1882260405</td>\n",
       "      <td>2019-08-15</td>\n",
       "      <td>1855</td>\n",
       "      <td>B</td>\n",
       "    </tr>\n",
       "  </tbody>\n",
       "</table>\n",
       "</div>"
      ],
      "text/plain": [
       "   transactionId   visitorId        date  revenue group\n",
       "0     3667963787  3312258926  2019-08-15     1650     B\n",
       "1     2804400009  3642806036  2019-08-15      730     B\n",
       "2     2961555356  4069496402  2019-08-15      400     A\n",
       "3     3797467345  1196621759  2019-08-15     9759     B\n",
       "4     2282983706  2322279887  2019-08-15     2308     B\n",
       "5      182168103   935554773  2019-08-15     2210     B\n",
       "6      398296753  2900797465  2019-08-15     1860     B\n",
       "7     2626614568    78758296  2019-08-15     1044     A\n",
       "8     1576988021   295230930  2019-08-15    13710     A\n",
       "9     1506739906  1882260405  2019-08-15     1855     B"
      ]
     },
     "metadata": {},
     "output_type": "display_data"
    },
    {
     "data": {
      "text/html": [
       "<div>\n",
       "<style scoped>\n",
       "    .dataframe tbody tr th:only-of-type {\n",
       "        vertical-align: middle;\n",
       "    }\n",
       "\n",
       "    .dataframe tbody tr th {\n",
       "        vertical-align: top;\n",
       "    }\n",
       "\n",
       "    .dataframe thead th {\n",
       "        text-align: right;\n",
       "    }\n",
       "</style>\n",
       "<table border=\"1\" class=\"dataframe\">\n",
       "  <thead>\n",
       "    <tr style=\"text-align: right;\">\n",
       "      <th></th>\n",
       "      <th>transactionId</th>\n",
       "      <th>visitorId</th>\n",
       "      <th>date</th>\n",
       "      <th>revenue</th>\n",
       "      <th>group</th>\n",
       "    </tr>\n",
       "  </thead>\n",
       "  <tbody>\n",
       "    <tr>\n",
       "      <th>1187</th>\n",
       "      <td>2274188238</td>\n",
       "      <td>132143192</td>\n",
       "      <td>2019-08-14</td>\n",
       "      <td>750</td>\n",
       "      <td>A</td>\n",
       "    </tr>\n",
       "    <tr>\n",
       "      <th>1188</th>\n",
       "      <td>1692103379</td>\n",
       "      <td>1022829655</td>\n",
       "      <td>2019-08-14</td>\n",
       "      <td>112</td>\n",
       "      <td>A</td>\n",
       "    </tr>\n",
       "    <tr>\n",
       "      <th>1189</th>\n",
       "      <td>4082620617</td>\n",
       "      <td>393266494</td>\n",
       "      <td>2019-08-14</td>\n",
       "      <td>31550</td>\n",
       "      <td>B</td>\n",
       "    </tr>\n",
       "    <tr>\n",
       "      <th>1190</th>\n",
       "      <td>38478481</td>\n",
       "      <td>1197745035</td>\n",
       "      <td>2019-08-14</td>\n",
       "      <td>8600</td>\n",
       "      <td>B</td>\n",
       "    </tr>\n",
       "    <tr>\n",
       "      <th>1191</th>\n",
       "      <td>3592955527</td>\n",
       "      <td>608641596</td>\n",
       "      <td>2019-08-14</td>\n",
       "      <td>16490</td>\n",
       "      <td>B</td>\n",
       "    </tr>\n",
       "    <tr>\n",
       "      <th>1192</th>\n",
       "      <td>2662137336</td>\n",
       "      <td>3733762160</td>\n",
       "      <td>2019-08-14</td>\n",
       "      <td>6490</td>\n",
       "      <td>B</td>\n",
       "    </tr>\n",
       "    <tr>\n",
       "      <th>1193</th>\n",
       "      <td>2203539145</td>\n",
       "      <td>370388673</td>\n",
       "      <td>2019-08-14</td>\n",
       "      <td>3190</td>\n",
       "      <td>A</td>\n",
       "    </tr>\n",
       "    <tr>\n",
       "      <th>1194</th>\n",
       "      <td>1807773912</td>\n",
       "      <td>573423106</td>\n",
       "      <td>2019-08-14</td>\n",
       "      <td>10550</td>\n",
       "      <td>A</td>\n",
       "    </tr>\n",
       "    <tr>\n",
       "      <th>1195</th>\n",
       "      <td>1947021204</td>\n",
       "      <td>1614305549</td>\n",
       "      <td>2019-08-14</td>\n",
       "      <td>100</td>\n",
       "      <td>A</td>\n",
       "    </tr>\n",
       "    <tr>\n",
       "      <th>1196</th>\n",
       "      <td>3936777065</td>\n",
       "      <td>2108080724</td>\n",
       "      <td>2019-08-15</td>\n",
       "      <td>202740</td>\n",
       "      <td>B</td>\n",
       "    </tr>\n",
       "  </tbody>\n",
       "</table>\n",
       "</div>"
      ],
      "text/plain": [
       "      transactionId   visitorId        date  revenue group\n",
       "1187     2274188238   132143192  2019-08-14      750     A\n",
       "1188     1692103379  1022829655  2019-08-14      112     A\n",
       "1189     4082620617   393266494  2019-08-14    31550     B\n",
       "1190       38478481  1197745035  2019-08-14     8600     B\n",
       "1191     3592955527   608641596  2019-08-14    16490     B\n",
       "1192     2662137336  3733762160  2019-08-14     6490     B\n",
       "1193     2203539145   370388673  2019-08-14     3190     A\n",
       "1194     1807773912   573423106  2019-08-14    10550     A\n",
       "1195     1947021204  1614305549  2019-08-14      100     A\n",
       "1196     3936777065  2108080724  2019-08-15   202740     B"
      ]
     },
     "metadata": {},
     "output_type": "display_data"
    },
    {
     "name": "stdout",
     "output_type": "stream",
     "text": [
      "<class 'pandas.core.frame.DataFrame'>\n",
      "RangeIndex: 1197 entries, 0 to 1196\n",
      "Data columns (total 5 columns):\n",
      " #   Column         Non-Null Count  Dtype \n",
      "---  ------         --------------  ----- \n",
      " 0   transactionId  1197 non-null   int64 \n",
      " 1   visitorId      1197 non-null   int64 \n",
      " 2   date           1197 non-null   object\n",
      " 3   revenue        1197 non-null   int64 \n",
      " 4   group          1197 non-null   object\n",
      "dtypes: int64(3), object(2)\n",
      "memory usage: 46.9+ KB\n"
     ]
    },
    {
     "data": {
      "text/plain": [
       "None"
      ]
     },
     "metadata": {},
     "output_type": "display_data"
    },
    {
     "data": {
      "text/html": [
       "<div>\n",
       "<style scoped>\n",
       "    .dataframe tbody tr th:only-of-type {\n",
       "        vertical-align: middle;\n",
       "    }\n",
       "\n",
       "    .dataframe tbody tr th {\n",
       "        vertical-align: top;\n",
       "    }\n",
       "\n",
       "    .dataframe thead th {\n",
       "        text-align: right;\n",
       "    }\n",
       "</style>\n",
       "<table border=\"1\" class=\"dataframe\">\n",
       "  <thead>\n",
       "    <tr style=\"text-align: right;\">\n",
       "      <th></th>\n",
       "      <th>transactionId</th>\n",
       "      <th>visitorId</th>\n",
       "      <th>revenue</th>\n",
       "    </tr>\n",
       "  </thead>\n",
       "  <tbody>\n",
       "    <tr>\n",
       "      <th>count</th>\n",
       "      <td>1.197000e+03</td>\n",
       "      <td>1.197000e+03</td>\n",
       "      <td>1.197000e+03</td>\n",
       "    </tr>\n",
       "    <tr>\n",
       "      <th>mean</th>\n",
       "      <td>2.155621e+09</td>\n",
       "      <td>2.165960e+09</td>\n",
       "      <td>8.348006e+03</td>\n",
       "    </tr>\n",
       "    <tr>\n",
       "      <th>std</th>\n",
       "      <td>1.229085e+09</td>\n",
       "      <td>1.236014e+09</td>\n",
       "      <td>3.919113e+04</td>\n",
       "    </tr>\n",
       "    <tr>\n",
       "      <th>min</th>\n",
       "      <td>1.062393e+06</td>\n",
       "      <td>5.114589e+06</td>\n",
       "      <td>5.000000e+01</td>\n",
       "    </tr>\n",
       "    <tr>\n",
       "      <th>25%</th>\n",
       "      <td>1.166776e+09</td>\n",
       "      <td>1.111826e+09</td>\n",
       "      <td>1.220000e+03</td>\n",
       "    </tr>\n",
       "    <tr>\n",
       "      <th>50%</th>\n",
       "      <td>2.145194e+09</td>\n",
       "      <td>2.217985e+09</td>\n",
       "      <td>2.978000e+03</td>\n",
       "    </tr>\n",
       "    <tr>\n",
       "      <th>75%</th>\n",
       "      <td>3.237740e+09</td>\n",
       "      <td>3.177606e+09</td>\n",
       "      <td>8.290000e+03</td>\n",
       "    </tr>\n",
       "    <tr>\n",
       "      <th>max</th>\n",
       "      <td>4.293856e+09</td>\n",
       "      <td>4.283872e+09</td>\n",
       "      <td>1.294500e+06</td>\n",
       "    </tr>\n",
       "  </tbody>\n",
       "</table>\n",
       "</div>"
      ],
      "text/plain": [
       "       transactionId     visitorId       revenue\n",
       "count   1.197000e+03  1.197000e+03  1.197000e+03\n",
       "mean    2.155621e+09  2.165960e+09  8.348006e+03\n",
       "std     1.229085e+09  1.236014e+09  3.919113e+04\n",
       "min     1.062393e+06  5.114589e+06  5.000000e+01\n",
       "25%     1.166776e+09  1.111826e+09  1.220000e+03\n",
       "50%     2.145194e+09  2.217985e+09  2.978000e+03\n",
       "75%     3.237740e+09  3.177606e+09  8.290000e+03\n",
       "max     4.293856e+09  4.283872e+09  1.294500e+06"
      ]
     },
     "metadata": {},
     "output_type": "display_data"
    },
    {
     "name": "stdout",
     "output_type": "stream",
     "text": [
      "--------------------------------------------------\n",
      "Количество строк и столбцов: (1197, 5)\n",
      "--------------------------------------------------\n",
      "Количество явных дубликатов: 0\n",
      "--------------------------------------------------\n",
      "Количество пропусков: transactionId    0\n",
      "visitorId        0\n",
      "date             0\n",
      "revenue          0\n",
      "group            0\n",
      "dtype: int64\n"
     ]
    }
   ],
   "source": [
    "# изучим основную информацию\n",
    "df_study(orders)"
   ]
  },
  {
   "cell_type": "markdown",
   "metadata": {},
   "source": [
    "Необходимо привести названия некоторых стобцов к корректному виду (прыгающий регистр) и изменить тип данных в столбце с датой заказа."
   ]
  },
  {
   "cell_type": "code",
   "execution_count": 16,
   "metadata": {},
   "outputs": [
    {
     "name": "stdout",
     "output_type": "stream",
     "text": [
      "<class 'pandas.core.frame.DataFrame'>\n",
      "RangeIndex: 1197 entries, 0 to 1196\n",
      "Data columns (total 5 columns):\n",
      " #   Column          Non-Null Count  Dtype         \n",
      "---  ------          --------------  -----         \n",
      " 0   transaction_id  1197 non-null   int64         \n",
      " 1   visitor_id      1197 non-null   int64         \n",
      " 2   date            1197 non-null   datetime64[ns]\n",
      " 3   revenue         1197 non-null   int64         \n",
      " 4   group           1197 non-null   object        \n",
      "dtypes: datetime64[ns](1), int64(3), object(1)\n",
      "memory usage: 46.9+ KB\n"
     ]
    }
   ],
   "source": [
    "# переименуем столбцы\n",
    "orders = orders.rename(\n",
    "        columns={\n",
    "            'transactionId':'transaction_id',\n",
    "            'visitorId':'visitor_id'\n",
    "        })\n",
    "\n",
    "# преобразуем данные о времени\n",
    "orders['date'] = orders['date'].map(\n",
    "    lambda x: dt.datetime.strptime(x, '%Y-%m-%d')\n",
    ")\n",
    "\n",
    "# проверка\n",
    "orders.info()"
   ]
  },
  {
   "cell_type": "code",
   "execution_count": 17,
   "metadata": {},
   "outputs": [
    {
     "name": "stdout",
     "output_type": "stream",
     "text": [
      "Минимальная дата совершения заказа: 2019-08-01 00:00:00\n",
      "Максимальная дата совершения заказа: 2019-08-31 00:00:00\n"
     ]
    }
   ],
   "source": [
    "# проверим временной интервал в датасете\n",
    "print('Минимальная дата совершения заказа:', orders['date'].min())\n",
    "print('Максимальная дата совершения заказа:', orders['date'].max())"
   ]
  },
  {
   "cell_type": "code",
   "execution_count": 18,
   "metadata": {},
   "outputs": [
    {
     "data": {
      "text/plain": [
       "B    640\n",
       "A    557\n",
       "Name: group, dtype: int64"
      ]
     },
     "execution_count": 18,
     "metadata": {},
     "output_type": "execute_result"
    }
   ],
   "source": [
    "# проверим уникальные значения в столбце с группа А/В теста и количество заказов в группах\n",
    "orders['group'].value_counts()"
   ]
  },
  {
   "cell_type": "code",
   "execution_count": 19,
   "metadata": {},
   "outputs": [
    {
     "data": {
      "text/html": [
       "<div>\n",
       "<style scoped>\n",
       "    .dataframe tbody tr th:only-of-type {\n",
       "        vertical-align: middle;\n",
       "    }\n",
       "\n",
       "    .dataframe tbody tr th {\n",
       "        vertical-align: top;\n",
       "    }\n",
       "\n",
       "    .dataframe thead th {\n",
       "        text-align: right;\n",
       "    }\n",
       "</style>\n",
       "<table border=\"1\" class=\"dataframe\">\n",
       "  <thead>\n",
       "    <tr style=\"text-align: right;\">\n",
       "      <th></th>\n",
       "      <th>visitor_id</th>\n",
       "    </tr>\n",
       "    <tr>\n",
       "      <th>group</th>\n",
       "      <th></th>\n",
       "    </tr>\n",
       "  </thead>\n",
       "  <tbody>\n",
       "    <tr>\n",
       "      <th>A</th>\n",
       "      <td>503</td>\n",
       "    </tr>\n",
       "    <tr>\n",
       "      <th>B</th>\n",
       "      <td>586</td>\n",
       "    </tr>\n",
       "  </tbody>\n",
       "</table>\n",
       "</div>"
      ],
      "text/plain": [
       "       visitor_id\n",
       "group            \n",
       "A             503\n",
       "B             586"
      ]
     },
     "execution_count": 19,
     "metadata": {},
     "output_type": "execute_result"
    }
   ],
   "source": [
    "# проверим общее количество уникальных пользователей в двух группах\n",
    "orders.groupby('group').agg({'visitor_id' : 'nunique'})"
   ]
  },
  {
   "cell_type": "code",
   "execution_count": 20,
   "metadata": {},
   "outputs": [
    {
     "data": {
      "text/plain": [
       "58"
      ]
     },
     "execution_count": 20,
     "metadata": {},
     "output_type": "execute_result"
    }
   ],
   "source": [
    "# посмторим на количество уникальных пользователей, которые оказались одновременно в двух группах\n",
    "unique_visitors = orders.loc[:, ['visitor_id', 'group']].drop_duplicates().drop(columns=['group'])\n",
    "unique_visitors.visitor_id.duplicated().sum()"
   ]
  },
  {
   "cell_type": "markdown",
   "metadata": {},
   "source": [
    "Заказы были совершены с 1 по 31 августа 2019 г. Наименования групп верные. Количество заказов и уникальных пользователей в группах неравномерное."
   ]
  },
  {
   "cell_type": "markdown",
   "metadata": {},
   "source": [
    "---\n",
    "### Изучение и предобработка датасета visitors"
   ]
  },
  {
   "cell_type": "code",
   "execution_count": 21,
   "metadata": {
    "scrolled": false
   },
   "outputs": [
    {
     "data": {
      "text/html": [
       "<div>\n",
       "<style scoped>\n",
       "    .dataframe tbody tr th:only-of-type {\n",
       "        vertical-align: middle;\n",
       "    }\n",
       "\n",
       "    .dataframe tbody tr th {\n",
       "        vertical-align: top;\n",
       "    }\n",
       "\n",
       "    .dataframe thead th {\n",
       "        text-align: right;\n",
       "    }\n",
       "</style>\n",
       "<table border=\"1\" class=\"dataframe\">\n",
       "  <thead>\n",
       "    <tr style=\"text-align: right;\">\n",
       "      <th></th>\n",
       "      <th>date</th>\n",
       "      <th>group</th>\n",
       "      <th>visitors</th>\n",
       "    </tr>\n",
       "  </thead>\n",
       "  <tbody>\n",
       "    <tr>\n",
       "      <th>0</th>\n",
       "      <td>2019-08-01</td>\n",
       "      <td>A</td>\n",
       "      <td>719</td>\n",
       "    </tr>\n",
       "    <tr>\n",
       "      <th>1</th>\n",
       "      <td>2019-08-02</td>\n",
       "      <td>A</td>\n",
       "      <td>619</td>\n",
       "    </tr>\n",
       "    <tr>\n",
       "      <th>2</th>\n",
       "      <td>2019-08-03</td>\n",
       "      <td>A</td>\n",
       "      <td>507</td>\n",
       "    </tr>\n",
       "    <tr>\n",
       "      <th>3</th>\n",
       "      <td>2019-08-04</td>\n",
       "      <td>A</td>\n",
       "      <td>717</td>\n",
       "    </tr>\n",
       "    <tr>\n",
       "      <th>4</th>\n",
       "      <td>2019-08-05</td>\n",
       "      <td>A</td>\n",
       "      <td>756</td>\n",
       "    </tr>\n",
       "    <tr>\n",
       "      <th>5</th>\n",
       "      <td>2019-08-06</td>\n",
       "      <td>A</td>\n",
       "      <td>667</td>\n",
       "    </tr>\n",
       "    <tr>\n",
       "      <th>6</th>\n",
       "      <td>2019-08-07</td>\n",
       "      <td>A</td>\n",
       "      <td>644</td>\n",
       "    </tr>\n",
       "    <tr>\n",
       "      <th>7</th>\n",
       "      <td>2019-08-08</td>\n",
       "      <td>A</td>\n",
       "      <td>610</td>\n",
       "    </tr>\n",
       "    <tr>\n",
       "      <th>8</th>\n",
       "      <td>2019-08-09</td>\n",
       "      <td>A</td>\n",
       "      <td>617</td>\n",
       "    </tr>\n",
       "    <tr>\n",
       "      <th>9</th>\n",
       "      <td>2019-08-10</td>\n",
       "      <td>A</td>\n",
       "      <td>406</td>\n",
       "    </tr>\n",
       "  </tbody>\n",
       "</table>\n",
       "</div>"
      ],
      "text/plain": [
       "         date group  visitors\n",
       "0  2019-08-01     A       719\n",
       "1  2019-08-02     A       619\n",
       "2  2019-08-03     A       507\n",
       "3  2019-08-04     A       717\n",
       "4  2019-08-05     A       756\n",
       "5  2019-08-06     A       667\n",
       "6  2019-08-07     A       644\n",
       "7  2019-08-08     A       610\n",
       "8  2019-08-09     A       617\n",
       "9  2019-08-10     A       406"
      ]
     },
     "metadata": {},
     "output_type": "display_data"
    },
    {
     "data": {
      "text/html": [
       "<div>\n",
       "<style scoped>\n",
       "    .dataframe tbody tr th:only-of-type {\n",
       "        vertical-align: middle;\n",
       "    }\n",
       "\n",
       "    .dataframe tbody tr th {\n",
       "        vertical-align: top;\n",
       "    }\n",
       "\n",
       "    .dataframe thead th {\n",
       "        text-align: right;\n",
       "    }\n",
       "</style>\n",
       "<table border=\"1\" class=\"dataframe\">\n",
       "  <thead>\n",
       "    <tr style=\"text-align: right;\">\n",
       "      <th></th>\n",
       "      <th>date</th>\n",
       "      <th>group</th>\n",
       "      <th>visitors</th>\n",
       "    </tr>\n",
       "  </thead>\n",
       "  <tbody>\n",
       "    <tr>\n",
       "      <th>52</th>\n",
       "      <td>2019-08-22</td>\n",
       "      <td>B</td>\n",
       "      <td>650</td>\n",
       "    </tr>\n",
       "    <tr>\n",
       "      <th>53</th>\n",
       "      <td>2019-08-23</td>\n",
       "      <td>B</td>\n",
       "      <td>546</td>\n",
       "    </tr>\n",
       "    <tr>\n",
       "      <th>54</th>\n",
       "      <td>2019-08-24</td>\n",
       "      <td>B</td>\n",
       "      <td>378</td>\n",
       "    </tr>\n",
       "    <tr>\n",
       "      <th>55</th>\n",
       "      <td>2019-08-25</td>\n",
       "      <td>B</td>\n",
       "      <td>679</td>\n",
       "    </tr>\n",
       "    <tr>\n",
       "      <th>56</th>\n",
       "      <td>2019-08-26</td>\n",
       "      <td>B</td>\n",
       "      <td>676</td>\n",
       "    </tr>\n",
       "    <tr>\n",
       "      <th>57</th>\n",
       "      <td>2019-08-27</td>\n",
       "      <td>B</td>\n",
       "      <td>720</td>\n",
       "    </tr>\n",
       "    <tr>\n",
       "      <th>58</th>\n",
       "      <td>2019-08-28</td>\n",
       "      <td>B</td>\n",
       "      <td>654</td>\n",
       "    </tr>\n",
       "    <tr>\n",
       "      <th>59</th>\n",
       "      <td>2019-08-29</td>\n",
       "      <td>B</td>\n",
       "      <td>531</td>\n",
       "    </tr>\n",
       "    <tr>\n",
       "      <th>60</th>\n",
       "      <td>2019-08-30</td>\n",
       "      <td>B</td>\n",
       "      <td>490</td>\n",
       "    </tr>\n",
       "    <tr>\n",
       "      <th>61</th>\n",
       "      <td>2019-08-31</td>\n",
       "      <td>B</td>\n",
       "      <td>718</td>\n",
       "    </tr>\n",
       "  </tbody>\n",
       "</table>\n",
       "</div>"
      ],
      "text/plain": [
       "          date group  visitors\n",
       "52  2019-08-22     B       650\n",
       "53  2019-08-23     B       546\n",
       "54  2019-08-24     B       378\n",
       "55  2019-08-25     B       679\n",
       "56  2019-08-26     B       676\n",
       "57  2019-08-27     B       720\n",
       "58  2019-08-28     B       654\n",
       "59  2019-08-29     B       531\n",
       "60  2019-08-30     B       490\n",
       "61  2019-08-31     B       718"
      ]
     },
     "metadata": {},
     "output_type": "display_data"
    },
    {
     "name": "stdout",
     "output_type": "stream",
     "text": [
      "<class 'pandas.core.frame.DataFrame'>\n",
      "RangeIndex: 62 entries, 0 to 61\n",
      "Data columns (total 3 columns):\n",
      " #   Column    Non-Null Count  Dtype \n",
      "---  ------    --------------  ----- \n",
      " 0   date      62 non-null     object\n",
      " 1   group     62 non-null     object\n",
      " 2   visitors  62 non-null     int64 \n",
      "dtypes: int64(1), object(2)\n",
      "memory usage: 1.6+ KB\n"
     ]
    },
    {
     "data": {
      "text/plain": [
       "None"
      ]
     },
     "metadata": {},
     "output_type": "display_data"
    },
    {
     "data": {
      "text/html": [
       "<div>\n",
       "<style scoped>\n",
       "    .dataframe tbody tr th:only-of-type {\n",
       "        vertical-align: middle;\n",
       "    }\n",
       "\n",
       "    .dataframe tbody tr th {\n",
       "        vertical-align: top;\n",
       "    }\n",
       "\n",
       "    .dataframe thead th {\n",
       "        text-align: right;\n",
       "    }\n",
       "</style>\n",
       "<table border=\"1\" class=\"dataframe\">\n",
       "  <thead>\n",
       "    <tr style=\"text-align: right;\">\n",
       "      <th></th>\n",
       "      <th>visitors</th>\n",
       "    </tr>\n",
       "  </thead>\n",
       "  <tbody>\n",
       "    <tr>\n",
       "      <th>count</th>\n",
       "      <td>62.000000</td>\n",
       "    </tr>\n",
       "    <tr>\n",
       "      <th>mean</th>\n",
       "      <td>607.290323</td>\n",
       "    </tr>\n",
       "    <tr>\n",
       "      <th>std</th>\n",
       "      <td>114.400560</td>\n",
       "    </tr>\n",
       "    <tr>\n",
       "      <th>min</th>\n",
       "      <td>361.000000</td>\n",
       "    </tr>\n",
       "    <tr>\n",
       "      <th>25%</th>\n",
       "      <td>534.000000</td>\n",
       "    </tr>\n",
       "    <tr>\n",
       "      <th>50%</th>\n",
       "      <td>624.500000</td>\n",
       "    </tr>\n",
       "    <tr>\n",
       "      <th>75%</th>\n",
       "      <td>710.500000</td>\n",
       "    </tr>\n",
       "    <tr>\n",
       "      <th>max</th>\n",
       "      <td>770.000000</td>\n",
       "    </tr>\n",
       "  </tbody>\n",
       "</table>\n",
       "</div>"
      ],
      "text/plain": [
       "         visitors\n",
       "count   62.000000\n",
       "mean   607.290323\n",
       "std    114.400560\n",
       "min    361.000000\n",
       "25%    534.000000\n",
       "50%    624.500000\n",
       "75%    710.500000\n",
       "max    770.000000"
      ]
     },
     "metadata": {},
     "output_type": "display_data"
    },
    {
     "name": "stdout",
     "output_type": "stream",
     "text": [
      "--------------------------------------------------\n",
      "Количество строк и столбцов: (62, 3)\n",
      "--------------------------------------------------\n",
      "Количество явных дубликатов: 0\n",
      "--------------------------------------------------\n",
      "Количество пропусков: date        0\n",
      "group       0\n",
      "visitors    0\n",
      "dtype: int64\n"
     ]
    }
   ],
   "source": [
    "# изучим основную информацию\n",
    "df_study(visitors)"
   ]
  },
  {
   "cell_type": "code",
   "execution_count": 22,
   "metadata": {
    "scrolled": true
   },
   "outputs": [],
   "source": [
    "# преобразуем данные о времени\n",
    "visitors['date'] = visitors['date'].map(\n",
    "    lambda x: dt.datetime.strptime(x, '%Y-%m-%d')\n",
    ")"
   ]
  },
  {
   "cell_type": "code",
   "execution_count": 23,
   "metadata": {},
   "outputs": [
    {
     "name": "stdout",
     "output_type": "stream",
     "text": [
      "Минимальная дата совершения заказа: 2019-08-01 00:00:00\n",
      "Максимальная дата совершения заказа: 2019-08-31 00:00:00\n"
     ]
    }
   ],
   "source": [
    "# проверим временной интервал в датасете\n",
    "print('Минимальная дата совершения заказа:', visitors['date'].min())\n",
    "print('Максимальная дата совершения заказа:', visitors['date'].max())"
   ]
  },
  {
   "cell_type": "code",
   "execution_count": 24,
   "metadata": {},
   "outputs": [
    {
     "data": {
      "text/plain": [
       "A    31\n",
       "B    31\n",
       "Name: group, dtype: int64"
      ]
     },
     "execution_count": 24,
     "metadata": {},
     "output_type": "execute_result"
    }
   ],
   "source": [
    "# проверим уникальные значения в столбце с группа А/В теста\n",
    "visitors['group'].value_counts()"
   ]
  },
  {
   "cell_type": "code",
   "execution_count": 25,
   "metadata": {},
   "outputs": [
    {
     "data": {
      "text/html": [
       "<div>\n",
       "<style scoped>\n",
       "    .dataframe tbody tr th:only-of-type {\n",
       "        vertical-align: middle;\n",
       "    }\n",
       "\n",
       "    .dataframe tbody tr th {\n",
       "        vertical-align: top;\n",
       "    }\n",
       "\n",
       "    .dataframe thead th {\n",
       "        text-align: right;\n",
       "    }\n",
       "</style>\n",
       "<table border=\"1\" class=\"dataframe\">\n",
       "  <thead>\n",
       "    <tr style=\"text-align: right;\">\n",
       "      <th></th>\n",
       "      <th>date</th>\n",
       "      <th>group</th>\n",
       "      <th>visitors</th>\n",
       "    </tr>\n",
       "  </thead>\n",
       "  <tbody>\n",
       "    <tr>\n",
       "      <th>0</th>\n",
       "      <td>2019-08-01</td>\n",
       "      <td>A</td>\n",
       "      <td>719</td>\n",
       "    </tr>\n",
       "    <tr>\n",
       "      <th>1</th>\n",
       "      <td>2019-08-02</td>\n",
       "      <td>A</td>\n",
       "      <td>619</td>\n",
       "    </tr>\n",
       "    <tr>\n",
       "      <th>2</th>\n",
       "      <td>2019-08-03</td>\n",
       "      <td>A</td>\n",
       "      <td>507</td>\n",
       "    </tr>\n",
       "    <tr>\n",
       "      <th>3</th>\n",
       "      <td>2019-08-04</td>\n",
       "      <td>A</td>\n",
       "      <td>717</td>\n",
       "    </tr>\n",
       "    <tr>\n",
       "      <th>4</th>\n",
       "      <td>2019-08-05</td>\n",
       "      <td>A</td>\n",
       "      <td>756</td>\n",
       "    </tr>\n",
       "  </tbody>\n",
       "</table>\n",
       "</div>"
      ],
      "text/plain": [
       "        date group  visitors\n",
       "0 2019-08-01     A       719\n",
       "1 2019-08-02     A       619\n",
       "2 2019-08-03     A       507\n",
       "3 2019-08-04     A       717\n",
       "4 2019-08-05     A       756"
      ]
     },
     "execution_count": 25,
     "metadata": {},
     "output_type": "execute_result"
    }
   ],
   "source": [
    "visitors.head()"
   ]
  },
  {
   "cell_type": "code",
   "execution_count": 26,
   "metadata": {},
   "outputs": [
    {
     "data": {
      "image/png": "[encoded data removed]",
      "text/plain": [
       "<Figure size 1500x500 with 1 Axes>"
      ]
     },
     "metadata": {},
     "output_type": "display_data"
    }
   ],
   "source": [
    "# посмотрим динамику посетителеq по дням и группам\n",
    "# датафреймы по группам\n",
    "visitors_a = visitors[visitors['group']=='A'][['date', 'visitors']]\n",
    "visitors_b = visitors[visitors['group']=='B'][['date', 'visitors']]\n",
    "\n",
    "# задаём размер сетки для графиков, названия графика и осей\n",
    "plt.figure(figsize=(15, 5))\n",
    "plt.grid()\n",
    "plt.title('График динамики посетителей по дням и группам')\n",
    "plt.xlabel('Дата')\n",
    "plt.ylabel('Количество посетителей, чел.')\n",
    "\n",
    "# cтроим график выручки группы А\n",
    "plt.plot(visitors_a['date'], visitors_a['visitors'], label='A')\n",
    "\n",
    "# cтроим график выручки группы B\n",
    "plt.plot(visitors_b['date'], visitors_b['visitors'], label='B')\n",
    "\n",
    "plt.legend()\n",
    "plt.show()"
   ]
  },
  {
   "cell_type": "markdown",
   "metadata": {},
   "source": [
    "Данные представлены за период с 1 по 31 августа 2019 г. Наименования групп верные.\n",
    "График динамики посетителей по дням и группам показал, что количество посетителей интернет-магазина по группам практически одинаковые."
   ]
  },
  {
   "cell_type": "markdown",
   "metadata": {},
   "source": [
    "---\n",
    "## Часть 1. Приоритизация гипотез"
   ]
  },
  {
   "cell_type": "markdown",
   "metadata": {},
   "source": [
    "---\n",
    "### Применение фреймворка ICE для приоритизации гипотез"
   ]
  },
  {
   "cell_type": "code",
   "execution_count": 27,
   "metadata": {},
   "outputs": [
    {
     "data": {
      "text/html": [
       "<div>\n",
       "<style scoped>\n",
       "    .dataframe tbody tr th:only-of-type {\n",
       "        vertical-align: middle;\n",
       "    }\n",
       "\n",
       "    .dataframe tbody tr th {\n",
       "        vertical-align: top;\n",
       "    }\n",
       "\n",
       "    .dataframe thead th {\n",
       "        text-align: right;\n",
       "    }\n",
       "</style>\n",
       "<table border=\"1\" class=\"dataframe\">\n",
       "  <thead>\n",
       "    <tr style=\"text-align: right;\">\n",
       "      <th></th>\n",
       "      <th>hypothesis</th>\n",
       "      <th>ICE</th>\n",
       "    </tr>\n",
       "  </thead>\n",
       "  <tbody>\n",
       "    <tr>\n",
       "      <th>8</th>\n",
       "      <td>Запустить акцию, дающую скидку на товар в день рождения</td>\n",
       "      <td>16.20</td>\n",
       "    </tr>\n",
       "    <tr>\n",
       "      <th>0</th>\n",
       "      <td>Добавить два новых канала привлечения трафика, что позволит привлекать на 30% больше пользователей</td>\n",
       "      <td>13.33</td>\n",
       "    </tr>\n",
       "    <tr>\n",
       "      <th>7</th>\n",
       "      <td>Добавить форму подписки на все основные страницы, чтобы собрать базу клиентов для email-рассылок</td>\n",
       "      <td>11.20</td>\n",
       "    </tr>\n",
       "    <tr>\n",
       "      <th>6</th>\n",
       "      <td>Показать на главной странице баннеры с актуальными акциями и распродажами, чтобы увеличить конве...</td>\n",
       "      <td>8.00</td>\n",
       "    </tr>\n",
       "    <tr>\n",
       "      <th>2</th>\n",
       "      <td>Добавить блоки рекомендаций товаров на сайт интернет магазина, чтобы повысить конверсию и средни...</td>\n",
       "      <td>7.00</td>\n",
       "    </tr>\n",
       "    <tr>\n",
       "      <th>1</th>\n",
       "      <td>Запустить собственную службу доставки, что сократит срок доставки заказов</td>\n",
       "      <td>2.00</td>\n",
       "    </tr>\n",
       "    <tr>\n",
       "      <th>5</th>\n",
       "      <td>Добавить страницу отзывов клиентов о магазине, что позволит увеличить количество заказов</td>\n",
       "      <td>1.33</td>\n",
       "    </tr>\n",
       "    <tr>\n",
       "      <th>3</th>\n",
       "      <td>Изменить структура категорий, что увеличит конверсию, т.к. пользователи быстрее найдут нужный товар</td>\n",
       "      <td>1.12</td>\n",
       "    </tr>\n",
       "    <tr>\n",
       "      <th>4</th>\n",
       "      <td>Изменить цвет фона главной страницы, чтобы увеличить вовлеченность пользователей</td>\n",
       "      <td>1.00</td>\n",
       "    </tr>\n",
       "  </tbody>\n",
       "</table>\n",
       "</div>"
      ],
      "text/plain": [
       "                                                                                            hypothesis  \\\n",
       "8                                              Запустить акцию, дающую скидку на товар в день рождения   \n",
       "0   Добавить два новых канала привлечения трафика, что позволит привлекать на 30% больше пользователей   \n",
       "7     Добавить форму подписки на все основные страницы, чтобы собрать базу клиентов для email-рассылок   \n",
       "6  Показать на главной странице баннеры с актуальными акциями и распродажами, чтобы увеличить конве...   \n",
       "2  Добавить блоки рекомендаций товаров на сайт интернет магазина, чтобы повысить конверсию и средни...   \n",
       "1                            Запустить собственную службу доставки, что сократит срок доставки заказов   \n",
       "5             Добавить страницу отзывов клиентов о магазине, что позволит увеличить количество заказов   \n",
       "3  Изменить структура категорий, что увеличит конверсию, т.к. пользователи быстрее найдут нужный товар   \n",
       "4                     Изменить цвет фона главной страницы, чтобы увеличить вовлеченность пользователей   \n",
       "\n",
       "    ICE  \n",
       "8 16.20  \n",
       "0 13.33  \n",
       "7 11.20  \n",
       "6  8.00  \n",
       "2  7.00  \n",
       "1  2.00  \n",
       "5  1.33  \n",
       "3  1.12  \n",
       "4  1.00  "
      ]
     },
     "execution_count": 27,
     "metadata": {},
     "output_type": "execute_result"
    }
   ],
   "source": [
    "pd.set_option('display.float_format', '{:.2f}'.format)\n",
    "\n",
    "# применим фраймворк ICE\n",
    "hypothesis['ICE'] = (hypothesis['impact']*hypothesis['confidence'])/hypothesis['efforts']\n",
    "hypothesis[['hypothesis', 'ICE']].sort_values(by='ICE', ascending=False)"
   ]
  },
  {
   "cell_type": "code",
   "execution_count": 28,
   "metadata": {},
   "outputs": [
    {
     "data": {
      "image/png": "[encoded data removed]",
      "text/plain": [
       "<Figure size 1000x800 with 1 Axes>"
      ]
     },
     "metadata": {},
     "output_type": "display_data"
    }
   ],
   "source": [
    "# отразим приоритезацию на графике\n",
    "hypothesis[['hypothesis', 'ICE']].set_index('hypothesis').sort_values(by='ICE').plot(\n",
    "        kind = 'barh',\n",
    "        grid = True,\n",
    "        stacked = True,\n",
    "        title = 'Применение фреймворка ICE для приоритизации гипотез',\n",
    "        figsize = (10,8))\n",
    "plt.xlabel('Приоритет ICE')\n",
    "plt.ylabel('Гипотезы')\n",
    "    \n",
    "plt.show()"
   ]
  },
  {
   "cell_type": "markdown",
   "metadata": {},
   "source": [
    "---\n",
    "### Применение фреймворка RICE для приоритизации гипотез"
   ]
  },
  {
   "cell_type": "code",
   "execution_count": 29,
   "metadata": {},
   "outputs": [
    {
     "data": {
      "text/html": [
       "<div>\n",
       "<style scoped>\n",
       "    .dataframe tbody tr th:only-of-type {\n",
       "        vertical-align: middle;\n",
       "    }\n",
       "\n",
       "    .dataframe tbody tr th {\n",
       "        vertical-align: top;\n",
       "    }\n",
       "\n",
       "    .dataframe thead th {\n",
       "        text-align: right;\n",
       "    }\n",
       "</style>\n",
       "<table border=\"1\" class=\"dataframe\">\n",
       "  <thead>\n",
       "    <tr style=\"text-align: right;\">\n",
       "      <th></th>\n",
       "      <th>hypothesis</th>\n",
       "      <th>RICE</th>\n",
       "    </tr>\n",
       "  </thead>\n",
       "  <tbody>\n",
       "    <tr>\n",
       "      <th>7</th>\n",
       "      <td>Добавить форму подписки на все основные страницы, чтобы собрать базу клиентов для email-рассылок</td>\n",
       "      <td>112.00</td>\n",
       "    </tr>\n",
       "    <tr>\n",
       "      <th>2</th>\n",
       "      <td>Добавить блоки рекомендаций товаров на сайт интернет магазина, чтобы повысить конверсию и средни...</td>\n",
       "      <td>56.00</td>\n",
       "    </tr>\n",
       "    <tr>\n",
       "      <th>0</th>\n",
       "      <td>Добавить два новых канала привлечения трафика, что позволит привлекать на 30% больше пользователей</td>\n",
       "      <td>40.00</td>\n",
       "    </tr>\n",
       "    <tr>\n",
       "      <th>6</th>\n",
       "      <td>Показать на главной странице баннеры с актуальными акциями и распродажами, чтобы увеличить конве...</td>\n",
       "      <td>40.00</td>\n",
       "    </tr>\n",
       "    <tr>\n",
       "      <th>8</th>\n",
       "      <td>Запустить акцию, дающую скидку на товар в день рождения</td>\n",
       "      <td>16.20</td>\n",
       "    </tr>\n",
       "    <tr>\n",
       "      <th>3</th>\n",
       "      <td>Изменить структура категорий, что увеличит конверсию, т.к. пользователи быстрее найдут нужный товар</td>\n",
       "      <td>9.00</td>\n",
       "    </tr>\n",
       "    <tr>\n",
       "      <th>1</th>\n",
       "      <td>Запустить собственную службу доставки, что сократит срок доставки заказов</td>\n",
       "      <td>4.00</td>\n",
       "    </tr>\n",
       "    <tr>\n",
       "      <th>5</th>\n",
       "      <td>Добавить страницу отзывов клиентов о магазине, что позволит увеличить количество заказов</td>\n",
       "      <td>4.00</td>\n",
       "    </tr>\n",
       "    <tr>\n",
       "      <th>4</th>\n",
       "      <td>Изменить цвет фона главной страницы, чтобы увеличить вовлеченность пользователей</td>\n",
       "      <td>3.00</td>\n",
       "    </tr>\n",
       "  </tbody>\n",
       "</table>\n",
       "</div>"
      ],
      "text/plain": [
       "                                                                                            hypothesis  \\\n",
       "7     Добавить форму подписки на все основные страницы, чтобы собрать базу клиентов для email-рассылок   \n",
       "2  Добавить блоки рекомендаций товаров на сайт интернет магазина, чтобы повысить конверсию и средни...   \n",
       "0   Добавить два новых канала привлечения трафика, что позволит привлекать на 30% больше пользователей   \n",
       "6  Показать на главной странице баннеры с актуальными акциями и распродажами, чтобы увеличить конве...   \n",
       "8                                              Запустить акцию, дающую скидку на товар в день рождения   \n",
       "3  Изменить структура категорий, что увеличит конверсию, т.к. пользователи быстрее найдут нужный товар   \n",
       "1                            Запустить собственную службу доставки, что сократит срок доставки заказов   \n",
       "5             Добавить страницу отзывов клиентов о магазине, что позволит увеличить количество заказов   \n",
       "4                     Изменить цвет фона главной страницы, чтобы увеличить вовлеченность пользователей   \n",
       "\n",
       "    RICE  \n",
       "7 112.00  \n",
       "2  56.00  \n",
       "0  40.00  \n",
       "6  40.00  \n",
       "8  16.20  \n",
       "3   9.00  \n",
       "1   4.00  \n",
       "5   4.00  \n",
       "4   3.00  "
      ]
     },
     "execution_count": 29,
     "metadata": {},
     "output_type": "execute_result"
    }
   ],
   "source": [
    "# применим фраймворк RICE\n",
    "hypothesis['RICE'] = (hypothesis['reach']*hypothesis['impact']*hypothesis['confidence'])/hypothesis['efforts']\n",
    "hypothesis[['hypothesis', 'RICE']].sort_values(by='RICE', ascending=False)"
   ]
  },
  {
   "cell_type": "code",
   "execution_count": 30,
   "metadata": {},
   "outputs": [
    {
     "data": {
      "image/png": "[encoded data removed]",
      "text/plain": [
       "<Figure size 1000x800 with 1 Axes>"
      ]
     },
     "metadata": {},
     "output_type": "display_data"
    }
   ],
   "source": [
    "# отразим приоритезацию на графике\n",
    "hypothesis[['hypothesis', 'RICE']].set_index('hypothesis').sort_values(by='RICE').plot(\n",
    "        kind = 'barh',\n",
    "        grid = True,\n",
    "        stacked = True,\n",
    "        title = 'Применение фреймворка RICE для приоритизации гипотез',\n",
    "        figsize = (10,8))\n",
    "plt.xlabel('Приоритет RICE')\n",
    "plt.ylabel('Гипотезы')\n",
    "    \n",
    "plt.show()"
   ]
  },
  {
   "cell_type": "markdown",
   "metadata": {},
   "source": [
    "---\n",
    "### Сравнение приоритезации при применении фреймворков  ICE и RICE"
   ]
  },
  {
   "cell_type": "code",
   "execution_count": 31,
   "metadata": {},
   "outputs": [
    {
     "name": "stdout",
     "output_type": "stream",
     "text": [
      "Топ-5 гипотез по ICE\n"
     ]
    },
    {
     "data": {
      "text/html": [
       "<div>\n",
       "<style scoped>\n",
       "    .dataframe tbody tr th:only-of-type {\n",
       "        vertical-align: middle;\n",
       "    }\n",
       "\n",
       "    .dataframe tbody tr th {\n",
       "        vertical-align: top;\n",
       "    }\n",
       "\n",
       "    .dataframe thead th {\n",
       "        text-align: right;\n",
       "    }\n",
       "</style>\n",
       "<table border=\"1\" class=\"dataframe\">\n",
       "  <thead>\n",
       "    <tr style=\"text-align: right;\">\n",
       "      <th></th>\n",
       "      <th>hypothesis</th>\n",
       "      <th>ICE</th>\n",
       "    </tr>\n",
       "  </thead>\n",
       "  <tbody>\n",
       "    <tr>\n",
       "      <th>8</th>\n",
       "      <td>Запустить акцию, дающую скидку на товар в день рождения</td>\n",
       "      <td>16.20</td>\n",
       "    </tr>\n",
       "    <tr>\n",
       "      <th>0</th>\n",
       "      <td>Добавить два новых канала привлечения трафика, что позволит привлекать на 30% больше пользователей</td>\n",
       "      <td>13.33</td>\n",
       "    </tr>\n",
       "    <tr>\n",
       "      <th>7</th>\n",
       "      <td>Добавить форму подписки на все основные страницы, чтобы собрать базу клиентов для email-рассылок</td>\n",
       "      <td>11.20</td>\n",
       "    </tr>\n",
       "    <tr>\n",
       "      <th>6</th>\n",
       "      <td>Показать на главной странице баннеры с актуальными акциями и распродажами, чтобы увеличить конве...</td>\n",
       "      <td>8.00</td>\n",
       "    </tr>\n",
       "    <tr>\n",
       "      <th>2</th>\n",
       "      <td>Добавить блоки рекомендаций товаров на сайт интернет магазина, чтобы повысить конверсию и средни...</td>\n",
       "      <td>7.00</td>\n",
       "    </tr>\n",
       "  </tbody>\n",
       "</table>\n",
       "</div>"
      ],
      "text/plain": [
       "                                                                                            hypothesis  \\\n",
       "8                                              Запустить акцию, дающую скидку на товар в день рождения   \n",
       "0   Добавить два новых канала привлечения трафика, что позволит привлекать на 30% больше пользователей   \n",
       "7     Добавить форму подписки на все основные страницы, чтобы собрать базу клиентов для email-рассылок   \n",
       "6  Показать на главной странице баннеры с актуальными акциями и распродажами, чтобы увеличить конве...   \n",
       "2  Добавить блоки рекомендаций товаров на сайт интернет магазина, чтобы повысить конверсию и средни...   \n",
       "\n",
       "    ICE  \n",
       "8 16.20  \n",
       "0 13.33  \n",
       "7 11.20  \n",
       "6  8.00  \n",
       "2  7.00  "
      ]
     },
     "metadata": {},
     "output_type": "display_data"
    },
    {
     "name": "stdout",
     "output_type": "stream",
     "text": [
      "Топ-5 гипотез по RICE\n"
     ]
    },
    {
     "data": {
      "text/html": [
       "<div>\n",
       "<style scoped>\n",
       "    .dataframe tbody tr th:only-of-type {\n",
       "        vertical-align: middle;\n",
       "    }\n",
       "\n",
       "    .dataframe tbody tr th {\n",
       "        vertical-align: top;\n",
       "    }\n",
       "\n",
       "    .dataframe thead th {\n",
       "        text-align: right;\n",
       "    }\n",
       "</style>\n",
       "<table border=\"1\" class=\"dataframe\">\n",
       "  <thead>\n",
       "    <tr style=\"text-align: right;\">\n",
       "      <th></th>\n",
       "      <th>hypothesis</th>\n",
       "      <th>RICE</th>\n",
       "    </tr>\n",
       "  </thead>\n",
       "  <tbody>\n",
       "    <tr>\n",
       "      <th>7</th>\n",
       "      <td>Добавить форму подписки на все основные страницы, чтобы собрать базу клиентов для email-рассылок</td>\n",
       "      <td>112.00</td>\n",
       "    </tr>\n",
       "    <tr>\n",
       "      <th>2</th>\n",
       "      <td>Добавить блоки рекомендаций товаров на сайт интернет магазина, чтобы повысить конверсию и средни...</td>\n",
       "      <td>56.00</td>\n",
       "    </tr>\n",
       "    <tr>\n",
       "      <th>0</th>\n",
       "      <td>Добавить два новых канала привлечения трафика, что позволит привлекать на 30% больше пользователей</td>\n",
       "      <td>40.00</td>\n",
       "    </tr>\n",
       "    <tr>\n",
       "      <th>6</th>\n",
       "      <td>Показать на главной странице баннеры с актуальными акциями и распродажами, чтобы увеличить конве...</td>\n",
       "      <td>40.00</td>\n",
       "    </tr>\n",
       "    <tr>\n",
       "      <th>8</th>\n",
       "      <td>Запустить акцию, дающую скидку на товар в день рождения</td>\n",
       "      <td>16.20</td>\n",
       "    </tr>\n",
       "  </tbody>\n",
       "</table>\n",
       "</div>"
      ],
      "text/plain": [
       "                                                                                            hypothesis  \\\n",
       "7     Добавить форму подписки на все основные страницы, чтобы собрать базу клиентов для email-рассылок   \n",
       "2  Добавить блоки рекомендаций товаров на сайт интернет магазина, чтобы повысить конверсию и средни...   \n",
       "0   Добавить два новых канала привлечения трафика, что позволит привлекать на 30% больше пользователей   \n",
       "6  Показать на главной странице баннеры с актуальными акциями и распродажами, чтобы увеличить конве...   \n",
       "8                                              Запустить акцию, дающую скидку на товар в день рождения   \n",
       "\n",
       "    RICE  \n",
       "7 112.00  \n",
       "2  56.00  \n",
       "0  40.00  \n",
       "6  40.00  \n",
       "8  16.20  "
      ]
     },
     "metadata": {},
     "output_type": "display_data"
    }
   ],
   "source": [
    "print('Топ-5 гипотез по ICE')\n",
    "display(hypothesis[['hypothesis', 'ICE']].sort_values(by='ICE', ascending=False).head())\n",
    "\n",
    "print('Топ-5 гипотез по RICE')\n",
    "display(hypothesis[['hypothesis', 'RICE']].sort_values(by='RICE', ascending=False).head())"
   ]
  },
  {
   "cell_type": "markdown",
   "metadata": {},
   "source": [
    "Топ-5 гипотез при применении фраймфорков ICE и RICE совпадает, но гипотезы расположены на разных местах. Лидер топа по ICE гипотеза о скидке в день рождения расположен на 5-м месте в топе по RICE. Лидер по RICE - гипотеза \"Добавить форму подписки на все основные страницы, чтобы собрать базу клиентов для email-рассылок\". \n",
    "Такая расстановка гипотез по степени приоритетности связана с тем, что применение фраймфорка RICE включает в себя параметр 'Reach', который показывает, скольких пользователей затронет изменение. В отличие от лидера по RICE гипотеза о скидке в день рождения имеет низкий охват, так как данной скидкой посетители могут воспользоваться только раз в год."
   ]
  },
  {
   "cell_type": "markdown",
   "metadata": {},
   "source": [
    "---\n",
    "## Часть 2. Анализ A/B-теста"
   ]
  },
  {
   "cell_type": "code",
   "execution_count": 32,
   "metadata": {},
   "outputs": [
    {
     "name": "stdout",
     "output_type": "stream",
     "text": [
      "        date group  orders  buyers  revenue  visitors\n",
      "0 2019-08-01     A      24      20   148579       719\n",
      "1 2019-08-01     B      21      20   101217       713\n",
      "2 2019-08-02     A      44      38   242401      1338\n",
      "3 2019-08-02     B      45      43   266748      1294\n",
      "4 2019-08-03     A      68      62   354874      1845\n"
     ]
    }
   ],
   "source": [
    "# конвертеры, которые позволяют использовать типы pandas в matplotlib  \n",
    "register_matplotlib_converters()\n",
    "\n",
    "# создаем массив уникальных пар значений дат и групп теста\n",
    "datesGroups = orders[['date', 'group']].drop_duplicates()\n",
    "\n",
    "# получаем агрегированные кумулятивные по дням данные о заказах \n",
    "ordersAggregated = datesGroups.apply(\n",
    "    lambda x: orders[\n",
    "        np.logical_and(\n",
    "            orders['date'] <= x['date'], orders['group'] == x['group']\n",
    "        )\n",
    "    ].agg(\n",
    "        {\n",
    "            'date': 'max',\n",
    "            'group': 'max',\n",
    "            'transaction_id': 'nunique',\n",
    "            'visitor_id': 'nunique',\n",
    "            'revenue': 'sum',\n",
    "        }\n",
    "    ),\n",
    "    axis=1,\n",
    ").sort_values(by=['date', 'group'])\n",
    "\n",
    "visitorsAggregated = datesGroups.apply(\n",
    "    lambda x: visitors[\n",
    "        np.logical_and(\n",
    "            visitors['date'] <= x['date'], visitors['group'] == x['group']\n",
    "        )\n",
    "    ].agg({'date': 'max', 'group': 'max', 'visitors': 'sum'}),\n",
    "    axis=1,\n",
    ").sort_values(by=['date', 'group'])\n",
    "\n",
    "cumulativeData = ordersAggregated.merge(\n",
    "    visitorsAggregated, left_on=['date', 'group'], right_on=['date', 'group']\n",
    ")\n",
    "cumulativeData.columns = [\n",
    "    'date',\n",
    "    'group',\n",
    "    'orders',\n",
    "    'buyers',\n",
    "    'revenue',\n",
    "    'visitors',\n",
    "]\n",
    "\n",
    "print(cumulativeData.head())"
   ]
  },
  {
   "cell_type": "code",
   "execution_count": 33,
   "metadata": {},
   "outputs": [
    {
     "name": "stdout",
     "output_type": "stream",
     "text": [
      "Максимальная дата: 2019-08-31 00:00:00\n",
      "Минимальная дата: 2019-08-01 00:00:00\n"
     ]
    }
   ],
   "source": [
    "# проверим корректно ли был создан новый датафрейм\n",
    "print('Максимальная дата:', cumulativeData['date'].max())\n",
    "print('Минимальная дата:', cumulativeData['date'].min())"
   ]
  },
  {
   "cell_type": "markdown",
   "metadata": {},
   "source": [
    "Временной интервал верный."
   ]
  },
  {
   "cell_type": "markdown",
   "metadata": {},
   "source": [
    "---\n",
    "### График кумулятивной выручки"
   ]
  },
  {
   "cell_type": "code",
   "execution_count": 34,
   "metadata": {},
   "outputs": [
    {
     "data": {
      "image/png": "[encoded data removed]",
      "text/plain": [
       "<Figure size 1500x500 with 1 Axes>"
      ]
     },
     "metadata": {},
     "output_type": "display_data"
    }
   ],
   "source": [
    "# датафрейм с кумулятивным количеством заказов и кумулятивной выручкой по дням в группе А\n",
    "cumulativeRevenueA = cumulativeData[cumulativeData['group']=='A'][['date','revenue', 'orders']]\n",
    "\n",
    "# датафрейм с кумулятивным количеством заказов и кумулятивной выручкой по дням в группе B\n",
    "cumulativeRevenueB = cumulativeData[cumulativeData['group']=='B'][['date','revenue', 'orders']]\n",
    "\n",
    "# задаём размер сетки для графиков, названия графика и осей\n",
    "plt.figure(figsize=(15, 5))\n",
    "plt.grid()\n",
    "plt.title('График кумулятивной выручки')\n",
    "plt.xlabel('Дата')\n",
    "plt.ylabel('Выручка')\n",
    "\n",
    "# cтроим график выручки группы А\n",
    "plt.plot(cumulativeRevenueA['date'], cumulativeRevenueA['revenue'], label='A')\n",
    "\n",
    "# cтроим график выручки группы B\n",
    "plt.plot(cumulativeRevenueB['date'], cumulativeRevenueB['revenue'], label='B')\n",
    "\n",
    "plt.legend()\n",
    "plt.show()"
   ]
  },
  {
   "cell_type": "markdown",
   "metadata": {},
   "source": [
    "По графику можно сделать следующие выводы: выручка у обоих групп растет на протяжении всего теста. Примерно до 18 августа показатель находится на одном уровне у обоих групп, но с 18 числа выручка у группы В резко возросла и постепенно увеличивалась до конца теста. Данный скачок может быть связан с наличием большого количества заказов или наличием очень дорогих заказов у группы В."
   ]
  },
  {
   "cell_type": "markdown",
   "metadata": {},
   "source": [
    "---\n",
    "### График кумулятивного среднего чека"
   ]
  },
  {
   "cell_type": "code",
   "execution_count": 35,
   "metadata": {},
   "outputs": [
    {
     "data": {
      "text/plain": [
       "<matplotlib.legend.Legend at 0x1b1caf8fa30>"
      ]
     },
     "execution_count": 35,
     "metadata": {},
     "output_type": "execute_result"
    },
    {
     "data": {
      "image/png": "[encoded data removed]",
      "text/plain": [
       "<Figure size 1500x500 with 1 Axes>"
      ]
     },
     "metadata": {},
     "output_type": "display_data"
    }
   ],
   "source": [
    "# задаём размер сетки для графиков, названия графика и осей\n",
    "plt.figure(figsize=(15, 5))\n",
    "plt.grid()\n",
    "plt.title('График кумулятивного среднего чека')\n",
    "plt.xlabel('Дата')\n",
    "plt.ylabel('Средний чек')\n",
    "\n",
    "# cтроим график среднего чека группы А\n",
    "plt.plot(cumulativeRevenueA['date'], cumulativeRevenueA['revenue']/cumulativeRevenueA['orders'], label='A')\n",
    "\n",
    "# cтроим график среднего чека группы В\n",
    "plt.plot(cumulativeRevenueB['date'], cumulativeRevenueB['revenue']/cumulativeRevenueB['orders'], label='B')\n",
    "plt.legend()"
   ]
  },
  {
   "cell_type": "markdown",
   "metadata": {},
   "source": [
    "Кумулятивное значение среднего чека увеличивалось у обоих групп примерно до середины месяца (до 13 августа для группы А и 18 августа для группы В). Для группы В стоит отметить резкий скачок среднего чека 18 августа. Можно предположить, что данный рост связан с наличием дорогих заказов.\n",
    "После данных скачков идет плавное снидение среднего чека."
   ]
  },
  {
   "cell_type": "markdown",
   "metadata": {},
   "source": [
    "---\n",
    "### График относительного изменения кумулятивного среднего чека группы B к группе A"
   ]
  },
  {
   "cell_type": "code",
   "execution_count": 36,
   "metadata": {},
   "outputs": [
    {
     "data": {
      "text/plain": [
       "<matplotlib.lines.Line2D at 0x1b1cb356530>"
      ]
     },
     "execution_count": 36,
     "metadata": {},
     "output_type": "execute_result"
    },
    {
     "data": {
      "image/png": "[encoded data removed]",
      "text/plain": [
       "<Figure size 1500x500 with 1 Axes>"
      ]
     },
     "metadata": {},
     "output_type": "display_data"
    }
   ],
   "source": [
    "# собираем данные в одном датафрейме\n",
    "mergedCumulativeRevenue = cumulativeRevenueA.merge(cumulativeRevenueB, left_on='date', right_on='date', how='left', suffixes=['A', 'B'])\n",
    "\n",
    "# задаём размер сетки для графиков, названия графика и осей\n",
    "plt.figure(figsize=(15, 5))\n",
    "plt.grid()\n",
    "plt.title('График относительного изменения кумулятивного среднего чека группы B к группе A')\n",
    "plt.xlabel('Дата')\n",
    "\n",
    "# cтроим отношение средних чеков\n",
    "plt.plot(mergedCumulativeRevenue['date'], (mergedCumulativeRevenue['revenueB']/mergedCumulativeRevenue['ordersB'])/(mergedCumulativeRevenue['revenueA']/mergedCumulativeRevenue['ordersA'])-1)\n",
    "\n",
    "# добавляем ось X\n",
    "plt.axhline(y=0, color='black', linestyle='--')"
   ]
  },
  {
   "cell_type": "markdown",
   "metadata": {},
   "source": [
    "В нескольких точках график различия между сегментами резко «скачет». График подтверждает выводы, сделанные по предыдущим графикам (скачок 18 августа)."
   ]
  },
  {
   "cell_type": "markdown",
   "metadata": {},
   "source": [
    "---\n",
    "### График кумулятивной конверсии"
   ]
  },
  {
   "cell_type": "code",
   "execution_count": 37,
   "metadata": {},
   "outputs": [
    {
     "data": {
      "text/plain": [
       "(18109.0, 18140.0, 0.0, 0.05)"
      ]
     },
     "execution_count": 37,
     "metadata": {},
     "output_type": "execute_result"
    },
    {
     "data": {
      "image/png": "[encoded data removed]",
      "text/plain": [
       "<Figure size 1500x500 with 1 Axes>"
      ]
     },
     "metadata": {},
     "output_type": "display_data"
    }
   ],
   "source": [
    "# считаем кумулятивную конверсию\n",
    "cumulativeData['conversion'] = cumulativeData['orders']/cumulativeData['visitors']\n",
    "\n",
    "# отделяем данные по группе A\n",
    "cumulativeDataA = cumulativeData[cumulativeData['group']=='A']\n",
    "\n",
    "# отделяем данные по группе B\n",
    "cumulativeDataB = cumulativeData[cumulativeData['group']=='B']\n",
    "\n",
    "# задаём размер сетки для графиков, названия графика и осей\n",
    "plt.figure(figsize=(15, 5))\n",
    "plt.grid()\n",
    "plt.title('График кумулятивной конверсии')\n",
    "plt.xlabel('Дата')\n",
    "\n",
    "# строим графики\n",
    "plt.plot(cumulativeDataA['date'], cumulativeDataA['conversion'], label='A')\n",
    "plt.plot(cumulativeDataB['date'], cumulativeDataB['conversion'], label='B')\n",
    "plt.legend()\n",
    "\n",
    "# задаем масштаб осей\n",
    "plt.axis([dt.datetime(2019, 8, 1), dt.datetime(2019, 9, 1), 0, 0.05])"
   ]
  },
  {
   "cell_type": "markdown",
   "metadata": {},
   "source": [
    "График плавный. До 6 августа группы колебались около одного значения, но затем конверсия группы В вырвалась вперёд и зафиксировалась, а конверсия группы А просела и также зафиксировалась."
   ]
  },
  {
   "cell_type": "markdown",
   "metadata": {},
   "source": [
    "---\n",
    "### График относительного изменения кумулятивной конверсии группы B к группе A"
   ]
  },
  {
   "cell_type": "code",
   "execution_count": 39,
   "metadata": {
    "scrolled": false
   },
   "outputs": [
    {
     "ename": "ConversionError",
     "evalue": "Failed to convert value(s) to axis units: array(['2019-08-01T00:00:00.000000000', '2019-08-02T00:00:00.000000000',\n       '2019-08-03T00:00:00.000000000', '2019-08-04T00:00:00.000000000',\n       '2019-08-05T00:00:00.000000000', '2019-08-06T00:00:00.000000000',\n       '2019-08-07T00:00:00.000000000', '2019-08-08T00:00:00.000000000',\n       '2019-08-09T00:00:00.000000000', '2019-08-10T00:00:00.000000000',\n       '2019-08-11T00:00:00.000000000', '2019-08-12T00:00:00.000000000',\n       '2019-08-13T00:00:00.000000000', '2019-08-14T00:00:00.000000000',\n       '2019-08-15T00:00:00.000000000', '2019-08-16T00:00:00.000000000',\n       '2019-08-17T00:00:00.000000000', '2019-08-18T00:00:00.000000000',\n       '2019-08-19T00:00:00.000000000', '2019-08-20T00:00:00.000000000',\n       '2019-08-21T00:00:00.000000000', '2019-08-22T00:00:00.000000000',\n       '2019-08-23T00:00:00.000000000', '2019-08-24T00:00:00.000000000',\n       '2019-08-25T00:00:00.000000000', '2019-08-26T00:00:00.000000000',\n       '2019-08-27T00:00:00.000000000', '2019-08-28T00:00:00.000000000',\n       '2019-08-29T00:00:00.000000000', '2019-08-30T00:00:00.000000000',\n       '2019-08-31T00:00:00.000000000'], dtype='datetime64[ns]')",
     "output_type": "error",
     "traceback": [
      "\u001b[1;31m---------------------------------------------------------------------------\u001b[0m",
      "\u001b[1;31mTypeError\u001b[0m                                 Traceback (most recent call last)",
      "File \u001b[1;32mC:\\anaconda\\lib\\site-packages\\matplotlib\\axis.py:1736\u001b[0m, in \u001b[0;36mAxis.convert_units\u001b[1;34m(self, x)\u001b[0m\n\u001b[0;32m   1735\u001b[0m \u001b[38;5;28;01mtry\u001b[39;00m:\n\u001b[1;32m-> 1736\u001b[0m     ret \u001b[38;5;241m=\u001b[39m \u001b[38;5;28;43mself\u001b[39;49m\u001b[38;5;241;43m.\u001b[39;49m\u001b[43mconverter\u001b[49m\u001b[38;5;241;43m.\u001b[39;49m\u001b[43mconvert\u001b[49m\u001b[43m(\u001b[49m\u001b[43mx\u001b[49m\u001b[43m,\u001b[49m\u001b[43m \u001b[49m\u001b[38;5;28;43mself\u001b[39;49m\u001b[38;5;241;43m.\u001b[39;49m\u001b[43munits\u001b[49m\u001b[43m,\u001b[49m\u001b[43m \u001b[49m\u001b[38;5;28;43mself\u001b[39;49m\u001b[43m)\u001b[49m\n\u001b[0;32m   1737\u001b[0m \u001b[38;5;28;01mexcept\u001b[39;00m \u001b[38;5;167;01mException\u001b[39;00m \u001b[38;5;28;01mas\u001b[39;00m e:\n",
      "File \u001b[1;32mC:\\anaconda\\lib\\site-packages\\matplotlib\\category.py:57\u001b[0m, in \u001b[0;36mStrCategoryConverter.convert\u001b[1;34m(value, unit, axis)\u001b[0m\n\u001b[0;32m     56\u001b[0m \u001b[38;5;66;03m# force an update so it also does type checking\u001b[39;00m\n\u001b[1;32m---> 57\u001b[0m \u001b[43munit\u001b[49m\u001b[38;5;241;43m.\u001b[39;49m\u001b[43mupdate\u001b[49m\u001b[43m(\u001b[49m\u001b[43mvalues\u001b[49m\u001b[43m)\u001b[49m\n\u001b[0;32m     58\u001b[0m \u001b[38;5;28;01mreturn\u001b[39;00m np\u001b[38;5;241m.\u001b[39mvectorize(unit\u001b[38;5;241m.\u001b[39m_mapping\u001b[38;5;241m.\u001b[39m\u001b[38;5;21m__getitem__\u001b[39m, otypes\u001b[38;5;241m=\u001b[39m[\u001b[38;5;28mfloat\u001b[39m])(values)\n",
      "File \u001b[1;32mC:\\anaconda\\lib\\site-packages\\matplotlib\\category.py:216\u001b[0m, in \u001b[0;36mUnitData.update\u001b[1;34m(self, data)\u001b[0m\n\u001b[0;32m    214\u001b[0m \u001b[38;5;28;01mfor\u001b[39;00m val \u001b[38;5;129;01min\u001b[39;00m OrderedDict\u001b[38;5;241m.\u001b[39mfromkeys(data):\n\u001b[0;32m    215\u001b[0m     \u001b[38;5;66;03m# OrderedDict just iterates over unique values in data.\u001b[39;00m\n\u001b[1;32m--> 216\u001b[0m     \u001b[43m_api\u001b[49m\u001b[38;5;241;43m.\u001b[39;49m\u001b[43mcheck_isinstance\u001b[49m\u001b[43m(\u001b[49m\u001b[43m(\u001b[49m\u001b[38;5;28;43mstr\u001b[39;49m\u001b[43m,\u001b[49m\u001b[43m \u001b[49m\u001b[38;5;28;43mbytes\u001b[39;49m\u001b[43m)\u001b[49m\u001b[43m,\u001b[49m\u001b[43m \u001b[49m\u001b[43mvalue\u001b[49m\u001b[38;5;241;43m=\u001b[39;49m\u001b[43mval\u001b[49m\u001b[43m)\u001b[49m\n\u001b[0;32m    217\u001b[0m     \u001b[38;5;28;01mif\u001b[39;00m convertible:\n\u001b[0;32m    218\u001b[0m         \u001b[38;5;66;03m# this will only be called so long as convertible is True.\u001b[39;00m\n",
      "File \u001b[1;32mC:\\anaconda\\lib\\site-packages\\matplotlib\\_api\\__init__.py:93\u001b[0m, in \u001b[0;36mcheck_isinstance\u001b[1;34m(_types, **kwargs)\u001b[0m\n\u001b[0;32m     92\u001b[0m     names\u001b[38;5;241m.\u001b[39mappend(\u001b[38;5;124m\"\u001b[39m\u001b[38;5;124mNone\u001b[39m\u001b[38;5;124m\"\u001b[39m)\n\u001b[1;32m---> 93\u001b[0m \u001b[38;5;28;01mraise\u001b[39;00m \u001b[38;5;167;01mTypeError\u001b[39;00m(\n\u001b[0;32m     94\u001b[0m     \u001b[38;5;124m\"\u001b[39m\u001b[38;5;132;01m{!r}\u001b[39;00m\u001b[38;5;124m must be an instance of \u001b[39m\u001b[38;5;132;01m{}\u001b[39;00m\u001b[38;5;124m, not a \u001b[39m\u001b[38;5;132;01m{}\u001b[39;00m\u001b[38;5;124m\"\u001b[39m\u001b[38;5;241m.\u001b[39mformat(\n\u001b[0;32m     95\u001b[0m         k,\n\u001b[0;32m     96\u001b[0m         \u001b[38;5;124m\"\u001b[39m\u001b[38;5;124m, \u001b[39m\u001b[38;5;124m\"\u001b[39m\u001b[38;5;241m.\u001b[39mjoin(names[:\u001b[38;5;241m-\u001b[39m\u001b[38;5;241m1\u001b[39m]) \u001b[38;5;241m+\u001b[39m \u001b[38;5;124m\"\u001b[39m\u001b[38;5;124m or \u001b[39m\u001b[38;5;124m\"\u001b[39m \u001b[38;5;241m+\u001b[39m names[\u001b[38;5;241m-\u001b[39m\u001b[38;5;241m1\u001b[39m]\n\u001b[0;32m     97\u001b[0m         \u001b[38;5;28;01mif\u001b[39;00m \u001b[38;5;28mlen\u001b[39m(names) \u001b[38;5;241m>\u001b[39m \u001b[38;5;241m1\u001b[39m \u001b[38;5;28;01melse\u001b[39;00m names[\u001b[38;5;241m0\u001b[39m],\n\u001b[0;32m     98\u001b[0m         type_name(\u001b[38;5;28mtype\u001b[39m(v))))\n",
      "\u001b[1;31mTypeError\u001b[0m: 'value' must be an instance of str or bytes, not a int",
      "\nThe above exception was the direct cause of the following exception:\n",
      "\u001b[1;31mConversionError\u001b[0m                           Traceback (most recent call last)",
      "Cell \u001b[1;32mIn[39], line 20\u001b[0m\n\u001b[0;32m     18\u001b[0m plt\u001b[38;5;241m.\u001b[39maxhline(y\u001b[38;5;241m=\u001b[39m\u001b[38;5;241m0\u001b[39m, color\u001b[38;5;241m=\u001b[39m\u001b[38;5;124m'\u001b[39m\u001b[38;5;124mblack\u001b[39m\u001b[38;5;124m'\u001b[39m, linestyle\u001b[38;5;241m=\u001b[39m\u001b[38;5;124m'\u001b[39m\u001b[38;5;124m--\u001b[39m\u001b[38;5;124m'\u001b[39m)\n\u001b[0;32m     19\u001b[0m plt\u001b[38;5;241m.\u001b[39maxhline(y\u001b[38;5;241m=\u001b[39m\u001b[38;5;241m-\u001b[39m\u001b[38;5;241m0.1\u001b[39m, color\u001b[38;5;241m=\u001b[39m\u001b[38;5;124m'\u001b[39m\u001b[38;5;124mgrey\u001b[39m\u001b[38;5;124m'\u001b[39m, linestyle\u001b[38;5;241m=\u001b[39m\u001b[38;5;124m'\u001b[39m\u001b[38;5;124m--\u001b[39m\u001b[38;5;124m'\u001b[39m)\n\u001b[1;32m---> 20\u001b[0m \u001b[43mplt\u001b[49m\u001b[38;5;241;43m.\u001b[39;49m\u001b[43maxis\u001b[49m\u001b[43m(\u001b[49m\u001b[43m[\u001b[49m\u001b[38;5;124;43m'\u001b[39;49m\u001b[38;5;124;43m2019-08-01\u001b[39;49m\u001b[38;5;124;43m'\u001b[39;49m\u001b[43m,\u001b[49m\u001b[43m \u001b[49m\u001b[38;5;124;43m'\u001b[39;49m\u001b[38;5;124;43m2019-09-01\u001b[39;49m\u001b[38;5;124;43m'\u001b[39;49m\u001b[43m,\u001b[49m\u001b[43m \u001b[49m\u001b[38;5;241;43m-\u001b[39;49m\u001b[38;5;241;43m0.5\u001b[39;49m\u001b[43m,\u001b[49m\u001b[43m \u001b[49m\u001b[38;5;241;43m0.5\u001b[39;49m\u001b[43m]\u001b[49m\u001b[43m)\u001b[49m\n",
      "File \u001b[1;32mC:\\anaconda\\lib\\site-packages\\matplotlib\\pyplot.py:2386\u001b[0m, in \u001b[0;36maxis\u001b[1;34m(arg, emit, **kwargs)\u001b[0m\n\u001b[0;32m   2384\u001b[0m \u001b[38;5;129m@_copy_docstring_and_deprecators\u001b[39m(Axes\u001b[38;5;241m.\u001b[39maxis)\n\u001b[0;32m   2385\u001b[0m \u001b[38;5;28;01mdef\u001b[39;00m \u001b[38;5;21maxis\u001b[39m(arg\u001b[38;5;241m=\u001b[39m\u001b[38;5;28;01mNone\u001b[39;00m, \u001b[38;5;241m/\u001b[39m, \u001b[38;5;241m*\u001b[39m, emit\u001b[38;5;241m=\u001b[39m\u001b[38;5;28;01mTrue\u001b[39;00m, \u001b[38;5;241m*\u001b[39m\u001b[38;5;241m*\u001b[39mkwargs):\n\u001b[1;32m-> 2386\u001b[0m     \u001b[38;5;28;01mreturn\u001b[39;00m gca()\u001b[38;5;241m.\u001b[39maxis(arg, emit\u001b[38;5;241m=\u001b[39memit, \u001b[38;5;241m*\u001b[39m\u001b[38;5;241m*\u001b[39mkwargs)\n",
      "File \u001b[1;32mC:\\anaconda\\lib\\site-packages\\matplotlib\\axes\\_base.py:2124\u001b[0m, in \u001b[0;36m_AxesBase.axis\u001b[1;34m(self, arg, emit, **kwargs)\u001b[0m\n\u001b[0;32m   2118\u001b[0m     xauto \u001b[38;5;241m=\u001b[39m (\u001b[38;5;28;01mNone\u001b[39;00m  \u001b[38;5;66;03m# Keep autoscale state as is.\u001b[39;00m\n\u001b[0;32m   2119\u001b[0m              \u001b[38;5;28;01mif\u001b[39;00m xmin \u001b[38;5;129;01mis\u001b[39;00m \u001b[38;5;28;01mNone\u001b[39;00m \u001b[38;5;129;01mand\u001b[39;00m xmax \u001b[38;5;129;01mis\u001b[39;00m \u001b[38;5;28;01mNone\u001b[39;00m\n\u001b[0;32m   2120\u001b[0m              \u001b[38;5;28;01melse\u001b[39;00m \u001b[38;5;28;01mFalse\u001b[39;00m)  \u001b[38;5;66;03m# Turn off autoscale.\u001b[39;00m\n\u001b[0;32m   2121\u001b[0m     yauto \u001b[38;5;241m=\u001b[39m (\u001b[38;5;28;01mNone\u001b[39;00m\n\u001b[0;32m   2122\u001b[0m              \u001b[38;5;28;01mif\u001b[39;00m ymin \u001b[38;5;129;01mis\u001b[39;00m \u001b[38;5;28;01mNone\u001b[39;00m \u001b[38;5;129;01mand\u001b[39;00m ymax \u001b[38;5;129;01mis\u001b[39;00m \u001b[38;5;28;01mNone\u001b[39;00m\n\u001b[0;32m   2123\u001b[0m              \u001b[38;5;28;01melse\u001b[39;00m \u001b[38;5;28;01mFalse\u001b[39;00m)\n\u001b[1;32m-> 2124\u001b[0m     \u001b[38;5;28;43mself\u001b[39;49m\u001b[38;5;241;43m.\u001b[39;49m\u001b[43mset_xlim\u001b[49m\u001b[43m(\u001b[49m\u001b[43mxmin\u001b[49m\u001b[43m,\u001b[49m\u001b[43m \u001b[49m\u001b[43mxmax\u001b[49m\u001b[43m,\u001b[49m\u001b[43m \u001b[49m\u001b[43memit\u001b[49m\u001b[38;5;241;43m=\u001b[39;49m\u001b[43memit\u001b[49m\u001b[43m,\u001b[49m\u001b[43m \u001b[49m\u001b[43mauto\u001b[49m\u001b[38;5;241;43m=\u001b[39;49m\u001b[43mxauto\u001b[49m\u001b[43m)\u001b[49m\n\u001b[0;32m   2125\u001b[0m     \u001b[38;5;28mself\u001b[39m\u001b[38;5;241m.\u001b[39mset_ylim(ymin, ymax, emit\u001b[38;5;241m=\u001b[39memit, auto\u001b[38;5;241m=\u001b[39myauto)\n\u001b[0;32m   2126\u001b[0m \u001b[38;5;28;01mif\u001b[39;00m kwargs:\n",
      "File \u001b[1;32mC:\\anaconda\\lib\\site-packages\\matplotlib\\_api\\deprecation.py:454\u001b[0m, in \u001b[0;36mmake_keyword_only.<locals>.wrapper\u001b[1;34m(*args, **kwargs)\u001b[0m\n\u001b[0;32m    448\u001b[0m \u001b[38;5;28;01mif\u001b[39;00m \u001b[38;5;28mlen\u001b[39m(args) \u001b[38;5;241m>\u001b[39m name_idx:\n\u001b[0;32m    449\u001b[0m     warn_deprecated(\n\u001b[0;32m    450\u001b[0m         since, message\u001b[38;5;241m=\u001b[39m\u001b[38;5;124m\"\u001b[39m\u001b[38;5;124mPassing the \u001b[39m\u001b[38;5;132;01m%(name)s\u001b[39;00m\u001b[38;5;124m \u001b[39m\u001b[38;5;132;01m%(obj_type)s\u001b[39;00m\u001b[38;5;124m \u001b[39m\u001b[38;5;124m\"\u001b[39m\n\u001b[0;32m    451\u001b[0m         \u001b[38;5;124m\"\u001b[39m\u001b[38;5;124mpositionally is deprecated since Matplotlib \u001b[39m\u001b[38;5;132;01m%(since)s\u001b[39;00m\u001b[38;5;124m; the \u001b[39m\u001b[38;5;124m\"\u001b[39m\n\u001b[0;32m    452\u001b[0m         \u001b[38;5;124m\"\u001b[39m\u001b[38;5;124mparameter will become keyword-only \u001b[39m\u001b[38;5;132;01m%(removal)s\u001b[39;00m\u001b[38;5;124m.\u001b[39m\u001b[38;5;124m\"\u001b[39m,\n\u001b[0;32m    453\u001b[0m         name\u001b[38;5;241m=\u001b[39mname, obj_type\u001b[38;5;241m=\u001b[39m\u001b[38;5;124mf\u001b[39m\u001b[38;5;124m\"\u001b[39m\u001b[38;5;124mparameter of \u001b[39m\u001b[38;5;132;01m{\u001b[39;00mfunc\u001b[38;5;241m.\u001b[39m\u001b[38;5;18m__name__\u001b[39m\u001b[38;5;132;01m}\u001b[39;00m\u001b[38;5;124m()\u001b[39m\u001b[38;5;124m\"\u001b[39m)\n\u001b[1;32m--> 454\u001b[0m \u001b[38;5;28;01mreturn\u001b[39;00m func(\u001b[38;5;241m*\u001b[39margs, \u001b[38;5;241m*\u001b[39m\u001b[38;5;241m*\u001b[39mkwargs)\n",
      "File \u001b[1;32mC:\\anaconda\\lib\\site-packages\\matplotlib\\axes\\_base.py:3652\u001b[0m, in \u001b[0;36m_AxesBase.set_xlim\u001b[1;34m(self, left, right, emit, auto, xmin, xmax)\u001b[0m\n\u001b[0;32m   3650\u001b[0m         \u001b[38;5;28;01mraise\u001b[39;00m \u001b[38;5;167;01mTypeError\u001b[39;00m(\u001b[38;5;124m\"\u001b[39m\u001b[38;5;124mCannot pass both \u001b[39m\u001b[38;5;124m'\u001b[39m\u001b[38;5;124mright\u001b[39m\u001b[38;5;124m'\u001b[39m\u001b[38;5;124m and \u001b[39m\u001b[38;5;124m'\u001b[39m\u001b[38;5;124mxmax\u001b[39m\u001b[38;5;124m'\u001b[39m\u001b[38;5;124m\"\u001b[39m)\n\u001b[0;32m   3651\u001b[0m     right \u001b[38;5;241m=\u001b[39m xmax\n\u001b[1;32m-> 3652\u001b[0m \u001b[38;5;28;01mreturn\u001b[39;00m \u001b[38;5;28;43mself\u001b[39;49m\u001b[38;5;241;43m.\u001b[39;49m\u001b[43mxaxis\u001b[49m\u001b[38;5;241;43m.\u001b[39;49m\u001b[43m_set_lim\u001b[49m\u001b[43m(\u001b[49m\u001b[43mleft\u001b[49m\u001b[43m,\u001b[49m\u001b[43m \u001b[49m\u001b[43mright\u001b[49m\u001b[43m,\u001b[49m\u001b[43m \u001b[49m\u001b[43memit\u001b[49m\u001b[38;5;241;43m=\u001b[39;49m\u001b[43memit\u001b[49m\u001b[43m,\u001b[49m\u001b[43m \u001b[49m\u001b[43mauto\u001b[49m\u001b[38;5;241;43m=\u001b[39;49m\u001b[43mauto\u001b[49m\u001b[43m)\u001b[49m\n",
      "File \u001b[1;32mC:\\anaconda\\lib\\site-packages\\matplotlib\\axis.py:1178\u001b[0m, in \u001b[0;36mAxis._set_lim\u001b[1;34m(self, v0, v1, emit, auto)\u001b[0m\n\u001b[0;32m   1158\u001b[0m \u001b[38;5;124;03m\"\"\"\u001b[39;00m\n\u001b[0;32m   1159\u001b[0m \u001b[38;5;124;03mSet view limits.\u001b[39;00m\n\u001b[0;32m   1160\u001b[0m \n\u001b[1;32m   (...)\u001b[0m\n\u001b[0;32m   1173\u001b[0m \u001b[38;5;124;03m    turns off, None leaves unchanged.\u001b[39;00m\n\u001b[0;32m   1174\u001b[0m \u001b[38;5;124;03m\"\"\"\u001b[39;00m\n\u001b[0;32m   1175\u001b[0m name, \u001b[38;5;241m=\u001b[39m [name \u001b[38;5;28;01mfor\u001b[39;00m name, axis \u001b[38;5;129;01min\u001b[39;00m \u001b[38;5;28mself\u001b[39m\u001b[38;5;241m.\u001b[39maxes\u001b[38;5;241m.\u001b[39m_axis_map\u001b[38;5;241m.\u001b[39mitems()\n\u001b[0;32m   1176\u001b[0m          \u001b[38;5;28;01mif\u001b[39;00m axis \u001b[38;5;129;01mis\u001b[39;00m \u001b[38;5;28mself\u001b[39m]  \u001b[38;5;66;03m# The axis name.\u001b[39;00m\n\u001b[1;32m-> 1178\u001b[0m \u001b[38;5;28;43mself\u001b[39;49m\u001b[38;5;241;43m.\u001b[39;49m\u001b[43maxes\u001b[49m\u001b[38;5;241;43m.\u001b[39;49m\u001b[43m_process_unit_info\u001b[49m\u001b[43m(\u001b[49m\u001b[43m[\u001b[49m\u001b[43m(\u001b[49m\u001b[43mname\u001b[49m\u001b[43m,\u001b[49m\u001b[43m \u001b[49m\u001b[43m(\u001b[49m\u001b[43mv0\u001b[49m\u001b[43m,\u001b[49m\u001b[43m \u001b[49m\u001b[43mv1\u001b[49m\u001b[43m)\u001b[49m\u001b[43m)\u001b[49m\u001b[43m]\u001b[49m\u001b[43m,\u001b[49m\u001b[43m \u001b[49m\u001b[43mconvert\u001b[49m\u001b[38;5;241;43m=\u001b[39;49m\u001b[38;5;28;43;01mFalse\u001b[39;49;00m\u001b[43m)\u001b[49m\n\u001b[0;32m   1179\u001b[0m v0 \u001b[38;5;241m=\u001b[39m \u001b[38;5;28mself\u001b[39m\u001b[38;5;241m.\u001b[39maxes\u001b[38;5;241m.\u001b[39m_validate_converted_limits(v0, \u001b[38;5;28mself\u001b[39m\u001b[38;5;241m.\u001b[39mconvert_units)\n\u001b[0;32m   1180\u001b[0m v1 \u001b[38;5;241m=\u001b[39m \u001b[38;5;28mself\u001b[39m\u001b[38;5;241m.\u001b[39maxes\u001b[38;5;241m.\u001b[39m_validate_converted_limits(v1, \u001b[38;5;28mself\u001b[39m\u001b[38;5;241m.\u001b[39mconvert_units)\n",
      "File \u001b[1;32mC:\\anaconda\\lib\\site-packages\\matplotlib\\axes\\_base.py:2551\u001b[0m, in \u001b[0;36m_AxesBase._process_unit_info\u001b[1;34m(self, datasets, kwargs, convert)\u001b[0m\n\u001b[0;32m   2547\u001b[0m     \u001b[38;5;66;03m# Update from data if axis is already set but no unit is set yet.\u001b[39;00m\n\u001b[0;32m   2548\u001b[0m     \u001b[38;5;28;01mif\u001b[39;00m (axis \u001b[38;5;129;01mis\u001b[39;00m \u001b[38;5;129;01mnot\u001b[39;00m \u001b[38;5;28;01mNone\u001b[39;00m \u001b[38;5;129;01mand\u001b[39;00m\n\u001b[0;32m   2549\u001b[0m             data \u001b[38;5;129;01mis\u001b[39;00m \u001b[38;5;129;01mnot\u001b[39;00m \u001b[38;5;28;01mNone\u001b[39;00m \u001b[38;5;129;01mand\u001b[39;00m\n\u001b[0;32m   2550\u001b[0m             \u001b[38;5;129;01mnot\u001b[39;00m axis\u001b[38;5;241m.\u001b[39m_have_units_and_converter()):\n\u001b[1;32m-> 2551\u001b[0m         \u001b[43maxis\u001b[49m\u001b[38;5;241;43m.\u001b[39;49m\u001b[43mupdate_units\u001b[49m\u001b[43m(\u001b[49m\u001b[43mdata\u001b[49m\u001b[43m)\u001b[49m\n\u001b[0;32m   2552\u001b[0m \u001b[38;5;28;01mfor\u001b[39;00m axis_name, axis \u001b[38;5;129;01min\u001b[39;00m axis_map\u001b[38;5;241m.\u001b[39mitems():\n\u001b[0;32m   2553\u001b[0m     \u001b[38;5;66;03m# Return if no axis is set.\u001b[39;00m\n\u001b[0;32m   2554\u001b[0m     \u001b[38;5;28;01mif\u001b[39;00m axis \u001b[38;5;129;01mis\u001b[39;00m \u001b[38;5;28;01mNone\u001b[39;00m:\n",
      "File \u001b[1;32mC:\\anaconda\\lib\\site-packages\\matplotlib\\axis.py:1670\u001b[0m, in \u001b[0;36mAxis.update_units\u001b[1;34m(self, data)\u001b[0m\n\u001b[0;32m   1668\u001b[0m neednew \u001b[38;5;241m=\u001b[39m \u001b[38;5;28mself\u001b[39m\u001b[38;5;241m.\u001b[39mconverter \u001b[38;5;241m!=\u001b[39m converter\n\u001b[0;32m   1669\u001b[0m \u001b[38;5;28mself\u001b[39m\u001b[38;5;241m.\u001b[39mconverter \u001b[38;5;241m=\u001b[39m converter\n\u001b[1;32m-> 1670\u001b[0m default \u001b[38;5;241m=\u001b[39m \u001b[38;5;28;43mself\u001b[39;49m\u001b[38;5;241;43m.\u001b[39;49m\u001b[43mconverter\u001b[49m\u001b[38;5;241;43m.\u001b[39;49m\u001b[43mdefault_units\u001b[49m\u001b[43m(\u001b[49m\u001b[43mdata\u001b[49m\u001b[43m,\u001b[49m\u001b[43m \u001b[49m\u001b[38;5;28;43mself\u001b[39;49m\u001b[43m)\u001b[49m\n\u001b[0;32m   1671\u001b[0m \u001b[38;5;28;01mif\u001b[39;00m default \u001b[38;5;129;01mis\u001b[39;00m \u001b[38;5;129;01mnot\u001b[39;00m \u001b[38;5;28;01mNone\u001b[39;00m \u001b[38;5;129;01mand\u001b[39;00m \u001b[38;5;28mself\u001b[39m\u001b[38;5;241m.\u001b[39munits \u001b[38;5;129;01mis\u001b[39;00m \u001b[38;5;28;01mNone\u001b[39;00m:\n\u001b[0;32m   1672\u001b[0m     \u001b[38;5;28mself\u001b[39m\u001b[38;5;241m.\u001b[39mset_units(default)\n",
      "File \u001b[1;32mC:\\anaconda\\lib\\site-packages\\matplotlib\\category.py:105\u001b[0m, in \u001b[0;36mStrCategoryConverter.default_units\u001b[1;34m(data, axis)\u001b[0m\n\u001b[0;32m    103\u001b[0m \u001b[38;5;66;03m# the conversion call stack is default_units -> axis_info -> convert\u001b[39;00m\n\u001b[0;32m    104\u001b[0m \u001b[38;5;28;01mif\u001b[39;00m axis\u001b[38;5;241m.\u001b[39munits \u001b[38;5;129;01mis\u001b[39;00m \u001b[38;5;28;01mNone\u001b[39;00m:\n\u001b[1;32m--> 105\u001b[0m     \u001b[43maxis\u001b[49m\u001b[38;5;241;43m.\u001b[39;49m\u001b[43mset_units\u001b[49m\u001b[43m(\u001b[49m\u001b[43mUnitData\u001b[49m\u001b[43m(\u001b[49m\u001b[43mdata\u001b[49m\u001b[43m)\u001b[49m\u001b[43m)\u001b[49m\n\u001b[0;32m    106\u001b[0m \u001b[38;5;28;01melse\u001b[39;00m:\n\u001b[0;32m    107\u001b[0m     axis\u001b[38;5;241m.\u001b[39munits\u001b[38;5;241m.\u001b[39mupdate(data)\n",
      "File \u001b[1;32mC:\\anaconda\\lib\\site-packages\\matplotlib\\axis.py:1768\u001b[0m, in \u001b[0;36mAxis.set_units\u001b[1;34m(self, u)\u001b[0m\n\u001b[0;32m   1766\u001b[0m axis\u001b[38;5;241m.\u001b[39munits \u001b[38;5;241m=\u001b[39m u\n\u001b[0;32m   1767\u001b[0m axis\u001b[38;5;241m.\u001b[39m_update_axisinfo()\n\u001b[1;32m-> 1768\u001b[0m \u001b[43maxis\u001b[49m\u001b[38;5;241;43m.\u001b[39;49m\u001b[43mcallbacks\u001b[49m\u001b[38;5;241;43m.\u001b[39;49m\u001b[43mprocess\u001b[49m\u001b[43m(\u001b[49m\u001b[38;5;124;43m'\u001b[39;49m\u001b[38;5;124;43munits\u001b[39;49m\u001b[38;5;124;43m'\u001b[39;49m\u001b[43m)\u001b[49m\n\u001b[0;32m   1769\u001b[0m axis\u001b[38;5;241m.\u001b[39mstale \u001b[38;5;241m=\u001b[39m \u001b[38;5;28;01mTrue\u001b[39;00m\n",
      "File \u001b[1;32mC:\\anaconda\\lib\\site-packages\\matplotlib\\cbook\\__init__.py:309\u001b[0m, in \u001b[0;36mCallbackRegistry.process\u001b[1;34m(self, s, *args, **kwargs)\u001b[0m\n\u001b[0;32m    307\u001b[0m \u001b[38;5;28;01mexcept\u001b[39;00m \u001b[38;5;167;01mException\u001b[39;00m \u001b[38;5;28;01mas\u001b[39;00m exc:\n\u001b[0;32m    308\u001b[0m     \u001b[38;5;28;01mif\u001b[39;00m \u001b[38;5;28mself\u001b[39m\u001b[38;5;241m.\u001b[39mexception_handler \u001b[38;5;129;01mis\u001b[39;00m \u001b[38;5;129;01mnot\u001b[39;00m \u001b[38;5;28;01mNone\u001b[39;00m:\n\u001b[1;32m--> 309\u001b[0m         \u001b[38;5;28;43mself\u001b[39;49m\u001b[38;5;241;43m.\u001b[39;49m\u001b[43mexception_handler\u001b[49m\u001b[43m(\u001b[49m\u001b[43mexc\u001b[49m\u001b[43m)\u001b[49m\n\u001b[0;32m    310\u001b[0m     \u001b[38;5;28;01melse\u001b[39;00m:\n\u001b[0;32m    311\u001b[0m         \u001b[38;5;28;01mraise\u001b[39;00m\n",
      "File \u001b[1;32mC:\\anaconda\\lib\\site-packages\\matplotlib\\cbook\\__init__.py:96\u001b[0m, in \u001b[0;36m_exception_printer\u001b[1;34m(exc)\u001b[0m\n\u001b[0;32m     94\u001b[0m \u001b[38;5;28;01mdef\u001b[39;00m \u001b[38;5;21m_exception_printer\u001b[39m(exc):\n\u001b[0;32m     95\u001b[0m     \u001b[38;5;28;01mif\u001b[39;00m _get_running_interactive_framework() \u001b[38;5;129;01min\u001b[39;00m [\u001b[38;5;124m\"\u001b[39m\u001b[38;5;124mheadless\u001b[39m\u001b[38;5;124m\"\u001b[39m, \u001b[38;5;28;01mNone\u001b[39;00m]:\n\u001b[1;32m---> 96\u001b[0m         \u001b[38;5;28;01mraise\u001b[39;00m exc\n\u001b[0;32m     97\u001b[0m     \u001b[38;5;28;01melse\u001b[39;00m:\n\u001b[0;32m     98\u001b[0m         traceback\u001b[38;5;241m.\u001b[39mprint_exc()\n",
      "File \u001b[1;32mC:\\anaconda\\lib\\site-packages\\matplotlib\\cbook\\__init__.py:304\u001b[0m, in \u001b[0;36mCallbackRegistry.process\u001b[1;34m(self, s, *args, **kwargs)\u001b[0m\n\u001b[0;32m    302\u001b[0m \u001b[38;5;28;01mif\u001b[39;00m func \u001b[38;5;129;01mis\u001b[39;00m \u001b[38;5;129;01mnot\u001b[39;00m \u001b[38;5;28;01mNone\u001b[39;00m:\n\u001b[0;32m    303\u001b[0m     \u001b[38;5;28;01mtry\u001b[39;00m:\n\u001b[1;32m--> 304\u001b[0m         func(\u001b[38;5;241m*\u001b[39margs, \u001b[38;5;241m*\u001b[39m\u001b[38;5;241m*\u001b[39mkwargs)\n\u001b[0;32m    305\u001b[0m     \u001b[38;5;66;03m# this does not capture KeyboardInterrupt, SystemExit,\u001b[39;00m\n\u001b[0;32m    306\u001b[0m     \u001b[38;5;66;03m# and GeneratorExit\u001b[39;00m\n\u001b[0;32m    307\u001b[0m     \u001b[38;5;28;01mexcept\u001b[39;00m \u001b[38;5;167;01mException\u001b[39;00m \u001b[38;5;28;01mas\u001b[39;00m exc:\n",
      "File \u001b[1;32mC:\\anaconda\\lib\\site-packages\\matplotlib\\axes\\_base.py:2455\u001b[0m, in \u001b[0;36m_AxesBase._unit_change_handler\u001b[1;34m(self, axis_name, event)\u001b[0m\n\u001b[0;32m   2453\u001b[0m _api\u001b[38;5;241m.\u001b[39mcheck_in_list(\u001b[38;5;28mself\u001b[39m\u001b[38;5;241m.\u001b[39m_axis_map, axis_name\u001b[38;5;241m=\u001b[39maxis_name)\n\u001b[0;32m   2454\u001b[0m \u001b[38;5;28;01mfor\u001b[39;00m line \u001b[38;5;129;01min\u001b[39;00m \u001b[38;5;28mself\u001b[39m\u001b[38;5;241m.\u001b[39mlines:\n\u001b[1;32m-> 2455\u001b[0m     \u001b[43mline\u001b[49m\u001b[38;5;241;43m.\u001b[39;49m\u001b[43mrecache_always\u001b[49m\u001b[43m(\u001b[49m\u001b[43m)\u001b[49m\n\u001b[0;32m   2456\u001b[0m \u001b[38;5;28mself\u001b[39m\u001b[38;5;241m.\u001b[39mrelim()\n\u001b[0;32m   2457\u001b[0m \u001b[38;5;28mself\u001b[39m\u001b[38;5;241m.\u001b[39m_request_autoscale_view(axis_name)\n",
      "File \u001b[1;32mC:\\anaconda\\lib\\site-packages\\matplotlib\\lines.py:652\u001b[0m, in \u001b[0;36mLine2D.recache_always\u001b[1;34m(self)\u001b[0m\n\u001b[0;32m    651\u001b[0m \u001b[38;5;28;01mdef\u001b[39;00m \u001b[38;5;21mrecache_always\u001b[39m(\u001b[38;5;28mself\u001b[39m):\n\u001b[1;32m--> 652\u001b[0m     \u001b[38;5;28;43mself\u001b[39;49m\u001b[38;5;241;43m.\u001b[39;49m\u001b[43mrecache\u001b[49m\u001b[43m(\u001b[49m\u001b[43malways\u001b[49m\u001b[38;5;241;43m=\u001b[39;49m\u001b[38;5;28;43;01mTrue\u001b[39;49;00m\u001b[43m)\u001b[49m\n",
      "File \u001b[1;32mC:\\anaconda\\lib\\site-packages\\matplotlib\\lines.py:656\u001b[0m, in \u001b[0;36mLine2D.recache\u001b[1;34m(self, always)\u001b[0m\n\u001b[0;32m    654\u001b[0m \u001b[38;5;28;01mdef\u001b[39;00m \u001b[38;5;21mrecache\u001b[39m(\u001b[38;5;28mself\u001b[39m, always\u001b[38;5;241m=\u001b[39m\u001b[38;5;28;01mFalse\u001b[39;00m):\n\u001b[0;32m    655\u001b[0m     \u001b[38;5;28;01mif\u001b[39;00m always \u001b[38;5;129;01mor\u001b[39;00m \u001b[38;5;28mself\u001b[39m\u001b[38;5;241m.\u001b[39m_invalidx:\n\u001b[1;32m--> 656\u001b[0m         xconv \u001b[38;5;241m=\u001b[39m \u001b[38;5;28;43mself\u001b[39;49m\u001b[38;5;241;43m.\u001b[39;49m\u001b[43mconvert_xunits\u001b[49m\u001b[43m(\u001b[49m\u001b[38;5;28;43mself\u001b[39;49m\u001b[38;5;241;43m.\u001b[39;49m\u001b[43m_xorig\u001b[49m\u001b[43m)\u001b[49m\n\u001b[0;32m    657\u001b[0m         x \u001b[38;5;241m=\u001b[39m _to_unmasked_float_array(xconv)\u001b[38;5;241m.\u001b[39mravel()\n\u001b[0;32m    658\u001b[0m     \u001b[38;5;28;01melse\u001b[39;00m:\n",
      "File \u001b[1;32mC:\\anaconda\\lib\\site-packages\\matplotlib\\artist.py:281\u001b[0m, in \u001b[0;36mArtist.convert_xunits\u001b[1;34m(self, x)\u001b[0m\n\u001b[0;32m    279\u001b[0m \u001b[38;5;28;01mif\u001b[39;00m ax \u001b[38;5;129;01mis\u001b[39;00m \u001b[38;5;28;01mNone\u001b[39;00m \u001b[38;5;129;01mor\u001b[39;00m ax\u001b[38;5;241m.\u001b[39mxaxis \u001b[38;5;129;01mis\u001b[39;00m \u001b[38;5;28;01mNone\u001b[39;00m:\n\u001b[0;32m    280\u001b[0m     \u001b[38;5;28;01mreturn\u001b[39;00m x\n\u001b[1;32m--> 281\u001b[0m \u001b[38;5;28;01mreturn\u001b[39;00m \u001b[43max\u001b[49m\u001b[38;5;241;43m.\u001b[39;49m\u001b[43mxaxis\u001b[49m\u001b[38;5;241;43m.\u001b[39;49m\u001b[43mconvert_units\u001b[49m\u001b[43m(\u001b[49m\u001b[43mx\u001b[49m\u001b[43m)\u001b[49m\n",
      "File \u001b[1;32mC:\\anaconda\\lib\\site-packages\\matplotlib\\axis.py:1738\u001b[0m, in \u001b[0;36mAxis.convert_units\u001b[1;34m(self, x)\u001b[0m\n\u001b[0;32m   1736\u001b[0m     ret \u001b[38;5;241m=\u001b[39m \u001b[38;5;28mself\u001b[39m\u001b[38;5;241m.\u001b[39mconverter\u001b[38;5;241m.\u001b[39mconvert(x, \u001b[38;5;28mself\u001b[39m\u001b[38;5;241m.\u001b[39munits, \u001b[38;5;28mself\u001b[39m)\n\u001b[0;32m   1737\u001b[0m \u001b[38;5;28;01mexcept\u001b[39;00m \u001b[38;5;167;01mException\u001b[39;00m \u001b[38;5;28;01mas\u001b[39;00m e:\n\u001b[1;32m-> 1738\u001b[0m     \u001b[38;5;28;01mraise\u001b[39;00m munits\u001b[38;5;241m.\u001b[39mConversionError(\u001b[38;5;124m'\u001b[39m\u001b[38;5;124mFailed to convert value(s) to axis \u001b[39m\u001b[38;5;124m'\u001b[39m\n\u001b[0;32m   1739\u001b[0m                                  \u001b[38;5;124mf\u001b[39m\u001b[38;5;124m'\u001b[39m\u001b[38;5;124munits: \u001b[39m\u001b[38;5;132;01m{\u001b[39;00mx\u001b[38;5;132;01m!r}\u001b[39;00m\u001b[38;5;124m'\u001b[39m) \u001b[38;5;28;01mfrom\u001b[39;00m \u001b[38;5;21;01me\u001b[39;00m\n\u001b[0;32m   1740\u001b[0m \u001b[38;5;28;01mreturn\u001b[39;00m ret\n",
      "\u001b[1;31mConversionError\u001b[0m: Failed to convert value(s) to axis units: array(['2019-08-01T00:00:00.000000000', '2019-08-02T00:00:00.000000000',\n       '2019-08-03T00:00:00.000000000', '2019-08-04T00:00:00.000000000',\n       '2019-08-05T00:00:00.000000000', '2019-08-06T00:00:00.000000000',\n       '2019-08-07T00:00:00.000000000', '2019-08-08T00:00:00.000000000',\n       '2019-08-09T00:00:00.000000000', '2019-08-10T00:00:00.000000000',\n       '2019-08-11T00:00:00.000000000', '2019-08-12T00:00:00.000000000',\n       '2019-08-13T00:00:00.000000000', '2019-08-14T00:00:00.000000000',\n       '2019-08-15T00:00:00.000000000', '2019-08-16T00:00:00.000000000',\n       '2019-08-17T00:00:00.000000000', '2019-08-18T00:00:00.000000000',\n       '2019-08-19T00:00:00.000000000', '2019-08-20T00:00:00.000000000',\n       '2019-08-21T00:00:00.000000000', '2019-08-22T00:00:00.000000000',\n       '2019-08-23T00:00:00.000000000', '2019-08-24T00:00:00.000000000',\n       '2019-08-25T00:00:00.000000000', '2019-08-26T00:00:00.000000000',\n       '2019-08-27T00:00:00.000000000', '2019-08-28T00:00:00.000000000',\n       '2019-08-29T00:00:00.000000000', '2019-08-30T00:00:00.000000000',\n       '2019-08-31T00:00:00.000000000'], dtype='datetime64[ns]')"
     ]
    },
    {
     "data": {
      "image/png": "[encoded data removed]",
      "text/plain": [
       "<Figure size 1500x500 with 1 Axes>"
      ]
     },
     "metadata": {},
     "output_type": "display_data"
    }
   ],
   "source": [
    "mergedCumulativeConversions = cumulativeDataA[['date','conversion']].merge(cumulativeDataB[['date','conversion']], \n",
    "                                                                                               left_on='date', \n",
    "                                                                                               right_on='date', \n",
    "                                                                                               how='left', \n",
    "                                                                                               suffixes=['A', 'B'])\n",
    "\n",
    "# задаём размер сетки для графиков, названия графика и осей\n",
    "plt.figure(figsize=(15, 5))\n",
    "plt.grid()\n",
    "plt.title('График относительного изменения кумулятивной конверсии группы B к группе A')\n",
    "plt.xlabel('Дата')\n",
    "\n",
    "plt.plot(mergedCumulativeConversions['date'], \n",
    "         mergedCumulativeConversions['conversionB']/mergedCumulativeConversions['conversionA']-1, \n",
    "         label='Относительный прирост конверсии группы B относительно группы A')\n",
    "plt.legend()\n",
    "\n",
    "plt.axhline(y=0, color='black', linestyle='--')\n",
    "plt.axhline(y=-0.1, color='grey', linestyle='--')\n",
    "plt.axis(['2019-08-01', '2019-09-01', -0.5, 0.5])"
   ]
  },
  {
   "cell_type": "markdown",
   "metadata": {},
   "source": [
    "В начале теста группа B проигрывала группе A. С 6 августа группа В вырвалась вперёд и зафиксировалась примерно на одном уровне."
   ]
  },
  {
   "cell_type": "markdown",
   "metadata": {},
   "source": [
    "---\n",
    "### Точечный график количества заказов по пользователям"
   ]
  },
  {
   "cell_type": "code",
   "execution_count": null,
   "metadata": {},
   "outputs": [],
   "source": [
    "ordersByUsers = (\n",
    "    orders.groupby('visitor_id', as_index=False)\n",
    "    .agg({'transaction_id': 'nunique'})\n",
    ")\n",
    "ordersByUsers.columns = ['visitor_id', 'orders']\n",
    "\n",
    "\n",
    "# задаём размер сетки для графиков, названия графика и осей\n",
    "plt.figure(figsize=(15, 5))\n",
    "plt.grid()\n",
    "plt.title('Точечный график количества заказов по пользователям')\n",
    "plt.xlabel('Количество пользователей, чел.')\n",
    "plt.ylabel('Количество заказов, шт.')\n",
    "\n",
    "# серия из чисел от 0 до количества наблюдений в ordersByUsers\n",
    "x_values = pd.Series(range(0, len(ordersByUsers)))\n",
    "plt.scatter(x_values, ordersByUsers['orders']) "
   ]
  },
  {
   "cell_type": "markdown",
   "metadata": {},
   "source": [
    "Основная доля пользователей совершает 1 заказ. Достаточное количество пользователей совершают 2 заказа. Пользователей с 3 и более заказами крайне мало."
   ]
  },
  {
   "cell_type": "markdown",
   "metadata": {},
   "source": [
    "---\n",
    "### Расчет 95-го и 99-го перцентиля количества заказов на пользователя. Выбор границы для определения аномальных пользователей."
   ]
  },
  {
   "cell_type": "code",
   "execution_count": null,
   "metadata": {},
   "outputs": [],
   "source": [
    "# находит перцентили\n",
    "print('95 перцентиль: %.2f' % (np.percentile(ordersByUsers['orders'], [95])))\n",
    "print('99 перцентиль: %.2f' % (np.percentile(ordersByUsers['orders'], [99])))"
   ]
  },
  {
   "cell_type": "markdown",
   "metadata": {},
   "source": [
    "Не более 5% пользователей совершали больше 2 заказов. И не более 1% пользователей - больше 4 заказов.\\\n",
    "Определим 4 заказа на одного пользователя за верхнюю границу числа заказов и отсеим аномальных пользователей по ней."
   ]
  },
  {
   "cell_type": "markdown",
   "metadata": {},
   "source": [
    "---\n",
    "### Точечный график стоимостей заказов "
   ]
  },
  {
   "cell_type": "code",
   "execution_count": null,
   "metadata": {},
   "outputs": [],
   "source": [
    "# задаём размер сетки для графиков, названия графика и осей\n",
    "plt.figure(figsize=(15, 5))\n",
    "plt.grid()\n",
    "plt.title('Точечный график стоимостей заказов')\n",
    "plt.xlabel('Количество пользователей, чел.')\n",
    "plt.ylabel('Стоимость заказов, млн.')\n",
    "\n",
    "x_values = pd.Series(range(0, len(orders['revenue'])))\n",
    "plt.scatter(x_values, orders['revenue']) \n",
    "plt.show()"
   ]
  },
  {
   "cell_type": "markdown",
   "metadata": {},
   "source": [
    "На графике можно отметить 2 аномальных заказа со стоимостями более 1,2 млн. и 0,2 млн. Стоимость остальныз заказов значительно ниже."
   ]
  },
  {
   "cell_type": "markdown",
   "metadata": {},
   "source": [
    "---\n",
    "### Расчет 95-го и 99-го перцентиля стоимости заказов. Выбор границы для определения аномальных пользователей."
   ]
  },
  {
   "cell_type": "code",
   "execution_count": null,
   "metadata": {},
   "outputs": [],
   "source": [
    "# находит перцентили\n",
    "print('95 перцентиль: %.2f' % (np.percentile(orders['revenue'], [95])))\n",
    "print('99 перцентиль: %.2f' % (np.percentile(orders['revenue'], [99])))"
   ]
  },
  {
   "cell_type": "markdown",
   "metadata": {},
   "source": [
    "Не более, чем у 5% заказов чек дороже 28000. У 1% заказов чек составляет 58233. \\\n",
    "Определим 58233.20 за верхнюю границу стоимости заказа и отсеим аномальных пользователей по ней."
   ]
  },
  {
   "cell_type": "markdown",
   "metadata": {},
   "source": [
    "---\n",
    "### Расчет статистической значимости различий в среднем количестве заказов на посетителя между группами по «сырым» данным"
   ]
  },
  {
   "cell_type": "markdown",
   "metadata": {},
   "source": [
    "Н0 : различий в среднем количестве заказов между группами нет. \\\n",
    "Н1 : различия в среднем количестве заказов между группами есть."
   ]
  },
  {
   "cell_type": "code",
   "execution_count": null,
   "metadata": {},
   "outputs": [],
   "source": [
    "visitorsADaily = visitors[visitors['group'] == 'A'][['date', 'visitors']]\n",
    "visitorsADaily.columns = ['date', 'visitorsPerDateA']\n",
    "\n",
    "visitorsACummulative = visitorsADaily.apply(\n",
    "    lambda x: visitorsADaily[visitorsADaily['date'] <= x['date']].agg(\n",
    "        {'date': 'max', 'visitorsPerDateA': 'sum'}\n",
    "    ),\n",
    "    axis=1,\n",
    ")\n",
    "visitorsACummulative.columns = ['date', 'visitorsCummulativeA']\n",
    "\n",
    "visitorsBDaily = visitors[visitors['group'] == 'B'][['date', 'visitors']]\n",
    "visitorsBDaily.columns = ['date', 'visitorsPerDateB']\n",
    "\n",
    "visitorsBCummulative = visitorsBDaily.apply(\n",
    "    lambda x: visitorsBDaily[visitorsBDaily['date'] <= x['date']].agg(\n",
    "        {'date': 'max', 'visitorsPerDateB': 'sum'}\n",
    "    ),\n",
    "    axis=1,\n",
    ")\n",
    "visitorsBCummulative.columns = ['date', 'visitorsCummulativeB']\n",
    "\n",
    "ordersADaily = (\n",
    "    orders[orders['group'] == 'A'][['date', 'transaction_id', 'visitor_id', 'revenue']]\n",
    "    .groupby('date', as_index=False)\n",
    "    .agg({'transaction_id': pd.Series.nunique, 'revenue': 'sum'})\n",
    ")\n",
    "ordersADaily.columns = ['date', 'ordersPerDateA', 'revenuePerDateA']\n",
    "\n",
    "ordersACummulative = ordersADaily.apply(\n",
    "    lambda x: ordersADaily[ordersADaily['date'] <= x['date']].agg(\n",
    "        {'date': 'max', 'ordersPerDateA': 'sum', 'revenuePerDateA': 'sum'}\n",
    "    ),\n",
    "    axis=1,\n",
    ").sort_values(by=['date'])\n",
    "ordersACummulative.columns = [\n",
    "    'date',\n",
    "    'ordersCummulativeA',\n",
    "    'revenueCummulativeA',\n",
    "]\n",
    "\n",
    "ordersBDaily = (\n",
    "    orders[orders['group'] == 'B'][['date', 'transaction_id', 'visitor_id', 'revenue']]\n",
    "    .groupby('date', as_index=False)\n",
    "    .agg({'transaction_id': pd.Series.nunique, 'revenue': 'sum'})\n",
    ")\n",
    "ordersBDaily.columns = ['date', 'ordersPerDateB', 'revenuePerDateB']\n",
    "\n",
    "ordersBCummulative = ordersBDaily.apply(\n",
    "    lambda x: ordersBDaily[ordersBDaily['date'] <= x['date']].agg(\n",
    "        {'date': 'max', 'ordersPerDateB': 'sum', 'revenuePerDateB': 'sum'}\n",
    "    ),\n",
    "    axis=1,\n",
    ").sort_values(by=['date'])\n",
    "ordersBCummulative.columns = [\n",
    "    'date',\n",
    "    'ordersCummulativeB',\n",
    "    'revenueCummulativeB',\n",
    "]\n",
    "\n",
    "data = (\n",
    "    ordersADaily.merge(\n",
    "        ordersBDaily, left_on='date', right_on='date', how='left'\n",
    "    )\n",
    "    .merge(ordersACummulative, left_on='date', right_on='date', how='left')\n",
    "    .merge(ordersBCummulative, left_on='date', right_on='date', how='left')\n",
    "    .merge(visitorsADaily, left_on='date', right_on='date', how='left')\n",
    "    .merge(visitorsBDaily, left_on='date', right_on='date', how='left')\n",
    "    .merge(visitorsACummulative, left_on='date', right_on='date', how='left')\n",
    "    .merge(visitorsBCummulative, left_on='date', right_on='date', how='left')\n",
    ")\n",
    "\n",
    "\n",
    "ordersByUsersA = (\n",
    "    orders[orders['group'] == 'A']\n",
    "    .groupby('visitor_id', as_index=False)\n",
    "    .agg({'transaction_id': pd.Series.nunique})\n",
    ")\n",
    "ordersByUsersA.columns = ['visitor_id', 'orders']\n",
    "\n",
    "ordersByUsersB = (\n",
    "    orders[orders['group'] == 'B']\n",
    "    .groupby('visitor_id', as_index=False)\n",
    "    .agg({'transaction_id': pd.Series.nunique})\n",
    ")\n",
    "ordersByUsersB.columns = ['visitor_id', 'orders']\n",
    "\n",
    "sampleA = pd.concat(\n",
    "    [\n",
    "        ordersByUsersA['orders'],\n",
    "        pd.Series(\n",
    "            0,\n",
    "            index=np.arange(\n",
    "                data['visitorsPerDateA'].sum() - len(ordersByUsersA['orders'])\n",
    "            ),\n",
    "            name='orders',\n",
    "        ),\n",
    "    ],\n",
    "    axis=0,\n",
    ")\n",
    "\n",
    "sampleB = pd.concat(\n",
    "    [\n",
    "        ordersByUsersB['orders'],\n",
    "        pd.Series(\n",
    "            0,\n",
    "            index=np.arange(\n",
    "                data['visitorsPerDateB'].sum() - len(ordersByUsersB['orders'])\n",
    "            ),\n",
    "            name='orders',\n",
    "        ),\n",
    "    ],\n",
    "    axis=0,\n",
    ")\n",
    "\n",
    "print('p-value: {0:.5f}'.format(stats.mannwhitneyu(sampleA, sampleB)[1]))\n",
    "print('Относительный прирост среднего группы В к конверсии группы А: {0:.3f}'.format(sampleB.mean() / sampleA.mean() - 1))"
   ]
  },
  {
   "cell_type": "markdown",
   "metadata": {},
   "source": [
    "P-value меньше 0.05, значит нулевую гипотезу об отсутствии различий в среднем количестве заказов между группами отвергаем. Анализ \"сырых\" данных показал, что в среднем количестве заказов между группами есть статистически значимые различия.\\\n",
    "Относительный прирост среднего группы В к конверсии группы А равен 13.8%."
   ]
  },
  {
   "cell_type": "markdown",
   "metadata": {},
   "source": [
    "---\n",
    "### Расчет статистической значимости различий в среднем чеке между группами по «сырым» данным"
   ]
  },
  {
   "cell_type": "markdown",
   "metadata": {},
   "source": [
    "Н0 : различий в среднем чеке между группами нет. \\\n",
    "Н1 : различия в среднем чеке между группами есть."
   ]
  },
  {
   "cell_type": "code",
   "execution_count": null,
   "metadata": {},
   "outputs": [],
   "source": [
    "print('p-value: {0:.5f}'.format(stats.mannwhitneyu(orders[orders['group']=='A']['revenue'], \n",
    "                                                   orders[orders['group']=='B']['revenue'])[1]))\n",
    "print('Относительное различие среднего чека: {0:.3f}'.format(orders[orders['group']=='B']['revenue'].mean()\n",
    "                                                    /orders[orders['group']=='A']['revenue'].mean()-1))"
   ]
  },
  {
   "cell_type": "markdown",
   "metadata": {},
   "source": [
    "P-value значительно больше 0.05. Статистически значимых отличий в среднем чеке между группами нет. \n",
    "Относительное различие среднего чека между сегментами составляет 25,9%."
   ]
  },
  {
   "cell_type": "markdown",
   "metadata": {},
   "source": [
    "---\n",
    "### Расчет статистической значимости различий в среднем количестве заказов на посетителя между группами по «очищенным» данным"
   ]
  },
  {
   "cell_type": "code",
   "execution_count": null,
   "metadata": {},
   "outputs": [],
   "source": [
    "# зададим предельные значения для аномальных пользователей\n",
    "limit_orders = np.percentile(ordersByUsers['orders'], [99])\n",
    "limit_revenue = np.percentile(orders['revenue'], [99])"
   ]
  },
  {
   "cell_type": "code",
   "execution_count": null,
   "metadata": {},
   "outputs": [],
   "source": [
    "# срезы пользователей по количеству заказов\n",
    "usersWithManyOrders = pd.concat(\n",
    "    [\n",
    "        ordersByUsersA[ordersByUsersA['orders'] > limit_orders[0]]['visitor_id'],\n",
    "        ordersByUsersB[ordersByUsersB['orders'] > limit_orders[0]]['visitor_id'],\n",
    "    ],\n",
    "    axis=0,\n",
    ")\n",
    "\n",
    "# срезы пользователей по стоимости заказов\n",
    "usersWithExpensiveOrders = orders[orders['revenue'] > limit_revenue[0]]['visitor_id']\n",
    "abnormalUsers = (\n",
    "    pd.concat([usersWithManyOrders, usersWithExpensiveOrders], axis=0)\n",
    "    .drop_duplicates()\n",
    "    .sort_values()\n",
    ")\n",
    "\n",
    "print('Количество аномальных пользователей:', abnormalUsers.shape[0]) "
   ]
  },
  {
   "cell_type": "code",
   "execution_count": null,
   "metadata": {},
   "outputs": [],
   "source": [
    "#  сохраним очищенные данные о заказах\n",
    "sampleAFiltered = pd.concat(\n",
    "    [\n",
    "        ordersByUsersA[\n",
    "            np.logical_not(ordersByUsersA['visitor_id'].isin(abnormalUsers))\n",
    "        ]['orders'],\n",
    "        pd.Series(\n",
    "            0,\n",
    "            index=np.arange(\n",
    "                data['visitorsPerDateA'].sum() - len(ordersByUsersA['orders'])\n",
    "            ),\n",
    "            name='orders',\n",
    "        ),\n",
    "    ],\n",
    "    axis=0,\n",
    ")\n",
    "\n",
    "sampleBFiltered = pd.concat(\n",
    "    [\n",
    "        ordersByUsersB[\n",
    "            np.logical_not(ordersByUsersB['visitor_id'].isin(abnormalUsers))\n",
    "        ]['orders'],\n",
    "        pd.Series(\n",
    "            0,\n",
    "            index=np.arange(\n",
    "                data['visitorsPerDateB'].sum() - len(ordersByUsersB['orders'])\n",
    "            ),\n",
    "            name='orders',\n",
    "        ),\n",
    "    ],\n",
    "    axis=0,\n",
    ")"
   ]
  },
  {
   "cell_type": "markdown",
   "metadata": {},
   "source": [
    "Н0 : различий в среднем количестве заказов между группами нет. \\\n",
    "Н1 : различия в среднем количестве заказов между группами есть."
   ]
  },
  {
   "cell_type": "code",
   "execution_count": null,
   "metadata": {},
   "outputs": [],
   "source": [
    "print('p-value: {0:.5f}'.format(stats.mannwhitneyu(sampleAFiltered, sampleBFiltered)[1]))\n",
    "print('Относительный прирост среднего очищенной группы B: {0:.3f}'.format(sampleBFiltered.mean()\n",
    "                                                                          /sampleAFiltered.mean()-1))"
   ]
  },
  {
   "cell_type": "markdown",
   "metadata": {},
   "source": [
    "Как и по \"сырым\" данным P-value меньше 0.05, значит нулевую гипотезу об отсутствии различий в среднем количестве заказов между группами отвергаем. \\\n",
    "Относительный прирост среднего группы В к конверсии группы А равен 17.3%."
   ]
  },
  {
   "cell_type": "markdown",
   "metadata": {},
   "source": [
    "---\n",
    "### Расчет статистической значимости различий в среднем чеке между группами по «очищенным» данным"
   ]
  },
  {
   "cell_type": "code",
   "execution_count": null,
   "metadata": {},
   "outputs": [],
   "source": [
    "print(\n",
    "    'p-value: {0:.3f}'.format(\n",
    "        stats.mannwhitneyu(\n",
    "            orders[\n",
    "                np.logical_and(\n",
    "                    orders['group'] == 'A',\n",
    "                    np.logical_not(orders['visitor_id'].isin(abnormalUsers)),\n",
    "                )\n",
    "            ]['revenue'],\n",
    "            orders[\n",
    "                np.logical_and(\n",
    "                    orders['group'] == 'B',\n",
    "                    np.logical_not(orders['visitor_id'].isin(abnormalUsers)),\n",
    "                )\n",
    "            ]['revenue'],\n",
    "        )[1]\n",
    "    )\n",
    ")\n",
    "\n",
    "print(\n",
    "    'Относительный прирост среднего чека очищенной группы B: {0:.3f}'.format(\n",
    "        orders[\n",
    "            np.logical_and(\n",
    "                orders['group'] == 'B',\n",
    "                np.logical_not(orders['visitor_id'].isin(abnormalUsers)),\n",
    "            )\n",
    "        ]['revenue'].mean()\n",
    "        / orders[\n",
    "            np.logical_and(\n",
    "                orders['group'] == 'A',\n",
    "                np.logical_not(orders['visitor_id'].isin(abnormalUsers)),\n",
    "            )\n",
    "        ]['revenue'].mean()\n",
    "        - 1\n",
    "    )\n",
    ")"
   ]
  },
  {
   "cell_type": "markdown",
   "metadata": {},
   "source": [
    "P-value значительно больше 0.05 и находится примерно на том же уровне, что и с \"сырыми\" данными. Статистически значимых отличий в среднем чеке между группами нет. \n",
    "Средний чек у группы В снизился и стал меньше среднего чека группы А (на 2 %)."
   ]
  },
  {
   "cell_type": "markdown",
   "metadata": {},
   "source": [
    "---\n",
    "### Решение по результатам А/В теста"
   ]
  },
  {
   "cell_type": "markdown",
   "metadata": {},
   "source": [
    "Результаты теста:\n",
    "- Есть статистически значимое различие по конверсии между группами А и В как по сырым данным, так и после фильтрации аномалий.\n",
    "- По сырым и по «очищенным» данным нет статистически значимого различия по среднему чеку между группами.\n",
    "- График различия конверсии между группами сообщает, что результаты группы B лучше группы A: зафиксировались около среднего значения.\n",
    "\n",
    "На основе этих результатов предлагаю останосить тест и зафиксировать победу группы В, так как группа B статистически значимо лучше группы A по обеим метрикам, а график конверсии говорит о фиксации результата.\n"
   ]
  }
 ],
 "metadata": {
  "ExecuteTimeLog": [
   {
    "duration": 190,
    "start_time": "2023-05-15T18:27:31.290Z"
   },
   {
    "duration": 70,
    "start_time": "2023-05-16T18:21:38.308Z"
   },
   {
    "duration": 1224,
    "start_time": "2023-05-16T18:21:44.144Z"
   },
   {
    "duration": 91,
    "start_time": "2023-05-16T18:21:45.370Z"
   },
   {
    "duration": 0,
    "start_time": "2023-05-16T18:21:45.462Z"
   },
   {
    "duration": 0,
    "start_time": "2023-05-16T18:21:45.464Z"
   },
   {
    "duration": 8,
    "start_time": "2023-05-16T18:21:55.285Z"
   },
   {
    "duration": 5,
    "start_time": "2023-05-16T18:21:58.040Z"
   },
   {
    "duration": 4,
    "start_time": "2023-05-16T18:22:26.901Z"
   },
   {
    "duration": 8,
    "start_time": "2023-05-16T18:23:06.841Z"
   },
   {
    "duration": 189,
    "start_time": "2023-05-16T18:23:54.654Z"
   },
   {
    "duration": 4,
    "start_time": "2023-05-16T18:23:55.588Z"
   },
   {
    "duration": 44,
    "start_time": "2023-05-16T18:23:57.092Z"
   },
   {
    "duration": 4,
    "start_time": "2023-05-16T18:30:17.912Z"
   },
   {
    "duration": 11,
    "start_time": "2023-05-16T18:30:42.902Z"
   },
   {
    "duration": 42,
    "start_time": "2023-05-16T18:31:24.991Z"
   },
   {
    "duration": 5,
    "start_time": "2023-05-16T18:31:48.224Z"
   },
   {
    "duration": 40,
    "start_time": "2023-05-16T18:31:51.190Z"
   },
   {
    "duration": 5,
    "start_time": "2023-05-16T18:33:27.549Z"
   },
   {
    "duration": 46,
    "start_time": "2023-05-16T18:33:29.413Z"
   },
   {
    "duration": 36,
    "start_time": "2023-05-16T18:35:05.388Z"
   },
   {
    "duration": 44,
    "start_time": "2023-05-16T18:44:53.944Z"
   },
   {
    "duration": 18,
    "start_time": "2023-05-16T18:44:59.451Z"
   },
   {
    "duration": 4,
    "start_time": "2023-05-16T18:47:31.410Z"
   },
   {
    "duration": 5,
    "start_time": "2023-05-16T18:49:07.601Z"
   },
   {
    "duration": 6,
    "start_time": "2023-05-16T18:51:29.942Z"
   },
   {
    "duration": 14,
    "start_time": "2023-05-16T18:54:15.254Z"
   },
   {
    "duration": 9,
    "start_time": "2023-05-16T18:54:33.593Z"
   },
   {
    "duration": 9,
    "start_time": "2023-05-16T18:56:15.739Z"
   },
   {
    "duration": 31,
    "start_time": "2023-05-16T19:05:48.751Z"
   },
   {
    "duration": 5,
    "start_time": "2023-05-16T19:07:55.502Z"
   },
   {
    "duration": 6,
    "start_time": "2023-05-16T19:08:25.228Z"
   },
   {
    "duration": 6,
    "start_time": "2023-05-16T19:08:55.909Z"
   },
   {
    "duration": 9,
    "start_time": "2023-05-16T19:15:34.340Z"
   },
   {
    "duration": 10,
    "start_time": "2023-05-16T19:16:34.843Z"
   },
   {
    "duration": 9,
    "start_time": "2023-05-16T19:19:27.817Z"
   },
   {
    "duration": 8,
    "start_time": "2023-05-16T19:19:37.909Z"
   },
   {
    "duration": 9,
    "start_time": "2023-05-16T19:19:55.701Z"
   },
   {
    "duration": 46,
    "start_time": "2023-05-16T19:23:10.710Z"
   },
   {
    "duration": 51,
    "start_time": "2023-05-16T19:23:43.928Z"
   },
   {
    "duration": 45,
    "start_time": "2023-05-16T19:23:52.738Z"
   },
   {
    "duration": 14,
    "start_time": "2023-05-16T19:24:05.506Z"
   },
   {
    "duration": 787,
    "start_time": "2023-05-16T19:24:17.713Z"
   },
   {
    "duration": 206,
    "start_time": "2023-05-16T19:25:28.530Z"
   },
   {
    "duration": 202,
    "start_time": "2023-05-16T19:25:40.973Z"
   },
   {
    "duration": 47,
    "start_time": "2023-05-16T19:26:17.417Z"
   },
   {
    "duration": 285,
    "start_time": "2023-05-16T19:26:25.246Z"
   },
   {
    "duration": 381,
    "start_time": "2023-05-16T19:26:35.026Z"
   },
   {
    "duration": 342,
    "start_time": "2023-05-16T19:28:10.409Z"
   },
   {
    "duration": 346,
    "start_time": "2023-05-16T19:29:15.452Z"
   },
   {
    "duration": 410,
    "start_time": "2023-05-16T19:29:25.515Z"
   },
   {
    "duration": 401,
    "start_time": "2023-05-16T19:29:38.305Z"
   },
   {
    "duration": 317,
    "start_time": "2023-05-16T19:29:50.410Z"
   },
   {
    "duration": 8,
    "start_time": "2023-05-16T19:31:21.929Z"
   },
   {
    "duration": 9,
    "start_time": "2023-05-16T19:32:40.351Z"
   },
   {
    "duration": 286,
    "start_time": "2023-05-16T19:34:19.808Z"
   },
   {
    "duration": 296,
    "start_time": "2023-05-16T19:34:35.197Z"
   },
   {
    "duration": 5,
    "start_time": "2023-05-16T19:41:24.822Z"
   },
   {
    "duration": 10,
    "start_time": "2023-05-16T19:41:31.711Z"
   },
   {
    "duration": 9,
    "start_time": "2023-05-16T19:42:17.302Z"
   },
   {
    "duration": 10,
    "start_time": "2023-05-16T19:42:26.945Z"
   },
   {
    "duration": 30,
    "start_time": "2023-05-16T19:44:28.663Z"
   },
   {
    "duration": 730,
    "start_time": "2023-05-16T19:44:58.901Z"
   },
   {
    "duration": 340,
    "start_time": "2023-05-16T19:45:18.615Z"
   },
   {
    "duration": 5,
    "start_time": "2023-05-16T19:45:33.352Z"
   },
   {
    "duration": 10,
    "start_time": "2023-05-16T19:45:42.099Z"
   },
   {
    "duration": 8,
    "start_time": "2023-05-16T19:46:50.153Z"
   },
   {
    "duration": 10,
    "start_time": "2023-05-16T19:47:30.028Z"
   },
   {
    "duration": 10,
    "start_time": "2023-05-16T19:48:14.601Z"
   },
   {
    "duration": 12,
    "start_time": "2023-05-16T19:48:31.197Z"
   },
   {
    "duration": 9,
    "start_time": "2023-05-16T19:49:55.246Z"
   },
   {
    "duration": 18,
    "start_time": "2023-05-16T19:50:40.277Z"
   },
   {
    "duration": 9,
    "start_time": "2023-05-16T19:54:48.798Z"
   },
   {
    "duration": 5,
    "start_time": "2023-05-16T19:55:00.729Z"
   },
   {
    "duration": 5,
    "start_time": "2023-05-16T19:55:01.565Z"
   },
   {
    "duration": 10,
    "start_time": "2023-05-16T19:55:02.306Z"
   },
   {
    "duration": 25,
    "start_time": "2023-05-16T19:55:14.212Z"
   },
   {
    "duration": 18,
    "start_time": "2023-05-16T19:55:30.042Z"
   },
   {
    "duration": 9,
    "start_time": "2023-05-16T19:59:17.133Z"
   },
   {
    "duration": 16,
    "start_time": "2023-05-16T19:59:52.097Z"
   },
   {
    "duration": 18,
    "start_time": "2023-05-16T20:01:31.260Z"
   },
   {
    "duration": 15,
    "start_time": "2023-05-16T20:01:43.050Z"
   },
   {
    "duration": 7,
    "start_time": "2023-05-16T20:32:27.957Z"
   },
   {
    "duration": 45,
    "start_time": "2023-05-16T20:35:12.611Z"
   },
   {
    "duration": 46,
    "start_time": "2023-05-16T20:35:48.809Z"
   },
   {
    "duration": 54,
    "start_time": "2023-05-16T20:36:32.218Z"
   },
   {
    "duration": 77,
    "start_time": "2023-05-16T20:36:46.156Z"
   },
   {
    "duration": 65,
    "start_time": "2023-05-16T20:37:52.353Z"
   },
   {
    "duration": 57,
    "start_time": "2023-05-16T20:38:03.520Z"
   },
   {
    "duration": 51,
    "start_time": "2023-05-16T20:38:53.615Z"
   },
   {
    "duration": 96,
    "start_time": "2023-05-16T20:39:09.636Z"
   },
   {
    "duration": 50,
    "start_time": "2023-05-16T20:41:12.393Z"
   },
   {
    "duration": 80,
    "start_time": "2023-05-16T20:41:40.155Z"
   },
   {
    "duration": 61,
    "start_time": "2023-05-16T20:42:45.681Z"
   },
   {
    "duration": 442,
    "start_time": "2023-05-16T20:43:08.015Z"
   },
   {
    "duration": 428,
    "start_time": "2023-05-16T20:44:32.699Z"
   },
   {
    "duration": 19,
    "start_time": "2023-05-16T20:48:00.993Z"
   },
   {
    "duration": 15,
    "start_time": "2023-05-16T20:48:18.438Z"
   },
   {
    "duration": 19,
    "start_time": "2023-05-16T20:50:56.701Z"
   },
   {
    "duration": 4,
    "start_time": "2023-05-16T20:51:20.815Z"
   },
   {
    "duration": 295,
    "start_time": "2023-05-16T20:51:24.599Z"
   },
   {
    "duration": 227,
    "start_time": "2023-05-16T20:53:40.442Z"
   },
   {
    "duration": 256,
    "start_time": "2023-05-16T20:54:03.506Z"
   },
   {
    "duration": 301,
    "start_time": "2023-05-16T20:56:18.202Z"
   },
   {
    "duration": 3,
    "start_time": "2023-05-16T20:56:23.955Z"
   },
   {
    "duration": 236,
    "start_time": "2023-05-16T20:56:24.002Z"
   },
   {
    "duration": 5,
    "start_time": "2023-05-16T20:56:24.241Z"
   },
   {
    "duration": 60,
    "start_time": "2023-05-16T20:56:24.248Z"
   },
   {
    "duration": 18,
    "start_time": "2023-05-16T20:56:24.310Z"
   },
   {
    "duration": 78,
    "start_time": "2023-05-16T20:56:24.331Z"
   },
   {
    "duration": 298,
    "start_time": "2023-05-16T20:56:24.419Z"
   },
   {
    "duration": 0,
    "start_time": "2023-05-16T20:56:24.720Z"
   },
   {
    "duration": 0,
    "start_time": "2023-05-16T20:56:24.721Z"
   },
   {
    "duration": 0,
    "start_time": "2023-05-16T20:56:24.723Z"
   },
   {
    "duration": 0,
    "start_time": "2023-05-16T20:56:24.724Z"
   },
   {
    "duration": 0,
    "start_time": "2023-05-16T20:56:24.726Z"
   },
   {
    "duration": 0,
    "start_time": "2023-05-16T20:56:24.727Z"
   },
   {
    "duration": 0,
    "start_time": "2023-05-16T20:56:24.729Z"
   },
   {
    "duration": 0,
    "start_time": "2023-05-16T20:56:24.731Z"
   },
   {
    "duration": 0,
    "start_time": "2023-05-16T20:56:24.733Z"
   },
   {
    "duration": 0,
    "start_time": "2023-05-16T20:56:24.734Z"
   },
   {
    "duration": 0,
    "start_time": "2023-05-16T20:56:24.736Z"
   },
   {
    "duration": 0,
    "start_time": "2023-05-16T20:56:24.738Z"
   },
   {
    "duration": 0,
    "start_time": "2023-05-16T20:56:24.739Z"
   },
   {
    "duration": 330,
    "start_time": "2023-05-16T20:56:53.314Z"
   },
   {
    "duration": 25,
    "start_time": "2023-05-16T20:57:13.935Z"
   },
   {
    "duration": 4,
    "start_time": "2023-05-16T20:57:49.207Z"
   },
   {
    "duration": 549,
    "start_time": "2023-05-16T20:59:52.094Z"
   },
   {
    "duration": 458,
    "start_time": "2023-05-16T21:00:51.587Z"
   },
   {
    "duration": 347,
    "start_time": "2023-05-16T21:01:52.091Z"
   },
   {
    "duration": 172,
    "start_time": "2023-05-16T21:01:57.085Z"
   },
   {
    "duration": 218,
    "start_time": "2023-05-16T21:04:20.094Z"
   },
   {
    "duration": 204,
    "start_time": "2023-05-16T21:04:32.218Z"
   },
   {
    "duration": 222,
    "start_time": "2023-05-16T21:05:34.643Z"
   },
   {
    "duration": 227,
    "start_time": "2023-05-16T21:06:28.933Z"
   },
   {
    "duration": 218,
    "start_time": "2023-05-16T21:09:37.916Z"
   },
   {
    "duration": 179,
    "start_time": "2023-05-16T21:12:07.882Z"
   },
   {
    "duration": 235,
    "start_time": "2023-05-16T21:12:58.036Z"
   },
   {
    "duration": 234,
    "start_time": "2023-05-16T21:13:13.804Z"
   },
   {
    "duration": 205,
    "start_time": "2023-05-16T21:13:55.579Z"
   },
   {
    "duration": 200,
    "start_time": "2023-05-16T21:14:15.425Z"
   },
   {
    "duration": 368,
    "start_time": "2023-05-16T21:15:46.481Z"
   },
   {
    "duration": 340,
    "start_time": "2023-05-16T21:16:31.537Z"
   },
   {
    "duration": 310,
    "start_time": "2023-05-16T21:17:05.981Z"
   },
   {
    "duration": 270,
    "start_time": "2023-05-16T21:17:14.507Z"
   },
   {
    "duration": 197,
    "start_time": "2023-05-16T21:17:25.833Z"
   },
   {
    "duration": 218,
    "start_time": "2023-05-16T21:17:33.345Z"
   },
   {
    "duration": 172,
    "start_time": "2023-05-16T21:24:43.611Z"
   },
   {
    "duration": 241,
    "start_time": "2023-05-16T21:25:27.846Z"
   },
   {
    "duration": 184,
    "start_time": "2023-05-16T21:28:34.353Z"
   },
   {
    "duration": 210,
    "start_time": "2023-05-16T21:29:02.639Z"
   },
   {
    "duration": 4,
    "start_time": "2023-05-16T21:29:27.855Z"
   },
   {
    "duration": 75,
    "start_time": "2023-05-16T21:29:27.862Z"
   },
   {
    "duration": 5,
    "start_time": "2023-05-16T21:29:27.939Z"
   },
   {
    "duration": 50,
    "start_time": "2023-05-16T21:29:27.945Z"
   },
   {
    "duration": 9,
    "start_time": "2023-05-16T21:29:27.997Z"
   },
   {
    "duration": 68,
    "start_time": "2023-05-16T21:29:28.008Z"
   },
   {
    "duration": 21,
    "start_time": "2023-05-16T21:29:28.078Z"
   },
   {
    "duration": 7,
    "start_time": "2023-05-16T21:29:28.100Z"
   },
   {
    "duration": 6,
    "start_time": "2023-05-16T21:29:28.108Z"
   },
   {
    "duration": 10,
    "start_time": "2023-05-16T21:29:28.115Z"
   },
   {
    "duration": 73,
    "start_time": "2023-05-16T21:29:28.127Z"
   },
   {
    "duration": 4,
    "start_time": "2023-05-16T21:29:28.202Z"
   },
   {
    "duration": 7,
    "start_time": "2023-05-16T21:29:28.207Z"
   },
   {
    "duration": 6,
    "start_time": "2023-05-16T21:29:28.215Z"
   },
   {
    "duration": 11,
    "start_time": "2023-05-16T21:29:28.223Z"
   },
   {
    "duration": 320,
    "start_time": "2023-05-16T21:29:28.276Z"
   },
   {
    "duration": 12,
    "start_time": "2023-05-16T21:29:28.598Z"
   },
   {
    "duration": 308,
    "start_time": "2023-05-16T21:29:28.612Z"
   },
   {
    "duration": 15,
    "start_time": "2023-05-16T21:29:28.922Z"
   },
   {
    "duration": 310,
    "start_time": "2023-05-16T21:29:28.939Z"
   },
   {
    "duration": 255,
    "start_time": "2023-05-16T21:29:29.251Z"
   },
   {
    "duration": 314,
    "start_time": "2023-05-16T21:29:29.507Z"
   },
   {
    "duration": 309,
    "start_time": "2023-05-16T21:29:29.823Z"
   },
   {
    "duration": 49,
    "start_time": "2023-05-16T21:29:30.134Z"
   },
   {
    "duration": 0,
    "start_time": "2023-05-16T21:29:30.186Z"
   },
   {
    "duration": 76,
    "start_time": "2023-05-16T21:35:01.545Z"
   },
   {
    "duration": 364,
    "start_time": "2023-05-16T21:36:03.306Z"
   },
   {
    "duration": 339,
    "start_time": "2023-05-16T21:36:23.654Z"
   },
   {
    "duration": 340,
    "start_time": "2023-05-16T21:36:56.980Z"
   },
   {
    "duration": 320,
    "start_time": "2023-05-16T21:37:39.886Z"
   },
   {
    "duration": 186,
    "start_time": "2023-05-16T21:37:55.925Z"
   },
   {
    "duration": 748,
    "start_time": "2023-05-17T17:57:01.110Z"
   },
   {
    "duration": 247,
    "start_time": "2023-05-17T17:57:01.861Z"
   },
   {
    "duration": 5,
    "start_time": "2023-05-17T17:57:02.110Z"
   },
   {
    "duration": 61,
    "start_time": "2023-05-17T17:57:02.116Z"
   },
   {
    "duration": 9,
    "start_time": "2023-05-17T17:57:02.178Z"
   },
   {
    "duration": 41,
    "start_time": "2023-05-17T17:57:02.189Z"
   },
   {
    "duration": 26,
    "start_time": "2023-05-17T17:57:02.232Z"
   },
   {
    "duration": 47,
    "start_time": "2023-05-17T17:57:02.260Z"
   },
   {
    "duration": 17,
    "start_time": "2023-05-17T17:57:02.308Z"
   },
   {
    "duration": 16,
    "start_time": "2023-05-17T17:57:02.328Z"
   },
   {
    "duration": 41,
    "start_time": "2023-05-17T17:57:02.345Z"
   },
   {
    "duration": 5,
    "start_time": "2023-05-17T17:57:02.387Z"
   },
   {
    "duration": 26,
    "start_time": "2023-05-17T17:57:02.394Z"
   },
   {
    "duration": 33,
    "start_time": "2023-05-17T17:57:02.421Z"
   },
   {
    "duration": 45,
    "start_time": "2023-05-17T17:57:02.456Z"
   },
   {
    "duration": 297,
    "start_time": "2023-05-17T17:57:02.503Z"
   },
   {
    "duration": 11,
    "start_time": "2023-05-17T17:57:02.801Z"
   },
   {
    "duration": 296,
    "start_time": "2023-05-17T17:57:02.813Z"
   },
   {
    "duration": 15,
    "start_time": "2023-05-17T17:57:03.111Z"
   },
   {
    "duration": 286,
    "start_time": "2023-05-17T17:57:03.128Z"
   },
   {
    "duration": 264,
    "start_time": "2023-05-17T17:57:03.415Z"
   },
   {
    "duration": 233,
    "start_time": "2023-05-17T17:57:03.680Z"
   },
   {
    "duration": 325,
    "start_time": "2023-05-17T17:57:03.916Z"
   },
   {
    "duration": 230,
    "start_time": "2023-05-17T17:57:04.243Z"
   },
   {
    "duration": 330,
    "start_time": "2023-05-17T17:57:04.475Z"
   },
   {
    "duration": 102,
    "start_time": "2023-05-17T17:59:20.331Z"
   },
   {
    "duration": 129,
    "start_time": "2023-05-17T17:59:59.510Z"
   },
   {
    "duration": 1386,
    "start_time": "2023-05-17T18:00:31.170Z"
   },
   {
    "duration": 134,
    "start_time": "2023-05-17T18:00:39.968Z"
   },
   {
    "duration": 138,
    "start_time": "2023-05-17T18:01:35.610Z"
   },
   {
    "duration": 5,
    "start_time": "2023-05-17T18:16:43.708Z"
   },
   {
    "duration": 140,
    "start_time": "2023-05-17T18:17:31.962Z"
   },
   {
    "duration": 8,
    "start_time": "2023-05-17T18:17:55.760Z"
   },
   {
    "duration": 5,
    "start_time": "2023-05-17T18:18:23.484Z"
   },
   {
    "duration": 7,
    "start_time": "2023-05-17T18:28:47.862Z"
   },
   {
    "duration": 13,
    "start_time": "2023-05-17T18:29:00.412Z"
   },
   {
    "duration": 16,
    "start_time": "2023-05-17T18:29:24.272Z"
   },
   {
    "duration": 114,
    "start_time": "2023-05-17T18:29:35.471Z"
   },
   {
    "duration": 145,
    "start_time": "2023-05-17T18:30:13.946Z"
   },
   {
    "duration": 4,
    "start_time": "2023-05-17T18:32:53.006Z"
   },
   {
    "duration": 202,
    "start_time": "2023-05-17T18:36:17.113Z"
   },
   {
    "duration": 3,
    "start_time": "2023-05-17T18:36:59.041Z"
   },
   {
    "duration": 91,
    "start_time": "2023-05-17T18:36:59.047Z"
   },
   {
    "duration": 4,
    "start_time": "2023-05-17T18:36:59.139Z"
   },
   {
    "duration": 34,
    "start_time": "2023-05-17T18:36:59.144Z"
   },
   {
    "duration": 8,
    "start_time": "2023-05-17T18:36:59.180Z"
   },
   {
    "duration": 38,
    "start_time": "2023-05-17T18:36:59.189Z"
   },
   {
    "duration": 16,
    "start_time": "2023-05-17T18:36:59.228Z"
   },
   {
    "duration": 9,
    "start_time": "2023-05-17T18:36:59.246Z"
   },
   {
    "duration": 8,
    "start_time": "2023-05-17T18:36:59.256Z"
   },
   {
    "duration": 22,
    "start_time": "2023-05-17T18:36:59.265Z"
   },
   {
    "duration": 25,
    "start_time": "2023-05-17T18:36:59.289Z"
   },
   {
    "duration": 3,
    "start_time": "2023-05-17T18:36:59.315Z"
   },
   {
    "duration": 13,
    "start_time": "2023-05-17T18:36:59.320Z"
   },
   {
    "duration": 21,
    "start_time": "2023-05-17T18:36:59.334Z"
   },
   {
    "duration": 10,
    "start_time": "2023-05-17T18:36:59.357Z"
   },
   {
    "duration": 301,
    "start_time": "2023-05-17T18:36:59.368Z"
   },
   {
    "duration": 9,
    "start_time": "2023-05-17T18:36:59.670Z"
   },
   {
    "duration": 261,
    "start_time": "2023-05-17T18:36:59.680Z"
   },
   {
    "duration": 13,
    "start_time": "2023-05-17T18:36:59.943Z"
   },
   {
    "duration": 253,
    "start_time": "2023-05-17T18:36:59.957Z"
   },
   {
    "duration": 187,
    "start_time": "2023-05-17T18:37:00.211Z"
   },
   {
    "duration": 192,
    "start_time": "2023-05-17T18:37:00.400Z"
   },
   {
    "duration": 294,
    "start_time": "2023-05-17T18:37:00.594Z"
   },
   {
    "duration": 189,
    "start_time": "2023-05-17T18:37:00.890Z"
   },
   {
    "duration": 303,
    "start_time": "2023-05-17T18:37:01.081Z"
   },
   {
    "duration": 153,
    "start_time": "2023-05-17T18:37:01.387Z"
   },
   {
    "duration": 5,
    "start_time": "2023-05-17T18:37:01.542Z"
   },
   {
    "duration": 198,
    "start_time": "2023-05-17T18:37:01.548Z"
   },
   {
    "duration": 5,
    "start_time": "2023-05-17T18:37:01.747Z"
   },
   {
    "duration": 95,
    "start_time": "2023-05-17T18:44:04.452Z"
   },
   {
    "duration": 101,
    "start_time": "2023-05-17T18:46:21.955Z"
   },
   {
    "duration": 149,
    "start_time": "2023-05-17T18:47:04.860Z"
   },
   {
    "duration": 92,
    "start_time": "2023-05-17T18:47:39.912Z"
   },
   {
    "duration": 314,
    "start_time": "2023-05-17T18:48:55.730Z"
   },
   {
    "duration": 424,
    "start_time": "2023-05-17T18:49:38.530Z"
   },
   {
    "duration": 4,
    "start_time": "2023-05-17T18:49:40.628Z"
   },
   {
    "duration": 75,
    "start_time": "2023-05-17T18:49:40.634Z"
   },
   {
    "duration": 4,
    "start_time": "2023-05-17T18:49:40.711Z"
   },
   {
    "duration": 38,
    "start_time": "2023-05-17T18:49:40.717Z"
   },
   {
    "duration": 8,
    "start_time": "2023-05-17T18:49:40.756Z"
   },
   {
    "duration": 38,
    "start_time": "2023-05-17T18:49:40.766Z"
   },
   {
    "duration": 18,
    "start_time": "2023-05-17T18:49:40.805Z"
   },
   {
    "duration": 4,
    "start_time": "2023-05-17T18:49:40.824Z"
   },
   {
    "duration": 6,
    "start_time": "2023-05-17T18:49:40.830Z"
   },
   {
    "duration": 10,
    "start_time": "2023-05-17T18:49:40.838Z"
   },
   {
    "duration": 62,
    "start_time": "2023-05-17T18:49:40.849Z"
   },
   {
    "duration": 3,
    "start_time": "2023-05-17T18:49:40.912Z"
   },
   {
    "duration": 7,
    "start_time": "2023-05-17T18:49:40.917Z"
   },
   {
    "duration": 7,
    "start_time": "2023-05-17T18:49:40.925Z"
   },
   {
    "duration": 10,
    "start_time": "2023-05-17T18:49:40.933Z"
   },
   {
    "duration": 292,
    "start_time": "2023-05-17T18:49:40.944Z"
   },
   {
    "duration": 10,
    "start_time": "2023-05-17T18:49:41.237Z"
   },
   {
    "duration": 268,
    "start_time": "2023-05-17T18:49:41.248Z"
   },
   {
    "duration": 14,
    "start_time": "2023-05-17T18:49:41.518Z"
   },
   {
    "duration": 267,
    "start_time": "2023-05-17T18:49:41.533Z"
   },
   {
    "duration": 224,
    "start_time": "2023-05-17T18:49:41.802Z"
   },
   {
    "duration": 212,
    "start_time": "2023-05-17T18:49:42.027Z"
   },
   {
    "duration": 376,
    "start_time": "2023-05-17T18:49:42.241Z"
   },
   {
    "duration": 200,
    "start_time": "2023-05-17T18:49:42.619Z"
   },
   {
    "duration": 313,
    "start_time": "2023-05-17T18:49:42.820Z"
   },
   {
    "duration": 160,
    "start_time": "2023-05-17T18:49:43.134Z"
   },
   {
    "duration": 5,
    "start_time": "2023-05-17T18:49:43.295Z"
   },
   {
    "duration": 155,
    "start_time": "2023-05-17T18:49:43.301Z"
   },
   {
    "duration": 4,
    "start_time": "2023-05-17T18:49:43.457Z"
   },
   {
    "duration": 344,
    "start_time": "2023-05-17T18:49:43.463Z"
   },
   {
    "duration": 360,
    "start_time": "2023-05-17T18:52:52.852Z"
   },
   {
    "duration": 344,
    "start_time": "2023-05-17T18:53:21.944Z"
   },
   {
    "duration": 323,
    "start_time": "2023-05-17T18:54:11.464Z"
   },
   {
    "duration": 308,
    "start_time": "2023-05-17T18:56:07.308Z"
   },
   {
    "duration": 10,
    "start_time": "2023-05-17T19:05:51.311Z"
   },
   {
    "duration": 15,
    "start_time": "2023-05-17T19:07:10.767Z"
   },
   {
    "duration": 9,
    "start_time": "2023-05-17T19:07:19.218Z"
   },
   {
    "duration": 9,
    "start_time": "2023-05-17T19:12:19.338Z"
   },
   {
    "duration": 8,
    "start_time": "2023-05-17T19:18:03.659Z"
   },
   {
    "duration": 25,
    "start_time": "2023-05-17T19:20:54.538Z"
   },
   {
    "duration": 22,
    "start_time": "2023-05-17T19:22:17.518Z"
   },
   {
    "duration": 7,
    "start_time": "2023-05-17T19:23:45.720Z"
   },
   {
    "duration": 9,
    "start_time": "2023-05-17T19:24:33.307Z"
   },
   {
    "duration": 8,
    "start_time": "2023-05-17T19:27:01.974Z"
   },
   {
    "duration": 19,
    "start_time": "2023-05-17T19:27:20.589Z"
   },
   {
    "duration": 25,
    "start_time": "2023-05-17T19:27:29.479Z"
   },
   {
    "duration": 1146,
    "start_time": "2023-05-17T19:33:56.787Z"
   },
   {
    "duration": 14,
    "start_time": "2023-05-17T19:34:49.100Z"
   },
   {
    "duration": 155,
    "start_time": "2023-05-17T20:37:32.512Z"
   },
   {
    "duration": 154,
    "start_time": "2023-05-17T20:43:24.939Z"
   },
   {
    "duration": 3,
    "start_time": "2023-05-17T20:45:20.432Z"
   },
   {
    "duration": 79,
    "start_time": "2023-05-17T20:45:20.452Z"
   },
   {
    "duration": 4,
    "start_time": "2023-05-17T20:45:20.532Z"
   },
   {
    "duration": 47,
    "start_time": "2023-05-17T20:45:20.538Z"
   },
   {
    "duration": 10,
    "start_time": "2023-05-17T20:45:20.587Z"
   },
   {
    "duration": 47,
    "start_time": "2023-05-17T20:45:20.600Z"
   },
   {
    "duration": 54,
    "start_time": "2023-05-17T20:45:20.649Z"
   },
   {
    "duration": 20,
    "start_time": "2023-05-17T20:45:20.704Z"
   },
   {
    "duration": 27,
    "start_time": "2023-05-17T20:45:20.726Z"
   },
   {
    "duration": 19,
    "start_time": "2023-05-17T20:45:20.755Z"
   },
   {
    "duration": 39,
    "start_time": "2023-05-17T20:45:20.776Z"
   },
   {
    "duration": 4,
    "start_time": "2023-05-17T20:45:20.816Z"
   },
   {
    "duration": 12,
    "start_time": "2023-05-17T20:45:20.822Z"
   },
   {
    "duration": 19,
    "start_time": "2023-05-17T20:45:20.836Z"
   },
   {
    "duration": 11,
    "start_time": "2023-05-17T20:45:20.858Z"
   },
   {
    "duration": 344,
    "start_time": "2023-05-17T20:45:20.884Z"
   },
   {
    "duration": 14,
    "start_time": "2023-05-17T20:45:21.230Z"
   },
   {
    "duration": 451,
    "start_time": "2023-05-17T20:45:21.246Z"
   },
   {
    "duration": 20,
    "start_time": "2023-05-17T20:45:21.699Z"
   },
   {
    "duration": 347,
    "start_time": "2023-05-17T20:45:21.721Z"
   },
   {
    "duration": 251,
    "start_time": "2023-05-17T20:45:22.070Z"
   },
   {
    "duration": 239,
    "start_time": "2023-05-17T20:45:22.323Z"
   },
   {
    "duration": 421,
    "start_time": "2023-05-17T20:45:22.564Z"
   },
   {
    "duration": 250,
    "start_time": "2023-05-17T20:45:22.987Z"
   },
   {
    "duration": 462,
    "start_time": "2023-05-17T20:45:23.240Z"
   },
   {
    "duration": 172,
    "start_time": "2023-05-17T20:45:23.704Z"
   },
   {
    "duration": 8,
    "start_time": "2023-05-17T20:45:23.878Z"
   },
   {
    "duration": 194,
    "start_time": "2023-05-17T20:45:23.888Z"
   },
   {
    "duration": 8,
    "start_time": "2023-05-17T20:45:24.084Z"
   },
   {
    "duration": 441,
    "start_time": "2023-05-17T20:45:24.094Z"
   },
   {
    "duration": 13,
    "start_time": "2023-05-17T20:45:24.537Z"
   },
   {
    "duration": 10,
    "start_time": "2023-05-17T20:45:24.552Z"
   },
   {
    "duration": 28,
    "start_time": "2023-05-17T20:45:24.564Z"
   },
   {
    "duration": 52,
    "start_time": "2023-05-17T20:45:24.594Z"
   },
   {
    "duration": 20,
    "start_time": "2023-05-17T20:45:24.648Z"
   },
   {
    "duration": 12,
    "start_time": "2023-05-17T20:45:46.004Z"
   },
   {
    "duration": 3,
    "start_time": "2023-05-17T20:58:53.245Z"
   },
   {
    "duration": 81,
    "start_time": "2023-05-17T20:58:53.250Z"
   },
   {
    "duration": 5,
    "start_time": "2023-05-17T20:58:53.333Z"
   },
   {
    "duration": 49,
    "start_time": "2023-05-17T20:58:53.340Z"
   },
   {
    "duration": 10,
    "start_time": "2023-05-17T20:58:53.392Z"
   },
   {
    "duration": 51,
    "start_time": "2023-05-17T20:58:53.404Z"
   },
   {
    "duration": 23,
    "start_time": "2023-05-17T20:58:53.484Z"
   },
   {
    "duration": 22,
    "start_time": "2023-05-17T20:58:53.509Z"
   },
   {
    "duration": 20,
    "start_time": "2023-05-17T20:58:53.533Z"
   },
   {
    "duration": 21,
    "start_time": "2023-05-17T20:58:53.555Z"
   },
   {
    "duration": 36,
    "start_time": "2023-05-17T20:58:53.579Z"
   },
   {
    "duration": 5,
    "start_time": "2023-05-17T20:58:53.617Z"
   },
   {
    "duration": 10,
    "start_time": "2023-05-17T20:58:53.624Z"
   },
   {
    "duration": 9,
    "start_time": "2023-05-17T20:58:53.635Z"
   },
   {
    "duration": 41,
    "start_time": "2023-05-17T20:58:53.646Z"
   },
   {
    "duration": 334,
    "start_time": "2023-05-17T20:58:53.690Z"
   },
   {
    "duration": 12,
    "start_time": "2023-05-17T20:58:54.025Z"
   },
   {
    "duration": 318,
    "start_time": "2023-05-17T20:58:54.038Z"
   },
   {
    "duration": 29,
    "start_time": "2023-05-17T20:58:54.358Z"
   },
   {
    "duration": 302,
    "start_time": "2023-05-17T20:58:54.388Z"
   },
   {
    "duration": 218,
    "start_time": "2023-05-17T20:58:54.691Z"
   },
   {
    "duration": 228,
    "start_time": "2023-05-17T20:58:54.910Z"
   },
   {
    "duration": 351,
    "start_time": "2023-05-17T20:58:55.140Z"
   },
   {
    "duration": 225,
    "start_time": "2023-05-17T20:58:55.493Z"
   },
   {
    "duration": 325,
    "start_time": "2023-05-17T20:58:55.721Z"
   },
   {
    "duration": 168,
    "start_time": "2023-05-17T20:58:56.048Z"
   },
   {
    "duration": 5,
    "start_time": "2023-05-17T20:58:56.218Z"
   },
   {
    "duration": 233,
    "start_time": "2023-05-17T20:58:56.224Z"
   },
   {
    "duration": 8,
    "start_time": "2023-05-17T20:58:56.461Z"
   },
   {
    "duration": 397,
    "start_time": "2023-05-17T20:58:56.471Z"
   },
   {
    "duration": 15,
    "start_time": "2023-05-17T20:58:56.869Z"
   },
   {
    "duration": 11,
    "start_time": "2023-05-17T20:58:56.886Z"
   },
   {
    "duration": 10,
    "start_time": "2023-05-17T20:58:56.899Z"
   },
   {
    "duration": 21,
    "start_time": "2023-05-17T20:58:56.911Z"
   },
   {
    "duration": 14,
    "start_time": "2023-05-17T20:58:56.934Z"
   },
   {
    "duration": 1210,
    "start_time": "2023-05-18T15:01:20.647Z"
   },
   {
    "duration": 79,
    "start_time": "2023-05-18T15:01:21.859Z"
   },
   {
    "duration": 6,
    "start_time": "2023-05-18T15:01:21.940Z"
   },
   {
    "duration": 50,
    "start_time": "2023-05-18T15:01:21.948Z"
   },
   {
    "duration": 10,
    "start_time": "2023-05-18T15:01:22.000Z"
   },
   {
    "duration": 73,
    "start_time": "2023-05-18T15:01:22.011Z"
   },
   {
    "duration": 24,
    "start_time": "2023-05-18T15:01:22.086Z"
   },
   {
    "duration": 9,
    "start_time": "2023-05-18T15:01:22.112Z"
   },
   {
    "duration": 8,
    "start_time": "2023-05-18T15:01:22.123Z"
   },
   {
    "duration": 9,
    "start_time": "2023-05-18T15:01:22.133Z"
   },
   {
    "duration": 59,
    "start_time": "2023-05-18T15:01:22.144Z"
   },
   {
    "duration": 4,
    "start_time": "2023-05-18T15:01:22.205Z"
   },
   {
    "duration": 6,
    "start_time": "2023-05-18T15:01:22.211Z"
   },
   {
    "duration": 7,
    "start_time": "2023-05-18T15:01:22.219Z"
   },
   {
    "duration": 11,
    "start_time": "2023-05-18T15:01:22.228Z"
   },
   {
    "duration": 360,
    "start_time": "2023-05-18T15:01:22.240Z"
   },
   {
    "duration": 11,
    "start_time": "2023-05-18T15:01:22.602Z"
   },
   {
    "duration": 308,
    "start_time": "2023-05-18T15:01:22.615Z"
   },
   {
    "duration": 16,
    "start_time": "2023-05-18T15:01:22.925Z"
   },
   {
    "duration": 305,
    "start_time": "2023-05-18T15:01:22.943Z"
   },
   {
    "duration": 310,
    "start_time": "2023-05-18T15:01:23.250Z"
   },
   {
    "duration": 226,
    "start_time": "2023-05-18T15:01:23.562Z"
   },
   {
    "duration": 369,
    "start_time": "2023-05-18T15:01:23.790Z"
   },
   {
    "duration": 218,
    "start_time": "2023-05-18T15:01:24.161Z"
   },
   {
    "duration": 323,
    "start_time": "2023-05-18T15:01:24.380Z"
   },
   {
    "duration": 181,
    "start_time": "2023-05-18T15:01:24.705Z"
   },
   {
    "duration": 5,
    "start_time": "2023-05-18T15:01:24.888Z"
   },
   {
    "duration": 256,
    "start_time": "2023-05-18T15:01:24.896Z"
   },
   {
    "duration": 5,
    "start_time": "2023-05-18T15:01:25.154Z"
   },
   {
    "duration": 390,
    "start_time": "2023-05-18T15:01:25.161Z"
   },
   {
    "duration": 24,
    "start_time": "2023-05-18T15:01:25.552Z"
   },
   {
    "duration": 9,
    "start_time": "2023-05-18T15:01:25.577Z"
   },
   {
    "duration": 13,
    "start_time": "2023-05-18T15:01:25.588Z"
   },
   {
    "duration": 23,
    "start_time": "2023-05-18T15:01:25.603Z"
   },
   {
    "duration": 13,
    "start_time": "2023-05-18T15:01:25.627Z"
   },
   {
    "duration": 158,
    "start_time": "2023-05-18T15:05:24.587Z"
   },
   {
    "duration": 75,
    "start_time": "2023-05-18T18:55:41.589Z"
   },
   {
    "duration": 1762,
    "start_time": "2023-05-18T18:55:49.869Z"
   },
   {
    "duration": 215,
    "start_time": "2023-05-18T18:55:51.689Z"
   },
   {
    "duration": 9,
    "start_time": "2023-05-18T18:55:51.906Z"
   },
   {
    "duration": 178,
    "start_time": "2023-05-18T18:55:51.918Z"
   },
   {
    "duration": 15,
    "start_time": "2023-05-18T18:55:52.098Z"
   },
   {
    "duration": 115,
    "start_time": "2023-05-18T18:55:52.116Z"
   },
   {
    "duration": 25,
    "start_time": "2023-05-18T18:55:52.288Z"
   },
   {
    "duration": 73,
    "start_time": "2023-05-18T18:55:52.316Z"
   },
   {
    "duration": 8,
    "start_time": "2023-05-18T18:55:52.391Z"
   },
   {
    "duration": 10,
    "start_time": "2023-05-18T18:55:52.403Z"
   },
   {
    "duration": 191,
    "start_time": "2023-05-18T18:55:52.415Z"
   },
   {
    "duration": 0,
    "start_time": "2023-05-18T18:55:52.609Z"
   },
   {
    "duration": 1,
    "start_time": "2023-05-18T18:55:52.610Z"
   },
   {
    "duration": 0,
    "start_time": "2023-05-18T18:55:52.612Z"
   },
   {
    "duration": 0,
    "start_time": "2023-05-18T18:55:52.613Z"
   },
   {
    "duration": 0,
    "start_time": "2023-05-18T18:55:52.615Z"
   },
   {
    "duration": 0,
    "start_time": "2023-05-18T18:55:52.617Z"
   },
   {
    "duration": 0,
    "start_time": "2023-05-18T18:55:52.618Z"
   },
   {
    "duration": 1,
    "start_time": "2023-05-18T18:55:52.619Z"
   },
   {
    "duration": 0,
    "start_time": "2023-05-18T18:55:52.620Z"
   },
   {
    "duration": 0,
    "start_time": "2023-05-18T18:55:52.622Z"
   },
   {
    "duration": 0,
    "start_time": "2023-05-18T18:55:52.624Z"
   },
   {
    "duration": 0,
    "start_time": "2023-05-18T18:55:52.625Z"
   },
   {
    "duration": 0,
    "start_time": "2023-05-18T18:55:52.626Z"
   },
   {
    "duration": 0,
    "start_time": "2023-05-18T18:55:52.628Z"
   },
   {
    "duration": 0,
    "start_time": "2023-05-18T18:55:52.630Z"
   },
   {
    "duration": 0,
    "start_time": "2023-05-18T18:55:52.631Z"
   },
   {
    "duration": 0,
    "start_time": "2023-05-18T18:55:52.688Z"
   },
   {
    "duration": 0,
    "start_time": "2023-05-18T18:55:52.690Z"
   },
   {
    "duration": 0,
    "start_time": "2023-05-18T18:55:52.692Z"
   },
   {
    "duration": 0,
    "start_time": "2023-05-18T18:55:52.693Z"
   },
   {
    "duration": 0,
    "start_time": "2023-05-18T18:55:52.696Z"
   },
   {
    "duration": 0,
    "start_time": "2023-05-18T18:55:52.698Z"
   },
   {
    "duration": 0,
    "start_time": "2023-05-18T18:55:52.700Z"
   },
   {
    "duration": 0,
    "start_time": "2023-05-18T18:55:52.702Z"
   },
   {
    "duration": 0,
    "start_time": "2023-05-18T18:55:52.703Z"
   },
   {
    "duration": 9,
    "start_time": "2023-05-18T18:56:08.551Z"
   },
   {
    "duration": 54,
    "start_time": "2023-05-18T18:58:10.413Z"
   },
   {
    "duration": 9,
    "start_time": "2023-05-18T19:00:22.549Z"
   },
   {
    "duration": 500,
    "start_time": "2023-05-18T19:03:52.402Z"
   },
   {
    "duration": 422,
    "start_time": "2023-05-18T19:04:59.123Z"
   },
   {
    "duration": 471,
    "start_time": "2023-05-18T19:10:41.173Z"
   },
   {
    "duration": 5,
    "start_time": "2023-05-18T19:10:57.489Z"
   },
   {
    "duration": 201,
    "start_time": "2023-05-18T19:10:57.510Z"
   },
   {
    "duration": 8,
    "start_time": "2023-05-18T19:10:57.713Z"
   },
   {
    "duration": 53,
    "start_time": "2023-05-18T19:10:57.723Z"
   },
   {
    "duration": 40,
    "start_time": "2023-05-18T19:10:57.777Z"
   },
   {
    "duration": 45,
    "start_time": "2023-05-18T19:10:57.820Z"
   },
   {
    "duration": 60,
    "start_time": "2023-05-18T19:10:57.867Z"
   },
   {
    "duration": 6,
    "start_time": "2023-05-18T19:10:57.928Z"
   },
   {
    "duration": 11,
    "start_time": "2023-05-18T19:10:57.936Z"
   },
   {
    "duration": 9,
    "start_time": "2023-05-18T19:10:57.949Z"
   },
   {
    "duration": 42,
    "start_time": "2023-05-18T19:10:57.960Z"
   },
   {
    "duration": 43,
    "start_time": "2023-05-18T19:10:58.015Z"
   },
   {
    "duration": 4,
    "start_time": "2023-05-18T19:10:58.060Z"
   },
   {
    "duration": 24,
    "start_time": "2023-05-18T19:10:58.066Z"
   },
   {
    "duration": 12,
    "start_time": "2023-05-18T19:10:58.097Z"
   },
   {
    "duration": 14,
    "start_time": "2023-05-18T19:10:58.111Z"
   },
   {
    "duration": 515,
    "start_time": "2023-05-18T19:10:58.127Z"
   },
   {
    "duration": 13,
    "start_time": "2023-05-18T19:10:58.644Z"
   },
   {
    "duration": 408,
    "start_time": "2023-05-18T19:10:58.659Z"
   },
   {
    "duration": 28,
    "start_time": "2023-05-18T19:10:59.069Z"
   },
   {
    "duration": 402,
    "start_time": "2023-05-18T19:10:59.099Z"
   },
   {
    "duration": 23,
    "start_time": "2023-05-18T19:10:59.503Z"
   },
   {
    "duration": 373,
    "start_time": "2023-05-18T19:10:59.528Z"
   },
   {
    "duration": 5,
    "start_time": "2023-05-18T19:10:59.903Z"
   },
   {
    "duration": 283,
    "start_time": "2023-05-18T19:10:59.910Z"
   },
   {
    "duration": 359,
    "start_time": "2023-05-18T19:11:00.195Z"
   },
   {
    "duration": 665,
    "start_time": "2023-05-18T19:11:00.556Z"
   },
   {
    "duration": 611,
    "start_time": "2023-05-18T19:11:01.223Z"
   },
   {
    "duration": 716,
    "start_time": "2023-05-18T19:11:01.889Z"
   },
   {
    "duration": 503,
    "start_time": "2023-05-18T19:11:02.615Z"
   },
   {
    "duration": 20,
    "start_time": "2023-05-18T19:11:03.120Z"
   },
   {
    "duration": 594,
    "start_time": "2023-05-18T19:11:03.144Z"
   },
   {
    "duration": 50,
    "start_time": "2023-05-18T19:11:03.740Z"
   },
   {
    "duration": 584,
    "start_time": "2023-05-18T19:11:03.793Z"
   },
   {
    "duration": 41,
    "start_time": "2023-05-18T19:11:04.379Z"
   },
   {
    "duration": 14,
    "start_time": "2023-05-18T19:11:04.422Z"
   },
   {
    "duration": 9,
    "start_time": "2023-05-18T19:11:04.438Z"
   },
   {
    "duration": 23,
    "start_time": "2023-05-18T19:11:04.449Z"
   },
   {
    "duration": 26,
    "start_time": "2023-05-18T19:11:04.474Z"
   },
   {
    "duration": 18,
    "start_time": "2023-05-18T19:12:33.888Z"
   },
   {
    "duration": 380,
    "start_time": "2023-05-18T19:12:52.486Z"
   },
   {
    "duration": 9,
    "start_time": "2023-05-18T19:12:54.172Z"
   },
   {
    "duration": 4,
    "start_time": "2023-05-18T19:13:01.044Z"
   },
   {
    "duration": 4,
    "start_time": "2023-05-18T19:16:43.981Z"
   },
   {
    "duration": 280,
    "start_time": "2023-05-18T19:18:19.819Z"
   },
   {
    "duration": 224,
    "start_time": "2023-05-18T19:19:47.108Z"
   },
   {
    "duration": 45,
    "start_time": "2023-05-18T19:21:36.050Z"
   },
   {
    "duration": 5,
    "start_time": "2023-05-18T19:24:30.041Z"
   },
   {
    "duration": 20,
    "start_time": "2023-05-18T19:24:49.229Z"
   },
   {
    "duration": 28,
    "start_time": "2023-05-18T19:26:33.014Z"
   },
   {
    "duration": 18,
    "start_time": "2023-05-18T19:26:46.818Z"
   },
   {
    "duration": 16,
    "start_time": "2023-05-18T19:27:37.260Z"
   },
   {
    "duration": 22,
    "start_time": "2023-05-18T19:28:54.629Z"
   },
   {
    "duration": 16,
    "start_time": "2023-05-18T19:30:27.645Z"
   },
   {
    "duration": 11,
    "start_time": "2023-05-18T19:31:16.154Z"
   },
   {
    "duration": 10,
    "start_time": "2023-05-18T19:32:44.513Z"
   },
   {
    "duration": 4,
    "start_time": "2023-05-18T19:33:38.960Z"
   },
   {
    "duration": 5,
    "start_time": "2023-05-18T19:34:41.652Z"
   },
   {
    "duration": 16,
    "start_time": "2023-05-18T19:34:46.527Z"
   },
   {
    "duration": 7,
    "start_time": "2023-05-18T19:36:07.981Z"
   },
   {
    "duration": 8,
    "start_time": "2023-05-18T19:38:06.228Z"
   },
   {
    "duration": 11,
    "start_time": "2023-05-18T19:38:35.567Z"
   },
   {
    "duration": 14,
    "start_time": "2023-05-18T19:38:55.930Z"
   },
   {
    "duration": 1105,
    "start_time": "2023-05-18T20:28:20.724Z"
   },
   {
    "duration": 76,
    "start_time": "2023-05-18T20:28:21.831Z"
   },
   {
    "duration": 5,
    "start_time": "2023-05-18T20:28:21.909Z"
   },
   {
    "duration": 45,
    "start_time": "2023-05-18T20:28:21.916Z"
   },
   {
    "duration": 10,
    "start_time": "2023-05-18T20:28:21.963Z"
   },
   {
    "duration": 46,
    "start_time": "2023-05-18T20:28:21.975Z"
   },
   {
    "duration": 23,
    "start_time": "2023-05-18T20:28:22.023Z"
   },
   {
    "duration": 31,
    "start_time": "2023-05-18T20:28:22.048Z"
   },
   {
    "duration": 12,
    "start_time": "2023-05-18T20:28:22.081Z"
   },
   {
    "duration": 11,
    "start_time": "2023-05-18T20:28:22.095Z"
   },
   {
    "duration": 8,
    "start_time": "2023-05-18T20:28:22.109Z"
   },
   {
    "duration": 64,
    "start_time": "2023-05-18T20:28:22.119Z"
   },
   {
    "duration": 5,
    "start_time": "2023-05-18T20:28:22.185Z"
   },
   {
    "duration": 6,
    "start_time": "2023-05-18T20:28:22.195Z"
   },
   {
    "duration": 6,
    "start_time": "2023-05-18T20:28:22.203Z"
   },
   {
    "duration": 8,
    "start_time": "2023-05-18T20:28:22.211Z"
   },
   {
    "duration": 355,
    "start_time": "2023-05-18T20:28:22.220Z"
   },
   {
    "duration": 13,
    "start_time": "2023-05-18T20:28:22.577Z"
   },
   {
    "duration": 311,
    "start_time": "2023-05-18T20:28:22.592Z"
   },
   {
    "duration": 12,
    "start_time": "2023-05-18T20:28:22.905Z"
   },
   {
    "duration": 303,
    "start_time": "2023-05-18T20:28:22.919Z"
   },
   {
    "duration": 15,
    "start_time": "2023-05-18T20:28:23.224Z"
   },
   {
    "duration": 304,
    "start_time": "2023-05-18T20:28:23.241Z"
   },
   {
    "duration": 4,
    "start_time": "2023-05-18T20:28:23.547Z"
   },
   {
    "duration": 247,
    "start_time": "2023-05-18T20:28:23.552Z"
   },
   {
    "duration": 252,
    "start_time": "2023-05-18T20:28:23.801Z"
   },
   {
    "duration": 366,
    "start_time": "2023-05-18T20:28:24.055Z"
   },
   {
    "duration": 201,
    "start_time": "2023-05-18T20:28:24.422Z"
   },
   {
    "duration": 376,
    "start_time": "2023-05-18T20:28:24.625Z"
   },
   {
    "duration": 151,
    "start_time": "2023-05-18T20:28:25.003Z"
   },
   {
    "duration": 5,
    "start_time": "2023-05-18T20:28:25.155Z"
   },
   {
    "duration": 164,
    "start_time": "2023-05-18T20:28:25.175Z"
   },
   {
    "duration": 5,
    "start_time": "2023-05-18T20:28:25.340Z"
   },
   {
    "duration": 99,
    "start_time": "2023-05-18T20:28:25.347Z"
   },
   {
    "duration": 0,
    "start_time": "2023-05-18T20:28:25.448Z"
   },
   {
    "duration": 0,
    "start_time": "2023-05-18T20:28:25.450Z"
   },
   {
    "duration": 0,
    "start_time": "2023-05-18T20:28:25.451Z"
   },
   {
    "duration": 0,
    "start_time": "2023-05-18T20:28:25.452Z"
   },
   {
    "duration": 0,
    "start_time": "2023-05-18T20:28:25.453Z"
   },
   {
    "duration": 0,
    "start_time": "2023-05-18T20:28:25.454Z"
   },
   {
    "duration": 431,
    "start_time": "2023-05-18T20:50:48.386Z"
   },
   {
    "duration": 198,
    "start_time": "2023-05-18T20:55:48.420Z"
   },
   {
    "duration": 4,
    "start_time": "2023-05-18T20:56:08.104Z"
   },
   {
    "duration": 83,
    "start_time": "2023-05-18T20:56:08.111Z"
   },
   {
    "duration": 7,
    "start_time": "2023-05-18T20:56:08.197Z"
   },
   {
    "duration": 91,
    "start_time": "2023-05-18T20:56:08.206Z"
   },
   {
    "duration": 13,
    "start_time": "2023-05-18T20:56:08.300Z"
   },
   {
    "duration": 90,
    "start_time": "2023-05-18T20:56:08.316Z"
   },
   {
    "duration": 23,
    "start_time": "2023-05-18T20:56:08.408Z"
   },
   {
    "duration": 6,
    "start_time": "2023-05-18T20:56:08.433Z"
   },
   {
    "duration": 16,
    "start_time": "2023-05-18T20:56:08.441Z"
   },
   {
    "duration": 11,
    "start_time": "2023-05-18T20:56:08.487Z"
   },
   {
    "duration": 13,
    "start_time": "2023-05-18T20:56:08.502Z"
   },
   {
    "duration": 87,
    "start_time": "2023-05-18T20:56:08.517Z"
   },
   {
    "duration": 6,
    "start_time": "2023-05-18T20:56:08.607Z"
   },
   {
    "duration": 9,
    "start_time": "2023-05-18T20:56:08.615Z"
   },
   {
    "duration": 10,
    "start_time": "2023-05-18T20:56:08.626Z"
   },
   {
    "duration": 11,
    "start_time": "2023-05-18T20:56:08.639Z"
   },
   {
    "duration": 331,
    "start_time": "2023-05-18T20:56:08.651Z"
   },
   {
    "duration": 13,
    "start_time": "2023-05-18T20:56:08.989Z"
   },
   {
    "duration": 410,
    "start_time": "2023-05-18T20:56:09.004Z"
   },
   {
    "duration": 16,
    "start_time": "2023-05-18T20:56:09.416Z"
   },
   {
    "duration": 462,
    "start_time": "2023-05-18T20:56:09.435Z"
   },
   {
    "duration": 20,
    "start_time": "2023-05-18T20:56:09.900Z"
   },
   {
    "duration": 375,
    "start_time": "2023-05-18T20:56:09.922Z"
   },
   {
    "duration": 6,
    "start_time": "2023-05-18T20:56:10.307Z"
   },
   {
    "duration": 270,
    "start_time": "2023-05-18T20:56:10.315Z"
   },
   {
    "duration": 246,
    "start_time": "2023-05-18T20:56:10.591Z"
   },
   {
    "duration": 341,
    "start_time": "2023-05-18T20:56:10.839Z"
   },
   {
    "duration": 241,
    "start_time": "2023-05-18T20:56:11.182Z"
   },
   {
    "duration": 331,
    "start_time": "2023-05-18T20:56:11.426Z"
   },
   {
    "duration": 187,
    "start_time": "2023-05-18T20:56:11.759Z"
   },
   {
    "duration": 5,
    "start_time": "2023-05-18T20:56:11.948Z"
   },
   {
    "duration": 205,
    "start_time": "2023-05-18T20:56:11.955Z"
   },
   {
    "duration": 6,
    "start_time": "2023-05-18T20:56:12.162Z"
   },
   {
    "duration": 200,
    "start_time": "2023-05-18T20:56:12.169Z"
   },
   {
    "duration": 24,
    "start_time": "2023-05-18T20:56:12.371Z"
   },
   {
    "duration": 5,
    "start_time": "2023-05-18T20:56:12.396Z"
   },
   {
    "duration": 17,
    "start_time": "2023-05-18T20:56:12.403Z"
   },
   {
    "duration": 12,
    "start_time": "2023-05-18T20:56:12.422Z"
   },
   {
    "duration": 23,
    "start_time": "2023-05-18T20:56:12.436Z"
   },
   {
    "duration": 39,
    "start_time": "2023-05-18T20:56:12.460Z"
   },
   {
    "duration": 4,
    "start_time": "2023-05-18T20:56:39.046Z"
   },
   {
    "duration": 99,
    "start_time": "2023-05-18T20:56:39.056Z"
   },
   {
    "duration": 6,
    "start_time": "2023-05-18T20:56:39.157Z"
   },
   {
    "duration": 59,
    "start_time": "2023-05-18T20:56:39.165Z"
   },
   {
    "duration": 12,
    "start_time": "2023-05-18T20:56:39.226Z"
   },
   {
    "duration": 68,
    "start_time": "2023-05-18T20:56:39.240Z"
   },
   {
    "duration": 23,
    "start_time": "2023-05-18T20:56:39.310Z"
   },
   {
    "duration": 33,
    "start_time": "2023-05-18T20:56:39.335Z"
   },
   {
    "duration": 20,
    "start_time": "2023-05-18T20:56:39.369Z"
   },
   {
    "duration": 18,
    "start_time": "2023-05-18T20:56:39.391Z"
   },
   {
    "duration": 14,
    "start_time": "2023-05-18T20:56:39.412Z"
   },
   {
    "duration": 36,
    "start_time": "2023-05-18T20:56:39.428Z"
   },
   {
    "duration": 7,
    "start_time": "2023-05-18T20:56:39.487Z"
   },
   {
    "duration": 10,
    "start_time": "2023-05-18T20:56:39.496Z"
   },
   {
    "duration": 18,
    "start_time": "2023-05-18T20:56:39.508Z"
   },
   {
    "duration": 17,
    "start_time": "2023-05-18T20:56:39.528Z"
   },
   {
    "duration": 287,
    "start_time": "2023-05-18T20:56:39.547Z"
   },
   {
    "duration": 11,
    "start_time": "2023-05-18T20:56:39.836Z"
   },
   {
    "duration": 343,
    "start_time": "2023-05-18T20:56:39.849Z"
   },
   {
    "duration": 13,
    "start_time": "2023-05-18T20:56:40.194Z"
   },
   {
    "duration": 360,
    "start_time": "2023-05-18T20:56:40.210Z"
   },
   {
    "duration": 21,
    "start_time": "2023-05-18T20:56:40.571Z"
   },
   {
    "duration": 323,
    "start_time": "2023-05-18T20:56:40.593Z"
   },
   {
    "duration": 4,
    "start_time": "2023-05-18T20:56:40.917Z"
   },
   {
    "duration": 250,
    "start_time": "2023-05-18T20:56:40.923Z"
   },
   {
    "duration": 249,
    "start_time": "2023-05-18T20:56:41.175Z"
   },
   {
    "duration": 325,
    "start_time": "2023-05-18T20:56:41.426Z"
   },
   {
    "duration": 232,
    "start_time": "2023-05-18T20:56:41.753Z"
   },
   {
    "duration": 355,
    "start_time": "2023-05-18T20:56:41.988Z"
   },
   {
    "duration": 318,
    "start_time": "2023-05-18T20:56:42.345Z"
   },
   {
    "duration": 5,
    "start_time": "2023-05-18T20:56:42.664Z"
   },
   {
    "duration": 222,
    "start_time": "2023-05-18T20:56:42.671Z"
   },
   {
    "duration": 6,
    "start_time": "2023-05-18T20:56:42.896Z"
   },
   {
    "duration": 27,
    "start_time": "2023-05-18T20:56:42.903Z"
   },
   {
    "duration": 12,
    "start_time": "2023-05-18T20:56:42.932Z"
   },
   {
    "duration": 3,
    "start_time": "2023-05-18T20:56:42.946Z"
   },
   {
    "duration": 43,
    "start_time": "2023-05-18T20:56:42.951Z"
   },
   {
    "duration": 17,
    "start_time": "2023-05-18T20:56:42.996Z"
   },
   {
    "duration": 23,
    "start_time": "2023-05-18T20:56:43.015Z"
   },
   {
    "duration": 16,
    "start_time": "2023-05-18T20:56:43.039Z"
   },
   {
    "duration": 1293,
    "start_time": "2023-05-19T10:10:05.246Z"
   },
   {
    "duration": 71,
    "start_time": "2023-05-19T10:10:06.545Z"
   },
   {
    "duration": 17,
    "start_time": "2023-05-19T10:10:06.618Z"
   },
   {
    "duration": 90,
    "start_time": "2023-05-19T10:10:06.638Z"
   },
   {
    "duration": 14,
    "start_time": "2023-05-19T10:10:06.730Z"
   },
   {
    "duration": 80,
    "start_time": "2023-05-19T10:10:06.747Z"
   },
   {
    "duration": 25,
    "start_time": "2023-05-19T10:10:06.829Z"
   },
   {
    "duration": 18,
    "start_time": "2023-05-19T10:10:06.856Z"
   },
   {
    "duration": 86,
    "start_time": "2023-05-19T10:10:06.876Z"
   },
   {
    "duration": 33,
    "start_time": "2023-05-19T10:10:06.966Z"
   },
   {
    "duration": 45,
    "start_time": "2023-05-19T10:10:07.001Z"
   },
   {
    "duration": 44,
    "start_time": "2023-05-19T10:10:07.048Z"
   },
   {
    "duration": 4,
    "start_time": "2023-05-19T10:10:07.094Z"
   },
   {
    "duration": 103,
    "start_time": "2023-05-19T10:10:07.100Z"
   },
   {
    "duration": 46,
    "start_time": "2023-05-19T10:10:07.205Z"
   },
   {
    "duration": 31,
    "start_time": "2023-05-19T10:10:07.253Z"
   },
   {
    "duration": 527,
    "start_time": "2023-05-19T10:10:07.286Z"
   },
   {
    "duration": 25,
    "start_time": "2023-05-19T10:10:07.816Z"
   },
   {
    "duration": 416,
    "start_time": "2023-05-19T10:10:07.846Z"
   },
   {
    "duration": 12,
    "start_time": "2023-05-19T10:10:08.263Z"
   },
   {
    "duration": 378,
    "start_time": "2023-05-19T10:10:08.278Z"
   },
   {
    "duration": 18,
    "start_time": "2023-05-19T10:10:08.658Z"
   },
   {
    "duration": 325,
    "start_time": "2023-05-19T10:10:08.678Z"
   },
   {
    "duration": 6,
    "start_time": "2023-05-19T10:10:09.004Z"
   },
   {
    "duration": 249,
    "start_time": "2023-05-19T10:10:09.026Z"
   },
   {
    "duration": 359,
    "start_time": "2023-05-19T10:10:09.277Z"
   },
   {
    "duration": 243,
    "start_time": "2023-05-19T10:10:09.638Z"
   },
   {
    "duration": 243,
    "start_time": "2023-05-19T10:10:09.884Z"
   },
   {
    "duration": 432,
    "start_time": "2023-05-19T10:10:10.129Z"
   },
   {
    "duration": 201,
    "start_time": "2023-05-19T10:10:10.564Z"
   },
   {
    "duration": 6,
    "start_time": "2023-05-19T10:10:10.766Z"
   },
   {
    "duration": 274,
    "start_time": "2023-05-19T10:10:10.774Z"
   },
   {
    "duration": 5,
    "start_time": "2023-05-19T10:10:11.050Z"
   },
   {
    "duration": 180,
    "start_time": "2023-05-19T10:10:11.057Z"
   },
   {
    "duration": 0,
    "start_time": "2023-05-19T10:10:11.239Z"
   },
   {
    "duration": 0,
    "start_time": "2023-05-19T10:10:11.241Z"
   },
   {
    "duration": 0,
    "start_time": "2023-05-19T10:10:11.242Z"
   },
   {
    "duration": 0,
    "start_time": "2023-05-19T10:10:11.243Z"
   },
   {
    "duration": 0,
    "start_time": "2023-05-19T10:10:11.245Z"
   },
   {
    "duration": 0,
    "start_time": "2023-05-19T10:10:11.247Z"
   },
   {
    "duration": 63,
    "start_time": "2023-05-19T11:56:33.713Z"
   },
   {
    "duration": 1487,
    "start_time": "2023-05-19T11:56:37.648Z"
   },
   {
    "duration": 212,
    "start_time": "2023-05-19T11:56:39.138Z"
   },
   {
    "duration": 5,
    "start_time": "2023-05-19T11:56:39.352Z"
   },
   {
    "duration": 57,
    "start_time": "2023-05-19T11:56:39.360Z"
   },
   {
    "duration": 21,
    "start_time": "2023-05-19T11:56:39.418Z"
   },
   {
    "duration": 43,
    "start_time": "2023-05-19T11:56:39.440Z"
   },
   {
    "duration": 58,
    "start_time": "2023-05-19T11:56:39.486Z"
   },
   {
    "duration": 5,
    "start_time": "2023-05-19T11:56:39.546Z"
   },
   {
    "duration": 10,
    "start_time": "2023-05-19T11:56:39.553Z"
   },
   {
    "duration": 12,
    "start_time": "2023-05-19T11:56:39.567Z"
   },
   {
    "duration": 12,
    "start_time": "2023-05-19T11:56:39.580Z"
   },
   {
    "duration": 73,
    "start_time": "2023-05-19T11:56:39.594Z"
   },
   {
    "duration": 4,
    "start_time": "2023-05-19T11:56:39.669Z"
   },
   {
    "duration": 8,
    "start_time": "2023-05-19T11:56:39.675Z"
   },
   {
    "duration": 12,
    "start_time": "2023-05-19T11:56:39.685Z"
   },
   {
    "duration": 10,
    "start_time": "2023-05-19T11:56:39.724Z"
   },
   {
    "duration": 419,
    "start_time": "2023-05-19T11:56:39.736Z"
   },
   {
    "duration": 13,
    "start_time": "2023-05-19T11:56:40.156Z"
   },
   {
    "duration": 343,
    "start_time": "2023-05-19T11:56:40.171Z"
   },
   {
    "duration": 29,
    "start_time": "2023-05-19T11:56:40.516Z"
   },
   {
    "duration": 373,
    "start_time": "2023-05-19T11:56:40.547Z"
   },
   {
    "duration": 25,
    "start_time": "2023-05-19T11:56:40.925Z"
   },
   {
    "duration": 315,
    "start_time": "2023-05-19T11:56:40.952Z"
   },
   {
    "duration": 4,
    "start_time": "2023-05-19T11:56:41.269Z"
   },
   {
    "duration": 265,
    "start_time": "2023-05-19T11:56:41.275Z"
   },
   {
    "duration": 253,
    "start_time": "2023-05-19T11:56:41.541Z"
   },
   {
    "duration": 471,
    "start_time": "2023-05-19T11:56:41.796Z"
   },
   {
    "duration": 301,
    "start_time": "2023-05-19T11:56:42.271Z"
   },
   {
    "duration": 327,
    "start_time": "2023-05-19T11:56:42.573Z"
   },
   {
    "duration": 185,
    "start_time": "2023-05-19T11:56:42.902Z"
   },
   {
    "duration": 5,
    "start_time": "2023-05-19T11:56:43.089Z"
   },
   {
    "duration": 195,
    "start_time": "2023-05-19T11:56:43.096Z"
   },
   {
    "duration": 5,
    "start_time": "2023-05-19T11:56:43.293Z"
   },
   {
    "duration": 403,
    "start_time": "2023-05-19T11:56:43.300Z"
   },
   {
    "duration": 26,
    "start_time": "2023-05-19T11:56:43.705Z"
   },
   {
    "duration": 5,
    "start_time": "2023-05-19T11:56:43.732Z"
   },
   {
    "duration": 24,
    "start_time": "2023-05-19T11:56:43.738Z"
   },
   {
    "duration": 12,
    "start_time": "2023-05-19T11:56:43.764Z"
   },
   {
    "duration": 25,
    "start_time": "2023-05-19T11:56:43.778Z"
   },
   {
    "duration": 33,
    "start_time": "2023-05-19T11:56:43.806Z"
   },
   {
    "duration": 421,
    "start_time": "2023-05-19T11:57:19.875Z"
   }
  ],
  "kernelspec": {
   "display_name": "Python 3 (ipykernel)",
   "language": "python",
   "name": "python3"
  },
  "language_info": {
   "codemirror_mode": {
    "name": "ipython",
    "version": 3
   },
   "file_extension": ".py",
   "mimetype": "text/x-python",
   "name": "python",
   "nbconvert_exporter": "python",
   "pygments_lexer": "ipython3",
   "version": "3.10.9"
  },
  "toc": {
   "base_numbering": 1,
   "nav_menu": {},
   "number_sections": true,
   "sideBar": true,
   "skip_h1_title": true,
   "title_cell": "Table of Contents",
   "title_sidebar": "Contents",
   "toc_cell": false,
   "toc_position": {
    "height": "calc(100% - 180px)",
    "left": "10px",
    "top": "150px",
    "width": "229px"
   },
   "toc_section_display": true,
   "toc_window_display": true
  }
 },
 "nbformat": 4,
 "nbformat_minor": 2
}
